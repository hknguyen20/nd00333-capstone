{
  "cells": [
    {
      "cell_type": "markdown",
      "metadata": {},
      "source": [
        "# Automated ML\n",
        "\n",
        "TODO: Import Dependencies. In the cell below, import all the dependencies that you will need to complete the project."
      ]
    },
    {
      "cell_type": "code",
      "execution_count": 2,
      "metadata": {},
      "outputs": [
        {
          "name": "stdout",
          "output_type": "stream",
          "text": [
            "\u001b[31mERROR: pip's dependency resolver does not currently take into account all the packages that are installed. This behaviour is the source of the following dependency conflicts.\n",
            "pandas-ml 0.6.1 requires enum34, which is not installed.\n",
            "fastparquet 2024.5.0 requires pandas>=1.5.0, but you have pandas 1.3.5 which is incompatible.\n",
            "dask-sql 2024.5.0 requires dask[dataframe]>=2024.4.1, but you have dask 2023.2.0 which is incompatible.\n",
            "dask-sql 2024.5.0 requires distributed>=2024.4.1, but you have distributed 2023.2.0 which is incompatible.\n",
            "dask-sql 2024.5.0 requires pandas>=1.4.0, but you have pandas 1.3.5 which is incompatible.\n",
            "dask-expr 1.1.14 requires dask==2024.9.0, but you have dask 2023.2.0 which is incompatible.\n",
            "dask-expr 1.1.14 requires pandas>=2, but you have pandas 1.3.5 which is incompatible.\n",
            "azureml-widgets 1.58.0 requires azureml-core~=1.58.0, but you have azureml-core 1.57.0.post3 which is incompatible.\n",
            "azureml-widgets 1.58.0 requires azureml-telemetry~=1.58.0, but you have azureml-telemetry 1.57.0 which is incompatible.\n",
            "azureml-train-automl 1.58.0 requires azureml-automl-core~=1.58.0, but you have azureml-automl-core 1.57.0 which is incompatible.\n",
            "azureml-train-automl 1.58.0 requires azureml-automl-runtime~=1.58.0, but you have azureml-automl-runtime 1.57.0 which is incompatible.\n",
            "azureml-train-automl 1.58.0 requires azureml-dataset-runtime[fuse,pandas]~=1.58.0, but you have azureml-dataset-runtime 1.57.0 which is incompatible.\n",
            "azureml-train-automl 1.58.0 requires azureml-train-automl-client~=1.58.0, but you have azureml-train-automl-client 1.57.0 which is incompatible.\n",
            "azureml-train-automl 1.58.0 requires azureml-train-automl-runtime~=1.58.0, but you have azureml-train-automl-runtime 1.57.0 which is incompatible.\n",
            "azureml-sdk 1.58.0 requires azureml-core~=1.58.0, but you have azureml-core 1.57.0.post3 which is incompatible.\n",
            "azureml-sdk 1.58.0 requires azureml-dataset-runtime[fuse]~=1.58.0, but you have azureml-dataset-runtime 1.57.0 which is incompatible.\n",
            "azureml-sdk 1.58.0 requires azureml-train-automl-client~=1.58.0, but you have azureml-train-automl-client 1.57.0 which is incompatible.\n",
            "azureml-sdk 1.58.0 requires azureml-train-core~=1.58.0, but you have azureml-train-core 1.57.0 which is incompatible.\n",
            "azureml-responsibleai 1.58.0 requires azureml-core~=1.58.0, but you have azureml-core 1.57.0.post3 which is incompatible.\n",
            "azureml-responsibleai 1.58.0 requires azureml-dataset-runtime~=1.58.0, but you have azureml-dataset-runtime 1.57.0 which is incompatible.\n",
            "azureml-responsibleai 1.58.0 requires azureml-interpret~=1.58.0, but you have azureml-interpret 1.57.0 which is incompatible.\n",
            "azureml-responsibleai 1.58.0 requires azureml-telemetry~=1.58.0, but you have azureml-telemetry 1.57.0 which is incompatible.\n",
            "azureml-pipeline-steps 1.58.0 requires azureml-train-automl-client~=1.58.0, but you have azureml-train-automl-client 1.57.0 which is incompatible.\n",
            "azureml-pipeline-steps 1.58.0 requires azureml-train-core~=1.58.0, but you have azureml-train-core 1.57.0 which is incompatible.\n",
            "azureml-pipeline-core 1.58.0 requires azureml-core~=1.58.0, but you have azureml-core 1.57.0.post3 which is incompatible.\n",
            "azureml-datadrift 1.57.0 requires azureml-pipeline-core~=1.57.0, but you have azureml-pipeline-core 1.58.0 which is incompatible.\n",
            "azureml-contrib-pipeline-steps 1.57.0 requires azureml-pipeline-core~=1.57.0, but you have azureml-pipeline-core 1.58.0 which is incompatible.\n",
            "azureml-contrib-notebook 1.58.0 requires azureml-core~=1.58.0, but you have azureml-core 1.57.0.post3 which is incompatible.\n",
            "azureml-contrib-automl-pipeline-steps 1.57.0 requires azureml-pipeline-steps~=1.57.0, but you have azureml-pipeline-steps 1.58.0 which is incompatible.\n",
            "azureml-cli-common 1.57.0 requires azureml-pipeline-core~=1.57.0, but you have azureml-pipeline-core 1.58.0 which is incompatible.\n",
            "azureml-automl-dnn-nlp 1.57.0 requires azureml-train-automl~=1.57.0, but you have azureml-train-automl 1.58.0 which is incompatible.\n",
            "azureml-automl-dnn-nlp 1.57.0 requires torch==1.13.1, but you have torch 2.4.1 which is incompatible.\u001b[0m\u001b[31m\n",
            "\u001b[0mNote: you may need to restart the kernel to use updated packages.\n",
            "\u001b[31mERROR: pip's dependency resolver does not currently take into account all the packages that are installed. This behaviour is the source of the following dependency conflicts.\n",
            "pandas-ml 0.6.1 requires enum34, which is not installed.\n",
            "dask-sql 2024.5.0 requires dask[dataframe]>=2024.4.1, but you have dask 2023.2.0 which is incompatible.\n",
            "dask-sql 2024.5.0 requires distributed>=2024.4.1, but you have distributed 2023.2.0 which is incompatible.\n",
            "dask-expr 1.1.14 requires dask==2024.9.0, but you have dask 2023.2.0 which is incompatible.\n",
            "dask-expr 1.1.14 requires pandas>=2, but you have pandas 1.5.3 which is incompatible.\n",
            "azureml-train 1.57.0 requires azureml-train-core~=1.57.0, but you have azureml-train-core 1.58.0 which is incompatible.\n",
            "azureml-tensorboard 1.57.0 requires azureml-core~=1.57.0, but you have azureml-core 1.58.0 which is incompatible.\n",
            "azureml-opendatasets 1.57.0 requires azureml-core~=1.57.0, but you have azureml-core 1.58.0 which is incompatible.\n",
            "azureml-opendatasets 1.57.0 requires azureml-dataset-runtime[fuse,pandas]~=1.57.0, but you have azureml-dataset-runtime 1.58.0 which is incompatible.\n",
            "azureml-opendatasets 1.57.0 requires azureml-telemetry~=1.57.0, but you have azureml-telemetry 1.58.0 which is incompatible.\n",
            "azureml-defaults 1.57.0 requires azureml-core~=1.57.0, but you have azureml-core 1.58.0 which is incompatible.\n",
            "azureml-defaults 1.57.0 requires azureml-dataset-runtime[fuse]~=1.57.0, but you have azureml-dataset-runtime 1.58.0 which is incompatible.\n",
            "azureml-datadrift 1.57.0 requires azureml-core~=1.57.0, but you have azureml-core 1.58.0 which is incompatible.\n",
            "azureml-datadrift 1.57.0 requires azureml-dataset-runtime[fuse,pandas]~=1.57.0, but you have azureml-dataset-runtime 1.58.0 which is incompatible.\n",
            "azureml-datadrift 1.57.0 requires azureml-pipeline-core~=1.57.0, but you have azureml-pipeline-core 1.58.0 which is incompatible.\n",
            "azureml-datadrift 1.57.0 requires azureml-telemetry~=1.57.0, but you have azureml-telemetry 1.58.0 which is incompatible.\n",
            "azureml-contrib-server 1.57.0 requires azureml-core~=1.57.0, but you have azureml-core 1.58.0 which is incompatible.\n",
            "azureml-contrib-reinforcementlearning 1.57.0 requires azureml-core~=1.57.0, but you have azureml-core 1.58.0 which is incompatible.\n",
            "azureml-contrib-reinforcementlearning 1.57.0 requires azureml-train-core~=1.57.0, but you have azureml-train-core 1.58.0 which is incompatible.\n",
            "azureml-contrib-pipeline-steps 1.57.0 requires azureml-core~=1.57.0, but you have azureml-core 1.58.0 which is incompatible.\n",
            "azureml-contrib-pipeline-steps 1.57.0 requires azureml-dataset-runtime~=1.57.0, but you have azureml-dataset-runtime 1.58.0 which is incompatible.\n",
            "azureml-contrib-pipeline-steps 1.57.0 requires azureml-pipeline-core~=1.57.0, but you have azureml-pipeline-core 1.58.0 which is incompatible.\n",
            "azureml-contrib-fairness 1.57.0 requires azureml-core~=1.57.0, but you have azureml-core 1.58.0 which is incompatible.\n",
            "azureml-contrib-dataset 1.57.0 requires azureml-core~=1.57.0, but you have azureml-core 1.58.0 which is incompatible.\n",
            "azureml-contrib-dataset 1.57.0 requires azureml-dataset-runtime[fuse,pandas]~=1.57.0, but you have azureml-dataset-runtime 1.58.0 which is incompatible.\n",
            "azureml-contrib-automl-pipeline-steps 1.57.0 requires azureml-pipeline-steps~=1.57.0, but you have azureml-pipeline-steps 1.58.0 which is incompatible.\n",
            "azureml-cli-common 1.57.0 requires azureml-core~=1.57.0, but you have azureml-core 1.58.0 which is incompatible.\n",
            "azureml-cli-common 1.57.0 requires azureml-pipeline-core~=1.57.0, but you have azureml-pipeline-core 1.58.0 which is incompatible.\n",
            "azureml-cli-common 1.57.0 requires azureml-train-core~=1.57.0; python_version >= \"3.5\", but you have azureml-train-core 1.58.0 which is incompatible.\n",
            "azureml-automl-dnn-nlp 1.57.0 requires azureml-automl-core~=1.57.0, but you have azureml-automl-core 1.58.0 which is incompatible.\n",
            "azureml-automl-dnn-nlp 1.57.0 requires azureml-automl-runtime~=1.57.0, but you have azureml-automl-runtime 1.58.0 which is incompatible.\n",
            "azureml-automl-dnn-nlp 1.57.0 requires azureml-core~=1.57.0, but you have azureml-core 1.58.0 which is incompatible.\n",
            "azureml-automl-dnn-nlp 1.57.0 requires azureml-telemetry~=1.57.0, but you have azureml-telemetry 1.58.0 which is incompatible.\n",
            "azureml-automl-dnn-nlp 1.57.0 requires azureml-train-automl~=1.57.0, but you have azureml-train-automl 1.58.0 which is incompatible.\n",
            "azureml-automl-dnn-nlp 1.57.0 requires torch==1.13.1, but you have torch 2.4.1 which is incompatible.\n",
            "azureml-accel-models 1.57.0 requires azureml-core~=1.57.0, but you have azureml-core 1.58.0 which is incompatible.\u001b[0m\u001b[31m\n",
            "\u001b[0mNote: you may need to restart the kernel to use updated packages.\n",
            "Note: you may need to restart the kernel to use updated packages.\n"
          ]
        }
      ],
      "source": [
        "%pip install azureml-train-automl-runtime==1.57.0 -q\n",
        "%pip install --upgrade azureml-sdk[notebooks,automl] -q\n",
        "%pip install azureml-widgets -q"
      ]
    },
    {
      "cell_type": "code",
      "execution_count": 3,
      "metadata": {
        "gather": {
          "logged": 1729410021967
        },
        "jupyter": {
          "outputs_hidden": false,
          "source_hidden": false
        },
        "nteract": {
          "transient": {
            "deleting": false
          }
        }
      },
      "outputs": [
        {
          "name": "stdout",
          "output_type": "stream",
          "text": [
            "SDK version: 1.57.0\n"
          ]
        }
      ],
      "source": [
        "\n",
        "\n",
        "import logging\n",
        "import os\n",
        "import csv\n",
        "\n",
        "from matplotlib import pyplot as plt\n",
        "import numpy as np\n",
        "import pandas as pd\n",
        "from sklearn import datasets\n",
        "import pkg_resources\n",
        "\n",
        "import azureml.core\n",
        "from azureml.core.experiment import Experiment\n",
        "from azureml.core.workspace import Workspace\n",
        "from azureml.train.automl import AutoMLConfig\n",
        "from azureml.core.dataset import Dataset\n",
        "\n",
        "# Check core SDK version number\n",
        "print(\"SDK version:\", azureml.core.VERSION)"
      ]
    },
    {
      "cell_type": "markdown",
      "metadata": {},
      "source": [
        "## Dataset\n",
        "\n",
        "### Overview\n",
        "TODO: In this markdown cell, give an overview of the dataset you are using. Also mention the task you will be performing.\n",
        "\n",
        "\n",
        "TODO: Get data. In the cell below, write code to access the data you will be using in this project. Remember that the dataset needs to be external."
      ]
    },
    {
      "cell_type": "code",
      "execution_count": 4,
      "metadata": {
        "gather": {
          "logged": 1729410022581
        },
        "jupyter": {
          "outputs_hidden": false,
          "source_hidden": false
        },
        "nteract": {
          "transient": {
            "deleting": false
          }
        }
      },
      "outputs": [
        {
          "name": "stdout",
          "output_type": "stream",
          "text": [
            "quick-starts-ws-268887\n",
            "aml-quickstarts-268887\n",
            "southcentralus\n",
            "9a7511b8-150f-4a58-8528-3e7d50216c31\n"
          ]
        },
        {
          "data": {
            "text/html": [
              "<table style=\"width:100%\"><tr><th>Name</th><th>Workspace</th><th>Report Page</th><th>Docs Page</th></tr><tr><td>automl-exp</td><td>quick-starts-ws-268887</td><td><a href=\"https://ml.azure.com/experiments/id/2388af03-886e-4498-b21f-c056eead75de?wsid=/subscriptions/9a7511b8-150f-4a58-8528-3e7d50216c31/resourcegroups/aml-quickstarts-268887/workspaces/quick-starts-ws-268887&amp;tid=660b3398-b80e-49d2-bc5b-ac1dc93b5254\" target=\"_blank\" rel=\"noopener\">Link to Azure Machine Learning studio</a></td><td><a href=\"https://docs.microsoft.com/en-us/python/api/azureml-core/azureml.core.experiment.Experiment?view=azure-ml-py\" target=\"_blank\" rel=\"noopener\">Link to Documentation</a></td></tr></table>"
            ],
            "text/plain": [
              "Experiment(Name: automl-exp,\n",
              "Workspace: quick-starts-ws-268887)"
            ]
          },
          "execution_count": 4,
          "metadata": {},
          "output_type": "execute_result"
        }
      ],
      "source": [
        "session_id = \"268887\"\n",
        "subscription_id= \"9a7511b8-150f-4a58-8528-3e7d50216c31\"\n",
        "resource_group= f\"aml-quickstarts-{session_id}\"\n",
        "workspace_name= f\"quick-starts-ws-{session_id}\"\n",
        "\n",
        "ws = Workspace.get(name=workspace_name, subscription_id=subscription_id, resource_group=resource_group)\n",
        "print(ws.name, ws.resource_group, ws.location, ws.subscription_id, sep = '\\n')\n",
        "\n",
        "# choose a name for experiment\n",
        "experiment_name = 'automl-exp'\n",
        "project_folder = './capstone'\n",
        "experiment=Experiment(ws, experiment_name)\n",
        "experiment"
      ]
    },
    {
      "cell_type": "code",
      "execution_count": 5,
      "metadata": {
        "gather": {
          "logged": 1729410024989
        }
      },
      "outputs": [
        {
          "name": "stdout",
          "output_type": "stream",
          "text": [
            "{'infer_column_types': 'False', 'activity': 'to_pandas_dataframe'}\n",
            "{'infer_column_types': 'False', 'activity': 'to_pandas_dataframe', 'activityApp': 'TabularDataset'}\n"
          ]
        },
        {
          "data": {
            "text/html": [
              "<div>\n",
              "<style scoped>\n",
              "    .dataframe tbody tr th:only-of-type {\n",
              "        vertical-align: middle;\n",
              "    }\n",
              "\n",
              "    .dataframe tbody tr th {\n",
              "        vertical-align: top;\n",
              "    }\n",
              "\n",
              "    .dataframe thead th {\n",
              "        text-align: right;\n",
              "    }\n",
              "</style>\n",
              "<table border=\"1\" class=\"dataframe\">\n",
              "  <thead>\n",
              "    <tr style=\"text-align: right;\">\n",
              "      <th></th>\n",
              "      <th>Age</th>\n",
              "      <th>Sex</th>\n",
              "      <th>ChestPainType</th>\n",
              "      <th>RestingBP</th>\n",
              "      <th>Cholesterol</th>\n",
              "      <th>FastingBS</th>\n",
              "      <th>RestingECG</th>\n",
              "      <th>MaxHR</th>\n",
              "      <th>ExerciseAngina</th>\n",
              "      <th>Oldpeak</th>\n",
              "      <th>ST_Slope</th>\n",
              "      <th>HeartDisease</th>\n",
              "    </tr>\n",
              "  </thead>\n",
              "  <tbody>\n",
              "    <tr>\n",
              "      <th>0</th>\n",
              "      <td>40</td>\n",
              "      <td>M</td>\n",
              "      <td>ATA</td>\n",
              "      <td>140</td>\n",
              "      <td>289</td>\n",
              "      <td>False</td>\n",
              "      <td>Normal</td>\n",
              "      <td>172</td>\n",
              "      <td>False</td>\n",
              "      <td>0.0</td>\n",
              "      <td>Up</td>\n",
              "      <td>False</td>\n",
              "    </tr>\n",
              "    <tr>\n",
              "      <th>1</th>\n",
              "      <td>49</td>\n",
              "      <td>F</td>\n",
              "      <td>NAP</td>\n",
              "      <td>160</td>\n",
              "      <td>180</td>\n",
              "      <td>False</td>\n",
              "      <td>Normal</td>\n",
              "      <td>156</td>\n",
              "      <td>False</td>\n",
              "      <td>1.0</td>\n",
              "      <td>Flat</td>\n",
              "      <td>True</td>\n",
              "    </tr>\n",
              "    <tr>\n",
              "      <th>2</th>\n",
              "      <td>37</td>\n",
              "      <td>M</td>\n",
              "      <td>ATA</td>\n",
              "      <td>130</td>\n",
              "      <td>283</td>\n",
              "      <td>False</td>\n",
              "      <td>ST</td>\n",
              "      <td>98</td>\n",
              "      <td>False</td>\n",
              "      <td>0.0</td>\n",
              "      <td>Up</td>\n",
              "      <td>False</td>\n",
              "    </tr>\n",
              "    <tr>\n",
              "      <th>3</th>\n",
              "      <td>48</td>\n",
              "      <td>F</td>\n",
              "      <td>ASY</td>\n",
              "      <td>138</td>\n",
              "      <td>214</td>\n",
              "      <td>False</td>\n",
              "      <td>Normal</td>\n",
              "      <td>108</td>\n",
              "      <td>True</td>\n",
              "      <td>1.5</td>\n",
              "      <td>Flat</td>\n",
              "      <td>True</td>\n",
              "    </tr>\n",
              "    <tr>\n",
              "      <th>4</th>\n",
              "      <td>54</td>\n",
              "      <td>M</td>\n",
              "      <td>NAP</td>\n",
              "      <td>150</td>\n",
              "      <td>195</td>\n",
              "      <td>False</td>\n",
              "      <td>Normal</td>\n",
              "      <td>122</td>\n",
              "      <td>False</td>\n",
              "      <td>0.0</td>\n",
              "      <td>Up</td>\n",
              "      <td>False</td>\n",
              "    </tr>\n",
              "  </tbody>\n",
              "</table>\n",
              "</div>"
            ],
            "text/plain": [
              "   Age Sex ChestPainType  RestingBP  Cholesterol  FastingBS RestingECG  MaxHR  \\\n",
              "0   40   M           ATA        140          289      False     Normal    172   \n",
              "1   49   F           NAP        160          180      False     Normal    156   \n",
              "2   37   M           ATA        130          283      False         ST     98   \n",
              "3   48   F           ASY        138          214      False     Normal    108   \n",
              "4   54   M           NAP        150          195      False     Normal    122   \n",
              "\n",
              "   ExerciseAngina  Oldpeak ST_Slope  HeartDisease  \n",
              "0           False      0.0       Up         False  \n",
              "1           False      1.0     Flat          True  \n",
              "2           False      0.0       Up         False  \n",
              "3            True      1.5     Flat          True  \n",
              "4           False      0.0       Up         False  "
            ]
          },
          "execution_count": 5,
          "metadata": {},
          "output_type": "execute_result"
        }
      ],
      "source": [
        "\n",
        "\n",
        "# Try to load the dataset from the Workspace. Otherwise, create it from the file\n",
        "# NOTE: update the key to match the dataset name\n",
        "found = False\n",
        "key = \"heart-failure\"\n",
        "description_text = \"Heart Failure Prediction Dataset\"\n",
        "\n",
        "if key in ws.datasets.keys(): \n",
        "        found = True\n",
        "        dataset = ws.datasets[key] \n",
        "\n",
        "if not found:\n",
        "        # Create AML Dataset and register it into Workspace\n",
        "        example_data = 'https://raw.githubusercontent.com/hknguyen20/nd00333-capstone/refs/heads/master/heart.csv'\n",
        "        dataset = Dataset.Tabular.from_delimited_files(example_data)        \n",
        "        #Register Dataset in Workspace\n",
        "        dataset = dataset.register(workspace=ws,\n",
        "                                   name=key,\n",
        "                                   description=description_text)\n",
        "df = dataset.to_pandas_dataframe()\n",
        "df.head()\n"
      ]
    },
    {
      "cell_type": "markdown",
      "metadata": {},
      "source": [
        "## AutoML Configuration\n",
        "\n",
        "TODO: Explain why you chose the automl settings and cofiguration you used below."
      ]
    },
    {
      "cell_type": "code",
      "execution_count": 6,
      "metadata": {
        "gather": {
          "logged": 1729410076388
        }
      },
      "outputs": [
        {
          "name": "stdout",
          "output_type": "stream",
          "text": [
            "Found existing cluster, use it.\n",
            "Succeeded..........\n",
            "AmlCompute wait for completion finished\n",
            "\n",
            "Minimum number of nodes requested have been provisioned\n"
          ]
        }
      ],
      "source": [
        "from azureml.core.compute import AmlCompute\n",
        "from azureml.core.compute import ComputeTarget\n",
        "from azureml.core.compute_target import ComputeTargetException\n",
        "\n",
        "# NOTE: update the cluster name to match the existing cluster\n",
        "# Choose a name for your CPU cluster\n",
        "amlcompute_cluster_name = \"compute-cluster-1\"\n",
        "\n",
        "# Verify that cluster does not exist already\n",
        "try:\n",
        "    compute_target = ComputeTarget(workspace=ws, name=amlcompute_cluster_name)\n",
        "    print('Found existing cluster, use it.')\n",
        "except ComputeTargetException:\n",
        "    compute_config = AmlCompute.provisioning_configuration(vm_size='STANDARD_D3_v2',# for GPU, use \"STANDARD_NC6\"\n",
        "                                                           vm_priority = 'lowpriority', # optional\n",
        "                                                           min_nodes=1,\n",
        "                                                           max_nodes=6)\n",
        "    compute_target = ComputeTarget.create(ws, amlcompute_cluster_name, compute_config)\n",
        "\n",
        "compute_target.wait_for_completion(show_output=True, min_node_count = 1, timeout_in_minutes = 10)"
      ]
    },
    {
      "cell_type": "code",
      "execution_count": 7,
      "metadata": {
        "gather": {
          "logged": 1729410076557
        },
        "jupyter": {
          "outputs_hidden": false,
          "source_hidden": false
        },
        "nteract": {
          "transient": {
            "deleting": false
          }
        }
      },
      "outputs": [],
      "source": [
        "# TODO: Put your automl settings here\n",
        "automl_settings = {\n",
        "    \"experiment_timeout_minutes\": 30,\n",
        "    \"max_concurrent_iterations\": 5,\n",
        "    \"primary_metric\" : 'accuracy',\n",
        "    \"enable_early_stopping\": True,\n",
        "}\n",
        "\n",
        "# TODO: Put your automl config here\n",
        "automl_config = AutoMLConfig(compute_target=compute_target,\n",
        "                             task = \"classification\",\n",
        "                             training_data=dataset,\n",
        "                             test_size=0.2,\n",
        "                             label_column_name=\"HeartDisease\",   \n",
        "                             path = project_folder,\n",
        "                             featurization= 'auto',\n",
        "                             debug_log = \"automl_errors.log\",\n",
        "                             **automl_settings\n",
        "                            )"
      ]
    },
    {
      "cell_type": "code",
      "execution_count": 8,
      "metadata": {
        "gather": {
          "logged": 1729410081141
        },
        "jupyter": {
          "outputs_hidden": false,
          "source_hidden": false
        },
        "nteract": {
          "transient": {
            "deleting": false
          }
        }
      },
      "outputs": [
        {
          "name": "stdout",
          "output_type": "stream",
          "text": [
            "Submitting remote run.\n"
          ]
        },
        {
          "data": {
            "text/html": [
              "<table style=\"width:100%\"><tr><th>Experiment</th><th>Id</th><th>Type</th><th>Status</th><th>Details Page</th><th>Docs Page</th></tr><tr><td>automl-exp</td><td>AutoML_19c122c3-de6b-4b75-b782-9ad16a01c865</td><td>automl</td><td>NotStarted</td><td><a href=\"https://ml.azure.com/runs/AutoML_19c122c3-de6b-4b75-b782-9ad16a01c865?wsid=/subscriptions/9a7511b8-150f-4a58-8528-3e7d50216c31/resourcegroups/aml-quickstarts-268887/workspaces/quick-starts-ws-268887&amp;tid=660b3398-b80e-49d2-bc5b-ac1dc93b5254\" target=\"_blank\" rel=\"noopener\">Link to Azure Machine Learning studio</a></td><td><a href=\"https://docs.microsoft.com/en-us/python/api/overview/azure/ml/intro?view=azure-ml-py\" target=\"_blank\" rel=\"noopener\">Link to Documentation</a></td></tr></table>"
            ]
          },
          "metadata": {},
          "output_type": "display_data"
        }
      ],
      "source": [
        "# TODO: Submit your experiment\n",
        "automl_run = experiment.submit(automl_config)"
      ]
    },
    {
      "cell_type": "markdown",
      "metadata": {},
      "source": [
        "## Run Details\n",
        "\n",
        "OPTIONAL: Write about the different models trained and their performance. Why do you think some models did better than others?\n",
        "\n",
        "TODO: In the cell below, use the `RunDetails` widget to show the different experiments."
      ]
    },
    {
      "cell_type": "code",
      "execution_count": 9,
      "metadata": {
        "gather": {
          "logged": 1729412151791
        },
        "jupyter": {
          "outputs_hidden": false,
          "source_hidden": false
        },
        "nteract": {
          "transient": {
            "deleting": false
          }
        }
      },
      "outputs": [
        {
          "name": "stderr",
          "output_type": "stream",
          "text": [
            "2024-10-20 07:41:53.101056: E external/local_xla/xla/stream_executor/cuda/cuda_fft.cc:485] Unable to register cuFFT factory: Attempting to register factory for plugin cuFFT when one has already been registered\n",
            "2024-10-20 07:41:54.479765: E external/local_xla/xla/stream_executor/cuda/cuda_dnn.cc:8454] Unable to register cuDNN factory: Attempting to register factory for plugin cuDNN when one has already been registered\n",
            "2024-10-20 07:41:54.890313: E external/local_xla/xla/stream_executor/cuda/cuda_blas.cc:1452] Unable to register cuBLAS factory: Attempting to register factory for plugin cuBLAS when one has already been registered\n",
            "2024-10-20 07:41:58.084256: I tensorflow/core/platform/cpu_feature_guard.cc:210] This TensorFlow binary is optimized to use available CPU instructions in performance-critical operations.\n",
            "To enable the following instructions: AVX2 AVX512F FMA, in other operations, rebuild TensorFlow with the appropriate compiler flags.\n",
            "2024-10-20 07:42:05.376797: W tensorflow/compiler/tf2tensorrt/utils/py_utils.cc:38] TF-TRT Warning: Could not find TensorRT\n"
          ]
        },
        {
          "data": {
            "application/vnd.jupyter.widget-view+json": {
              "model_id": "961e8a0ea8b4447f8dfe6e14261f10fd",
              "version_major": 2,
              "version_minor": 0
            },
            "text/plain": [
              "_AutoMLWidget(widget_settings={'childWidgetDisplay': 'popup', 'send_telemetry': False, 'log_level': 'INFO', 's…"
            ]
          },
          "metadata": {},
          "output_type": "display_data"
        },
        {
          "data": {
            "application/aml.mini.widget.v1": "{\"status\": \"Completed\", \"workbench_run_details_uri\": \"https://ml.azure.com/runs/AutoML_19c122c3-de6b-4b75-b782-9ad16a01c865?wsid=/subscriptions/9a7511b8-150f-4a58-8528-3e7d50216c31/resourcegroups/aml-quickstarts-268887/workspaces/quick-starts-ws-268887&tid=660b3398-b80e-49d2-bc5b-ac1dc93b5254\", \"run_id\": \"AutoML_19c122c3-de6b-4b75-b782-9ad16a01c865\", \"run_properties\": {\"run_id\": \"AutoML_19c122c3-de6b-4b75-b782-9ad16a01c865\", \"created_utc\": \"2024-10-20T07:41:19.432174Z\", \"properties\": {\"num_iterations\": \"1000\", \"training_type\": \"TrainFull\", \"acquisition_function\": \"EI\", \"primary_metric\": \"accuracy\", \"train_split\": \"0\", \"acquisition_parameter\": \"0\", \"num_cross_validation\": null, \"target\": \"compute-cluster-1\", \"AMLSettingsJsonString\": \"{\\\"path\\\":null,\\\"name\\\":\\\"automl-exp\\\",\\\"subscription_id\\\":\\\"9a7511b8-150f-4a58-8528-3e7d50216c31\\\",\\\"resource_group\\\":\\\"aml-quickstarts-268887\\\",\\\"workspace_name\\\":\\\"quick-starts-ws-268887\\\",\\\"region\\\":\\\"southcentralus\\\",\\\"compute_target\\\":\\\"compute-cluster-1\\\",\\\"spark_service\\\":null,\\\"azure_service\\\":\\\"remote\\\",\\\"many_models\\\":false,\\\"pipeline_fetch_max_batch_size\\\":1,\\\"enable_batch_run\\\":true,\\\"enable_parallel_run\\\":false,\\\"num_procs\\\":null,\\\"enable_run_restructure\\\":false,\\\"start_auxiliary_runs_before_parent_complete\\\":true,\\\"enable_code_generation\\\":true,\\\"force_curated_environment\\\":false,\\\"iterations\\\":1000,\\\"primary_metric\\\":\\\"accuracy\\\",\\\"task_type\\\":\\\"classification\\\",\\\"positive_label\\\":null,\\\"data_script\\\":null,\\\"test_size\\\":0.2,\\\"test_include_predictions_only\\\":false,\\\"validation_size\\\":0.0,\\\"n_cross_validations\\\":null,\\\"y_min\\\":null,\\\"y_max\\\":null,\\\"num_classes\\\":null,\\\"featurization\\\":\\\"auto\\\",\\\"_ignore_package_version_incompatibilities\\\":false,\\\"is_timeseries\\\":false,\\\"max_cores_per_iteration\\\":1,\\\"max_concurrent_iterations\\\":5,\\\"iteration_timeout_minutes\\\":null,\\\"mem_in_mb\\\":null,\\\"enforce_time_on_windows\\\":false,\\\"experiment_timeout_minutes\\\":30,\\\"experiment_exit_score\\\":null,\\\"partition_column_names\\\":null,\\\"whitelist_models\\\":null,\\\"blacklist_algos\\\":[\\\"TensorFlowLinearClassifier\\\",\\\"TensorFlowDNN\\\"],\\\"supported_models\\\":[\\\"TensorFlowLinearClassifier\\\",\\\"XGBoostClassifier\\\",\\\"AveragedPerceptronClassifier\\\",\\\"MultinomialNaiveBayes\\\",\\\"RandomForest\\\",\\\"LogisticRegression\\\",\\\"DecisionTree\\\",\\\"LightGBM\\\",\\\"ExtremeRandomTrees\\\",\\\"TabnetClassifier\\\",\\\"SVM\\\",\\\"SGD\\\",\\\"LinearSVM\\\",\\\"KNN\\\",\\\"TensorFlowDNN\\\",\\\"GradientBoosting\\\",\\\"BernoulliNaiveBayes\\\"],\\\"private_models\\\":[],\\\"auto_blacklist\\\":true,\\\"blacklist_samples_reached\\\":false,\\\"exclude_nan_labels\\\":true,\\\"verbosity\\\":20,\\\"_debug_log\\\":\\\"azureml_automl.log\\\",\\\"show_warnings\\\":false,\\\"model_explainability\\\":true,\\\"service_url\\\":null,\\\"sdk_url\\\":null,\\\"sdk_packages\\\":null,\\\"enable_onnx_compatible_models\\\":false,\\\"enable_split_onnx_featurizer_estimator_models\\\":false,\\\"vm_type\\\":\\\"STANDARD_D3_v2\\\",\\\"telemetry_verbosity\\\":20,\\\"send_telemetry\\\":true,\\\"enable_dnn\\\":false,\\\"scenario\\\":\\\"AutoML\\\",\\\"environment_label\\\":null,\\\"save_mlflow\\\":false,\\\"enable_categorical_indicators\\\":false,\\\"force_text_dnn\\\":false,\\\"enable_feature_sweeping\\\":true,\\\"enable_early_stopping\\\":true,\\\"early_stopping_n_iters\\\":10,\\\"arguments\\\":null,\\\"dataset_id\\\":\\\"dd9d161f-be7f-4b70-8db3-2d779b1dbd7d\\\",\\\"hyperdrive_config\\\":null,\\\"validation_dataset_id\\\":null,\\\"run_source\\\":null,\\\"metrics\\\":null,\\\"enable_metric_confidence\\\":false,\\\"enable_ensembling\\\":true,\\\"enable_stack_ensembling\\\":true,\\\"ensemble_iterations\\\":15,\\\"enable_tf\\\":false,\\\"enable_subsampling\\\":null,\\\"subsample_seed\\\":null,\\\"enable_nimbusml\\\":false,\\\"enable_streaming\\\":false,\\\"force_streaming\\\":false,\\\"track_child_runs\\\":true,\\\"n_best_runs\\\":1,\\\"allowed_private_models\\\":[],\\\"label_column_name\\\":\\\"HeartDisease\\\",\\\"weight_column_name\\\":null,\\\"cv_split_column_names\\\":null,\\\"enable_local_managed\\\":false,\\\"_local_managed_run_id\\\":null,\\\"cost_mode\\\":1,\\\"lag_length\\\":0,\\\"metric_operation\\\":\\\"maximize\\\",\\\"preprocess\\\":true}\", \"DataPrepJsonString\": \"{\\\\\\\"training_data\\\\\\\": {\\\\\\\"datasetId\\\\\\\": \\\\\\\"dd9d161f-be7f-4b70-8db3-2d779b1dbd7d\\\\\\\"}, \\\\\\\"datasets\\\\\\\": 0}\", \"EnableSubsampling\": null, \"runTemplate\": \"AutoML\", \"azureml.runsource\": \"automl\", \"display_task_type\": \"classification\", \"dependencies_versions\": \"{\\\"azureml-automl-runtime\\\": \\\"1.58.0\\\", \\\"azureml-inference-server-http\\\": \\\"1.2.2\\\", \\\"azureml-contrib-server\\\": \\\"1.57.0\\\", \\\"azureml-sdk\\\": \\\"1.58.0\\\", \\\"azureml-train-automl-runtime\\\": \\\"1.58.0\\\", \\\"azureml-train-automl-client\\\": \\\"1.58.0\\\", \\\"azureml-training-tabular\\\": \\\"1.58.0\\\", \\\"azureml-opendatasets\\\": \\\"1.57.0\\\", \\\"azureml-cli-common\\\": \\\"1.57.0\\\", \\\"azureml-automl-dnn-nlp\\\": \\\"1.57.0\\\", \\\"azureml-automl-core\\\": \\\"1.58.0\\\", \\\"azureml-dataprep-native\\\": \\\"41.0.0\\\", \\\"azureml-contrib-automl-pipeline-steps\\\": \\\"1.57.0\\\", \\\"azureml-widgets\\\": \\\"1.58.0\\\", \\\"azureml-dataprep-rslex\\\": \\\"2.22.2\\\", \\\"azureml-core\\\": \\\"1.58.0\\\", \\\"azureml-pipeline\\\": \\\"1.58.0\\\", \\\"azureml-train\\\": \\\"1.57.0\\\", \\\"azureml-train-restclients-hyperdrive\\\": \\\"1.58.0\\\", \\\"azureml-datadrift\\\": \\\"1.57.0\\\", \\\"azureml-mlflow\\\": \\\"1.58.0\\\", \\\"azureml-tensorboard\\\": \\\"1.57.0\\\", \\\"azureml-contrib-reinforcementlearning\\\": \\\"1.57.0\\\", \\\"azureml-contrib-pipeline-steps\\\": \\\"1.57.0\\\", \\\"azureml-responsibleai\\\": \\\"1.58.0\\\", \\\"azureml-pipeline-steps\\\": \\\"1.58.0\\\", \\\"azureml-contrib-dataset\\\": \\\"1.57.0\\\", \\\"azureml-dataprep\\\": \\\"5.1.6\\\", \\\"azureml-interpret\\\": \\\"1.58.0\\\", \\\"azureml-dataset-runtime\\\": \\\"1.58.0\\\", \\\"azureml-contrib-notebook\\\": \\\"1.58.0\\\", \\\"azureml-fsspec\\\": \\\"1.3.1\\\", \\\"azureml-contrib-services\\\": \\\"1.57.0\\\", \\\"azureml-train-core\\\": \\\"1.58.0\\\", \\\"azureml-accel-models\\\": \\\"1.57.0\\\", \\\"azureml-telemetry\\\": \\\"1.58.0\\\", \\\"azureml-train-automl\\\": \\\"1.58.0\\\", \\\"azureml-defaults\\\": \\\"1.57.0\\\", \\\"azureml-contrib-fairness\\\": \\\"1.57.0\\\", \\\"azureml-pipeline-core\\\": \\\"1.58.0\\\"}\", \"_aml_system_scenario_identification\": \"Remote.Parent\", \"ClientType\": \"SDK\", \"PlatformVersion\": \"DPV1\", \"environment_cpu_name\": \"AzureML-ai-ml-automl\", \"environment_cpu_label\": \"5\", \"environment_gpu_name\": \"AzureML-ai-ml-automl-gpu\", \"environment_gpu_label\": \"5\", \"root_attribution\": \"automl\", \"attribution\": \"AutoML\", \"Orchestrator\": \"AutoML\", \"CancelUri\": \"https://southcentralus.api.azureml.ms/jasmine/v1.0/subscriptions/9a7511b8-150f-4a58-8528-3e7d50216c31/resourceGroups/aml-quickstarts-268887/providers/Microsoft.MachineLearningServices/workspaces/quick-starts-ws-268887/experimentids/2388af03-886e-4498-b21f-c056eead75de/cancel/AutoML_19c122c3-de6b-4b75-b782-9ad16a01c865\", \"ClientSdkVersion\": null, \"snapshotId\": \"00000000-0000-0000-0000-000000000000\", \"SetupRunId\": \"AutoML_19c122c3-de6b-4b75-b782-9ad16a01c865_setup\", \"SetupRunContainerId\": \"dcid.AutoML_19c122c3-de6b-4b75-b782-9ad16a01c865_setup\", \"FeaturizationRunJsonPath\": \"featurizer_container.json\", \"FeaturizationRunId\": \"AutoML_19c122c3-de6b-4b75-b782-9ad16a01c865_featurize\", \"ProblemInfoJsonString\": \"{\\\"dataset_num_categorical\\\": 0, \\\"is_sparse\\\": true, \\\"subsampling\\\": false, \\\"has_extra_col\\\": true, \\\"dataset_classes\\\": 2, \\\"dataset_features\\\": 18, \\\"dataset_samples\\\": 734, \\\"single_frequency_class_detected\\\": false}\", \"ModelExplainRunId\": \"AutoML_19c122c3-de6b-4b75-b782-9ad16a01c865_ModelExplain\"}, \"tags\": {\"model_explain_run\": \"best_run\", \"_aml_system_automl_run_workspace_id\": \"03b1ad27-b6dd-4bbf-be6c-d4aae5578049\", \"_aml_system_azureml.automlComponent\": \"AutoML\", \"pipeline_id_000\": \"5dfac790c5c209f98a1da2dc1c7fb76f0397324f;c7af0367625be6ac5c2fecbfc72ed444cb7a2111;799d2168db11fc19b9e1c6c1df62f8981ad39fe9;44b5d2d23120dfcf96a7dc6389a293d17a966b1b;79ebb3b8c385e3190e3dd4c1fa28b74730528045;589334a57221e0720a95cf217c065115a7b841d1;5a8eb9d9f67b1dd7e9e4062585daa2417ea78989;35b8e2db3c5f6e714072e1be9f0210fe48426975;3735210984ea10097d5c91905cf6300ac278cd89;5304e705d6f401cb07f85bcf0ca59ac1f84dfcf5;294650ec23bc3d067a4972de7ceb12f6e97260fa;3caa818370e5e0c328d6266c359019bd31681270;5235e3d56688f5f38ef82d73fba7c2e698fc1af2;17f87d449bb43aaf3cdae4b7eb6dd6e7fbdaf343;dc68fbd594530b5d52812dd9b3ffa3d6d8ba625e;2032292dd602836ed754a266c771ac100c4c80dc;da45f657e4591caadf1589a85a1f7b8932585595;797e3e972ad02d947be4c64d2b06b775b6df7a49;3fd2e115482e0c7b92aa3297688aefb6c3aa6fb8;1dfdf370ba770047b14bfa59c40920815defcdab;1b9ea9b05e1aba0cfbaa30fae26f336a29920979;f52e31edb9a1c79d3094620546ebbc7788edbaf8;675ec1c734ed516311cf5441a13a05b407df5a00;3ef9040509da05037cd402691a100d4b3dfeb7c4;8d1367dd633db167ce118dbb3c7e163669984fc3;9f1794d3be06fafbe53fcdea096b8fcf202e2353;c89118cd33cd61792b39c8bb59aeb7f9330d5657;3703878c66c5d80d8797d7576129463ca4498aa8;9572ea2179635546f7887003d48481fe84b2354e;4f05904395a234915db2f17effd9ddb60b682959;518cb3b751d410b099b005f8fcea058a18a00458;9686715013c2f0f09c7e4cef4129bc42d62dfa1d;4fd72a01d88e3a96cffe7ef2fb18637e99302a20;015f4a820001096d01e5daaef589d55dabc3d961;b57ed528ff8c1b2d4ec2b698b392a6c5b5411b50;fedbb4995d6de479c513576119965d71276f03d1;e478544eb8734c07a1943f5bdf4e6605be6943df;d42c20a3abacf6671c59bcd354c3056dd129d64b;__AutoML_Stack_Ensemble__;__AutoML_Ensemble__\", \"score_000\": \"0.8502406516105147;0.8638467234357646;0.8365420214735282;0.8542761940022213;0.8487041836356906;0.86653091447612;0.8556090336912254;0.8679563124768604;0.8556090336912255;0.8556275453535728;0.8393372824879675;0.8433358015549797;0.8474268789337283;0.8651240281377266;0.8569233617178822;0.8420029618659756;0.8501480932987782;0.846075527582377;0.862347278785635;0.8678822658274713;0.8555905220288782;0.8501480932987782;0.6213624583487597;0.8529063309885228;0.8610329507589782;0.8406701221769716;0.8515734912995188;0.8596815994076268;0.8623657904479822;0.844687152906331;0.847408367271381;0.8542947056645687;0.8460755275823768;0.5532765642354683;NaN;NaN;NaN;NaN;0.8746945575712697;0.8801369863013699\", \"predicted_cost_000\": \"0;0;0.5;0.5;0.5;0.5;0.5;0.5;0.5;0.5;0.5;0.5;0.5;0.5;0.5;0.5;0.5;0.5;0.5;0.5;0.02753466597800712;0.15051814464705382;0.41871324678713945;0.07464626453629114;0.01208935961627529;0.029535800409151547;0.0049070690171786665;0.08881590755583714;0.015167459488039964;0.010440711479115758;0.019983033369784353;0.01225915399670044;0.23385882373286854;0.0204032775476814;0.05002086043138507;0.20504912344242787;0.057550044497645725;0.01699507148881193;0;0\", \"fit_time_000\": \"0.052241300000000004;0.36676680000000006;0.1994881;0.060080900000000007;0.0315212;0.0513157;0.0106091;0.0540088;0.0105185;0.0090909;0.05516069999999999;0.0104958;0.028919600000000007;0.0704313;0.114596;0.2594073;0.019301000000000002;0.006782399999999999;0.063171;0.3702717;0.0738596;0.014030500000000001;0.2356004;0.0173895;0.010995099999999999;0.004784699999999999;0.009817000000000001;0.8325767;0.05932870000000001;0.011691400000000001;0.07326089999999999;0.0103912;0.0188026;0.0455509;NaN;NaN;NaN;NaN;30;27\", \"training_percent_000\": \"100;100;100;100;100;100;100;100;100;100;100;100;100;100;100;100;100;100;100;100;100;100;100;100;100;100;100;100;100;100;100;100;100;100;100;100;100;100;100;100\", \"iteration_000\": \"0;1;2;3;8;9;10;11;4;5;6;7;16;17;18;19;12;13;14;15;22;23;24;25;26;27;28;29;30;31;32;33;34;35;37;20;21;36;39;38\", \"run_preprocessor_000\": \"MaxAbsScaler;MaxAbsScaler;MaxAbsScaler;SparseNormalizer;StandardScalerWrapper;StandardScalerWrapper;SparseNormalizer;StandardScalerWrapper;MaxAbsScaler;MaxAbsScaler;StandardScalerWrapper;MaxAbsScaler;StandardScalerWrapper;StandardScalerWrapper;StandardScalerWrapper;TruncatedSVDWrapper;MaxAbsScaler;MaxAbsScaler;StandardScalerWrapper;SparseNormalizer;SparseNormalizer;StandardScalerWrapper;TruncatedSVDWrapper;StandardScalerWrapper;SparseNormalizer;MaxAbsScaler;StandardScalerWrapper;SparseNormalizer;StandardScalerWrapper;MaxAbsScaler;MaxAbsScaler;SparseNormalizer;TruncatedSVDWrapper;StandardScalerWrapper;;;;;;\", \"run_algorithm_000\": \"LightGBM;XGBoostClassifier;ExtremeRandomTrees;XGBoostClassifier;ExtremeRandomTrees;XGBoostClassifier;LightGBM;XGBoostClassifier;LightGBM;LightGBM;XGBoostClassifier;LogisticRegression;LogisticRegression;RandomForest;XGBoostClassifier;RandomForest;LogisticRegression;SGD;XGBoostClassifier;RandomForest;XGBoostClassifier;LogisticRegression;XGBoostClassifier;RandomForest;LightGBM;SGD;LightGBM;ExtremeRandomTrees;XGBoostClassifier;LightGBM;RandomForest;LightGBM;LightGBM;XGBoostClassifier;;;;;StackEnsemble;VotingEnsemble\", \"dynamic_allowlisting_iterations\": \"<24>;<30>;<35>;\", \"_aml_system_azureml.automl_early_exit_message\": \"No scores improved over last 10 iterations, so experiment stopped early. This early stopping behavior can be disabled by setting enable_early_stopping = False in AutoMLConfig for notebook/python SDK runs.\", \"automl_best_child_run_id\": \"AutoML_19c122c3-de6b-4b75-b782-9ad16a01c865_38\", \"model_explain_best_run_child_id\": \"AutoML_19c122c3-de6b-4b75-b782-9ad16a01c865_38\"}, \"end_time_utc\": \"2024-10-20T08:15:36.885016Z\", \"status\": \"Completed\", \"log_files\": {}, \"log_groups\": [], \"run_duration\": \"0:34:17\", \"run_number\": \"1729410079\", \"run_queued_details\": {\"status\": \"Completed\", \"details\": null}}, \"child_runs\": [{\"run_id\": \"AutoML_19c122c3-de6b-4b75-b782-9ad16a01c865_setup\", \"run_number\": 1729410093, \"metric\": null, \"status\": \"Completed\", \"run_type\": \"azureml.scriptrun\", \"training_percent\": null, \"start_time\": \"2024-10-20T07:42:11.943944Z\", \"end_time\": \"2024-10-20T07:46:36.189591Z\", \"created_time\": \"2024-10-20T07:41:33.103687Z\", \"created_time_dt\": \"2024-10-20T07:41:33.103687Z\", \"duration\": \"0:05:03\", \"iteration\": null, \"goal\": null, \"run_name\": \"Completed\", \"run_properties\": null}, {\"run_id\": \"AutoML_19c122c3-de6b-4b75-b782-9ad16a01c865_featurize\", \"run_number\": 1729410396, \"metric\": null, \"status\": \"Completed\", \"run_type\": \"automl.featurization\", \"training_percent\": null, \"start_time\": \"2024-10-20T07:46:36.841317Z\", \"end_time\": \"2024-10-20T07:49:18.394476Z\", \"created_time\": \"2024-10-20T07:46:36.445386Z\", \"created_time_dt\": \"2024-10-20T07:46:36.445386Z\", \"duration\": \"0:02:41\", \"iteration\": null, \"goal\": null, \"run_name\": \"Completed\", \"run_properties\": null}, {\"run_id\": \"AutoML_19c122c3-de6b-4b75-b782-9ad16a01c865_0\", \"run_number\": 1729410560, \"metric\": null, \"status\": \"Completed\", \"run_type\": null, \"training_percent\": \"100\", \"start_time\": \"2024-10-20T07:49:52.835352Z\", \"end_time\": \"2024-10-20T07:50:00.908285Z\", \"created_time\": \"2024-10-20T07:49:20.100146Z\", \"created_time_dt\": \"2024-10-20T07:49:20.100146Z\", \"duration\": \"0:00:40\", \"iteration\": \"0\", \"goal\": \"accuracy_max\", \"run_name\": \"MaxAbsScaler, LightGBM\", \"run_properties\": null, \"primary_metric\": 0.85024065, \"best_metric\": 0.85024065}, {\"run_id\": \"AutoML_19c122c3-de6b-4b75-b782-9ad16a01c865_worker_0\", \"run_number\": 1729410561, \"metric\": null, \"status\": \"Completed\", \"run_type\": \"azureml.scriptrun\", \"training_percent\": null, \"start_time\": \"2024-10-20T07:49:42.372248Z\", \"end_time\": \"2024-10-20T07:50:46.161819Z\", \"created_time\": \"2024-10-20T07:49:21.959995Z\", \"created_time_dt\": \"2024-10-20T07:49:21.959995Z\", \"duration\": \"0:01:24\", \"iteration\": null, \"goal\": null, \"run_name\": \"Completed\", \"run_properties\": null}, {\"run_id\": \"AutoML_19c122c3-de6b-4b75-b782-9ad16a01c865_4\", \"run_number\": 1729410562, \"metric\": null, \"status\": \"Completed\", \"run_type\": null, \"training_percent\": \"100\", \"start_time\": \"2024-10-20T07:52:20.057848Z\", \"end_time\": \"2024-10-20T07:52:27.674183Z\", \"created_time\": \"2024-10-20T07:49:22.109479Z\", \"created_time_dt\": \"2024-10-20T07:49:22.109479Z\", \"duration\": \"0:03:05\", \"iteration\": \"4\", \"goal\": \"accuracy_max\", \"run_name\": \"MaxAbsScaler, LightGBM\", \"run_properties\": null, \"primary_metric\": 0.85560903, \"best_metric\": 0.85560903}, {\"run_id\": \"AutoML_19c122c3-de6b-4b75-b782-9ad16a01c865_8\", \"run_number\": 1729410563, \"metric\": null, \"status\": \"Completed\", \"run_type\": null, \"training_percent\": \"100\", \"start_time\": \"2024-10-20T07:51:11.560077Z\", \"end_time\": \"2024-10-20T07:51:19.125325Z\", \"created_time\": \"2024-10-20T07:49:23.876641Z\", \"created_time_dt\": \"2024-10-20T07:49:23.876641Z\", \"duration\": \"0:01:55\", \"iteration\": \"8\", \"goal\": \"accuracy_max\", \"run_name\": \"StandardScalerWrapper, ExtremeRandomTrees\", \"run_properties\": \"copy=True, with_mean=False, with_std=False\", \"primary_metric\": 0.84870418, \"best_metric\": 0.85560903}, {\"run_id\": \"AutoML_19c122c3-de6b-4b75-b782-9ad16a01c865_9\", \"run_number\": 1729410564, \"metric\": null, \"status\": \"Completed\", \"run_type\": null, \"training_percent\": \"100\", \"start_time\": \"2024-10-20T07:51:19.68658Z\", \"end_time\": \"2024-10-20T07:51:27.446883Z\", \"created_time\": \"2024-10-20T07:49:24.24002Z\", \"created_time_dt\": \"2024-10-20T07:49:24.24002Z\", \"duration\": \"0:02:03\", \"iteration\": \"9\", \"goal\": \"accuracy_max\", \"run_name\": \"StandardScalerWrapper, XGBoostClassifier\", \"run_properties\": \"copy=True, with_mean=False, with_std=False\", \"primary_metric\": 0.86653091, \"best_metric\": 0.86653091}, {\"run_id\": \"AutoML_19c122c3-de6b-4b75-b782-9ad16a01c865_worker_2\", \"run_number\": 1729410565, \"metric\": null, \"status\": \"Completed\", \"run_type\": \"azureml.scriptrun\", \"training_percent\": null, \"start_time\": \"2024-10-20T07:51:01.337388Z\", \"end_time\": \"2024-10-20T07:51:52.836301Z\", \"created_time\": \"2024-10-20T07:49:25.230621Z\", \"created_time_dt\": \"2024-10-20T07:49:25.230621Z\", \"duration\": \"0:02:27\", \"iteration\": null, \"goal\": null, \"run_name\": \"Completed\", \"run_properties\": null}, {\"run_id\": \"AutoML_19c122c3-de6b-4b75-b782-9ad16a01c865_worker_3\", \"run_number\": 1729410566, \"metric\": null, \"status\": \"Completed\", \"run_type\": \"azureml.scriptrun\", \"training_percent\": null, \"start_time\": \"2024-10-20T07:52:40.824638Z\", \"end_time\": \"2024-10-20T07:57:57.431285Z\", \"created_time\": \"2024-10-20T07:49:26.817559Z\", \"created_time_dt\": \"2024-10-20T07:49:26.817559Z\", \"duration\": \"0:08:30\", \"iteration\": null, \"goal\": null, \"run_name\": \"Completed\", \"run_properties\": null}, {\"run_id\": \"AutoML_19c122c3-de6b-4b75-b782-9ad16a01c865_17\", \"run_number\": 1729410567, \"metric\": null, \"status\": \"Completed\", \"run_type\": null, \"training_percent\": \"100\", \"start_time\": \"2024-10-20T07:56:41.258195Z\", \"end_time\": \"2024-10-20T07:56:49.184045Z\", \"created_time\": \"2024-10-20T07:49:27.301564Z\", \"created_time_dt\": \"2024-10-20T07:49:27.301564Z\", \"duration\": \"0:07:21\", \"iteration\": \"17\", \"goal\": \"accuracy_max\", \"run_name\": \"StandardScalerWrapper, RandomForest\", \"run_properties\": \"copy=True, with_mean=False, with_std=False\", \"primary_metric\": 0.86512403, \"best_metric\": 0.86653091}, {\"run_id\": \"AutoML_19c122c3-de6b-4b75-b782-9ad16a01c865_worker_4\", \"run_number\": 1729410568, \"metric\": null, \"status\": \"Completed\", \"run_type\": \"azureml.scriptrun\", \"training_percent\": null, \"start_time\": \"2024-10-20T07:52:25.721166Z\", \"end_time\": \"2024-10-20T07:57:17.688013Z\", \"created_time\": \"2024-10-20T07:49:28.371123Z\", \"created_time_dt\": \"2024-10-20T07:49:28.371123Z\", \"duration\": \"0:07:49\", \"iteration\": null, \"goal\": null, \"run_name\": \"Completed\", \"run_properties\": null}, {\"run_id\": \"AutoML_19c122c3-de6b-4b75-b782-9ad16a01c865_22\", \"run_number\": 1729411031, \"metric\": null, \"status\": \"Completed\", \"run_type\": \"azureml.scriptrun\", \"training_percent\": \"100\", \"start_time\": \"2024-10-20T07:57:38.033818Z\", \"end_time\": \"2024-10-20T07:58:05.661013Z\", \"created_time\": \"2024-10-20T07:57:11.95426Z\", \"created_time_dt\": \"2024-10-20T07:57:11.95426Z\", \"duration\": \"0:00:53\", \"iteration\": \"22\", \"goal\": \"accuracy_max\", \"run_name\": \"SparseNormalizer, XGBoostClassifier\", \"run_properties\": \"norm='l1'\", \"primary_metric\": 0.85559052, \"best_metric\": 0.86653091}, {\"run_id\": \"AutoML_19c122c3-de6b-4b75-b782-9ad16a01c865_23\", \"run_number\": 1729411057, \"metric\": null, \"status\": \"Completed\", \"run_type\": \"azureml.scriptrun\", \"training_percent\": \"100\", \"start_time\": \"2024-10-20T07:58:00.857135Z\", \"end_time\": \"2024-10-20T07:58:32.392712Z\", \"created_time\": \"2024-10-20T07:57:37.598399Z\", \"created_time_dt\": \"2024-10-20T07:57:37.598399Z\", \"duration\": \"0:00:54\", \"iteration\": \"23\", \"goal\": \"accuracy_max\", \"run_name\": \"StandardScalerWrapper, LogisticRegression\", \"run_properties\": \"copy=True, with_mean=False, with_std=True\", \"primary_metric\": 0.85014809, \"best_metric\": 0.86653091}, {\"run_id\": \"AutoML_19c122c3-de6b-4b75-b782-9ad16a01c865_24\", \"run_number\": 1729411089, \"metric\": null, \"status\": \"Completed\", \"run_type\": \"azureml.scriptrun\", \"training_percent\": \"100\", \"start_time\": \"2024-10-20T07:58:30.46301Z\", \"end_time\": \"2024-10-20T07:59:02.138646Z\", \"created_time\": \"2024-10-20T07:58:09.587441Z\", \"created_time_dt\": \"2024-10-20T07:58:09.587441Z\", \"duration\": \"0:00:52\", \"iteration\": \"24\", \"goal\": \"accuracy_max\", \"run_name\": \"TruncatedSVDWrapper, XGBoostClassifier\", \"run_properties\": \"n_components=0.01\", \"primary_metric\": 0.62136246, \"best_metric\": 0.86653091}, {\"run_id\": \"AutoML_19c122c3-de6b-4b75-b782-9ad16a01c865_26\", \"run_number\": 1729411113, \"metric\": null, \"status\": \"Completed\", \"run_type\": \"azureml.scriptrun\", \"training_percent\": \"100\", \"start_time\": \"2024-10-20T07:58:56.449777Z\", \"end_time\": \"2024-10-20T07:59:23.213563Z\", \"created_time\": \"2024-10-20T07:58:33.856118Z\", \"created_time_dt\": \"2024-10-20T07:58:33.856118Z\", \"duration\": \"0:00:49\", \"iteration\": \"26\", \"goal\": \"accuracy_max\", \"run_name\": \"SparseNormalizer, LightGBM\", \"run_properties\": \"norm='max'\", \"primary_metric\": 0.86103295, \"best_metric\": 0.86653091}, {\"run_id\": \"AutoML_19c122c3-de6b-4b75-b782-9ad16a01c865_27\", \"run_number\": 1729411143, \"metric\": null, \"status\": \"Completed\", \"run_type\": \"azureml.scriptrun\", \"training_percent\": \"100\", \"start_time\": \"2024-10-20T07:59:26.153718Z\", \"end_time\": \"2024-10-20T07:59:54.697895Z\", \"created_time\": \"2024-10-20T07:59:03.449227Z\", \"created_time_dt\": \"2024-10-20T07:59:03.449227Z\", \"duration\": \"0:00:51\", \"iteration\": \"27\", \"goal\": \"accuracy_max\", \"run_name\": \"MaxAbsScaler, SGD\", \"run_properties\": null, \"primary_metric\": 0.84067012, \"best_metric\": 0.86653091}, {\"run_id\": \"AutoML_19c122c3-de6b-4b75-b782-9ad16a01c865_28\", \"run_number\": 1729411156, \"metric\": null, \"status\": \"Completed\", \"run_type\": \"azureml.scriptrun\", \"training_percent\": \"100\", \"start_time\": \"2024-10-20T07:59:36.465681Z\", \"end_time\": \"2024-10-20T08:00:02.082197Z\", \"created_time\": \"2024-10-20T07:59:16.160911Z\", \"created_time_dt\": \"2024-10-20T07:59:16.160911Z\", \"duration\": \"0:00:45\", \"iteration\": \"28\", \"goal\": \"accuracy_max\", \"run_name\": \"StandardScalerWrapper, LightGBM\", \"run_properties\": \"copy=True, with_mean=False, with_std=True\", \"primary_metric\": 0.85157349, \"best_metric\": 0.86653091}, {\"run_id\": \"AutoML_19c122c3-de6b-4b75-b782-9ad16a01c865_29\", \"run_number\": 1729411164, \"metric\": null, \"status\": \"Completed\", \"run_type\": \"azureml.scriptrun\", \"training_percent\": \"100\", \"start_time\": \"2024-10-20T07:59:45.832521Z\", \"end_time\": \"2024-10-20T08:00:21.00095Z\", \"created_time\": \"2024-10-20T07:59:24.461999Z\", \"created_time_dt\": \"2024-10-20T07:59:24.461999Z\", \"duration\": \"0:00:56\", \"iteration\": \"29\", \"goal\": \"accuracy_max\", \"run_name\": \"SparseNormalizer, ExtremeRandomTrees\", \"run_properties\": \"norm='l1'\", \"primary_metric\": 0.8596816, \"best_metric\": 0.86653091}, {\"run_id\": \"AutoML_19c122c3-de6b-4b75-b782-9ad16a01c865_30\", \"run_number\": 1729411196, \"metric\": null, \"status\": \"Completed\", \"run_type\": \"azureml.scriptrun\", \"training_percent\": \"100\", \"start_time\": \"2024-10-20T08:00:18.585928Z\", \"end_time\": \"2024-10-20T08:00:48.490559Z\", \"created_time\": \"2024-10-20T07:59:56.666427Z\", \"created_time_dt\": \"2024-10-20T07:59:56.666427Z\", \"duration\": \"0:00:51\", \"iteration\": \"30\", \"goal\": \"accuracy_max\", \"run_name\": \"StandardScalerWrapper, XGBoostClassifier\", \"run_properties\": \"copy=True, with_mean=False, with_std=False\", \"primary_metric\": 0.86236579, \"best_metric\": 0.86653091}, {\"run_id\": \"AutoML_19c122c3-de6b-4b75-b782-9ad16a01c865_31\", \"run_number\": 1729411203, \"metric\": null, \"status\": \"Completed\", \"run_type\": \"azureml.scriptrun\", \"training_percent\": \"100\", \"start_time\": \"2024-10-20T08:00:24.233249Z\", \"end_time\": \"2024-10-20T08:00:49.660974Z\", \"created_time\": \"2024-10-20T08:00:03.267173Z\", \"created_time_dt\": \"2024-10-20T08:00:03.267173Z\", \"duration\": \"0:00:46\", \"iteration\": \"31\", \"goal\": \"accuracy_max\", \"run_name\": \"MaxAbsScaler, LightGBM\", \"run_properties\": null, \"primary_metric\": 0.84468715, \"best_metric\": 0.86653091}, {\"run_id\": \"AutoML_19c122c3-de6b-4b75-b782-9ad16a01c865_32\", \"run_number\": 1729411222, \"metric\": null, \"status\": \"Completed\", \"run_type\": \"azureml.scriptrun\", \"training_percent\": \"100\", \"start_time\": \"2024-10-20T08:00:45.581381Z\", \"end_time\": \"2024-10-20T08:01:12.393281Z\", \"created_time\": \"2024-10-20T08:00:22.274549Z\", \"created_time_dt\": \"2024-10-20T08:00:22.274549Z\", \"duration\": \"0:00:50\", \"iteration\": \"32\", \"goal\": \"accuracy_max\", \"run_name\": \"MaxAbsScaler, RandomForest\", \"run_properties\": null, \"primary_metric\": 0.84740837, \"best_metric\": 0.86653091}, {\"run_id\": \"AutoML_19c122c3-de6b-4b75-b782-9ad16a01c865_33\", \"run_number\": 1729411249, \"metric\": null, \"status\": \"Completed\", \"run_type\": \"azureml.scriptrun\", \"training_percent\": \"100\", \"start_time\": \"2024-10-20T08:01:13.451767Z\", \"end_time\": \"2024-10-20T08:01:42.397653Z\", \"created_time\": \"2024-10-20T08:00:49.769535Z\", \"created_time_dt\": \"2024-10-20T08:00:49.769535Z\", \"duration\": \"0:00:52\", \"iteration\": \"33\", \"goal\": \"accuracy_max\", \"run_name\": \"SparseNormalizer, LightGBM\", \"run_properties\": \"norm='l1'\", \"primary_metric\": 0.85429471, \"best_metric\": 0.86653091}, {\"run_id\": \"AutoML_19c122c3-de6b-4b75-b782-9ad16a01c865_34\", \"run_number\": 1729411251, \"metric\": null, \"status\": \"Completed\", \"run_type\": \"azureml.scriptrun\", \"training_percent\": \"100\", \"start_time\": \"2024-10-20T08:01:28.559632Z\", \"end_time\": \"2024-10-20T08:01:54.709336Z\", \"created_time\": \"2024-10-20T08:00:51.558849Z\", \"created_time_dt\": \"2024-10-20T08:00:51.558849Z\", \"duration\": \"0:01:03\", \"iteration\": \"34\", \"goal\": \"accuracy_max\", \"run_name\": \"TruncatedSVDWrapper, LightGBM\", \"run_properties\": \"n_components=0.45526315789473687\", \"primary_metric\": 0.84607553, \"best_metric\": 0.86653091}, {\"run_id\": \"AutoML_19c122c3-de6b-4b75-b782-9ad16a01c865_35\", \"run_number\": 1729411274, \"metric\": null, \"status\": \"Completed\", \"run_type\": \"azureml.scriptrun\", \"training_percent\": \"100\", \"start_time\": \"2024-10-20T08:01:34.750965Z\", \"end_time\": \"2024-10-20T08:02:04.10892Z\", \"created_time\": \"2024-10-20T08:01:14.467575Z\", \"created_time_dt\": \"2024-10-20T08:01:14.467575Z\", \"duration\": \"0:00:49\", \"iteration\": \"35\", \"goal\": \"accuracy_max\", \"run_name\": \"StandardScalerWrapper, XGBoostClassifier\", \"run_properties\": \"copy=True, with_mean=False, with_std=False\", \"primary_metric\": 0.55327656, \"best_metric\": 0.86653091}, {\"run_id\": \"AutoML_19c122c3-de6b-4b75-b782-9ad16a01c865_36\", \"run_number\": 1729411304, \"metric\": null, \"status\": \"Canceled\", \"run_type\": \"azureml.scriptrun\", \"training_percent\": \"100\", \"start_time\": \"2024-10-20T08:02:04.832542Z\", \"end_time\": \"2024-10-20T08:02:12.94041Z\", \"created_time\": \"2024-10-20T08:01:44.011132Z\", \"created_time_dt\": \"2024-10-20T08:01:44.011132Z\", \"duration\": \"0:00:28\", \"iteration\": \"36\", \"goal\": null, \"run_name\": \"Canceled\", \"run_properties\": null}, {\"run_id\": \"AutoML_19c122c3-de6b-4b75-b782-9ad16a01c865_37\", \"run_number\": 1729411316, \"metric\": null, \"status\": \"Canceled\", \"run_type\": \"azureml.scriptrun\", \"training_percent\": \"100\", \"start_time\": \"2024-10-20T08:02:04.906119Z\", \"end_time\": \"2024-10-20T08:02:08.868835Z\", \"created_time\": \"2024-10-20T08:01:56.306245Z\", \"created_time_dt\": \"2024-10-20T08:01:56.306245Z\", \"duration\": \"0:00:12\", \"iteration\": \"37\", \"goal\": null, \"run_name\": \"Canceled\", \"run_properties\": null}, {\"run_id\": \"AutoML_19c122c3-de6b-4b75-b782-9ad16a01c865_38\", \"run_number\": 1729411333, \"metric\": null, \"status\": \"Completed\", \"run_type\": \"azureml.scriptrun\", \"training_percent\": \"100\", \"start_time\": \"2024-10-20T08:04:21.338621Z\", \"end_time\": \"2024-10-20T08:15:35.880898Z\", \"created_time\": \"2024-10-20T08:02:13.676019Z\", \"created_time_dt\": \"2024-10-20T08:02:13.676019Z\", \"duration\": \"0:13:22\", \"iteration\": \"38\", \"goal\": \"accuracy_max\", \"run_name\": \"VotingEnsemble\", \"run_properties\": \"classification_labels=numpy.array([0, 1]\", \"primary_metric\": 0.88013699, \"best_metric\": 0.88013699}], \"children_metrics\": {\"categories\": [0], \"series\": {\"AUC_macro\": [{\"categories\": [\"0\", \"4\", \"8\", \"9\", \"17\", \"22\", \"23\", \"24\", \"26\", \"27\", \"28\", \"29\", \"30\", \"31\", \"32\", \"33\", \"34\", \"35\", \"38\"], \"mode\": \"markers\", \"name\": \"AUC_macro\", \"stepped\": false, \"type\": \"scatter\", \"data\": [0.923799123649079, 0.9344561470151808, 0.9206287722886344, 0.9209896768319579, 0.9307357517670226, 0.9215446230101338, 0.9228041992939089, 0.6801777361625313, 0.9233073795538594, 0.9203552925434092, 0.9197986463402025, 0.9282693277934385, 0.9279588183907546, 0.9255674368533773, 0.9168655037246953, 0.9130167903005292, 0.920119296727726, 0.5, 0.9345407529970396]}, {\"categories\": [\"0\", \"4\", \"8\", \"9\", \"17\", \"22\", \"23\", \"24\", \"26\", \"27\", \"28\", \"29\", \"30\", \"31\", \"32\", \"33\", \"34\", \"35\", \"38\"], \"mode\": \"lines\", \"name\": \"AUC_macro_max\", \"stepped\": true, \"type\": \"scatter\", \"data\": [0.923799123649079, 0.9344561470151808, 0.9344561470151808, 0.9344561470151808, 0.9344561470151808, 0.9344561470151808, 0.9344561470151808, 0.9344561470151808, 0.9344561470151808, 0.9344561470151808, 0.9344561470151808, 0.9344561470151808, 0.9344561470151808, 0.9344561470151808, 0.9344561470151808, 0.9344561470151808, 0.9344561470151808, 0.9344561470151808, 0.9345407529970396]}], \"accuracy\": [{\"categories\": [\"0\", \"4\", \"8\", \"9\", \"17\", \"22\", \"23\", \"24\", \"26\", \"27\", \"28\", \"29\", \"30\", \"31\", \"32\", \"33\", \"34\", \"35\", \"38\"], \"mode\": \"markers\", \"name\": \"accuracy\", \"stepped\": false, \"type\": \"scatter\", \"data\": [0.8502406516105147, 0.8556090336912255, 0.8487041836356906, 0.86653091447612, 0.8651240281377266, 0.8555905220288782, 0.8501480932987782, 0.6213624583487597, 0.8610329507589782, 0.8406701221769716, 0.8515734912995188, 0.8596815994076268, 0.8623657904479822, 0.844687152906331, 0.847408367271381, 0.8542947056645687, 0.8460755275823768, 0.5532765642354683, 0.8801369863013699]}, {\"categories\": [\"0\", \"4\", \"8\", \"9\", \"17\", \"22\", \"23\", \"24\", \"26\", \"27\", \"28\", \"29\", \"30\", \"31\", \"32\", \"33\", \"34\", \"35\", \"38\"], \"mode\": \"lines\", \"name\": \"accuracy_max\", \"stepped\": true, \"type\": \"scatter\", \"data\": [0.8502406516105147, 0.8556090336912255, 0.8556090336912255, 0.86653091447612, 0.86653091447612, 0.86653091447612, 0.86653091447612, 0.86653091447612, 0.86653091447612, 0.86653091447612, 0.86653091447612, 0.86653091447612, 0.86653091447612, 0.86653091447612, 0.86653091447612, 0.86653091447612, 0.86653091447612, 0.86653091447612, 0.8801369863013699]}], \"matthews_correlation\": [{\"categories\": [\"0\", \"4\", \"8\", \"9\", \"17\", \"22\", \"23\", \"24\", \"26\", \"27\", \"28\", \"29\", \"30\", \"31\", \"32\", \"33\", \"34\", \"35\", \"38\"], \"mode\": \"markers\", \"name\": \"matthews_correlation\", \"stepped\": false, \"type\": \"scatter\", \"data\": [0.692393963756, 0.7051155067192926, 0.6888249416458614, 0.7284976019681377, 0.7234445299896457, 0.7029895696116772, 0.6932613552880225, 0.22961037957400005, 0.7159219568204831, 0.6748703051921316, 0.6984792390754213, 0.7135419639635637, 0.7198525675445484, 0.681780356382929, 0.6922515781258005, 0.7030954365622871, 0.6854748826703798, 0.0, 0.7559471949059732]}, {\"categories\": [\"0\", \"4\", \"8\", \"9\", \"17\", \"22\", \"23\", \"24\", \"26\", \"27\", \"28\", \"29\", \"30\", \"31\", \"32\", \"33\", \"34\", \"35\", \"38\"], \"mode\": \"lines\", \"name\": \"matthews_correlation_max\", \"stepped\": true, \"type\": \"scatter\", \"data\": [0.692393963756, 0.7051155067192926, 0.7051155067192926, 0.7284976019681377, 0.7284976019681377, 0.7284976019681377, 0.7284976019681377, 0.7284976019681377, 0.7284976019681377, 0.7284976019681377, 0.7284976019681377, 0.7284976019681377, 0.7284976019681377, 0.7284976019681377, 0.7284976019681377, 0.7284976019681377, 0.7284976019681377, 0.7284976019681377, 0.7559471949059732]}], \"log_loss\": [{\"categories\": [\"0\", \"4\", \"8\", \"9\", \"17\", \"22\", \"23\", \"24\", \"26\", \"27\", \"28\", \"29\", \"30\", \"31\", \"32\", \"33\", \"34\", \"35\", \"38\"], \"mode\": \"markers\", \"name\": \"log_loss\", \"stepped\": false, \"type\": \"scatter\", \"data\": [0.40200389976029005, 0.34726950025791137, 0.43874292094705575, 0.34411948754510197, 0.37409791186102026, 0.36348445697471027, 0.35127487135162194, 0.6407927707667661, 0.37026157577233887, 0.7939317754253707, 0.5063735473116628, 0.411944142454156, 0.35165795101869113, 0.40984240939617067, 0.5025035214522262, 0.4522616987013771, 0.36099250197244404, 0.6911960595373273, 0.34901775302231697]}, {\"categories\": [\"0\", \"4\", \"8\", \"9\", \"17\", \"22\", \"23\", \"24\", \"26\", \"27\", \"28\", \"29\", \"30\", \"31\", \"32\", \"33\", \"34\", \"35\", \"38\"], \"mode\": \"lines\", \"name\": \"log_loss_min\", \"stepped\": true, \"type\": \"scatter\", \"data\": [0.40200389976029005, 0.34726950025791137, 0.34726950025791137, 0.34411948754510197, 0.34411948754510197, 0.34411948754510197, 0.34411948754510197, 0.34411948754510197, 0.34411948754510197, 0.34411948754510197, 0.34411948754510197, 0.34411948754510197, 0.34411948754510197, 0.34411948754510197, 0.34411948754510197, 0.34411948754510197, 0.34411948754510197, 0.34411948754510197, 0.34411948754510197]}], \"AUC_weighted\": [{\"categories\": [\"0\", \"4\", \"8\", \"9\", \"17\", \"22\", \"23\", \"24\", \"26\", \"27\", \"28\", \"29\", \"30\", \"31\", \"32\", \"33\", \"34\", \"35\", \"38\"], \"mode\": \"markers\", \"name\": \"AUC_weighted\", \"stepped\": false, \"type\": \"scatter\", \"data\": [0.923799123649079, 0.934456147015181, 0.9206287722886344, 0.9209896768319581, 0.9307357517670228, 0.9215446230101338, 0.9228041992939089, 0.6801777361625313, 0.9233073795538594, 0.9203552925434092, 0.9197986463402025, 0.9282693277934385, 0.9279588183907546, 0.9255674368533772, 0.9168655037246953, 0.9130167903005292, 0.920119296727726, 0.5, 0.9345407529970396]}, {\"categories\": [\"0\", \"4\", \"8\", \"9\", \"17\", \"22\", \"23\", \"24\", \"26\", \"27\", \"28\", \"29\", \"30\", \"31\", \"32\", \"33\", \"34\", \"35\", \"38\"], \"mode\": \"lines\", \"name\": \"AUC_weighted_max\", \"stepped\": true, \"type\": \"scatter\", \"data\": [0.923799123649079, 0.934456147015181, 0.934456147015181, 0.934456147015181, 0.934456147015181, 0.934456147015181, 0.934456147015181, 0.934456147015181, 0.934456147015181, 0.934456147015181, 0.934456147015181, 0.934456147015181, 0.934456147015181, 0.934456147015181, 0.934456147015181, 0.934456147015181, 0.934456147015181, 0.934456147015181, 0.9345407529970396]}], \"precision_score_macro\": [{\"categories\": [\"0\", \"4\", \"8\", \"9\", \"17\", \"22\", \"23\", \"24\", \"26\", \"27\", \"28\", \"29\", \"30\", \"31\", \"32\", \"33\", \"34\", \"35\", \"38\"], \"mode\": \"markers\", \"name\": \"precision_score_macro\", \"stepped\": false, \"type\": \"scatter\", \"data\": [0.8460669375644088, 0.8547289810852717, 0.8473079555897568, 0.867526545275177, 0.8652974069971627, 0.85230303983788, 0.8462500529448308, 0.6211200202021471, 0.8588314597438652, 0.839771296015293, 0.8569791946076988, 0.8612266939881394, 0.8620143393592716, 0.843244135984443, 0.8547097801673219, 0.8592957761507896, 0.8451105140747142, 0.27663828211773417, 0.8810079485950106]}, {\"categories\": [\"0\", \"4\", \"8\", \"9\", \"17\", \"22\", \"23\", \"24\", \"26\", \"27\", \"28\", \"29\", \"30\", \"31\", \"32\", \"33\", \"34\", \"35\", \"38\"], \"mode\": \"lines\", \"name\": \"precision_score_macro_max\", \"stepped\": true, \"type\": \"scatter\", \"data\": [0.8460669375644088, 0.8547289810852717, 0.8547289810852717, 0.867526545275177, 0.867526545275177, 0.867526545275177, 0.867526545275177, 0.867526545275177, 0.867526545275177, 0.867526545275177, 0.867526545275177, 0.867526545275177, 0.867526545275177, 0.867526545275177, 0.867526545275177, 0.867526545275177, 0.867526545275177, 0.867526545275177, 0.8810079485950106]}], \"norm_macro_recall\": [{\"categories\": [\"0\", \"4\", \"8\", \"9\", \"17\", \"22\", \"23\", \"24\", \"26\", \"27\", \"28\", \"29\", \"30\", \"31\", \"32\", \"33\", \"34\", \"35\", \"38\"], \"mode\": \"markers\", \"name\": \"norm_macro_recall\", \"stepped\": false, \"type\": \"scatter\", \"data\": [0.6927722416824272, 0.7011162505728724, 0.6833635412817473, 0.7223082051924565, 0.7167254475772147, 0.7014968863662369, 0.6941985674805672, 0.22196116193859777, 0.7145139586452431, 0.6707166327205736, 0.6838520698776585, 0.70513710612082, 0.7161045195543144, 0.6773773504434951, 0.6760012359570571, 0.6884447296881041, 0.6812660611926862, 0.0, 0.7502509302220849]}, {\"categories\": [\"0\", \"4\", \"8\", \"9\", \"17\", \"22\", \"23\", \"24\", \"26\", \"27\", \"28\", \"29\", \"30\", \"31\", \"32\", \"33\", \"34\", \"35\", \"38\"], \"mode\": \"lines\", \"name\": \"norm_macro_recall_max\", \"stepped\": true, \"type\": \"scatter\", \"data\": [0.6927722416824272, 0.7011162505728724, 0.7011162505728724, 0.7223082051924565, 0.7223082051924565, 0.7223082051924565, 0.7223082051924565, 0.7223082051924565, 0.7223082051924565, 0.7223082051924565, 0.7223082051924565, 0.7223082051924565, 0.7223082051924565, 0.7223082051924565, 0.7223082051924565, 0.7223082051924565, 0.7223082051924565, 0.7223082051924565, 0.7502509302220849]}], \"weighted_accuracy\": [{\"categories\": [\"0\", \"4\", \"8\", \"9\", \"17\", \"22\", \"23\", \"24\", \"26\", \"27\", \"28\", \"29\", \"30\", \"31\", \"32\", \"33\", \"34\", \"35\", \"38\"], \"mode\": \"markers\", \"name\": \"weighted_accuracy\", \"stepped\": false, \"type\": \"scatter\", \"data\": [0.8535802547788102, 0.859904315464615, 0.8545807352220172, 0.8711058345365081, 0.8707543892167198, 0.8596084153779845, 0.852589916765296, 0.631707583615394, 0.8642371734988599, 0.8447646417649656, 0.8597107138148606, 0.8658628651949881, 0.866207962670751, 0.8497632622209869, 0.8552770891990426, 0.8628233347329243, 0.8507994386612008, 0.5996957314432304, 0.8843981109261889]}, {\"categories\": [\"0\", \"4\", \"8\", \"9\", \"17\", \"22\", \"23\", \"24\", \"26\", \"27\", \"28\", \"29\", \"30\", \"31\", \"32\", \"33\", \"34\", \"35\", \"38\"], \"mode\": \"lines\", \"name\": \"weighted_accuracy_max\", \"stepped\": true, \"type\": \"scatter\", \"data\": [0.8535802547788102, 0.859904315464615, 0.859904315464615, 0.8711058345365081, 0.8711058345365081, 0.8711058345365081, 0.8711058345365081, 0.8711058345365081, 0.8711058345365081, 0.8711058345365081, 0.8711058345365081, 0.8711058345365081, 0.8711058345365081, 0.8711058345365081, 0.8711058345365081, 0.8711058345365081, 0.8711058345365081, 0.8711058345365081, 0.8843981109261889]}], \"precision_score_weighted\": [{\"categories\": [\"0\", \"4\", \"8\", \"9\", \"17\", \"22\", \"23\", \"24\", \"26\", \"27\", \"28\", \"29\", \"30\", \"31\", \"32\", \"33\", \"34\", \"35\", \"38\"], \"mode\": \"markers\", \"name\": \"precision_score_weighted\", \"stepped\": false, \"type\": \"scatter\", \"data\": [0.8540124703872166, 0.8609335985853633, 0.852561234959355, 0.8720252109889539, 0.8700360722281694, 0.8592014164447275, 0.8544826986415182, 0.6371169650230887, 0.8665744539548152, 0.8466259490981347, 0.8601103849282922, 0.8655173097514087, 0.8680212530809047, 0.8489755288464691, 0.8579742742506496, 0.8622387839403703, 0.8522430076864584, 0.31239389719632954, 0.8853085136889683]}, {\"categories\": [\"0\", \"4\", \"8\", \"9\", \"17\", \"22\", \"23\", \"24\", \"26\", \"27\", \"28\", \"29\", \"30\", \"31\", \"32\", \"33\", \"34\", \"35\", \"38\"], \"mode\": \"lines\", \"name\": \"precision_score_weighted_max\", \"stepped\": true, \"type\": \"scatter\", \"data\": [0.8540124703872166, 0.8609335985853633, 0.8609335985853633, 0.8720252109889539, 0.8720252109889539, 0.8720252109889539, 0.8720252109889539, 0.8720252109889539, 0.8720252109889539, 0.8720252109889539, 0.8720252109889539, 0.8720252109889539, 0.8720252109889539, 0.8720252109889539, 0.8720252109889539, 0.8720252109889539, 0.8720252109889539, 0.8720252109889539, 0.8853085136889683]}], \"AUC_micro\": [{\"categories\": [\"0\", \"4\", \"8\", \"9\", \"17\", \"22\", \"23\", \"24\", \"26\", \"27\", \"28\", \"29\", \"30\", \"31\", \"32\", \"33\", \"34\", \"35\", \"38\"], \"mode\": \"markers\", \"name\": \"AUC_micro\", \"stepped\": false, \"type\": \"scatter\", \"data\": [0.9265661270710137, 0.9349943752235141, 0.9196401164240321, 0.9253174225789647, 0.9309656384892344, 0.9240468001690381, 0.924398175645177, 0.6717637899547948, 0.923121631696462, 0.9183560129182755, 0.9094467973727557, 0.9275113184319819, 0.9279873786238756, 0.9241232455899272, 0.9106995386545579, 0.9139767813996791, 0.9214724351684026, 0.5532765642354683, 0.9360537926564968]}, {\"categories\": [\"0\", \"4\", \"8\", \"9\", \"17\", \"22\", \"23\", \"24\", \"26\", \"27\", \"28\", \"29\", \"30\", \"31\", \"32\", \"33\", \"34\", \"35\", \"38\"], \"mode\": \"lines\", \"name\": \"AUC_micro_max\", \"stepped\": true, \"type\": \"scatter\", \"data\": [0.9265661270710137, 0.9349943752235141, 0.9349943752235141, 0.9349943752235141, 0.9349943752235141, 0.9349943752235141, 0.9349943752235141, 0.9349943752235141, 0.9349943752235141, 0.9349943752235141, 0.9349943752235141, 0.9349943752235141, 0.9349943752235141, 0.9349943752235141, 0.9349943752235141, 0.9349943752235141, 0.9349943752235141, 0.9349943752235141, 0.9360537926564968]}], \"recall_score_weighted\": [{\"categories\": [\"0\", \"4\", \"8\", \"9\", \"17\", \"22\", \"23\", \"24\", \"26\", \"27\", \"28\", \"29\", \"30\", \"31\", \"32\", \"33\", \"34\", \"35\", \"38\"], \"mode\": \"markers\", \"name\": \"recall_score_weighted\", \"stepped\": false, \"type\": \"scatter\", \"data\": [0.8502406516105147, 0.8556090336912255, 0.8487041836356906, 0.86653091447612, 0.8651240281377266, 0.8555905220288782, 0.8501480932987782, 0.6213624583487597, 0.8610329507589782, 0.8406701221769716, 0.8515734912995188, 0.8596815994076268, 0.8623657904479822, 0.844687152906331, 0.847408367271381, 0.8542947056645687, 0.8460755275823768, 0.5532765642354683, 0.8801369863013699]}, {\"categories\": [\"0\", \"4\", \"8\", \"9\", \"17\", \"22\", \"23\", \"24\", \"26\", \"27\", \"28\", \"29\", \"30\", \"31\", \"32\", \"33\", \"34\", \"35\", \"38\"], \"mode\": \"lines\", \"name\": \"recall_score_weighted_max\", \"stepped\": true, \"type\": \"scatter\", \"data\": [0.8502406516105147, 0.8556090336912255, 0.8556090336912255, 0.86653091447612, 0.86653091447612, 0.86653091447612, 0.86653091447612, 0.86653091447612, 0.86653091447612, 0.86653091447612, 0.86653091447612, 0.86653091447612, 0.86653091447612, 0.86653091447612, 0.86653091447612, 0.86653091447612, 0.86653091447612, 0.86653091447612, 0.8801369863013699]}], \"recall_score_micro\": [{\"categories\": [\"0\", \"4\", \"8\", \"9\", \"17\", \"22\", \"23\", \"24\", \"26\", \"27\", \"28\", \"29\", \"30\", \"31\", \"32\", \"33\", \"34\", \"35\", \"38\"], \"mode\": \"markers\", \"name\": \"recall_score_micro\", \"stepped\": false, \"type\": \"scatter\", \"data\": [0.8502406516105147, 0.8556090336912255, 0.8487041836356906, 0.86653091447612, 0.8651240281377266, 0.8555905220288782, 0.8501480932987782, 0.6213624583487597, 0.8610329507589782, 0.8406701221769716, 0.8515734912995188, 0.8596815994076268, 0.8623657904479822, 0.844687152906331, 0.847408367271381, 0.8542947056645687, 0.8460755275823768, 0.5532765642354683, 0.8801369863013699]}, {\"categories\": [\"0\", \"4\", \"8\", \"9\", \"17\", \"22\", \"23\", \"24\", \"26\", \"27\", \"28\", \"29\", \"30\", \"31\", \"32\", \"33\", \"34\", \"35\", \"38\"], \"mode\": \"lines\", \"name\": \"recall_score_micro_max\", \"stepped\": true, \"type\": \"scatter\", \"data\": [0.8502406516105147, 0.8556090336912255, 0.8556090336912255, 0.86653091447612, 0.86653091447612, 0.86653091447612, 0.86653091447612, 0.86653091447612, 0.86653091447612, 0.86653091447612, 0.86653091447612, 0.86653091447612, 0.86653091447612, 0.86653091447612, 0.86653091447612, 0.86653091447612, 0.86653091447612, 0.86653091447612, 0.8801369863013699]}], \"f1_score_macro\": [{\"categories\": [\"0\", \"4\", \"8\", \"9\", \"17\", \"22\", \"23\", \"24\", \"26\", \"27\", \"28\", \"29\", \"30\", \"31\", \"32\", \"33\", \"34\", \"35\", \"38\"], \"mode\": \"markers\", \"name\": \"f1_score_macro\", \"stepped\": false, \"type\": \"scatter\", \"data\": [0.8444263522378364, 0.8494946301578634, 0.8415984377946213, 0.8610412217117697, 0.8584433762661471, 0.8494771644139529, 0.8444782973413154, 0.5991505243646303, 0.8550347089117398, 0.8337622458314108, 0.8431578739560267, 0.8528551400766705, 0.8566259925782382, 0.8381052411711275, 0.838823120178952, 0.8458375382628981, 0.8393022885990048, 0.3544760506529912, 0.87499858228131]}, {\"categories\": [\"0\", \"4\", \"8\", \"9\", \"17\", \"22\", \"23\", \"24\", \"26\", \"27\", \"28\", \"29\", \"30\", \"31\", \"32\", \"33\", \"34\", \"35\", \"38\"], \"mode\": \"lines\", \"name\": \"f1_score_macro_max\", \"stepped\": true, \"type\": \"scatter\", \"data\": [0.8444263522378364, 0.8494946301578634, 0.8494946301578634, 0.8610412217117697, 0.8610412217117697, 0.8610412217117697, 0.8610412217117697, 0.8610412217117697, 0.8610412217117697, 0.8610412217117697, 0.8610412217117697, 0.8610412217117697, 0.8610412217117697, 0.8610412217117697, 0.8610412217117697, 0.8610412217117697, 0.8610412217117697, 0.8610412217117697, 0.87499858228131]}], \"balanced_accuracy\": [{\"categories\": [\"0\", \"4\", \"8\", \"9\", \"17\", \"22\", \"23\", \"24\", \"26\", \"27\", \"28\", \"29\", \"30\", \"31\", \"32\", \"33\", \"34\", \"35\", \"38\"], \"mode\": \"markers\", \"name\": \"balanced_accuracy\", \"stepped\": false, \"type\": \"scatter\", \"data\": [0.8463861208412136, 0.8505581252864364, 0.8416817706408736, 0.8611541025962282, 0.8583627237886073, 0.8507484431831186, 0.8470992837402835, 0.6091979722736467, 0.8572569793226215, 0.8353583163602869, 0.8419260349388292, 0.85256855306041, 0.8580522597771572, 0.8386886752217475, 0.8380006179785285, 0.8442223648440521, 0.8406330305963431, 0.5, 0.8751254651110424]}, {\"categories\": [\"0\", \"4\", \"8\", \"9\", \"17\", \"22\", \"23\", \"24\", \"26\", \"27\", \"28\", \"29\", \"30\", \"31\", \"32\", \"33\", \"34\", \"35\", \"38\"], \"mode\": \"lines\", \"name\": \"balanced_accuracy_max\", \"stepped\": true, \"type\": \"scatter\", \"data\": [0.8463861208412136, 0.8505581252864364, 0.8505581252864364, 0.8611541025962282, 0.8611541025962282, 0.8611541025962282, 0.8611541025962282, 0.8611541025962282, 0.8611541025962282, 0.8611541025962282, 0.8611541025962282, 0.8611541025962282, 0.8611541025962282, 0.8611541025962282, 0.8611541025962282, 0.8611541025962282, 0.8611541025962282, 0.8611541025962282, 0.8751254651110424]}], \"average_precision_score_macro\": [{\"categories\": [\"0\", \"4\", \"8\", \"9\", \"17\", \"22\", \"23\", \"24\", \"26\", \"27\", \"28\", \"29\", \"30\", \"31\", \"32\", \"33\", \"34\", \"35\", \"38\"], \"mode\": \"markers\", \"name\": \"average_precision_score_macro\", \"stepped\": false, \"type\": \"scatter\", \"data\": [0.9238369398669122, 0.9341863369224361, 0.9187762455613526, 0.9210184000647816, 0.9285957915089824, 0.9183229938066125, 0.9227064830958434, 0.6414633057541393, 0.9224542481231227, 0.9130993187648178, 0.9039268447405224, 0.9268622222521085, 0.9222807124488291, 0.9267201216155649, 0.9168432188933305, 0.9040271995103115, 0.9194101673944294, 0.5, 0.935450522023055]}, {\"categories\": [\"0\", \"4\", \"8\", \"9\", \"17\", \"22\", \"23\", \"24\", \"26\", \"27\", \"28\", \"29\", \"30\", \"31\", \"32\", \"33\", \"34\", \"35\", \"38\"], \"mode\": \"lines\", \"name\": \"average_precision_score_macro_max\", \"stepped\": true, \"type\": \"scatter\", \"data\": [0.9238369398669122, 0.9341863369224361, 0.9341863369224361, 0.9341863369224361, 0.9341863369224361, 0.9341863369224361, 0.9341863369224361, 0.9341863369224361, 0.9341863369224361, 0.9341863369224361, 0.9341863369224361, 0.9341863369224361, 0.9341863369224361, 0.9341863369224361, 0.9341863369224361, 0.9341863369224361, 0.9341863369224361, 0.9341863369224361, 0.935450522023055]}], \"precision_score_micro\": [{\"categories\": [\"0\", \"4\", \"8\", \"9\", \"17\", \"22\", \"23\", \"24\", \"26\", \"27\", \"28\", \"29\", \"30\", \"31\", \"32\", \"33\", \"34\", \"35\", \"38\"], \"mode\": \"markers\", \"name\": \"precision_score_micro\", \"stepped\": false, \"type\": \"scatter\", \"data\": [0.8502406516105147, 0.8556090336912255, 0.8487041836356906, 0.86653091447612, 0.8651240281377266, 0.8555905220288782, 0.8501480932987782, 0.6213624583487597, 0.8610329507589782, 0.8406701221769716, 0.8515734912995188, 0.8596815994076268, 0.8623657904479822, 0.844687152906331, 0.847408367271381, 0.8542947056645687, 0.8460755275823768, 0.5532765642354683, 0.8801369863013699]}, {\"categories\": [\"0\", \"4\", \"8\", \"9\", \"17\", \"22\", \"23\", \"24\", \"26\", \"27\", \"28\", \"29\", \"30\", \"31\", \"32\", \"33\", \"34\", \"35\", \"38\"], \"mode\": \"lines\", \"name\": \"precision_score_micro_max\", \"stepped\": true, \"type\": \"scatter\", \"data\": [0.8502406516105147, 0.8556090336912255, 0.8556090336912255, 0.86653091447612, 0.86653091447612, 0.86653091447612, 0.86653091447612, 0.86653091447612, 0.86653091447612, 0.86653091447612, 0.86653091447612, 0.86653091447612, 0.86653091447612, 0.86653091447612, 0.86653091447612, 0.86653091447612, 0.86653091447612, 0.86653091447612, 0.8801369863013699]}], \"average_precision_score_weighted\": [{\"categories\": [\"0\", \"4\", \"8\", \"9\", \"17\", \"22\", \"23\", \"24\", \"26\", \"27\", \"28\", \"29\", \"30\", \"31\", \"32\", \"33\", \"34\", \"35\", \"38\"], \"mode\": \"markers\", \"name\": \"average_precision_score_weighted\", \"stepped\": false, \"type\": \"scatter\", \"data\": [0.9288464484410259, 0.937946813568205, 0.9237538690159621, 0.9251965964583564, 0.9334289513243343, 0.9236926932148712, 0.9268027273476495, 0.6595771112481217, 0.9262410382887344, 0.9178512007850287, 0.9091713886189743, 0.931625470452985, 0.9261763811097892, 0.9307679468912186, 0.9212870265267068, 0.9098473854323972, 0.924217489910706, 0.5182346659217225, 0.9395095792468655]}, {\"categories\": [\"0\", \"4\", \"8\", \"9\", \"17\", \"22\", \"23\", \"24\", \"26\", \"27\", \"28\", \"29\", \"30\", \"31\", \"32\", \"33\", \"34\", \"35\", \"38\"], \"mode\": \"lines\", \"name\": \"average_precision_score_weighted_max\", \"stepped\": true, \"type\": \"scatter\", \"data\": [0.9288464484410259, 0.937946813568205, 0.937946813568205, 0.937946813568205, 0.937946813568205, 0.937946813568205, 0.937946813568205, 0.937946813568205, 0.937946813568205, 0.937946813568205, 0.937946813568205, 0.937946813568205, 0.937946813568205, 0.937946813568205, 0.937946813568205, 0.937946813568205, 0.937946813568205, 0.937946813568205, 0.9395095792468655]}], \"recall_score_macro\": [{\"categories\": [\"0\", \"4\", \"8\", \"9\", \"17\", \"22\", \"23\", \"24\", \"26\", \"27\", \"28\", \"29\", \"30\", \"31\", \"32\", \"33\", \"34\", \"35\", \"38\"], \"mode\": \"markers\", \"name\": \"recall_score_macro\", \"stepped\": false, \"type\": \"scatter\", \"data\": [0.8463861208412136, 0.8505581252864364, 0.8416817706408736, 0.8611541025962282, 0.8583627237886073, 0.8507484431831186, 0.8470992837402835, 0.6091979722736467, 0.8572569793226215, 0.8353583163602869, 0.8419260349388292, 0.85256855306041, 0.8580522597771572, 0.8386886752217475, 0.8380006179785285, 0.8442223648440521, 0.8406330305963431, 0.5, 0.8751254651110424]}, {\"categories\": [\"0\", \"4\", \"8\", \"9\", \"17\", \"22\", \"23\", \"24\", \"26\", \"27\", \"28\", \"29\", \"30\", \"31\", \"32\", \"33\", \"34\", \"35\", \"38\"], \"mode\": \"lines\", \"name\": \"recall_score_macro_max\", \"stepped\": true, \"type\": \"scatter\", \"data\": [0.8463861208412136, 0.8505581252864364, 0.8505581252864364, 0.8611541025962282, 0.8611541025962282, 0.8611541025962282, 0.8611541025962282, 0.8611541025962282, 0.8611541025962282, 0.8611541025962282, 0.8611541025962282, 0.8611541025962282, 0.8611541025962282, 0.8611541025962282, 0.8611541025962282, 0.8611541025962282, 0.8611541025962282, 0.8611541025962282, 0.8751254651110424]}], \"average_precision_score_micro\": [{\"categories\": [\"0\", \"4\", \"8\", \"9\", \"17\", \"22\", \"23\", \"24\", \"26\", \"27\", \"28\", \"29\", \"30\", \"31\", \"32\", \"33\", \"34\", \"35\", \"38\"], \"mode\": \"markers\", \"name\": \"average_precision_score_micro\", \"stepped\": false, \"type\": \"scatter\", \"data\": [0.9265474973339352, 0.9362441109512905, 0.9165288283024132, 0.9235420327051029, 0.9286438698507004, 0.9217975794519881, 0.9240860673466986, 0.6618757439339269, 0.9196634347697608, 0.9116960717192676, 0.8964262473839609, 0.9270657887556004, 0.9223299713518168, 0.9234045493029841, 0.9064979809592753, 0.9093504028414365, 0.9200969757285092, 0.5357556150785955, 0.935951875257923]}, {\"categories\": [\"0\", \"4\", \"8\", \"9\", \"17\", \"22\", \"23\", \"24\", \"26\", \"27\", \"28\", \"29\", \"30\", \"31\", \"32\", \"33\", \"34\", \"35\", \"38\"], \"mode\": \"lines\", \"name\": \"average_precision_score_micro_max\", \"stepped\": true, \"type\": \"scatter\", \"data\": [0.9265474973339352, 0.9362441109512905, 0.9362441109512905, 0.9362441109512905, 0.9362441109512905, 0.9362441109512905, 0.9362441109512905, 0.9362441109512905, 0.9362441109512905, 0.9362441109512905, 0.9362441109512905, 0.9362441109512905, 0.9362441109512905, 0.9362441109512905, 0.9362441109512905, 0.9362441109512905, 0.9362441109512905, 0.9362441109512905, 0.9362441109512905]}], \"f1_score_micro\": [{\"categories\": [\"0\", \"4\", \"8\", \"9\", \"17\", \"22\", \"23\", \"24\", \"26\", \"27\", \"28\", \"29\", \"30\", \"31\", \"32\", \"33\", \"34\", \"35\", \"38\"], \"mode\": \"markers\", \"name\": \"f1_score_micro\", \"stepped\": false, \"type\": \"scatter\", \"data\": [0.8502406516105147, 0.8556090336912255, 0.8487041836356906, 0.86653091447612, 0.8651240281377266, 0.8555905220288782, 0.8501480932987782, 0.6213624583487597, 0.8610329507589782, 0.8406701221769716, 0.8515734912995188, 0.8596815994076268, 0.8623657904479822, 0.844687152906331, 0.847408367271381, 0.8542947056645687, 0.8460755275823768, 0.5532765642354683, 0.8801369863013699]}, {\"categories\": [\"0\", \"4\", \"8\", \"9\", \"17\", \"22\", \"23\", \"24\", \"26\", \"27\", \"28\", \"29\", \"30\", \"31\", \"32\", \"33\", \"34\", \"35\", \"38\"], \"mode\": \"lines\", \"name\": \"f1_score_micro_max\", \"stepped\": true, \"type\": \"scatter\", \"data\": [0.8502406516105147, 0.8556090336912255, 0.8556090336912255, 0.86653091447612, 0.86653091447612, 0.86653091447612, 0.86653091447612, 0.86653091447612, 0.86653091447612, 0.86653091447612, 0.86653091447612, 0.86653091447612, 0.86653091447612, 0.86653091447612, 0.86653091447612, 0.86653091447612, 0.86653091447612, 0.86653091447612, 0.8801369863013699]}], \"f1_score_weighted\": [{\"categories\": [\"0\", \"4\", \"8\", \"9\", \"17\", \"22\", \"23\", \"24\", \"26\", \"27\", \"28\", \"29\", \"30\", \"31\", \"32\", \"33\", \"34\", \"35\", \"38\"], \"mode\": \"markers\", \"name\": \"f1_score_weighted\", \"stepped\": false, \"type\": \"scatter\", \"data\": [0.8503899510386684, 0.8552432672252663, 0.8478597875342786, 0.8661058670377821, 0.8643525062924825, 0.8554274091358914, 0.8502052077580793, 0.6133579551223158, 0.8609076198392476, 0.8401229182945251, 0.849852594558944, 0.8587027320222325, 0.8619125279965167, 0.8440662875063945, 0.8455188806167788, 0.8526442509269792, 0.8457171234531426, 0.3976010271649542, 0.8797783115650099]}, {\"categories\": [\"0\", \"4\", \"8\", \"9\", \"17\", \"22\", \"23\", \"24\", \"26\", \"27\", \"28\", \"29\", \"30\", \"31\", \"32\", \"33\", \"34\", \"35\", \"38\"], \"mode\": \"lines\", \"name\": \"f1_score_weighted_max\", \"stepped\": true, \"type\": \"scatter\", \"data\": [0.8503899510386684, 0.8552432672252663, 0.8552432672252663, 0.8661058670377821, 0.8661058670377821, 0.8661058670377821, 0.8661058670377821, 0.8661058670377821, 0.8661058670377821, 0.8661058670377821, 0.8661058670377821, 0.8661058670377821, 0.8661058670377821, 0.8661058670377821, 0.8661058670377821, 0.8661058670377821, 0.8661058670377821, 0.8661058670377821, 0.8797783115650099]}]}, \"metricName\": null, \"primaryMetricName\": \"accuracy\", \"showLegend\": false}, \"run_metrics\": [{\"name\": \"experiment_status\", \"run_id\": \"AutoML_19c122c3-de6b-4b75-b782-9ad16a01c865\", \"categories\": [0, 1, 2, 3, 4, 5, 6, 7, 8, 9, 10, 11, 12, 13], \"series\": [{\"data\": [\"DatasetEvaluation\", \"FeaturesGeneration\", \"DatasetFeaturization\", \"DatasetFeaturizationCompleted\", \"DatasetCrossValidationSplit\", \"ModelSelection\", \"BestRunExplainModel\", \"ModelExplanationDataSetSetup\", \"PickSurrogateModel\", \"EngineeredFeatureExplanations\", \"EngineeredFeatureExplanations\", \"RawFeaturesExplanations\", \"RawFeaturesExplanations\", \"BestRunExplainModel\"]}]}, {\"name\": \"experiment_status_description\", \"run_id\": \"AutoML_19c122c3-de6b-4b75-b782-9ad16a01c865\", \"categories\": [0, 1, 2, 3, 4, 5, 6, 7, 8, 9, 10, 11, 12, 13], \"series\": [{\"data\": [\"Gathering dataset statistics.\", \"Generating features for the dataset.\", \"Beginning to fit featurizers and featurize the dataset.\", \"Completed fit featurizers and featurizing the dataset.\", \"Generating individually featurized CV splits.\", \"Beginning model selection.\", \"Best run model explanations started\", \"Model explanations data setup completed\", \"Choosing LightGBM as the surrogate model for explanations\", \"Computation of engineered features started\", \"Computation of engineered features completed\", \"Computation of raw features started\", \"Computation of raw features completed\", \"Best run model explanations completed\"]}]}, {\"name\": \"log_loss\", \"run_id\": \"AutoML_19c122c3-de6b-4b75-b782-9ad16a01c865\", \"categories\": [0], \"series\": [{\"data\": [0.34901775302231697]}]}, {\"name\": \"balanced_accuracy\", \"run_id\": \"AutoML_19c122c3-de6b-4b75-b782-9ad16a01c865\", \"categories\": [0], \"series\": [{\"data\": [0.8751254651110424]}]}, {\"name\": \"precision_score_micro\", \"run_id\": \"AutoML_19c122c3-de6b-4b75-b782-9ad16a01c865\", \"categories\": [0], \"series\": [{\"data\": [0.8801369863013699]}]}, {\"name\": \"recall_score_macro\", \"run_id\": \"AutoML_19c122c3-de6b-4b75-b782-9ad16a01c865\", \"categories\": [0], \"series\": [{\"data\": [0.8751254651110424]}]}, {\"name\": \"accuracy\", \"run_id\": \"AutoML_19c122c3-de6b-4b75-b782-9ad16a01c865\", \"categories\": [0], \"series\": [{\"data\": [0.8801369863013699]}]}, {\"name\": \"average_precision_score_macro\", \"run_id\": \"AutoML_19c122c3-de6b-4b75-b782-9ad16a01c865\", \"categories\": [0], \"series\": [{\"data\": [0.935450522023055]}]}, {\"name\": \"precision_score_weighted\", \"run_id\": \"AutoML_19c122c3-de6b-4b75-b782-9ad16a01c865\", \"categories\": [0], \"series\": [{\"data\": [0.8853085136889683]}]}, {\"name\": \"average_precision_score_micro\", \"run_id\": \"AutoML_19c122c3-de6b-4b75-b782-9ad16a01c865\", \"categories\": [0], \"series\": [{\"data\": [0.935951875257923]}]}, {\"name\": \"matthews_correlation\", \"run_id\": \"AutoML_19c122c3-de6b-4b75-b782-9ad16a01c865\", \"categories\": [0], \"series\": [{\"data\": [0.7559471949059732]}]}, {\"name\": \"average_precision_score_weighted\", \"run_id\": \"AutoML_19c122c3-de6b-4b75-b782-9ad16a01c865\", \"categories\": [0], \"series\": [{\"data\": [0.9395095792468655]}]}, {\"name\": \"recall_score_micro\", \"run_id\": \"AutoML_19c122c3-de6b-4b75-b782-9ad16a01c865\", \"categories\": [0], \"series\": [{\"data\": [0.8801369863013699]}]}, {\"name\": \"AUC_micro\", \"run_id\": \"AutoML_19c122c3-de6b-4b75-b782-9ad16a01c865\", \"categories\": [0], \"series\": [{\"data\": [0.9360537926564968]}]}, {\"name\": \"weighted_accuracy\", \"run_id\": \"AutoML_19c122c3-de6b-4b75-b782-9ad16a01c865\", \"categories\": [0], \"series\": [{\"data\": [0.8843981109261889]}]}, {\"name\": \"f1_score_micro\", \"run_id\": \"AutoML_19c122c3-de6b-4b75-b782-9ad16a01c865\", \"categories\": [0], \"series\": [{\"data\": [0.8801369863013699]}]}, {\"name\": \"precision_score_macro\", \"run_id\": \"AutoML_19c122c3-de6b-4b75-b782-9ad16a01c865\", \"categories\": [0], \"series\": [{\"data\": [0.8810079485950106]}]}, {\"name\": \"AUC_weighted\", \"run_id\": \"AutoML_19c122c3-de6b-4b75-b782-9ad16a01c865\", \"categories\": [0], \"series\": [{\"data\": [0.9345407529970396]}]}, {\"name\": \"f1_score_weighted\", \"run_id\": \"AutoML_19c122c3-de6b-4b75-b782-9ad16a01c865\", \"categories\": [0], \"series\": [{\"data\": [0.8797783115650099]}]}, {\"name\": \"recall_score_weighted\", \"run_id\": \"AutoML_19c122c3-de6b-4b75-b782-9ad16a01c865\", \"categories\": [0], \"series\": [{\"data\": [0.8801369863013699]}]}, {\"name\": \"norm_macro_recall\", \"run_id\": \"AutoML_19c122c3-de6b-4b75-b782-9ad16a01c865\", \"categories\": [0], \"series\": [{\"data\": [0.7502509302220849]}]}, {\"name\": \"f1_score_macro\", \"run_id\": \"AutoML_19c122c3-de6b-4b75-b782-9ad16a01c865\", \"categories\": [0], \"series\": [{\"data\": [0.87499858228131]}]}, {\"name\": \"AUC_macro\", \"run_id\": \"AutoML_19c122c3-de6b-4b75-b782-9ad16a01c865\", \"categories\": [0], \"series\": [{\"data\": [0.9345407529970396]}]}], \"run_logs\": \"\\nRun is completed.\", \"graph\": {}, \"widget_settings\": {\"childWidgetDisplay\": \"popup\", \"send_telemetry\": false, \"log_level\": \"INFO\", \"sdk_version\": \"1.57.0\"}, \"loading\": false}"
          },
          "metadata": {},
          "output_type": "display_data"
        },
        {
          "data": {
            "text/html": [
              "<table style=\"width:100%\"><tr><th>Experiment</th><th>Id</th><th>Type</th><th>Status</th><th>Details Page</th><th>Docs Page</th></tr><tr><td>automl-exp</td><td>AutoML_19c122c3-de6b-4b75-b782-9ad16a01c865</td><td>automl</td><td>NotStarted</td><td><a href=\"https://ml.azure.com/runs/AutoML_19c122c3-de6b-4b75-b782-9ad16a01c865?wsid=/subscriptions/9a7511b8-150f-4a58-8528-3e7d50216c31/resourcegroups/aml-quickstarts-268887/workspaces/quick-starts-ws-268887&amp;tid=660b3398-b80e-49d2-bc5b-ac1dc93b5254\" target=\"_blank\" rel=\"noopener\">Link to Azure Machine Learning studio</a></td><td><a href=\"https://docs.microsoft.com/en-us/python/api/overview/azure/ml/intro?view=azure-ml-py\" target=\"_blank\" rel=\"noopener\">Link to Documentation</a></td></tr></table>"
            ]
          },
          "metadata": {},
          "output_type": "display_data"
        },
        {
          "name": "stdout",
          "output_type": "stream",
          "text": [
            "\n",
            "Current status: FeaturesGeneration. Generating features for the dataset.\n",
            "Current status: DatasetFeaturization. Beginning to fit featurizers and featurize the dataset.\n",
            "Current status: DatasetCrossValidationSplit. Generating individually featurized CV splits.\n",
            "Current status: ModelSelection. Beginning model selection.\n",
            "\n",
            "********************************************************************************************\n",
            "DATA GUARDRAILS: \n",
            "\n",
            "TYPE:         Cross validation\n",
            "STATUS:       DONE\n",
            "DESCRIPTION:  In order to accurately evaluate the model(s) trained by AutoML, we leverage a dataset that the model is not trained on. Hence, if the user doesn't provide an explicit validation dataset, a part of the training dataset is used to achieve this. For smaller datasets (fewer than 20,000 samples), cross-validation is leveraged, else a single hold-out set is split from the training data to serve as the validation dataset. Hence, for your input data we leverage cross-validation with 10 folds, if the number of training samples are fewer than 1000, and 3 folds in all other cases.\n",
            "              Learn more about cross validation: https://aka.ms/AutomatedMLCrossValidation\n",
            "DETAILS:      \n",
            "+------------------------------+\n",
            "|Number of folds               |\n",
            "+==============================+\n",
            "|10                            |\n",
            "+------------------------------+\n",
            "\n",
            "********************************************************************************************\n",
            "\n",
            "TYPE:         Class balancing detection\n",
            "STATUS:       PASSED\n",
            "DESCRIPTION:  Your inputs were analyzed, and all classes are balanced in your training data.\n",
            "              Learn more about imbalanced data: https://aka.ms/AutomatedMLImbalancedData\n",
            "\n",
            "********************************************************************************************\n",
            "\n",
            "TYPE:         Missing feature values imputation\n",
            "STATUS:       PASSED\n",
            "DESCRIPTION:  No feature missing values were detected in the training data.\n",
            "              Learn more about missing value imputation: https://aka.ms/AutomatedMLFeaturization\n",
            "\n",
            "********************************************************************************************\n",
            "\n",
            "TYPE:         High cardinality feature detection\n",
            "STATUS:       PASSED\n",
            "DESCRIPTION:  Your inputs were analyzed, and no high cardinality features were detected.\n",
            "              Learn more about high cardinality feature handling: https://aka.ms/AutomatedMLFeaturization\n",
            "\n",
            "********************************************************************************************\n",
            "\n",
            "********************************************************************************************\n",
            "ITER: The iteration being evaluated.\n",
            "PIPELINE: A summary description of the pipeline being evaluated.\n",
            "DURATION: Time taken for the current iteration.\n",
            "METRIC: The result of computing score on the fitted pipeline.\n",
            "BEST: The best observed score thus far.\n",
            "********************************************************************************************\n",
            "\n",
            " ITER   PIPELINE                                       DURATION            METRIC      BEST\n",
            "    0   MaxAbsScaler LightGBM                          0:00:08             0.8502    0.8502\n",
            "    1   MaxAbsScaler XGBoostClassifier                 0:00:16             0.8638    0.8638\n",
            "    2   MaxAbsScaler ExtremeRandomTrees                0:00:10             0.8365    0.8638\n",
            "    3   SparseNormalizer XGBoostClassifier             0:00:08             0.8543    0.8638\n",
            "    8   StandardScalerWrapper ExtremeRandomTrees       0:00:08             0.8487    0.8638\n",
            "    9   StandardScalerWrapper XGBoostClassifier        0:00:08             0.8665    0.8665\n",
            "   10   SparseNormalizer LightGBM                      0:00:07             0.8556    0.8665\n",
            "   11   StandardScalerWrapper XGBoostClassifier        0:00:07             0.8680    0.8680\n",
            "    4   MaxAbsScaler LightGBM                          0:00:08             0.8556    0.8680\n",
            "    5   MaxAbsScaler LightGBM                          0:00:07             0.8556    0.8680\n",
            "    6   StandardScalerWrapper XGBoostClassifier        0:00:08             0.8393    0.8680\n",
            "    7   MaxAbsScaler LogisticRegression                0:00:07             0.8433    0.8680\n",
            "   16   StandardScalerWrapper LogisticRegression       0:00:08             0.8474    0.8680\n",
            "   17   StandardScalerWrapper RandomForest             0:00:08             0.8651    0.8680\n",
            "   18   StandardScalerWrapper XGBoostClassifier        0:00:08             0.8569    0.8680\n",
            "   12   MaxAbsScaler LogisticRegression                0:00:09             0.8501    0.8680\n",
            "   19   TruncatedSVDWrapper RandomForest               0:00:10             0.8420    0.8680\n",
            "   13   MaxAbsScaler SGD                               0:00:08             0.8461    0.8680\n",
            "   14   StandardScalerWrapper XGBoostClassifier        0:00:08             0.8623    0.8680\n",
            "   15   SparseNormalizer RandomForest                  0:00:12             0.8679    0.8680\n",
            "   22   SparseNormalizer XGBoostClassifier             0:00:28             0.8556    0.8680\n",
            "   23   StandardScalerWrapper LogisticRegression       0:00:32             0.8501    0.8680\n",
            "   24   TruncatedSVDWrapper XGBoostClassifier          0:00:32             0.6214    0.8680\n",
            "   25   StandardScalerWrapper RandomForest             0:00:27             0.8529    0.8680\n",
            "   26   SparseNormalizer LightGBM                      0:00:27             0.8610    0.8680\n",
            "   27   MaxAbsScaler SGD                               0:00:29             0.8407    0.8680\n",
            "   28   StandardScalerWrapper LightGBM                 0:00:26             0.8516    0.8680\n",
            "   29   SparseNormalizer ExtremeRandomTrees            0:00:35             0.8597    0.8680\n",
            "   30   StandardScalerWrapper XGBoostClassifier        0:00:30             0.8624    0.8680\n",
            "   31   MaxAbsScaler LightGBM                          0:00:25             0.8447    0.8680\n",
            "   32   MaxAbsScaler RandomForest                      0:00:27             0.8474    0.8680\n",
            "   33   SparseNormalizer LightGBM                      0:00:29             0.8543    0.8680\n",
            "   34   TruncatedSVDWrapper LightGBM                   0:00:26             0.8461    0.8680\n",
            "   20                                                  0:04:31                nan    0.8680\n",
            "ERROR: {\n",
            "    \"additional_properties\": {\n",
            "        \"statusCode\": 400\n",
            "    },\n",
            "    \"error\": {\n",
            "        \"additional_properties\": {\n",
            "            \"debugInfo\": null\n",
            "        },\n",
            "        \"code\": \"UserError\",\n",
            "        \"severity\": null,\n",
            "        \"message\": \"Run AutoML_19c122c3-de6b-4b75-b782-9ad16a01c865_20 already completed\",\n",
            "        \"message_format\": null,\n",
            "        \"message_parameters\": null,\n",
            "        \"reference_code\": null,\n",
            "        \"details_uri\": null,\n",
            "        \"target\": null,\n",
            "        \"details\": [],\n",
            "        \"inner_error\": null,\n",
            "        \"additional_info\": null\n",
            "    },\n",
            "    \"correlation\": {\n",
            "        \"operation\": \"81b4f255e2319a628f6e7dde95386e4e\",\n",
            "        \"request\": \"bcc5d168b57ea3ad\"\n",
            "    },\n",
            "    \"environment\": \"southcentralus\",\n",
            "    \"location\": \"southcentralus\",\n",
            "    \"time\": {},\n",
            "    \"component_name\": \"CJPBatch\"\n",
            "}\n",
            "   21                                                  0:04:31                nan    0.8680\n",
            "ERROR: {\n",
            "    \"additional_properties\": {\n",
            "        \"statusCode\": 400\n",
            "    },\n",
            "    \"error\": {\n",
            "        \"additional_properties\": {\n",
            "            \"debugInfo\": null\n",
            "        },\n",
            "        \"code\": \"UserError\",\n",
            "        \"severity\": null,\n",
            "        \"message\": \"Run AutoML_19c122c3-de6b-4b75-b782-9ad16a01c865_21 already completed\",\n",
            "        \"message_format\": null,\n",
            "        \"message_parameters\": null,\n",
            "        \"reference_code\": null,\n",
            "        \"details_uri\": null,\n",
            "        \"target\": null,\n",
            "        \"details\": [],\n",
            "        \"inner_error\": null,\n",
            "        \"additional_info\": null\n",
            "    },\n",
            "    \"correlation\": {\n",
            "        \"operation\": \"198e727c634d2fa070e62741a5428ed1\",\n",
            "        \"request\": \"cb28c2e12b3efa6c\"\n",
            "    },\n",
            "    \"environment\": \"southcentralus\",\n",
            "    \"location\": \"southcentralus\",\n",
            "    \"time\": {},\n",
            "    \"component_name\": \"CJPBatch\"\n",
            "}\n",
            "   35   StandardScalerWrapper XGBoostClassifier        0:00:29             0.5533    0.8680\n",
            "   36                                                  0:00:08                nan    0.8680\n",
            "   37                                                  0:00:04                nan    0.8680\n",
            "   39    StackEnsemble                                 0:10:28             0.8747    0.8747\n",
            "   38    VotingEnsemble                                0:11:15             0.8801    0.8801\n"
          ]
        },
        {
          "data": {
            "text/plain": [
              "{'runId': 'AutoML_19c122c3-de6b-4b75-b782-9ad16a01c865',\n",
              " 'target': 'compute-cluster-1',\n",
              " 'status': 'Completed',\n",
              " 'startTimeUtc': '2024-10-20T07:41:34.813409Z',\n",
              " 'endTimeUtc': '2024-10-20T08:15:36.885016Z',\n",
              " 'services': {},\n",
              " 'warnings': [{'source': 'JasmineService',\n",
              "   'message': 'No scores improved over last 10 iterations, so experiment stopped early. This early stopping behavior can be disabled by setting enable_early_stopping = False in AutoMLConfig for notebook/python SDK runs.'}],\n",
              " 'properties': {'num_iterations': '1000',\n",
              "  'training_type': 'TrainFull',\n",
              "  'acquisition_function': 'EI',\n",
              "  'primary_metric': 'accuracy',\n",
              "  'train_split': '0',\n",
              "  'acquisition_parameter': '0',\n",
              "  'num_cross_validation': None,\n",
              "  'target': 'compute-cluster-1',\n",
              "  'AMLSettingsJsonString': '{\"path\":null,\"name\":\"automl-exp\",\"subscription_id\":\"9a7511b8-150f-4a58-8528-3e7d50216c31\",\"resource_group\":\"aml-quickstarts-268887\",\"workspace_name\":\"quick-starts-ws-268887\",\"region\":\"southcentralus\",\"compute_target\":\"compute-cluster-1\",\"spark_service\":null,\"azure_service\":\"remote\",\"many_models\":false,\"pipeline_fetch_max_batch_size\":1,\"enable_batch_run\":true,\"enable_parallel_run\":false,\"num_procs\":null,\"enable_run_restructure\":false,\"start_auxiliary_runs_before_parent_complete\":true,\"enable_code_generation\":true,\"force_curated_environment\":false,\"iterations\":1000,\"primary_metric\":\"accuracy\",\"task_type\":\"classification\",\"positive_label\":null,\"data_script\":null,\"test_size\":0.2,\"test_include_predictions_only\":false,\"validation_size\":0.0,\"n_cross_validations\":null,\"y_min\":null,\"y_max\":null,\"num_classes\":null,\"featurization\":\"auto\",\"_ignore_package_version_incompatibilities\":false,\"is_timeseries\":false,\"max_cores_per_iteration\":1,\"max_concurrent_iterations\":5,\"iteration_timeout_minutes\":null,\"mem_in_mb\":null,\"enforce_time_on_windows\":false,\"experiment_timeout_minutes\":30,\"experiment_exit_score\":null,\"partition_column_names\":null,\"whitelist_models\":null,\"blacklist_algos\":[\"TensorFlowLinearClassifier\",\"TensorFlowDNN\"],\"supported_models\":[\"TensorFlowLinearClassifier\",\"XGBoostClassifier\",\"AveragedPerceptronClassifier\",\"MultinomialNaiveBayes\",\"RandomForest\",\"LogisticRegression\",\"DecisionTree\",\"LightGBM\",\"ExtremeRandomTrees\",\"TabnetClassifier\",\"SVM\",\"SGD\",\"LinearSVM\",\"KNN\",\"TensorFlowDNN\",\"GradientBoosting\",\"BernoulliNaiveBayes\"],\"private_models\":[],\"auto_blacklist\":true,\"blacklist_samples_reached\":false,\"exclude_nan_labels\":true,\"verbosity\":20,\"_debug_log\":\"azureml_automl.log\",\"show_warnings\":false,\"model_explainability\":true,\"service_url\":null,\"sdk_url\":null,\"sdk_packages\":null,\"enable_onnx_compatible_models\":false,\"enable_split_onnx_featurizer_estimator_models\":false,\"vm_type\":\"STANDARD_D3_v2\",\"telemetry_verbosity\":20,\"send_telemetry\":true,\"enable_dnn\":false,\"scenario\":\"AutoML\",\"environment_label\":null,\"save_mlflow\":false,\"enable_categorical_indicators\":false,\"force_text_dnn\":false,\"enable_feature_sweeping\":true,\"enable_early_stopping\":true,\"early_stopping_n_iters\":10,\"arguments\":null,\"dataset_id\":\"dd9d161f-be7f-4b70-8db3-2d779b1dbd7d\",\"hyperdrive_config\":null,\"validation_dataset_id\":null,\"run_source\":null,\"metrics\":null,\"enable_metric_confidence\":false,\"enable_ensembling\":true,\"enable_stack_ensembling\":true,\"ensemble_iterations\":15,\"enable_tf\":false,\"enable_subsampling\":null,\"subsample_seed\":null,\"enable_nimbusml\":false,\"enable_streaming\":false,\"force_streaming\":false,\"track_child_runs\":true,\"n_best_runs\":1,\"allowed_private_models\":[],\"label_column_name\":\"HeartDisease\",\"weight_column_name\":null,\"cv_split_column_names\":null,\"enable_local_managed\":false,\"_local_managed_run_id\":null,\"cost_mode\":1,\"lag_length\":0,\"metric_operation\":\"maximize\",\"preprocess\":true}',\n",
              "  'DataPrepJsonString': '{\\\\\"training_data\\\\\": {\\\\\"datasetId\\\\\": \\\\\"dd9d161f-be7f-4b70-8db3-2d779b1dbd7d\\\\\"}, \\\\\"datasets\\\\\": 0}',\n",
              "  'EnableSubsampling': None,\n",
              "  'runTemplate': 'AutoML',\n",
              "  'azureml.runsource': 'automl',\n",
              "  'display_task_type': 'classification',\n",
              "  'dependencies_versions': '{\"azureml-automl-runtime\": \"1.58.0\", \"azureml-inference-server-http\": \"1.2.2\", \"azureml-contrib-server\": \"1.57.0\", \"azureml-sdk\": \"1.58.0\", \"azureml-train-automl-runtime\": \"1.58.0\", \"azureml-train-automl-client\": \"1.58.0\", \"azureml-training-tabular\": \"1.58.0\", \"azureml-opendatasets\": \"1.57.0\", \"azureml-cli-common\": \"1.57.0\", \"azureml-automl-dnn-nlp\": \"1.57.0\", \"azureml-automl-core\": \"1.58.0\", \"azureml-dataprep-native\": \"41.0.0\", \"azureml-contrib-automl-pipeline-steps\": \"1.57.0\", \"azureml-widgets\": \"1.58.0\", \"azureml-dataprep-rslex\": \"2.22.2\", \"azureml-core\": \"1.58.0\", \"azureml-pipeline\": \"1.58.0\", \"azureml-train\": \"1.57.0\", \"azureml-train-restclients-hyperdrive\": \"1.58.0\", \"azureml-datadrift\": \"1.57.0\", \"azureml-mlflow\": \"1.58.0\", \"azureml-tensorboard\": \"1.57.0\", \"azureml-contrib-reinforcementlearning\": \"1.57.0\", \"azureml-contrib-pipeline-steps\": \"1.57.0\", \"azureml-responsibleai\": \"1.58.0\", \"azureml-pipeline-steps\": \"1.58.0\", \"azureml-contrib-dataset\": \"1.57.0\", \"azureml-dataprep\": \"5.1.6\", \"azureml-interpret\": \"1.58.0\", \"azureml-dataset-runtime\": \"1.58.0\", \"azureml-contrib-notebook\": \"1.58.0\", \"azureml-fsspec\": \"1.3.1\", \"azureml-contrib-services\": \"1.57.0\", \"azureml-train-core\": \"1.58.0\", \"azureml-accel-models\": \"1.57.0\", \"azureml-telemetry\": \"1.58.0\", \"azureml-train-automl\": \"1.58.0\", \"azureml-defaults\": \"1.57.0\", \"azureml-contrib-fairness\": \"1.57.0\", \"azureml-pipeline-core\": \"1.58.0\"}',\n",
              "  '_aml_system_scenario_identification': 'Remote.Parent',\n",
              "  'ClientType': 'SDK',\n",
              "  'PlatformVersion': 'DPV1',\n",
              "  'environment_cpu_name': 'AzureML-ai-ml-automl',\n",
              "  'environment_cpu_label': '5',\n",
              "  'environment_gpu_name': 'AzureML-ai-ml-automl-gpu',\n",
              "  'environment_gpu_label': '5',\n",
              "  'root_attribution': 'automl',\n",
              "  'attribution': 'AutoML',\n",
              "  'Orchestrator': 'AutoML',\n",
              "  'CancelUri': 'https://southcentralus.api.azureml.ms/jasmine/v1.0/subscriptions/9a7511b8-150f-4a58-8528-3e7d50216c31/resourceGroups/aml-quickstarts-268887/providers/Microsoft.MachineLearningServices/workspaces/quick-starts-ws-268887/experimentids/2388af03-886e-4498-b21f-c056eead75de/cancel/AutoML_19c122c3-de6b-4b75-b782-9ad16a01c865',\n",
              "  'ClientSdkVersion': None,\n",
              "  'snapshotId': '00000000-0000-0000-0000-000000000000',\n",
              "  'SetupRunId': 'AutoML_19c122c3-de6b-4b75-b782-9ad16a01c865_setup',\n",
              "  'SetupRunContainerId': 'dcid.AutoML_19c122c3-de6b-4b75-b782-9ad16a01c865_setup',\n",
              "  'FeaturizationRunJsonPath': 'featurizer_container.json',\n",
              "  'FeaturizationRunId': 'AutoML_19c122c3-de6b-4b75-b782-9ad16a01c865_featurize',\n",
              "  'ProblemInfoJsonString': '{\"dataset_num_categorical\": 0, \"is_sparse\": true, \"subsampling\": false, \"has_extra_col\": true, \"dataset_classes\": 2, \"dataset_features\": 18, \"dataset_samples\": 734, \"single_frequency_class_detected\": false}',\n",
              "  'ModelExplainRunId': 'AutoML_19c122c3-de6b-4b75-b782-9ad16a01c865_ModelExplain'},\n",
              " 'inputDatasets': [{'dataset': {'id': 'dd9d161f-be7f-4b70-8db3-2d779b1dbd7d'}, 'consumptionDetails': {'type': 'RunInput', 'inputName': 'training_data', 'mechanism': 'Direct'}}],\n",
              " 'outputDatasets': [],\n",
              " 'logFiles': {},\n",
              " 'submittedBy': 'ODL_User 268887'}"
            ]
          },
          "execution_count": 9,
          "metadata": {},
          "output_type": "execute_result"
        }
      ],
      "source": [
        "from azureml.widgets import RunDetails\n",
        "RunDetails(automl_run).show()\n",
        "automl_run.wait_for_completion(show_output=True)"
      ]
    },
    {
      "cell_type": "code",
      "execution_count": null,
      "metadata": {},
      "outputs": [],
      "source": [
        "automl_run.summary()"
      ]
    },
    {
      "cell_type": "markdown",
      "metadata": {},
      "source": [
        "## Best Model\n",
        "\n",
        "TODO: In the cell below, get the best model from the automl experiments and display all the properties of the model.\n",
        "\n"
      ]
    },
    {
      "cell_type": "code",
      "execution_count": 10,
      "metadata": {
        "gather": {
          "logged": 1729412178779
        },
        "jupyter": {
          "outputs_hidden": false,
          "source_hidden": false
        },
        "nteract": {
          "transient": {
            "deleting": false
          }
        }
      },
      "outputs": [
        {
          "name": "stdout",
          "output_type": "stream",
          "text": [
            "Run(Experiment: automl-exp,\n",
            "Id: AutoML_19c122c3-de6b-4b75-b782-9ad16a01c865_38,\n",
            "Type: azureml.scriptrun,\n",
            "Status: Completed)\n"
          ]
        }
      ],
      "source": [
        "best_run, fitted_model = automl_run.get_output()\n",
        "print(best_run)"
      ]
    },
    {
      "cell_type": "code",
      "execution_count": 11,
      "metadata": {
        "gather": {
          "logged": 1729412178947
        },
        "jupyter": {
          "outputs_hidden": false,
          "source_hidden": false
        },
        "nteract": {
          "transient": {
            "deleting": false
          }
        }
      },
      "outputs": [
        {
          "name": "stdout",
          "output_type": "stream",
          "text": [
            "Pipeline(steps=[('datatransformer',\n",
            "                 DataTransformer(enable_dnn=False, enable_feature_sweeping=True, is_cross_validation=True, working_dir='/mnt/batch/tasks/shared/LS_root/mounts/clusters/notebook268887/code/Users/odl_user_268887')),\n",
            "                ('prefittedsoftvotingclassifier',\n",
            "                 PreFittedSoftVotingClassifier(classification_labels=array([0, 1]), estimators=[('11', Pipeli...ning_param_dict={'processing_unit_type': 'cpu'}), reg_alpha=0.3157894736842105, reg_lambda=0.6842105263157894, subsample=0.5447368421052632))]))], flatten_transform=False, weights=[0.1111111111111111, 0.1111111111111111, 0.1111111111111111, 0.1111111111111111, 0.1111111111111111, 0.1111111111111111, 0.1111111111111111, 0.1111111111111111, 0.1111111111111111]))])\n",
            "Y_transformer(['LabelEncoder', LabelEncoder()])\n"
          ]
        }
      ],
      "source": [
        "print(fitted_model)"
      ]
    },
    {
      "cell_type": "code",
      "execution_count": 12,
      "metadata": {
        "gather": {
          "logged": 1729412180785
        },
        "jupyter": {
          "outputs_hidden": false,
          "source_hidden": false
        },
        "nteract": {
          "transient": {
            "deleting": false
          }
        }
      },
      "outputs": [
        {
          "data": {
            "text/plain": [
              "{'recall_score_micro': 0.8801369863013699,\n",
              " 'AUC_macro': 0.9345407529970396,\n",
              " 'recall_score_weighted': 0.8801369863013699,\n",
              " 'f1_score_macro': 0.87499858228131,\n",
              " 'average_precision_score_micro': 0.935951875257923,\n",
              " 'norm_macro_recall': 0.7502509302220849,\n",
              " 'average_precision_score_weighted': 0.9395095792468655,\n",
              " 'f1_score_micro': 0.8801369863013699,\n",
              " 'matthews_correlation': 0.7559471949059732,\n",
              " 'f1_score_weighted': 0.8797783115650099,\n",
              " 'precision_score_weighted': 0.8853085136889683,\n",
              " 'weighted_accuracy': 0.8843981109261889,\n",
              " 'AUC_micro': 0.9360537926564968,\n",
              " 'average_precision_score_macro': 0.935450522023055,\n",
              " 'AUC_weighted': 0.9345407529970396,\n",
              " 'precision_score_micro': 0.8801369863013699,\n",
              " 'log_loss': 0.34901775302231697,\n",
              " 'recall_score_macro': 0.8751254651110424,\n",
              " 'balanced_accuracy': 0.8751254651110424,\n",
              " 'accuracy': 0.8801369863013699,\n",
              " 'precision_score_macro': 0.8810079485950106,\n",
              " 'confusion_matrix': 'aml://artifactId/ExperimentRun/dcid.AutoML_19c122c3-de6b-4b75-b782-9ad16a01c865_38/confusion_matrix',\n",
              " 'accuracy_table': 'aml://artifactId/ExperimentRun/dcid.AutoML_19c122c3-de6b-4b75-b782-9ad16a01c865_38/accuracy_table'}"
            ]
          },
          "execution_count": 12,
          "metadata": {},
          "output_type": "execute_result"
        }
      ],
      "source": [
        "best_run.get_metrics()"
      ]
    },
    {
      "cell_type": "code",
      "execution_count": null,
      "metadata": {},
      "outputs": [],
      "source": [
        "best_run.get_file_names()"
      ]
    },
    {
      "cell_type": "markdown",
      "metadata": {},
      "source": [
        "## Model Deployment\n",
        "\n",
        "Remember you have to deploy only one of the two models you trained but you still need to register both the models. Perform the steps in the rest of this notebook only if you wish to deploy this model.\n",
        "\n",
        "TODO: In the cell below, register the model, create an inference config and deploy the model as a web service."
      ]
    },
    {
      "cell_type": "code",
      "execution_count": null,
      "metadata": {
        "gather": {
          "logged": 1729412362314
        },
        "jupyter": {
          "outputs_hidden": false,
          "source_hidden": false
        },
        "nteract": {
          "transient": {
            "deleting": false
          }
        }
      },
      "outputs": [
        {
          "data": {
            "text/plain": [
              "Model(workspace=Workspace.create(name='quick-starts-ws-268887', subscription_id='9a7511b8-150f-4a58-8528-3e7d50216c31', resource_group='aml-quickstarts-268887'), name=best_model.pkl, id=best_model.pkl:1, version=1, tags={}, properties={'accuracy': '0.8801369863013699'})"
            ]
          },
          "execution_count": 13,
          "metadata": {},
          "output_type": "execute_result"
        }
      ],
      "source": [
        "#TODO: Save the best model\n",
        "best_run.register_model(model_path=\"outputs/model.pkl\", model_name='best_automl', properties={'accuracy':best_run.get_metrics()[\"accuracy\"]})"
      ]
    },
    {
      "cell_type": "code",
      "execution_count": null,
      "metadata": {
        "gather": {
          "logged": 1729242220925
        },
        "jupyter": {
          "outputs_hidden": false,
          "source_hidden": false
        },
        "nteract": {
          "transient": {
            "deleting": false
          }
        }
      },
      "outputs": [],
      "source": [
        "registered_model = ws.models.get(name=\"best_automl\", version=\"1\")"
      ]
    },
    {
      "cell_type": "code",
      "execution_count": null,
      "metadata": {},
      "outputs": [],
      "source": [
        "best_run.download_file('outputs/scoring_file_v_1_0_0.py', 'scoring.py')"
      ]
    },
    {
      "cell_type": "code",
      "execution_count": null,
      "metadata": {},
      "outputs": [],
      "source": [
        "from azureml.core import Model\n",
        "from azureml.core.model import InferenceConfig\n",
        "from azureml.core.webservice import AciWebservice\n",
        "\n",
        "environment = best_run.get_environment()\n",
        "inference_config = InferenceConfig(entry_script = 'scoring.py', environment = environment)\n",
        "\n",
        "deployment_config = AciWebservice.deploy_configuration(cpu_cores = 1, \n",
        "                                                    memory_gb = 1, \n",
        "                                                    auth_enabled= True, \n",
        "                                                    enable_app_insights= True)\n",
        "\n",
        "service = Model.deploy(ws, \"capstone-best-model\", \n",
        "                       [registered_model], \n",
        "                       inference_config, \n",
        "                       deployment_config)\n",
        "service.wait_for_deployment(show_output = True)"
      ]
    },
    {
      "cell_type": "code",
      "execution_count": null,
      "metadata": {},
      "outputs": [],
      "source": [
        "print(service.state)\n",
        "print(service.swagger_uri)\n",
        "print(service.scoring_uri)\n"
      ]
    },
    {
      "cell_type": "markdown",
      "metadata": {
        "collapsed": true,
        "gather": {
          "logged": 1598431657736
        },
        "jupyter": {
          "outputs_hidden": false,
          "source_hidden": false
        },
        "nteract": {
          "transient": {
            "deleting": false
          }
        }
      },
      "source": [
        "TODO: In the cell below, send a request to the web service you deployed to test it."
      ]
    },
    {
      "cell_type": "code",
      "execution_count": null,
      "metadata": {
        "gather": {
          "logged": 1598432707604
        },
        "jupyter": {
          "outputs_hidden": false,
          "source_hidden": false
        },
        "nteract": {
          "transient": {
            "deleting": false
          }
        }
      },
      "outputs": [],
      "source": [
        "import json\n",
        "# sample two data points from original df to test send request \n",
        "test_df = df.sample(2)\n",
        "label_df = test_df.pop('HeartDisease')\n",
        "\n",
        "request = json.dumps({'Inputs':{'data': test_df.to_dict(orient='records')}})\n"
      ]
    },
    {
      "cell_type": "code",
      "execution_count": null,
      "metadata": {},
      "outputs": [],
      "source": [
        "import pprint\n",
        "pprint(request)"
      ]
    },
    {
      "cell_type": "code",
      "execution_count": null,
      "metadata": {},
      "outputs": [],
      "source": [
        "import requests \n",
        "\n",
        "key = ''\n",
        "headers = {'Content-type': 'application/json'}\n",
        "headers['Authorization'] = f'Bearer {key}'\n",
        "response = requests.post(service.scoring_uri, request, headers=headers)"
      ]
    },
    {
      "cell_type": "code",
      "execution_count": null,
      "metadata": {},
      "outputs": [],
      "source": [
        "print('Expected:', list(label_df))\n",
        "print('Response:' response.text)"
      ]
    },
    {
      "cell_type": "markdown",
      "metadata": {
        "collapsed": true,
        "gather": {
          "logged": 1598432765711
        },
        "jupyter": {
          "outputs_hidden": false,
          "source_hidden": false
        },
        "nteract": {
          "transient": {
            "deleting": false
          }
        }
      },
      "source": [
        "TODO: In the cell below, print the logs of the web service and delete the service"
      ]
    },
    {
      "cell_type": "code",
      "execution_count": null,
      "metadata": {
        "jupyter": {
          "outputs_hidden": false,
          "source_hidden": false
        },
        "nteract": {
          "transient": {
            "deleting": false
          }
        }
      },
      "outputs": [],
      "source": [
        "service.delete()"
      ]
    },
    {
      "cell_type": "markdown",
      "metadata": {},
      "source": [
        "**Submission Checklist**\n",
        "- I have registered the model.\n",
        "- I have deployed the model with the best accuracy as a webservice.\n",
        "- I have tested the webservice by sending a request to the model endpoint.\n",
        "- I have deleted the webservice and shutdown all the computes that I have used.\n",
        "- I have taken a screenshot showing the model endpoint as active.\n",
        "- The project includes a file containing the environment details.\n"
      ]
    },
    {
      "cell_type": "markdown",
      "metadata": {},
      "source": []
    }
  ],
  "metadata": {
    "kernel_info": {
      "name": "python38-azureml"
    },
    "kernelspec": {
      "display_name": "Python 3.8 - AzureML",
      "language": "python",
      "name": "python38-azureml"
    },
    "language_info": {
      "codemirror_mode": {
        "name": "ipython",
        "version": 3
      },
      "file_extension": ".py",
      "mimetype": "text/x-python",
      "name": "python",
      "nbconvert_exporter": "python",
      "pygments_lexer": "ipython3",
      "version": "3.10.11"
    },
    "microsoft": {
      "host": {
        "AzureML": {
          "notebookHasBeenCompleted": true
        }
      },
      "ms_spell_check": {
        "ms_spell_check_language": "en"
      }
    },
    "nteract": {
      "version": "nteract-front-end@1.0.0"
    }
  },
  "nbformat": 4,
  "nbformat_minor": 2
}
