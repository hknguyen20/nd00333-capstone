{
  "cells": [
    {
      "cell_type": "markdown",
      "source": [
        "# Automated ML\n",
        "\n",
        "TODO: Import Dependencies. In the cell below, import all the dependencies that you will need to complete the project."
      ],
      "metadata": {}
    },
    {
      "cell_type": "code",
      "source": [
        "%pip install azureml-train-automl-runtime==1.57.0 -q\n",
        "%pip install --upgrade azureml-sdk[notebooks,automl] -q\n",
        "%pip install azureml-widgets -q"
      ],
      "outputs": [
        {
          "output_type": "stream",
          "name": "stdout",
          "text": "\u001b[31mERROR: pip's dependency resolver does not currently take into account all the packages that are installed. This behaviour is the source of the following dependency conflicts.\ndask-sql 2024.5.0 requires dask[dataframe]>=2024.4.1, but you have dask 2023.2.0 which is incompatible.\ndask-sql 2024.5.0 requires distributed>=2024.4.1, but you have distributed 2023.2.0 which is incompatible.\ndask-sql 2024.5.0 requires pandas>=1.4.0, but you have pandas 1.3.5 which is incompatible.\ndask-expr 1.1.14 requires dask==2024.9.0, but you have dask 2023.2.0 which is incompatible.\ndask-expr 1.1.14 requires pandas>=2, but you have pandas 1.3.5 which is incompatible.\nazureml-automl-dnn-nlp 1.57.0 requires torch==1.13.1, but you have torch 2.4.1 which is incompatible.\u001b[0m\u001b[31m\n\u001b[0mNote: you may need to restart the kernel to use updated packages.\n\u001b[31mERROR: pip's dependency resolver does not currently take into account all the packages that are installed. This behaviour is the source of the following dependency conflicts.\npandas-ml 0.6.1 requires enum34, which is not installed.\nscikit-image 0.24.0 requires networkx>=2.8, but you have networkx 2.5 which is incompatible.\ndask-sql 2024.5.0 requires dask[dataframe]>=2024.4.1, but you have dask 2023.2.0 which is incompatible.\ndask-sql 2024.5.0 requires distributed>=2024.4.1, but you have distributed 2023.2.0 which is incompatible.\ndask-expr 1.1.14 requires dask==2024.9.0, but you have dask 2023.2.0 which is incompatible.\ndask-expr 1.1.14 requires pandas>=2, but you have pandas 1.5.3 which is incompatible.\nazureml-train 1.57.0 requires azureml-train-core~=1.57.0, but you have azureml-train-core 1.58.0 which is incompatible.\nazureml-tensorboard 1.57.0 requires azureml-core~=1.57.0, but you have azureml-core 1.58.0 which is incompatible.\nazureml-opendatasets 1.57.0 requires azureml-core~=1.57.0, but you have azureml-core 1.58.0 which is incompatible.\nazureml-opendatasets 1.57.0 requires azureml-dataset-runtime[fuse,pandas]~=1.57.0, but you have azureml-dataset-runtime 1.58.0 which is incompatible.\nazureml-opendatasets 1.57.0 requires azureml-telemetry~=1.57.0, but you have azureml-telemetry 1.58.0 which is incompatible.\nazureml-defaults 1.57.0 requires azureml-core~=1.57.0, but you have azureml-core 1.58.0 which is incompatible.\nazureml-defaults 1.57.0 requires azureml-dataset-runtime[fuse]~=1.57.0, but you have azureml-dataset-runtime 1.58.0 which is incompatible.\nazureml-datadrift 1.57.0 requires azureml-core~=1.57.0, but you have azureml-core 1.58.0 which is incompatible.\nazureml-datadrift 1.57.0 requires azureml-dataset-runtime[fuse,pandas]~=1.57.0, but you have azureml-dataset-runtime 1.58.0 which is incompatible.\nazureml-datadrift 1.57.0 requires azureml-pipeline-core~=1.57.0, but you have azureml-pipeline-core 1.58.0 which is incompatible.\nazureml-datadrift 1.57.0 requires azureml-telemetry~=1.57.0, but you have azureml-telemetry 1.58.0 which is incompatible.\nazureml-contrib-server 1.57.0 requires azureml-core~=1.57.0, but you have azureml-core 1.58.0 which is incompatible.\nazureml-contrib-reinforcementlearning 1.57.0 requires azureml-core~=1.57.0, but you have azureml-core 1.58.0 which is incompatible.\nazureml-contrib-reinforcementlearning 1.57.0 requires azureml-train-core~=1.57.0, but you have azureml-train-core 1.58.0 which is incompatible.\nazureml-contrib-pipeline-steps 1.57.0 requires azureml-core~=1.57.0, but you have azureml-core 1.58.0 which is incompatible.\nazureml-contrib-pipeline-steps 1.57.0 requires azureml-dataset-runtime~=1.57.0, but you have azureml-dataset-runtime 1.58.0 which is incompatible.\nazureml-contrib-pipeline-steps 1.57.0 requires azureml-pipeline-core~=1.57.0, but you have azureml-pipeline-core 1.58.0 which is incompatible.\nazureml-contrib-fairness 1.57.0 requires azureml-core~=1.57.0, but you have azureml-core 1.58.0 which is incompatible.\nazureml-contrib-dataset 1.57.0 requires azureml-core~=1.57.0, but you have azureml-core 1.58.0 which is incompatible.\nazureml-contrib-dataset 1.57.0 requires azureml-dataset-runtime[fuse,pandas]~=1.57.0, but you have azureml-dataset-runtime 1.58.0 which is incompatible.\nazureml-contrib-automl-pipeline-steps 1.57.0 requires azureml-pipeline-steps~=1.57.0, but you have azureml-pipeline-steps 1.58.0 which is incompatible.\nazureml-cli-common 1.57.0 requires azureml-core~=1.57.0, but you have azureml-core 1.58.0 which is incompatible.\nazureml-cli-common 1.57.0 requires azureml-pipeline-core~=1.57.0, but you have azureml-pipeline-core 1.58.0 which is incompatible.\nazureml-cli-common 1.57.0 requires azureml-train-core~=1.57.0; python_version >= \"3.5\", but you have azureml-train-core 1.58.0 which is incompatible.\nazureml-automl-dnn-nlp 1.57.0 requires azureml-automl-core~=1.57.0, but you have azureml-automl-core 1.58.0 which is incompatible.\nazureml-automl-dnn-nlp 1.57.0 requires azureml-automl-runtime~=1.57.0, but you have azureml-automl-runtime 1.58.0 which is incompatible.\nazureml-automl-dnn-nlp 1.57.0 requires azureml-core~=1.57.0, but you have azureml-core 1.58.0 which is incompatible.\nazureml-automl-dnn-nlp 1.57.0 requires azureml-telemetry~=1.57.0, but you have azureml-telemetry 1.58.0 which is incompatible.\nazureml-automl-dnn-nlp 1.57.0 requires azureml-train-automl~=1.57.0, but you have azureml-train-automl 1.58.0 which is incompatible.\nazureml-automl-dnn-nlp 1.57.0 requires torch==1.13.1, but you have torch 2.4.1 which is incompatible.\nazureml-accel-models 1.57.0 requires azureml-core~=1.57.0, but you have azureml-core 1.58.0 which is incompatible.\u001b[0m\u001b[31m\n\u001b[0mNote: you may need to restart the kernel to use updated packages.\nNote: you may need to restart the kernel to use updated packages.\n"
        }
      ],
      "execution_count": 1,
      "metadata": {}
    },
    {
      "cell_type": "code",
      "source": [
        "\n",
        "\n",
        "import logging\n",
        "import os\n",
        "import csv\n",
        "\n",
        "from matplotlib import pyplot as plt\n",
        "import numpy as np\n",
        "import pandas as pd\n",
        "from sklearn import datasets\n",
        "import pkg_resources\n",
        "\n",
        "import azureml.core\n",
        "from azureml.core.experiment import Experiment\n",
        "from azureml.core.workspace import Workspace\n",
        "from azureml.train.automl import AutoMLConfig\n",
        "from azureml.core.dataset import Dataset\n",
        "\n",
        "# Check core SDK version number\n",
        "print(\"SDK version:\", azureml.core.VERSION)"
      ],
      "outputs": [
        {
          "output_type": "stream",
          "name": "stdout",
          "text": "SDK version: 1.57.0\n"
        }
      ],
      "execution_count": 2,
      "metadata": {
        "gather": {
          "logged": 1729326491231
        },
        "jupyter": {
          "outputs_hidden": false,
          "source_hidden": false
        },
        "nteract": {
          "transient": {
            "deleting": false
          }
        }
      }
    },
    {
      "cell_type": "markdown",
      "source": [
        "## Dataset\n",
        "\n",
        "### Overview\n",
        "TODO: In this markdown cell, give an overview of the dataset you are using. Also mention the task you will be performing.\n",
        "\n",
        "\n",
        "TODO: Get data. In the cell below, write code to access the data you will be using in this project. Remember that the dataset needs to be external."
      ],
      "metadata": {}
    },
    {
      "cell_type": "code",
      "source": [
        "session_id = \"268861\"\n",
        "subscription_id= \"d7f39349-a66b-446e-aba6-0053c2cf1c11\"\n",
        "resource_group= f\"aml-quickstarts-{session_id}\"\n",
        "workspace_name= f\"quick-starts-ws-{session_id}\"\n",
        "\n",
        "ws = Workspace.get(name=workspace_name, subscription_id=subscription_id, resource_group=resource_group)\n",
        "print(ws.name, ws.resource_group, ws.location, ws.subscription_id, sep = '\\n')\n",
        "\n",
        "# choose a name for experiment\n",
        "experiment_name = 'automl-exp'\n",
        "project_folder = './capstone'\n",
        "experiment=Experiment(ws, experiment_name)\n",
        "experiment"
      ],
      "outputs": [
        {
          "output_type": "stream",
          "name": "stdout",
          "text": "quick-starts-ws-268861\naml-quickstarts-268861\nwestus2\nd7f39349-a66b-446e-aba6-0053c2cf1c11\n"
        },
        {
          "output_type": "execute_result",
          "execution_count": 4,
          "data": {
            "text/plain": "Experiment(Name: automl-exp,\nWorkspace: quick-starts-ws-268861)",
            "text/html": "<table style=\"width:100%\"><tr><th>Name</th><th>Workspace</th><th>Report Page</th><th>Docs Page</th></tr><tr><td>automl-exp</td><td>quick-starts-ws-268861</td><td><a href=\"https://ml.azure.com/experiments/id/c53474ba-efee-4c6e-befe-b3cedcc3791b?wsid=/subscriptions/d7f39349-a66b-446e-aba6-0053c2cf1c11/resourcegroups/aml-quickstarts-268861/workspaces/quick-starts-ws-268861&amp;tid=660b3398-b80e-49d2-bc5b-ac1dc93b5254\" target=\"_blank\" rel=\"noopener\">Link to Azure Machine Learning studio</a></td><td><a href=\"https://docs.microsoft.com/en-us/python/api/azureml-core/azureml.core.experiment.Experiment?view=azure-ml-py\" target=\"_blank\" rel=\"noopener\">Link to Documentation</a></td></tr></table>"
          },
          "metadata": {}
        }
      ],
      "execution_count": 4,
      "metadata": {
        "gather": {
          "logged": 1729326630391
        },
        "jupyter": {
          "outputs_hidden": false,
          "source_hidden": false
        },
        "nteract": {
          "transient": {
            "deleting": false
          }
        }
      }
    },
    {
      "cell_type": "code",
      "source": [
        "\n",
        "\n",
        "# Try to load the dataset from the Workspace. Otherwise, create it from the file\n",
        "# NOTE: update the key to match the dataset name\n",
        "found = False\n",
        "key = \"heart-failure\"\n",
        "description_text = \"Heart Failure Prediction Dataset\"\n",
        "\n",
        "if key in ws.datasets.keys(): \n",
        "        found = True\n",
        "        dataset = ws.datasets[key] \n",
        "\n",
        "if not found:\n",
        "        # Create AML Dataset and register it into Workspace\n",
        "        example_data = 'https://raw.githubusercontent.com/hknguyen20/nd00333-capstone/refs/heads/master/heart.csv'\n",
        "        dataset = Dataset.Tabular.from_delimited_files(example_data)        \n",
        "        #Register Dataset in Workspace\n",
        "        dataset = dataset.register(workspace=ws,\n",
        "                                   name=key,\n",
        "                                   description=description_text)\n",
        "df = dataset.to_pandas_dataframe()\n",
        "df.head()\n"
      ],
      "outputs": [
        {
          "output_type": "stream",
          "name": "stdout",
          "text": "{'infer_column_types': 'False', 'activity': 'to_pandas_dataframe'}\n{'infer_column_types': 'False', 'activity': 'to_pandas_dataframe', 'activityApp': 'TabularDataset'}\n"
        },
        {
          "output_type": "execute_result",
          "execution_count": 5,
          "data": {
            "text/plain": "   Age Sex ChestPainType  RestingBP  Cholesterol  FastingBS RestingECG  MaxHR  \\\n0   40   M           ATA        140          289      False     Normal    172   \n1   49   F           NAP        160          180      False     Normal    156   \n2   37   M           ATA        130          283      False         ST     98   \n3   48   F           ASY        138          214      False     Normal    108   \n4   54   M           NAP        150          195      False     Normal    122   \n\n   ExerciseAngina  Oldpeak ST_Slope  HeartDisease  \n0           False      0.0       Up         False  \n1           False      1.0     Flat          True  \n2           False      0.0       Up         False  \n3            True      1.5     Flat          True  \n4           False      0.0       Up         False  ",
            "text/html": "<div>\n<style scoped>\n    .dataframe tbody tr th:only-of-type {\n        vertical-align: middle;\n    }\n\n    .dataframe tbody tr th {\n        vertical-align: top;\n    }\n\n    .dataframe thead th {\n        text-align: right;\n    }\n</style>\n<table border=\"1\" class=\"dataframe\">\n  <thead>\n    <tr style=\"text-align: right;\">\n      <th></th>\n      <th>Age</th>\n      <th>Sex</th>\n      <th>ChestPainType</th>\n      <th>RestingBP</th>\n      <th>Cholesterol</th>\n      <th>FastingBS</th>\n      <th>RestingECG</th>\n      <th>MaxHR</th>\n      <th>ExerciseAngina</th>\n      <th>Oldpeak</th>\n      <th>ST_Slope</th>\n      <th>HeartDisease</th>\n    </tr>\n  </thead>\n  <tbody>\n    <tr>\n      <th>0</th>\n      <td>40</td>\n      <td>M</td>\n      <td>ATA</td>\n      <td>140</td>\n      <td>289</td>\n      <td>False</td>\n      <td>Normal</td>\n      <td>172</td>\n      <td>False</td>\n      <td>0.0</td>\n      <td>Up</td>\n      <td>False</td>\n    </tr>\n    <tr>\n      <th>1</th>\n      <td>49</td>\n      <td>F</td>\n      <td>NAP</td>\n      <td>160</td>\n      <td>180</td>\n      <td>False</td>\n      <td>Normal</td>\n      <td>156</td>\n      <td>False</td>\n      <td>1.0</td>\n      <td>Flat</td>\n      <td>True</td>\n    </tr>\n    <tr>\n      <th>2</th>\n      <td>37</td>\n      <td>M</td>\n      <td>ATA</td>\n      <td>130</td>\n      <td>283</td>\n      <td>False</td>\n      <td>ST</td>\n      <td>98</td>\n      <td>False</td>\n      <td>0.0</td>\n      <td>Up</td>\n      <td>False</td>\n    </tr>\n    <tr>\n      <th>3</th>\n      <td>48</td>\n      <td>F</td>\n      <td>ASY</td>\n      <td>138</td>\n      <td>214</td>\n      <td>False</td>\n      <td>Normal</td>\n      <td>108</td>\n      <td>True</td>\n      <td>1.5</td>\n      <td>Flat</td>\n      <td>True</td>\n    </tr>\n    <tr>\n      <th>4</th>\n      <td>54</td>\n      <td>M</td>\n      <td>NAP</td>\n      <td>150</td>\n      <td>195</td>\n      <td>False</td>\n      <td>Normal</td>\n      <td>122</td>\n      <td>False</td>\n      <td>0.0</td>\n      <td>Up</td>\n      <td>False</td>\n    </tr>\n  </tbody>\n</table>\n</div>"
          },
          "metadata": {}
        }
      ],
      "execution_count": 5,
      "metadata": {
        "gather": {
          "logged": 1729326642341
        }
      }
    },
    {
      "cell_type": "markdown",
      "source": [
        "## AutoML Configuration\n",
        "\n",
        "TODO: Explain why you chose the automl settings and cofiguration you used below."
      ],
      "metadata": {}
    },
    {
      "cell_type": "code",
      "source": [
        "from azureml.core.compute import AmlCompute\n",
        "from azureml.core.compute import ComputeTarget\n",
        "from azureml.core.compute_target import ComputeTargetException\n",
        "\n",
        "# NOTE: update the cluster name to match the existing cluster\n",
        "# Choose a name for your CPU cluster\n",
        "amlcompute_cluster_name = \"compute-cluster-1\"\n",
        "\n",
        "# Verify that cluster does not exist already\n",
        "try:\n",
        "    compute_target = ComputeTarget(workspace=ws, name=amlcompute_cluster_name)\n",
        "    print('Found existing cluster, use it.')\n",
        "except ComputeTargetException:\n",
        "    compute_config = AmlCompute.provisioning_configuration(vm_size='STANDARD_D3_v2',# for GPU, use \"STANDARD_NC6\"\n",
        "                                                           vm_priority = 'lowpriority', # optional\n",
        "                                                           min_nodes=1,\n",
        "                                                           max_nodes=5)\n",
        "    compute_target = ComputeTarget.create(ws, amlcompute_cluster_name, compute_config)\n",
        "\n",
        "compute_target.wait_for_completion(show_output=True, min_node_count = 1, timeout_in_minutes = 10)"
      ],
      "outputs": [
        {
          "output_type": "stream",
          "name": "stdout",
          "text": "InProgress..\nSucceededProvisioning operation finished, operation \"Succeeded\"\nSucceeded..................\nAmlCompute wait for completion finished\n\nMinimum number of nodes requested have been provisioned\n"
        }
      ],
      "execution_count": 6,
      "metadata": {
        "gather": {
          "logged": 1729326753666
        }
      }
    },
    {
      "cell_type": "code",
      "source": [
        "# TODO: Put your automl settings here\n",
        "automl_settings = {\n",
        "    \"experiment_timeout_minutes\": 30,\n",
        "    \"max_concurrent_iterations\": 5,\n",
        "    \"primary_metric\" : 'accuracy',\n",
        "    \"enable_early_stopping\": True,\n",
        "}\n",
        "\n",
        "# TODO: Put your automl config here\n",
        "automl_config = AutoMLConfig(compute_target=compute_target,\n",
        "                             task = \"classification\",\n",
        "                             training_data=dataset,\n",
        "                             test_size=0.2,\n",
        "                             label_column_name=\"HeartDisease\",   \n",
        "                             path = project_folder,\n",
        "                             featurization= 'auto',\n",
        "                             debug_log = \"automl_errors.log\",\n",
        "                             **automl_settings\n",
        "                            )"
      ],
      "outputs": [],
      "execution_count": 22,
      "metadata": {
        "gather": {
          "logged": 1729333197538
        },
        "jupyter": {
          "outputs_hidden": false,
          "source_hidden": false
        },
        "nteract": {
          "transient": {
            "deleting": false
          }
        }
      }
    },
    {
      "cell_type": "code",
      "source": [
        "# TODO: Submit your experiment\n",
        "automl_run = experiment.submit(automl_config)"
      ],
      "outputs": [
        {
          "output_type": "stream",
          "name": "stdout",
          "text": "Submitting remote run.\n"
        },
        {
          "output_type": "display_data",
          "data": {
            "text/html": "<table style=\"width:100%\"><tr><th>Experiment</th><th>Id</th><th>Type</th><th>Status</th><th>Details Page</th><th>Docs Page</th></tr><tr><td>automl-exp</td><td>AutoML_0962bc2d-562e-4cb9-8001-1f1ef1747521</td><td>automl</td><td>NotStarted</td><td><a href=\"https://ml.azure.com/runs/AutoML_0962bc2d-562e-4cb9-8001-1f1ef1747521?wsid=/subscriptions/d7f39349-a66b-446e-aba6-0053c2cf1c11/resourcegroups/aml-quickstarts-268861/workspaces/quick-starts-ws-268861&amp;tid=660b3398-b80e-49d2-bc5b-ac1dc93b5254\" target=\"_blank\" rel=\"noopener\">Link to Azure Machine Learning studio</a></td><td><a href=\"https://docs.microsoft.com/en-us/python/api/overview/azure/ml/intro?view=azure-ml-py\" target=\"_blank\" rel=\"noopener\">Link to Documentation</a></td></tr></table>"
          },
          "metadata": {}
        }
      ],
      "execution_count": 23,
      "metadata": {
        "gather": {
          "logged": 1729333208245
        },
        "jupyter": {
          "outputs_hidden": false,
          "source_hidden": false
        },
        "nteract": {
          "transient": {
            "deleting": false
          }
        }
      }
    },
    {
      "cell_type": "markdown",
      "source": [
        "## Run Details\n",
        "\n",
        "OPTIONAL: Write about the different models trained and their performance. Why do you think some models did better than others?\n",
        "\n",
        "TODO: In the cell below, use the `RunDetails` widget to show the different experiments."
      ],
      "metadata": {}
    },
    {
      "cell_type": "code",
      "source": [
        "from azureml.widgets import RunDetails\n",
        "RunDetails(automl_run).show()\n",
        "automl_run.wait_for_completion(show_output=True)"
      ],
      "outputs": [
        {
          "output_type": "display_data",
          "data": {
            "text/plain": "_AutoMLWidget(widget_settings={'childWidgetDisplay': 'popup', 'send_telemetry': False, 'log_level': 'INFO', 's…",
            "application/vnd.jupyter.widget-view+json": {
              "version_major": 2,
              "version_minor": 0,
              "model_id": "dbdcc4e071144786bac11f6686a1624d"
            }
          },
          "metadata": {}
        },
        {
          "output_type": "display_data",
          "data": {
            "application/aml.mini.widget.v1": "{\"status\": \"Running\", \"workbench_run_details_uri\": \"https://ml.azure.com/runs/AutoML_0962bc2d-562e-4cb9-8001-1f1ef1747521?wsid=/subscriptions/d7f39349-a66b-446e-aba6-0053c2cf1c11/resourcegroups/aml-quickstarts-268861/workspaces/quick-starts-ws-268861&tid=660b3398-b80e-49d2-bc5b-ac1dc93b5254\", \"run_id\": \"AutoML_0962bc2d-562e-4cb9-8001-1f1ef1747521\", \"run_properties\": {\"run_id\": \"AutoML_0962bc2d-562e-4cb9-8001-1f1ef1747521\", \"created_utc\": \"2024-10-19T10:20:07.474306Z\", \"properties\": {\"num_iterations\": \"1000\", \"training_type\": \"TrainFull\", \"acquisition_function\": \"EI\", \"primary_metric\": \"accuracy\", \"train_split\": \"0\", \"acquisition_parameter\": \"0\", \"num_cross_validation\": null, \"target\": \"compute-cluster-1\", \"AMLSettingsJsonString\": \"{\\\"path\\\":null,\\\"name\\\":\\\"automl-exp\\\",\\\"subscription_id\\\":\\\"d7f39349-a66b-446e-aba6-0053c2cf1c11\\\",\\\"resource_group\\\":\\\"aml-quickstarts-268861\\\",\\\"workspace_name\\\":\\\"quick-starts-ws-268861\\\",\\\"region\\\":\\\"westus2\\\",\\\"compute_target\\\":\\\"compute-cluster-1\\\",\\\"spark_service\\\":null,\\\"azure_service\\\":\\\"remote\\\",\\\"many_models\\\":false,\\\"pipeline_fetch_max_batch_size\\\":1,\\\"enable_batch_run\\\":true,\\\"enable_parallel_run\\\":false,\\\"num_procs\\\":null,\\\"enable_run_restructure\\\":false,\\\"start_auxiliary_runs_before_parent_complete\\\":true,\\\"enable_code_generation\\\":true,\\\"force_curated_environment\\\":false,\\\"iterations\\\":1000,\\\"primary_metric\\\":\\\"accuracy\\\",\\\"task_type\\\":\\\"classification\\\",\\\"positive_label\\\":null,\\\"data_script\\\":null,\\\"test_size\\\":0.2,\\\"test_include_predictions_only\\\":false,\\\"validation_size\\\":0.0,\\\"n_cross_validations\\\":null,\\\"y_min\\\":null,\\\"y_max\\\":null,\\\"num_classes\\\":null,\\\"featurization\\\":\\\"auto\\\",\\\"_ignore_package_version_incompatibilities\\\":false,\\\"is_timeseries\\\":false,\\\"max_cores_per_iteration\\\":1,\\\"max_concurrent_iterations\\\":5,\\\"iteration_timeout_minutes\\\":null,\\\"mem_in_mb\\\":null,\\\"enforce_time_on_windows\\\":false,\\\"experiment_timeout_minutes\\\":30,\\\"experiment_exit_score\\\":null,\\\"partition_column_names\\\":null,\\\"whitelist_models\\\":null,\\\"blacklist_algos\\\":[\\\"TensorFlowLinearClassifier\\\",\\\"TensorFlowDNN\\\"],\\\"supported_models\\\":[\\\"GradientBoosting\\\",\\\"LogisticRegression\\\",\\\"XGBoostClassifier\\\",\\\"LightGBM\\\",\\\"KNN\\\",\\\"TensorFlowLinearClassifier\\\",\\\"RandomForest\\\",\\\"AveragedPerceptronClassifier\\\",\\\"SVM\\\",\\\"TensorFlowDNN\\\",\\\"MultinomialNaiveBayes\\\",\\\"DecisionTree\\\",\\\"LinearSVM\\\",\\\"BernoulliNaiveBayes\\\",\\\"TabnetClassifier\\\",\\\"SGD\\\",\\\"ExtremeRandomTrees\\\"],\\\"private_models\\\":[],\\\"auto_blacklist\\\":true,\\\"blacklist_samples_reached\\\":false,\\\"exclude_nan_labels\\\":true,\\\"verbosity\\\":20,\\\"_debug_log\\\":\\\"azureml_automl.log\\\",\\\"show_warnings\\\":false,\\\"model_explainability\\\":true,\\\"service_url\\\":null,\\\"sdk_url\\\":null,\\\"sdk_packages\\\":null,\\\"enable_onnx_compatible_models\\\":false,\\\"enable_split_onnx_featurizer_estimator_models\\\":false,\\\"vm_type\\\":\\\"STANDARD_D3_v2\\\",\\\"telemetry_verbosity\\\":20,\\\"send_telemetry\\\":true,\\\"enable_dnn\\\":false,\\\"scenario\\\":\\\"AutoML\\\",\\\"environment_label\\\":null,\\\"save_mlflow\\\":false,\\\"enable_categorical_indicators\\\":false,\\\"force_text_dnn\\\":false,\\\"enable_feature_sweeping\\\":true,\\\"enable_early_stopping\\\":true,\\\"early_stopping_n_iters\\\":10,\\\"arguments\\\":null,\\\"dataset_id\\\":\\\"97f881ff-9258-42d9-8670-ecfc0056ef88\\\",\\\"hyperdrive_config\\\":null,\\\"validation_dataset_id\\\":null,\\\"run_source\\\":null,\\\"metrics\\\":null,\\\"enable_metric_confidence\\\":false,\\\"enable_ensembling\\\":true,\\\"enable_stack_ensembling\\\":true,\\\"ensemble_iterations\\\":15,\\\"enable_tf\\\":false,\\\"enable_subsampling\\\":null,\\\"subsample_seed\\\":null,\\\"enable_nimbusml\\\":false,\\\"enable_streaming\\\":false,\\\"force_streaming\\\":false,\\\"track_child_runs\\\":true,\\\"n_best_runs\\\":1,\\\"allowed_private_models\\\":[],\\\"label_column_name\\\":\\\"HeartDisease\\\",\\\"weight_column_name\\\":null,\\\"cv_split_column_names\\\":null,\\\"enable_local_managed\\\":false,\\\"_local_managed_run_id\\\":null,\\\"cost_mode\\\":1,\\\"lag_length\\\":0,\\\"metric_operation\\\":\\\"maximize\\\",\\\"preprocess\\\":true}\", \"DataPrepJsonString\": \"{\\\\\\\"training_data\\\\\\\": {\\\\\\\"datasetId\\\\\\\": \\\\\\\"97f881ff-9258-42d9-8670-ecfc0056ef88\\\\\\\"}, \\\\\\\"datasets\\\\\\\": 0}\", \"EnableSubsampling\": null, \"runTemplate\": \"AutoML\", \"azureml.runsource\": \"automl\", \"display_task_type\": \"classification\", \"dependencies_versions\": \"{\\\"azureml-automl-runtime\\\": \\\"1.58.0\\\", \\\"azureml-inference-server-http\\\": \\\"1.2.2\\\", \\\"azureml-contrib-server\\\": \\\"1.57.0\\\", \\\"azureml-sdk\\\": \\\"1.58.0\\\", \\\"azureml-train-automl-runtime\\\": \\\"1.58.0\\\", \\\"azureml-train-automl-client\\\": \\\"1.58.0\\\", \\\"azureml-training-tabular\\\": \\\"1.58.0\\\", \\\"azureml-opendatasets\\\": \\\"1.57.0\\\", \\\"azureml-cli-common\\\": \\\"1.57.0\\\", \\\"azureml-automl-dnn-nlp\\\": \\\"1.57.0\\\", \\\"azureml-automl-core\\\": \\\"1.58.0\\\", \\\"azureml-dataprep-native\\\": \\\"41.0.0\\\", \\\"azureml-contrib-automl-pipeline-steps\\\": \\\"1.57.0\\\", \\\"azureml-widgets\\\": \\\"1.58.0\\\", \\\"azureml-dataprep-rslex\\\": \\\"2.22.2\\\", \\\"azureml-core\\\": \\\"1.58.0\\\", \\\"azureml-pipeline\\\": \\\"1.58.0\\\", \\\"azureml-train\\\": \\\"1.57.0\\\", \\\"azureml-train-restclients-hyperdrive\\\": \\\"1.58.0\\\", \\\"azureml-datadrift\\\": \\\"1.57.0\\\", \\\"azureml-mlflow\\\": \\\"1.58.0\\\", \\\"azureml-tensorboard\\\": \\\"1.57.0\\\", \\\"azureml-contrib-reinforcementlearning\\\": \\\"1.57.0\\\", \\\"azureml-contrib-pipeline-steps\\\": \\\"1.57.0\\\", \\\"azureml-responsibleai\\\": \\\"1.58.0\\\", \\\"azureml-pipeline-steps\\\": \\\"1.58.0\\\", \\\"azureml-contrib-dataset\\\": \\\"1.57.0\\\", \\\"azureml-dataprep\\\": \\\"5.1.6\\\", \\\"azureml-interpret\\\": \\\"1.58.0\\\", \\\"azureml-dataset-runtime\\\": \\\"1.58.0\\\", \\\"azureml-contrib-notebook\\\": \\\"1.58.0\\\", \\\"azureml-fsspec\\\": \\\"1.3.1\\\", \\\"azureml-contrib-services\\\": \\\"1.57.0\\\", \\\"azureml-train-core\\\": \\\"1.58.0\\\", \\\"azureml-accel-models\\\": \\\"1.57.0\\\", \\\"azureml-telemetry\\\": \\\"1.58.0\\\", \\\"azureml-train-automl\\\": \\\"1.58.0\\\", \\\"azureml-defaults\\\": \\\"1.57.0\\\", \\\"azureml-contrib-fairness\\\": \\\"1.57.0\\\", \\\"azureml-pipeline-core\\\": \\\"1.58.0\\\"}\", \"_aml_system_scenario_identification\": \"Remote.Parent\", \"ClientType\": \"SDK\", \"PlatformVersion\": \"DPV1\", \"environment_cpu_name\": \"AzureML-ai-ml-automl\", \"environment_cpu_label\": \"5\", \"environment_gpu_name\": \"AzureML-ai-ml-automl-gpu\", \"environment_gpu_label\": \"5\", \"root_attribution\": \"automl\", \"attribution\": \"AutoML\", \"Orchestrator\": \"AutoML\", \"CancelUri\": \"https://westus2.api.azureml.ms/jasmine/v1.0/subscriptions/d7f39349-a66b-446e-aba6-0053c2cf1c11/resourceGroups/aml-quickstarts-268861/providers/Microsoft.MachineLearningServices/workspaces/quick-starts-ws-268861/experimentids/c53474ba-efee-4c6e-befe-b3cedcc3791b/cancel/AutoML_0962bc2d-562e-4cb9-8001-1f1ef1747521\", \"ClientSdkVersion\": null, \"snapshotId\": \"00000000-0000-0000-0000-000000000000\", \"SetupRunId\": \"AutoML_0962bc2d-562e-4cb9-8001-1f1ef1747521_setup\", \"SetupRunContainerId\": \"dcid.AutoML_0962bc2d-562e-4cb9-8001-1f1ef1747521_setup\", \"FeaturizationRunJsonPath\": \"featurizer_container.json\", \"FeaturizationRunId\": \"AutoML_0962bc2d-562e-4cb9-8001-1f1ef1747521_featurize\"}, \"tags\": {\"model_explain_run\": \"best_run\", \"_aml_system_automl_run_workspace_id\": \"638c8e90-ac7a-4d80-bc95-d641615c0d00\", \"_aml_system_azureml.automlComponent\": \"AutoML\"}, \"end_time_utc\": null, \"status\": \"Running\", \"log_files\": {}, \"log_groups\": [], \"run_duration\": \"0:01:37\", \"run_number\": \"1729333207\", \"run_queued_details\": {\"status\": \"Running\", \"details\": null}}, \"child_runs\": [{\"run_id\": \"AutoML_0962bc2d-562e-4cb9-8001-1f1ef1747521_setup\", \"run_number\": 1729333219, \"metric\": null, \"status\": \"Completed\", \"run_type\": \"azureml.scriptrun\", \"training_percent\": null, \"start_time\": \"2024-10-19T10:20:52.99132Z\", \"end_time\": \"2024-10-19T10:21:33.025027Z\", \"created_time\": \"2024-10-19T10:20:19.454123Z\", \"created_time_dt\": \"2024-10-19T10:20:19.454123Z\", \"duration\": \"0:01:13\", \"iteration\": null, \"goal\": null, \"run_name\": \"Completed\", \"run_properties\": null}, {\"run_id\": \"AutoML_0962bc2d-562e-4cb9-8001-1f1ef1747521_featurize\", \"run_number\": 1729333293, \"metric\": null, \"status\": \"Running\", \"run_type\": \"automl.featurization\", \"training_percent\": null, \"start_time\": \"2024-10-19T10:21:33.632382Z\", \"end_time\": \"\", \"created_time\": \"2024-10-19T10:21:33.404628Z\", \"created_time_dt\": \"2024-10-19T10:21:33.404628Z\", \"duration\": \"0:00:11\", \"iteration\": null, \"goal\": null, \"run_name\": \"Running\", \"run_properties\": null}], \"children_metrics\": {\"categories\": null, \"series\": null, \"metricName\": null}, \"run_metrics\": [{\"name\": \"experiment_status\", \"run_id\": \"AutoML_0962bc2d-562e-4cb9-8001-1f1ef1747521\", \"categories\": [0, 1], \"series\": [{\"data\": [\"DatasetEvaluation\", \"FeaturesGeneration\"]}]}, {\"name\": \"experiment_status_description\", \"run_id\": \"AutoML_0962bc2d-562e-4cb9-8001-1f1ef1747521\", \"categories\": [0, 1], \"series\": [{\"data\": [\"Gathering dataset statistics.\", \"Generating features for the dataset.\"]}]}], \"run_logs\": \"Your job is submitted in Azure cloud and we are monitoring to get logs...\", \"graph\": {}, \"widget_settings\": {\"childWidgetDisplay\": \"popup\", \"send_telemetry\": false, \"log_level\": \"INFO\", \"sdk_version\": \"1.57.0\"}, \"loading\": false}"
          },
          "metadata": {}
        },
        {
          "output_type": "display_data",
          "data": {
            "text/html": "<table style=\"width:100%\"><tr><th>Experiment</th><th>Id</th><th>Type</th><th>Status</th><th>Details Page</th><th>Docs Page</th></tr><tr><td>automl-exp</td><td>AutoML_0962bc2d-562e-4cb9-8001-1f1ef1747521</td><td>automl</td><td>NotStarted</td><td><a href=\"https://ml.azure.com/runs/AutoML_0962bc2d-562e-4cb9-8001-1f1ef1747521?wsid=/subscriptions/d7f39349-a66b-446e-aba6-0053c2cf1c11/resourcegroups/aml-quickstarts-268861/workspaces/quick-starts-ws-268861&amp;tid=660b3398-b80e-49d2-bc5b-ac1dc93b5254\" target=\"_blank\" rel=\"noopener\">Link to Azure Machine Learning studio</a></td><td><a href=\"https://docs.microsoft.com/en-us/python/api/overview/azure/ml/intro?view=azure-ml-py\" target=\"_blank\" rel=\"noopener\">Link to Documentation</a></td></tr></table>"
          },
          "metadata": {}
        },
        {
          "output_type": "stream",
          "name": "stdout",
          "text": "\nCurrent status: FeaturesGeneration. Generating features for the dataset.\n"
        }
      ],
      "execution_count": 24,
      "metadata": {
        "gather": {
          "logged": 1729333191108
        },
        "jupyter": {
          "outputs_hidden": false,
          "source_hidden": false
        },
        "nteract": {
          "transient": {
            "deleting": false
          }
        }
      }
    },
    {
      "cell_type": "markdown",
      "source": [
        "## Best Model\n",
        "\n",
        "TODO: In the cell below, get the best model from the automl experiments and display all the properties of the model.\n",
        "\n"
      ],
      "metadata": {}
    },
    {
      "cell_type": "code",
      "source": [
        "best_run, fitted_model = automl_run.get_output()\n",
        "print(best_run)"
      ],
      "outputs": [
        {
          "output_type": "stream",
          "name": "stdout",
          "text": "Run(Experiment: automl-exp,\nId: AutoML_6d8e9050-2c95-4f0a-b8ee-5c703ba2bf46_40,\nType: azureml.scriptrun,\nStatus: Completed)\n"
        }
      ],
      "execution_count": 10,
      "metadata": {
        "gather": {
          "logged": 1729328925345
        },
        "jupyter": {
          "outputs_hidden": false,
          "source_hidden": false
        },
        "nteract": {
          "transient": {
            "deleting": false
          }
        }
      }
    },
    {
      "cell_type": "code",
      "source": [
        "print(fitted_model)"
      ],
      "outputs": [
        {
          "output_type": "stream",
          "name": "stdout",
          "text": "Pipeline(steps=[('datatransformer',\n                 DataTransformer(enable_dnn=False, enable_feature_sweeping=True, is_cross_validation=True, working_dir='/mnt/batch/tasks/shared/LS_root/mounts/clusters/notebook268861/code/Users/odl_user_268861')),\n                ('prefittedsoftvotingclassifier',\n                 PreFittedSoftVotingClassifier(classification_labels=array([0, 1]), estimators=[('11', Pipeli...e', colsample_bytree=0.8, eta=0.3, gamma=0.1, max_depth=10, max_leaves=63, n_estimators=10, objective='reg:logistic', problem_info=ProblemInfo(gpu_training_param_dict={'processing_unit_type': 'cpu'}), reg_alpha=1.25, reg_lambda=0.7291666666666667, subsample=1, tree_method='auto'))]))], flatten_transform=False, weights=[0.1, 0.1, 0.1, 0.1, 0.1, 0.1, 0.1, 0.1, 0.1, 0.1]))])\nY_transformer(['LabelEncoder', LabelEncoder()])\n"
        }
      ],
      "execution_count": 15,
      "metadata": {
        "jupyter": {
          "source_hidden": false,
          "outputs_hidden": false
        },
        "nteract": {
          "transient": {
            "deleting": false
          }
        },
        "gather": {
          "logged": 1729329717172
        }
      }
    },
    {
      "cell_type": "code",
      "source": [
        "#TODO: Save the best model\n",
        "best_run.register_model(model_path=\"./outputs/\", model_name='best_model.pkl', properties=best_run.get_metrics())"
      ],
      "outputs": [
        {
          "output_type": "execute_result",
          "execution_count": 16,
          "data": {
            "text/plain": "Model(workspace=Workspace.create(name='quick-starts-ws-268861', subscription_id='d7f39349-a66b-446e-aba6-0053c2cf1c11', resource_group='aml-quickstarts-268861'), name=best_model.pkl, id=best_model.pkl:4, version=4, tags={}, properties={'average_precision_score_micro': '0.9381722767020714', 'AUC_weighted': '0.9384682877785948', 'recall_score_micro': '0.879144768275203', 'recall_score_macro': '0.8738690410889607', 'balanced_accuracy': '0.8738690410889607', 'f1_score_micro': '0.879144768275203', 'AUC_micro': '0.9395694136873326', 'accuracy': '0.879144768275203', 'f1_score_macro': '0.8761820037614395', 'log_loss': '0.3612171058266943', 'matthews_correlation': '0.7547913281371936', 'precision_score_micro': '0.879144768275203', 'average_precision_score_weighted': '0.9398094969812879', 'recall_score_weighted': '0.879144768275203', 'precision_score_macro': '0.8809879628799621', 'AUC_macro': '0.9384682877785948', 'f1_score_weighted': '0.8786507103449823', 'precision_score_weighted': '0.8805459410201781', 'weighted_accuracy': '0.8840669362669813', 'average_precision_score_macro': '0.9384448683668568', 'norm_macro_recall': '0.7477380821779214', 'confusion_matrix': 'aml://artifactId/ExperimentRun/dcid.AutoML_6d8e9050-2c95-4f0a-b8ee-5c703ba2bf46_40/confusion_matrix', 'accuracy_table': 'aml://artifactId/ExperimentRun/dcid.AutoML_6d8e9050-2c95-4f0a-b8ee-5c703ba2bf46_40/accuracy_table'})"
          },
          "metadata": {}
        }
      ],
      "execution_count": 16,
      "metadata": {
        "gather": {
          "logged": 1729330037222
        },
        "jupyter": {
          "outputs_hidden": false,
          "source_hidden": false
        },
        "nteract": {
          "transient": {
            "deleting": false
          }
        }
      }
    },
    {
      "cell_type": "markdown",
      "source": [
        "## Model Deployment\n",
        "\n",
        "Remember you have to deploy only one of the two models you trained but you still need to register both the models. Perform the steps in the rest of this notebook only if you wish to deploy this model.\n",
        "\n",
        "TODO: In the cell below, register the model, create an inference config and deploy the model as a web service."
      ],
      "metadata": {}
    },
    {
      "cell_type": "code",
      "source": [
        "best_run.download_file('./outputs/scoring_file_v_1_0_0.py', 'scoring.py')\n",
        "best_run.download_file('./outputs/conda_env_v_1_0_0.yml', 'envFile.yml')"
      ],
      "outputs": [],
      "execution_count": null,
      "metadata": {
        "gather": {
          "logged": 1729242220925
        },
        "jupyter": {
          "outputs_hidden": false,
          "source_hidden": false
        },
        "nteract": {
          "transient": {
            "deleting": false
          }
        }
      }
    },
    {
      "cell_type": "markdown",
      "source": [
        "TODO: In the cell below, send a request to the web service you deployed to test it."
      ],
      "metadata": {
        "collapsed": true,
        "gather": {
          "logged": 1598431657736
        },
        "jupyter": {
          "outputs_hidden": false,
          "source_hidden": false
        },
        "nteract": {
          "transient": {
            "deleting": false
          }
        }
      }
    },
    {
      "cell_type": "code",
      "source": [],
      "outputs": [],
      "execution_count": null,
      "metadata": {
        "gather": {
          "logged": 1598432707604
        },
        "jupyter": {
          "outputs_hidden": false,
          "source_hidden": false
        },
        "nteract": {
          "transient": {
            "deleting": false
          }
        }
      }
    },
    {
      "cell_type": "markdown",
      "source": [
        "TODO: In the cell below, print the logs of the web service and delete the service"
      ],
      "metadata": {
        "collapsed": true,
        "gather": {
          "logged": 1598432765711
        },
        "jupyter": {
          "outputs_hidden": false,
          "source_hidden": false
        },
        "nteract": {
          "transient": {
            "deleting": false
          }
        }
      }
    },
    {
      "cell_type": "code",
      "source": [
        "service.delete()"
      ],
      "outputs": [],
      "execution_count": null,
      "metadata": {
        "jupyter": {
          "outputs_hidden": false,
          "source_hidden": false
        },
        "nteract": {
          "transient": {
            "deleting": false
          }
        }
      }
    },
    {
      "cell_type": "markdown",
      "source": [
        "**Submission Checklist**\n",
        "- I have registered the model.\n",
        "- I have deployed the model with the best accuracy as a webservice.\n",
        "- I have tested the webservice by sending a request to the model endpoint.\n",
        "- I have deleted the webservice and shutdown all the computes that I have used.\n",
        "- I have taken a screenshot showing the model endpoint as active.\n",
        "- The project includes a file containing the environment details.\n"
      ],
      "metadata": {}
    },
    {
      "cell_type": "markdown",
      "source": [],
      "metadata": {}
    }
  ],
  "metadata": {
    "kernel_info": {
      "name": "python38-azureml"
    },
    "kernelspec": {
      "name": "python38-azureml",
      "language": "python",
      "display_name": "Python 3.8 - AzureML"
    },
    "language_info": {
      "name": "python",
      "version": "3.10.11",
      "mimetype": "text/x-python",
      "codemirror_mode": {
        "name": "ipython",
        "version": 3
      },
      "pygments_lexer": "ipython3",
      "nbconvert_exporter": "python",
      "file_extension": ".py"
    },
    "nteract": {
      "version": "nteract-front-end@1.0.0"
    },
    "microsoft": {
      "ms_spell_check": {
        "ms_spell_check_language": "en"
      },
      "host": {
        "AzureML": {
          "notebookHasBeenCompleted": true
        }
      }
    }
  },
  "nbformat": 4,
  "nbformat_minor": 2
}