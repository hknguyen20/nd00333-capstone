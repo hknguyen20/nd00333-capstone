{
  "cells": [
    {
      "cell_type": "markdown",
      "source": [
        "# Automated ML\n",
        "\n",
        "TODO: Import Dependencies. In the cell below, import all the dependencies that you will need to complete the project."
      ],
      "metadata": {}
    },
    {
      "cell_type": "code",
      "source": [
        "%pip install azureml-train-automl-runtime==1.57.0 -q\n",
        "%pip install --upgrade azureml-sdk[notebooks,automl] -q\n",
        "%pip install azureml-widgets -q"
      ],
      "outputs": [
        {
          "output_type": "stream",
          "name": "stdout",
          "text": "\u001b[31mERROR: pip's dependency resolver does not currently take into account all the packages that are installed. This behaviour is the source of the following dependency conflicts.\ndask-sql 2024.5.0 requires dask[dataframe]>=2024.4.1, but you have dask 2023.2.0 which is incompatible.\ndask-sql 2024.5.0 requires distributed>=2024.4.1, but you have distributed 2023.2.0 which is incompatible.\ndask-sql 2024.5.0 requires pandas>=1.4.0, but you have pandas 1.3.5 which is incompatible.\ndask-expr 1.1.14 requires dask==2024.9.0, but you have dask 2023.2.0 which is incompatible.\ndask-expr 1.1.14 requires pandas>=2, but you have pandas 1.3.5 which is incompatible.\nazureml-automl-dnn-nlp 1.57.0 requires torch==1.13.1, but you have torch 2.4.1 which is incompatible.\u001b[0m\u001b[31m\n\u001b[0mNote: you may need to restart the kernel to use updated packages.\n\u001b[31mERROR: pip's dependency resolver does not currently take into account all the packages that are installed. This behaviour is the source of the following dependency conflicts.\npandas-ml 0.6.1 requires enum34, which is not installed.\nscikit-image 0.24.0 requires networkx>=2.8, but you have networkx 2.5 which is incompatible.\ndask-sql 2024.5.0 requires dask[dataframe]>=2024.4.1, but you have dask 2023.2.0 which is incompatible.\ndask-sql 2024.5.0 requires distributed>=2024.4.1, but you have distributed 2023.2.0 which is incompatible.\ndask-expr 1.1.14 requires dask==2024.9.0, but you have dask 2023.2.0 which is incompatible.\ndask-expr 1.1.14 requires pandas>=2, but you have pandas 1.5.3 which is incompatible.\nazureml-train 1.57.0 requires azureml-train-core~=1.57.0, but you have azureml-train-core 1.58.0 which is incompatible.\nazureml-tensorboard 1.57.0 requires azureml-core~=1.57.0, but you have azureml-core 1.58.0 which is incompatible.\nazureml-opendatasets 1.57.0 requires azureml-core~=1.57.0, but you have azureml-core 1.58.0 which is incompatible.\nazureml-opendatasets 1.57.0 requires azureml-dataset-runtime[fuse,pandas]~=1.57.0, but you have azureml-dataset-runtime 1.58.0 which is incompatible.\nazureml-opendatasets 1.57.0 requires azureml-telemetry~=1.57.0, but you have azureml-telemetry 1.58.0 which is incompatible.\nazureml-defaults 1.57.0 requires azureml-core~=1.57.0, but you have azureml-core 1.58.0 which is incompatible.\nazureml-defaults 1.57.0 requires azureml-dataset-runtime[fuse]~=1.57.0, but you have azureml-dataset-runtime 1.58.0 which is incompatible.\nazureml-datadrift 1.57.0 requires azureml-core~=1.57.0, but you have azureml-core 1.58.0 which is incompatible.\nazureml-datadrift 1.57.0 requires azureml-dataset-runtime[fuse,pandas]~=1.57.0, but you have azureml-dataset-runtime 1.58.0 which is incompatible.\nazureml-datadrift 1.57.0 requires azureml-pipeline-core~=1.57.0, but you have azureml-pipeline-core 1.58.0 which is incompatible.\nazureml-datadrift 1.57.0 requires azureml-telemetry~=1.57.0, but you have azureml-telemetry 1.58.0 which is incompatible.\nazureml-contrib-server 1.57.0 requires azureml-core~=1.57.0, but you have azureml-core 1.58.0 which is incompatible.\nazureml-contrib-reinforcementlearning 1.57.0 requires azureml-core~=1.57.0, but you have azureml-core 1.58.0 which is incompatible.\nazureml-contrib-reinforcementlearning 1.57.0 requires azureml-train-core~=1.57.0, but you have azureml-train-core 1.58.0 which is incompatible.\nazureml-contrib-pipeline-steps 1.57.0 requires azureml-core~=1.57.0, but you have azureml-core 1.58.0 which is incompatible.\nazureml-contrib-pipeline-steps 1.57.0 requires azureml-dataset-runtime~=1.57.0, but you have azureml-dataset-runtime 1.58.0 which is incompatible.\nazureml-contrib-pipeline-steps 1.57.0 requires azureml-pipeline-core~=1.57.0, but you have azureml-pipeline-core 1.58.0 which is incompatible.\nazureml-contrib-fairness 1.57.0 requires azureml-core~=1.57.0, but you have azureml-core 1.58.0 which is incompatible.\nazureml-contrib-dataset 1.57.0 requires azureml-core~=1.57.0, but you have azureml-core 1.58.0 which is incompatible.\nazureml-contrib-dataset 1.57.0 requires azureml-dataset-runtime[fuse,pandas]~=1.57.0, but you have azureml-dataset-runtime 1.58.0 which is incompatible.\nazureml-contrib-automl-pipeline-steps 1.57.0 requires azureml-pipeline-steps~=1.57.0, but you have azureml-pipeline-steps 1.58.0 which is incompatible.\nazureml-cli-common 1.57.0 requires azureml-core~=1.57.0, but you have azureml-core 1.58.0 which is incompatible.\nazureml-cli-common 1.57.0 requires azureml-pipeline-core~=1.57.0, but you have azureml-pipeline-core 1.58.0 which is incompatible.\nazureml-cli-common 1.57.0 requires azureml-train-core~=1.57.0; python_version >= \"3.5\", but you have azureml-train-core 1.58.0 which is incompatible.\nazureml-automl-dnn-nlp 1.57.0 requires azureml-automl-core~=1.57.0, but you have azureml-automl-core 1.58.0 which is incompatible.\nazureml-automl-dnn-nlp 1.57.0 requires azureml-automl-runtime~=1.57.0, but you have azureml-automl-runtime 1.58.0 which is incompatible.\nazureml-automl-dnn-nlp 1.57.0 requires azureml-core~=1.57.0, but you have azureml-core 1.58.0 which is incompatible.\nazureml-automl-dnn-nlp 1.57.0 requires azureml-telemetry~=1.57.0, but you have azureml-telemetry 1.58.0 which is incompatible.\nazureml-automl-dnn-nlp 1.57.0 requires azureml-train-automl~=1.57.0, but you have azureml-train-automl 1.58.0 which is incompatible.\nazureml-automl-dnn-nlp 1.57.0 requires torch==1.13.1, but you have torch 2.4.1 which is incompatible.\nazureml-accel-models 1.57.0 requires azureml-core~=1.57.0, but you have azureml-core 1.58.0 which is incompatible.\u001b[0m\u001b[31m\n\u001b[0mNote: you may need to restart the kernel to use updated packages.\nNote: you may need to restart the kernel to use updated packages.\n"
        }
      ],
      "execution_count": 1,
      "metadata": {}
    },
    {
      "cell_type": "code",
      "source": [
        "\n",
        "\n",
        "import logging\n",
        "import os\n",
        "import csv\n",
        "\n",
        "from matplotlib import pyplot as plt\n",
        "import numpy as np\n",
        "import pandas as pd\n",
        "from sklearn import datasets\n",
        "import pkg_resources\n",
        "\n",
        "import azureml.core\n",
        "from azureml.core.experiment import Experiment\n",
        "from azureml.core.workspace import Workspace\n",
        "from azureml.train.automl import AutoMLConfig\n",
        "from azureml.core.dataset import Dataset\n",
        "\n",
        "# Check core SDK version number\n",
        "print(\"SDK version:\", azureml.core.VERSION)"
      ],
      "outputs": [
        {
          "output_type": "stream",
          "name": "stdout",
          "text": "SDK version: 1.57.0\n"
        }
      ],
      "execution_count": 2,
      "metadata": {
        "gather": {
          "logged": 1729326491231
        },
        "jupyter": {
          "outputs_hidden": false,
          "source_hidden": false
        },
        "nteract": {
          "transient": {
            "deleting": false
          }
        }
      }
    },
    {
      "cell_type": "markdown",
      "source": [
        "## Dataset\n",
        "\n",
        "### Overview\n",
        "TODO: In this markdown cell, give an overview of the dataset you are using. Also mention the task you will be performing.\n",
        "\n",
        "\n",
        "TODO: Get data. In the cell below, write code to access the data you will be using in this project. Remember that the dataset needs to be external."
      ],
      "metadata": {}
    },
    {
      "cell_type": "code",
      "source": [
        "session_id = \"268861\"\n",
        "subscription_id= \"d7f39349-a66b-446e-aba6-0053c2cf1c11\"\n",
        "resource_group= f\"aml-quickstarts-{session_id}\"\n",
        "workspace_name= f\"quick-starts-ws-{session_id}\"\n",
        "\n",
        "ws = Workspace.get(name=workspace_name, subscription_id=subscription_id, resource_group=resource_group)\n",
        "print(ws.name, ws.resource_group, ws.location, ws.subscription_id, sep = '\\n')\n",
        "\n",
        "# choose a name for experiment\n",
        "experiment_name = 'automl-exp'\n",
        "project_folder = './capstone'\n",
        "experiment=Experiment(ws, experiment_name)\n",
        "experiment"
      ],
      "outputs": [
        {
          "output_type": "stream",
          "name": "stdout",
          "text": "quick-starts-ws-268861\naml-quickstarts-268861\nwestus2\nd7f39349-a66b-446e-aba6-0053c2cf1c11\n"
        },
        {
          "output_type": "execute_result",
          "execution_count": 4,
          "data": {
            "text/plain": "Experiment(Name: automl-exp,\nWorkspace: quick-starts-ws-268861)",
            "text/html": "<table style=\"width:100%\"><tr><th>Name</th><th>Workspace</th><th>Report Page</th><th>Docs Page</th></tr><tr><td>automl-exp</td><td>quick-starts-ws-268861</td><td><a href=\"https://ml.azure.com/experiments/id/c53474ba-efee-4c6e-befe-b3cedcc3791b?wsid=/subscriptions/d7f39349-a66b-446e-aba6-0053c2cf1c11/resourcegroups/aml-quickstarts-268861/workspaces/quick-starts-ws-268861&amp;tid=660b3398-b80e-49d2-bc5b-ac1dc93b5254\" target=\"_blank\" rel=\"noopener\">Link to Azure Machine Learning studio</a></td><td><a href=\"https://docs.microsoft.com/en-us/python/api/azureml-core/azureml.core.experiment.Experiment?view=azure-ml-py\" target=\"_blank\" rel=\"noopener\">Link to Documentation</a></td></tr></table>"
          },
          "metadata": {}
        }
      ],
      "execution_count": 4,
      "metadata": {
        "gather": {
          "logged": 1729326630391
        },
        "jupyter": {
          "outputs_hidden": false,
          "source_hidden": false
        },
        "nteract": {
          "transient": {
            "deleting": false
          }
        }
      }
    },
    {
      "cell_type": "code",
      "source": [
        "\n",
        "\n",
        "# Try to load the dataset from the Workspace. Otherwise, create it from the file\n",
        "# NOTE: update the key to match the dataset name\n",
        "found = False\n",
        "key = \"heart-failure\"\n",
        "description_text = \"Heart Failure Prediction Dataset\"\n",
        "\n",
        "if key in ws.datasets.keys(): \n",
        "        found = True\n",
        "        dataset = ws.datasets[key] \n",
        "\n",
        "if not found:\n",
        "        # Create AML Dataset and register it into Workspace\n",
        "        example_data = 'https://raw.githubusercontent.com/hknguyen20/nd00333-capstone/refs/heads/master/heart.csv'\n",
        "        dataset = Dataset.Tabular.from_delimited_files(example_data)        \n",
        "        #Register Dataset in Workspace\n",
        "        dataset = dataset.register(workspace=ws,\n",
        "                                   name=key,\n",
        "                                   description=description_text)\n",
        "df = dataset.to_pandas_dataframe()\n",
        "df.head()\n"
      ],
      "outputs": [
        {
          "output_type": "stream",
          "name": "stdout",
          "text": "{'infer_column_types': 'False', 'activity': 'to_pandas_dataframe'}\n{'infer_column_types': 'False', 'activity': 'to_pandas_dataframe', 'activityApp': 'TabularDataset'}\n"
        },
        {
          "output_type": "execute_result",
          "execution_count": 5,
          "data": {
            "text/plain": "   Age Sex ChestPainType  RestingBP  Cholesterol  FastingBS RestingECG  MaxHR  \\\n0   40   M           ATA        140          289      False     Normal    172   \n1   49   F           NAP        160          180      False     Normal    156   \n2   37   M           ATA        130          283      False         ST     98   \n3   48   F           ASY        138          214      False     Normal    108   \n4   54   M           NAP        150          195      False     Normal    122   \n\n   ExerciseAngina  Oldpeak ST_Slope  HeartDisease  \n0           False      0.0       Up         False  \n1           False      1.0     Flat          True  \n2           False      0.0       Up         False  \n3            True      1.5     Flat          True  \n4           False      0.0       Up         False  ",
            "text/html": "<div>\n<style scoped>\n    .dataframe tbody tr th:only-of-type {\n        vertical-align: middle;\n    }\n\n    .dataframe tbody tr th {\n        vertical-align: top;\n    }\n\n    .dataframe thead th {\n        text-align: right;\n    }\n</style>\n<table border=\"1\" class=\"dataframe\">\n  <thead>\n    <tr style=\"text-align: right;\">\n      <th></th>\n      <th>Age</th>\n      <th>Sex</th>\n      <th>ChestPainType</th>\n      <th>RestingBP</th>\n      <th>Cholesterol</th>\n      <th>FastingBS</th>\n      <th>RestingECG</th>\n      <th>MaxHR</th>\n      <th>ExerciseAngina</th>\n      <th>Oldpeak</th>\n      <th>ST_Slope</th>\n      <th>HeartDisease</th>\n    </tr>\n  </thead>\n  <tbody>\n    <tr>\n      <th>0</th>\n      <td>40</td>\n      <td>M</td>\n      <td>ATA</td>\n      <td>140</td>\n      <td>289</td>\n      <td>False</td>\n      <td>Normal</td>\n      <td>172</td>\n      <td>False</td>\n      <td>0.0</td>\n      <td>Up</td>\n      <td>False</td>\n    </tr>\n    <tr>\n      <th>1</th>\n      <td>49</td>\n      <td>F</td>\n      <td>NAP</td>\n      <td>160</td>\n      <td>180</td>\n      <td>False</td>\n      <td>Normal</td>\n      <td>156</td>\n      <td>False</td>\n      <td>1.0</td>\n      <td>Flat</td>\n      <td>True</td>\n    </tr>\n    <tr>\n      <th>2</th>\n      <td>37</td>\n      <td>M</td>\n      <td>ATA</td>\n      <td>130</td>\n      <td>283</td>\n      <td>False</td>\n      <td>ST</td>\n      <td>98</td>\n      <td>False</td>\n      <td>0.0</td>\n      <td>Up</td>\n      <td>False</td>\n    </tr>\n    <tr>\n      <th>3</th>\n      <td>48</td>\n      <td>F</td>\n      <td>ASY</td>\n      <td>138</td>\n      <td>214</td>\n      <td>False</td>\n      <td>Normal</td>\n      <td>108</td>\n      <td>True</td>\n      <td>1.5</td>\n      <td>Flat</td>\n      <td>True</td>\n    </tr>\n    <tr>\n      <th>4</th>\n      <td>54</td>\n      <td>M</td>\n      <td>NAP</td>\n      <td>150</td>\n      <td>195</td>\n      <td>False</td>\n      <td>Normal</td>\n      <td>122</td>\n      <td>False</td>\n      <td>0.0</td>\n      <td>Up</td>\n      <td>False</td>\n    </tr>\n  </tbody>\n</table>\n</div>"
          },
          "metadata": {}
        }
      ],
      "execution_count": 5,
      "metadata": {
        "gather": {
          "logged": 1729326642341
        }
      }
    },
    {
      "cell_type": "markdown",
      "source": [
        "## AutoML Configuration\n",
        "\n",
        "TODO: Explain why you chose the automl settings and cofiguration you used below."
      ],
      "metadata": {}
    },
    {
      "cell_type": "code",
      "source": [
        "from azureml.core.compute import AmlCompute\n",
        "from azureml.core.compute import ComputeTarget\n",
        "from azureml.core.compute_target import ComputeTargetException\n",
        "\n",
        "# NOTE: update the cluster name to match the existing cluster\n",
        "# Choose a name for your CPU cluster\n",
        "amlcompute_cluster_name = \"compute-cluster-1\"\n",
        "\n",
        "# Verify that cluster does not exist already\n",
        "try:\n",
        "    compute_target = ComputeTarget(workspace=ws, name=amlcompute_cluster_name)\n",
        "    print('Found existing cluster, use it.')\n",
        "except ComputeTargetException:\n",
        "    compute_config = AmlCompute.provisioning_configuration(vm_size='STANDARD_D3_v2',# for GPU, use \"STANDARD_NC6\"\n",
        "                                                           vm_priority = 'lowpriority', # optional\n",
        "                                                           min_nodes=1,\n",
        "                                                           max_nodes=5)\n",
        "    compute_target = ComputeTarget.create(ws, amlcompute_cluster_name, compute_config)\n",
        "\n",
        "compute_target.wait_for_completion(show_output=True, min_node_count = 1, timeout_in_minutes = 10)"
      ],
      "outputs": [
        {
          "output_type": "stream",
          "name": "stdout",
          "text": "InProgress..\nSucceededProvisioning operation finished, operation \"Succeeded\"\nSucceeded..................\nAmlCompute wait for completion finished\n\nMinimum number of nodes requested have been provisioned\n"
        }
      ],
      "execution_count": 6,
      "metadata": {
        "gather": {
          "logged": 1729326753666
        }
      }
    },
    {
      "cell_type": "code",
      "source": [
        "# TODO: Put your automl settings here\n",
        "automl_settings = {\n",
        "    \"experiment_timeout_minutes\": 30,\n",
        "    \"max_concurrent_iterations\": 5,\n",
        "    \"primary_metric\" : 'accuracy',\n",
        "    \"enable_early_stopping\": True,\n",
        "}\n",
        "\n",
        "# TODO: Put your automl config here\n",
        "automl_config = AutoMLConfig(compute_target=compute_target,\n",
        "                             task = \"classification\",\n",
        "                             training_data=dataset,\n",
        "                             test_size=0.2,\n",
        "                             label_column_name=\"HeartDisease\",   \n",
        "                             path = project_folder,\n",
        "                             featurization= 'auto',\n",
        "                             debug_log = \"automl_errors.log\",\n",
        "                             **automl_settings\n",
        "                            )"
      ],
      "outputs": [],
      "execution_count": 22,
      "metadata": {
        "gather": {
          "logged": 1729333197538
        },
        "jupyter": {
          "outputs_hidden": false,
          "source_hidden": false
        },
        "nteract": {
          "transient": {
            "deleting": false
          }
        }
      }
    },
    {
      "cell_type": "code",
      "source": [
        "# TODO: Submit your experiment\n",
        "automl_run = experiment.submit(automl_config)"
      ],
      "outputs": [
        {
          "output_type": "stream",
          "name": "stdout",
          "text": "Submitting remote run.\n"
        },
        {
          "output_type": "display_data",
          "data": {
            "text/html": "<table style=\"width:100%\"><tr><th>Experiment</th><th>Id</th><th>Type</th><th>Status</th><th>Details Page</th><th>Docs Page</th></tr><tr><td>automl-exp</td><td>AutoML_0962bc2d-562e-4cb9-8001-1f1ef1747521</td><td>automl</td><td>NotStarted</td><td><a href=\"https://ml.azure.com/runs/AutoML_0962bc2d-562e-4cb9-8001-1f1ef1747521?wsid=/subscriptions/d7f39349-a66b-446e-aba6-0053c2cf1c11/resourcegroups/aml-quickstarts-268861/workspaces/quick-starts-ws-268861&amp;tid=660b3398-b80e-49d2-bc5b-ac1dc93b5254\" target=\"_blank\" rel=\"noopener\">Link to Azure Machine Learning studio</a></td><td><a href=\"https://docs.microsoft.com/en-us/python/api/overview/azure/ml/intro?view=azure-ml-py\" target=\"_blank\" rel=\"noopener\">Link to Documentation</a></td></tr></table>"
          },
          "metadata": {}
        }
      ],
      "execution_count": 23,
      "metadata": {
        "gather": {
          "logged": 1729333208245
        },
        "jupyter": {
          "outputs_hidden": false,
          "source_hidden": false
        },
        "nteract": {
          "transient": {
            "deleting": false
          }
        }
      }
    },
    {
      "cell_type": "markdown",
      "source": [
        "## Run Details\n",
        "\n",
        "OPTIONAL: Write about the different models trained and their performance. Why do you think some models did better than others?\n",
        "\n",
        "TODO: In the cell below, use the `RunDetails` widget to show the different experiments."
      ],
      "metadata": {}
    },
    {
      "cell_type": "code",
      "source": [
        "from azureml.widgets import RunDetails\n",
        "RunDetails(automl_run).show()\n",
        "automl_run.wait_for_completion(show_output=True)"
      ],
      "outputs": [
        {
          "output_type": "display_data",
          "data": {
            "text/plain": "_AutoMLWidget(widget_settings={'childWidgetDisplay': 'popup', 'send_telemetry': False, 'log_level': 'INFO', 's…",
            "application/vnd.jupyter.widget-view+json": {
              "version_major": 2,
              "version_minor": 0,
              "model_id": "dbdcc4e071144786bac11f6686a1624d"
            }
          },
          "metadata": {}
        },
        {
          "output_type": "display_data",
          "data": {
            "application/aml.mini.widget.v1": "{\"status\": \"Completed\", \"workbench_run_details_uri\": \"https://ml.azure.com/runs/AutoML_0962bc2d-562e-4cb9-8001-1f1ef1747521?wsid=/subscriptions/d7f39349-a66b-446e-aba6-0053c2cf1c11/resourcegroups/aml-quickstarts-268861/workspaces/quick-starts-ws-268861&tid=660b3398-b80e-49d2-bc5b-ac1dc93b5254\", \"run_id\": \"AutoML_0962bc2d-562e-4cb9-8001-1f1ef1747521\", \"run_properties\": {\"run_id\": \"AutoML_0962bc2d-562e-4cb9-8001-1f1ef1747521\", \"created_utc\": \"2024-10-19T10:20:07.474306Z\", \"properties\": {\"num_iterations\": \"1000\", \"training_type\": \"TrainFull\", \"acquisition_function\": \"EI\", \"primary_metric\": \"accuracy\", \"train_split\": \"0\", \"acquisition_parameter\": \"0\", \"num_cross_validation\": null, \"target\": \"compute-cluster-1\", \"AMLSettingsJsonString\": \"{\\\"path\\\":null,\\\"name\\\":\\\"automl-exp\\\",\\\"subscription_id\\\":\\\"d7f39349-a66b-446e-aba6-0053c2cf1c11\\\",\\\"resource_group\\\":\\\"aml-quickstarts-268861\\\",\\\"workspace_name\\\":\\\"quick-starts-ws-268861\\\",\\\"region\\\":\\\"westus2\\\",\\\"compute_target\\\":\\\"compute-cluster-1\\\",\\\"spark_service\\\":null,\\\"azure_service\\\":\\\"remote\\\",\\\"many_models\\\":false,\\\"pipeline_fetch_max_batch_size\\\":1,\\\"enable_batch_run\\\":true,\\\"enable_parallel_run\\\":false,\\\"num_procs\\\":null,\\\"enable_run_restructure\\\":false,\\\"start_auxiliary_runs_before_parent_complete\\\":true,\\\"enable_code_generation\\\":true,\\\"force_curated_environment\\\":false,\\\"iterations\\\":1000,\\\"primary_metric\\\":\\\"accuracy\\\",\\\"task_type\\\":\\\"classification\\\",\\\"positive_label\\\":null,\\\"data_script\\\":null,\\\"test_size\\\":0.2,\\\"test_include_predictions_only\\\":false,\\\"validation_size\\\":0.0,\\\"n_cross_validations\\\":null,\\\"y_min\\\":null,\\\"y_max\\\":null,\\\"num_classes\\\":null,\\\"featurization\\\":\\\"auto\\\",\\\"_ignore_package_version_incompatibilities\\\":false,\\\"is_timeseries\\\":false,\\\"max_cores_per_iteration\\\":1,\\\"max_concurrent_iterations\\\":5,\\\"iteration_timeout_minutes\\\":null,\\\"mem_in_mb\\\":null,\\\"enforce_time_on_windows\\\":false,\\\"experiment_timeout_minutes\\\":30,\\\"experiment_exit_score\\\":null,\\\"partition_column_names\\\":null,\\\"whitelist_models\\\":null,\\\"blacklist_algos\\\":[\\\"TensorFlowLinearClassifier\\\",\\\"TensorFlowDNN\\\"],\\\"supported_models\\\":[\\\"GradientBoosting\\\",\\\"LogisticRegression\\\",\\\"XGBoostClassifier\\\",\\\"LightGBM\\\",\\\"KNN\\\",\\\"TensorFlowLinearClassifier\\\",\\\"RandomForest\\\",\\\"AveragedPerceptronClassifier\\\",\\\"SVM\\\",\\\"TensorFlowDNN\\\",\\\"MultinomialNaiveBayes\\\",\\\"DecisionTree\\\",\\\"LinearSVM\\\",\\\"BernoulliNaiveBayes\\\",\\\"TabnetClassifier\\\",\\\"SGD\\\",\\\"ExtremeRandomTrees\\\"],\\\"private_models\\\":[],\\\"auto_blacklist\\\":true,\\\"blacklist_samples_reached\\\":false,\\\"exclude_nan_labels\\\":true,\\\"verbosity\\\":20,\\\"_debug_log\\\":\\\"azureml_automl.log\\\",\\\"show_warnings\\\":false,\\\"model_explainability\\\":true,\\\"service_url\\\":null,\\\"sdk_url\\\":null,\\\"sdk_packages\\\":null,\\\"enable_onnx_compatible_models\\\":false,\\\"enable_split_onnx_featurizer_estimator_models\\\":false,\\\"vm_type\\\":\\\"STANDARD_D3_v2\\\",\\\"telemetry_verbosity\\\":20,\\\"send_telemetry\\\":true,\\\"enable_dnn\\\":false,\\\"scenario\\\":\\\"AutoML\\\",\\\"environment_label\\\":null,\\\"save_mlflow\\\":false,\\\"enable_categorical_indicators\\\":false,\\\"force_text_dnn\\\":false,\\\"enable_feature_sweeping\\\":true,\\\"enable_early_stopping\\\":true,\\\"early_stopping_n_iters\\\":10,\\\"arguments\\\":null,\\\"dataset_id\\\":\\\"97f881ff-9258-42d9-8670-ecfc0056ef88\\\",\\\"hyperdrive_config\\\":null,\\\"validation_dataset_id\\\":null,\\\"run_source\\\":null,\\\"metrics\\\":null,\\\"enable_metric_confidence\\\":false,\\\"enable_ensembling\\\":true,\\\"enable_stack_ensembling\\\":true,\\\"ensemble_iterations\\\":15,\\\"enable_tf\\\":false,\\\"enable_subsampling\\\":null,\\\"subsample_seed\\\":null,\\\"enable_nimbusml\\\":false,\\\"enable_streaming\\\":false,\\\"force_streaming\\\":false,\\\"track_child_runs\\\":true,\\\"n_best_runs\\\":1,\\\"allowed_private_models\\\":[],\\\"label_column_name\\\":\\\"HeartDisease\\\",\\\"weight_column_name\\\":null,\\\"cv_split_column_names\\\":null,\\\"enable_local_managed\\\":false,\\\"_local_managed_run_id\\\":null,\\\"cost_mode\\\":1,\\\"lag_length\\\":0,\\\"metric_operation\\\":\\\"maximize\\\",\\\"preprocess\\\":true}\", \"DataPrepJsonString\": \"{\\\\\\\"training_data\\\\\\\": {\\\\\\\"datasetId\\\\\\\": \\\\\\\"97f881ff-9258-42d9-8670-ecfc0056ef88\\\\\\\"}, \\\\\\\"datasets\\\\\\\": 0}\", \"EnableSubsampling\": null, \"runTemplate\": \"AutoML\", \"azureml.runsource\": \"automl\", \"display_task_type\": \"classification\", \"dependencies_versions\": \"{\\\"azureml-automl-runtime\\\": \\\"1.58.0\\\", \\\"azureml-inference-server-http\\\": \\\"1.2.2\\\", \\\"azureml-contrib-server\\\": \\\"1.57.0\\\", \\\"azureml-sdk\\\": \\\"1.58.0\\\", \\\"azureml-train-automl-runtime\\\": \\\"1.58.0\\\", \\\"azureml-train-automl-client\\\": \\\"1.58.0\\\", \\\"azureml-training-tabular\\\": \\\"1.58.0\\\", \\\"azureml-opendatasets\\\": \\\"1.57.0\\\", \\\"azureml-cli-common\\\": \\\"1.57.0\\\", \\\"azureml-automl-dnn-nlp\\\": \\\"1.57.0\\\", \\\"azureml-automl-core\\\": \\\"1.58.0\\\", \\\"azureml-dataprep-native\\\": \\\"41.0.0\\\", \\\"azureml-contrib-automl-pipeline-steps\\\": \\\"1.57.0\\\", \\\"azureml-widgets\\\": \\\"1.58.0\\\", \\\"azureml-dataprep-rslex\\\": \\\"2.22.2\\\", \\\"azureml-core\\\": \\\"1.58.0\\\", \\\"azureml-pipeline\\\": \\\"1.58.0\\\", \\\"azureml-train\\\": \\\"1.57.0\\\", \\\"azureml-train-restclients-hyperdrive\\\": \\\"1.58.0\\\", \\\"azureml-datadrift\\\": \\\"1.57.0\\\", \\\"azureml-mlflow\\\": \\\"1.58.0\\\", \\\"azureml-tensorboard\\\": \\\"1.57.0\\\", \\\"azureml-contrib-reinforcementlearning\\\": \\\"1.57.0\\\", \\\"azureml-contrib-pipeline-steps\\\": \\\"1.57.0\\\", \\\"azureml-responsibleai\\\": \\\"1.58.0\\\", \\\"azureml-pipeline-steps\\\": \\\"1.58.0\\\", \\\"azureml-contrib-dataset\\\": \\\"1.57.0\\\", \\\"azureml-dataprep\\\": \\\"5.1.6\\\", \\\"azureml-interpret\\\": \\\"1.58.0\\\", \\\"azureml-dataset-runtime\\\": \\\"1.58.0\\\", \\\"azureml-contrib-notebook\\\": \\\"1.58.0\\\", \\\"azureml-fsspec\\\": \\\"1.3.1\\\", \\\"azureml-contrib-services\\\": \\\"1.57.0\\\", \\\"azureml-train-core\\\": \\\"1.58.0\\\", \\\"azureml-accel-models\\\": \\\"1.57.0\\\", \\\"azureml-telemetry\\\": \\\"1.58.0\\\", \\\"azureml-train-automl\\\": \\\"1.58.0\\\", \\\"azureml-defaults\\\": \\\"1.57.0\\\", \\\"azureml-contrib-fairness\\\": \\\"1.57.0\\\", \\\"azureml-pipeline-core\\\": \\\"1.58.0\\\"}\", \"_aml_system_scenario_identification\": \"Remote.Parent\", \"ClientType\": \"SDK\", \"PlatformVersion\": \"DPV1\", \"environment_cpu_name\": \"AzureML-ai-ml-automl\", \"environment_cpu_label\": \"5\", \"environment_gpu_name\": \"AzureML-ai-ml-automl-gpu\", \"environment_gpu_label\": \"5\", \"root_attribution\": \"automl\", \"attribution\": \"AutoML\", \"Orchestrator\": \"AutoML\", \"CancelUri\": \"https://westus2.api.azureml.ms/jasmine/v1.0/subscriptions/d7f39349-a66b-446e-aba6-0053c2cf1c11/resourceGroups/aml-quickstarts-268861/providers/Microsoft.MachineLearningServices/workspaces/quick-starts-ws-268861/experimentids/c53474ba-efee-4c6e-befe-b3cedcc3791b/cancel/AutoML_0962bc2d-562e-4cb9-8001-1f1ef1747521\", \"ClientSdkVersion\": null, \"snapshotId\": \"00000000-0000-0000-0000-000000000000\", \"SetupRunId\": \"AutoML_0962bc2d-562e-4cb9-8001-1f1ef1747521_setup\", \"SetupRunContainerId\": \"dcid.AutoML_0962bc2d-562e-4cb9-8001-1f1ef1747521_setup\", \"FeaturizationRunJsonPath\": \"featurizer_container.json\", \"FeaturizationRunId\": \"AutoML_0962bc2d-562e-4cb9-8001-1f1ef1747521_featurize\", \"ProblemInfoJsonString\": \"{\\\"dataset_num_categorical\\\": 0, \\\"is_sparse\\\": true, \\\"subsampling\\\": false, \\\"has_extra_col\\\": true, \\\"dataset_classes\\\": 2, \\\"dataset_features\\\": 18, \\\"dataset_samples\\\": 734, \\\"single_frequency_class_detected\\\": false}\", \"ModelExplainRunId\": \"AutoML_0962bc2d-562e-4cb9-8001-1f1ef1747521_ModelExplain\"}, \"tags\": {\"model_explain_run\": \"best_run\", \"_aml_system_automl_run_workspace_id\": \"638c8e90-ac7a-4d80-bc95-d641615c0d00\", \"_aml_system_azureml.automlComponent\": \"AutoML\", \"pipeline_id_000\": \"5dfac790c5c209f98a1da2dc1c7fb76f0397324f;3735210984ea10097d5c91905cf6300ac278cd89;c7af0367625be6ac5c2fecbfc72ed444cb7a2111;5304e705d6f401cb07f85bcf0ca59ac1f84dfcf5;79ebb3b8c385e3190e3dd4c1fa28b74730528045;294650ec23bc3d067a4972de7ceb12f6e97260fa;799d2168db11fc19b9e1c6c1df62f8981ad39fe9;589334a57221e0720a95cf217c065115a7b841d1;3caa818370e5e0c328d6266c359019bd31681270;44b5d2d23120dfcf96a7dc6389a293d17a966b1b;5a8eb9d9f67b1dd7e9e4062585daa2417ea78989;5235e3d56688f5f38ef82d73fba7c2e698fc1af2;35b8e2db3c5f6e714072e1be9f0210fe48426975;17f87d449bb43aaf3cdae4b7eb6dd6e7fbdaf343;dc68fbd594530b5d52812dd9b3ffa3d6d8ba625e;2032292dd602836ed754a266c771ac100c4c80dc;fedbb4995d6de479c513576119965d71276f03d1;1b9ea9b05e1aba0cfbaa30fae26f336a29920979;e478544eb8734c07a1943f5bdf4e6605be6943df;3ef9040509da05037cd402691a100d4b3dfeb7c4;9602d4aae4ece79c353abeaacf0892c8a66ff4e5;f52e31edb9a1c79d3094620546ebbc7788edbaf8;da45f657e4591caadf1589a85a1f7b8932585595;675ec1c734ed516311cf5441a13a05b407df5a00;797e3e972ad02d947be4c64d2b06b775b6df7a49;3fd2e115482e0c7b92aa3297688aefb6c3aa6fb8;1dfdf370ba770047b14bfa59c40920815defcdab;d6d725f0936ff7247989616da72020c7157c214b;b835115666eb4e8c7c8156d7650ae26cc1e67e40;896c710cf2dc5c2c505bc13980b23dd558e80f80;7c7b5d1768118e4b28cbfebee8d28bcf7ea9db5e;39e9c3f089ad24919993f3211fc3c80c3b7d5981;82dfe58d2c609c305a566ff0d3c93ac72241db11;aecbf0314969a8316646a3dc578c706aabfe31da;3703878c66c5d80d8797d7576129463ca4498aa8;48953f75afa68927ee7c45bab348319a904ba5e8;9c1c861df8fb2b569c98752c7079b67a0c5ff001;34ad4461c7d1561bf6834017d2874e7af8dc8e19;69180821e243f61735157eddcb44ae6a4b427268;1be96cd8829e5afe89eee3c3ef42af8c90feca6b;9505717f9f8bcba257abb4e73e4c1ef01a8e98a6;6b6ae77c422a7a705ab99ed84674fac9dc4fa2ce;a6bbdf77aab0a1193c3a279930f167d53520300a;93f20a2e04d062ab6b6c7b6d79bfaae7239ddee4;5bee9982db6f4ff91096ecbe864d36978856ce2a;6a2b35880c42d665c56ec15662dda287c4b1d914;__AutoML_Ensemble__;__AutoML_Stack_Ensemble__\", \"score_000\": \"0.8502406516105147;0.8556090336912255;0.8638467234357646;0.8556275453535728;0.851462421325435;0.8393372824879675;0.8393002591632728;0.86653091447612;0.8433358015549797;0.8542761940022213;0.8556090336912254;0.8474268789337283;0.8679563124768604;0.8637726767863754;0.8569233617178822;0.8406330988522768;0.8515179563124768;0.8555905220288782;0.8502221399481673;0.8501480932987784;0.8501666049611254;0.8501480932987782;0.8501480932987782;0.6213624583487597;0.8460570159200296;0.862347278785635;0.8665124028137727;0.8719918548685672;0.8488152536097742;0.8583117363939282;0.8460570159200296;0.8719363198815253;0.8352276934468715;0.8678452425027767;0.8624213254350239;0.8160681229174379;0.8501480932987782;0.841965938541281;0.8679007774898185;0.8501480932987782;0.8651425398000739;0.8610699740836727;0.8406516105146242;NaN;0.8502036282858201;NaN;0.8828767123287671;0.8733246945575713\", \"predicted_cost_000\": \"0;0.5;0;0.5;0.5;0.5;0.5;0.5;0.5;0.5;0.5;0.5;0.5;0.5;0.5;0.5;0.3007049459341831;0.04144374232948221;0.08992221922149672;0.11010123794667707;0.15579216581545907;0.3156063293744564;0.5;0.3244586554266861;0.5;0.5;0.5;0.08620417415193524;0.04080639349953895;0.02839608002236457;0.06538008236715878;0.06611139220477978;0.01108263515940712;0.04180656403017883;0.18593050969825464;0.005643284011445164;0.054662590736480894;0.0502283551245926;0.06972738253904699;0.05479679118477753;0.07317113534735717;0.09127653052793645;0.0277866762948435;0.03366093091412005;0.025680698093721994;0.06796193393142871;0;0\", \"fit_time_000\": \"0.052761800000000005;0.0134457;0.3599255;0.0110577;0.060189199999999984;0.0645193;0.25344259999999996;0.08979509999999999;0.0221298;0.0633839;0.024723600000000002;0.0578715;0.0885054;0.1059533;0.1573358;0.33555339999999995;0.5588396;0.10326609999999999;0.1506853;0.027436300000000004;0.29935189999999995;0.020932100000000002;0.024262300000000004;0.25493180000000004;0.0084468;0.0827966;0.390271;0.075232;0.0544737;0.015937600000000003;0.09275829999999999;0.0161415;0.011308099999999998;0.15465050000000002;1.0629290999999998;0.010462799999999998;0.0165548;0.22307040000000003;0.1566046;0.1704385;0.038817500000000005;0.1147264;0.0308823;NaN;0.020535599999999998;NaN;54;50\", \"training_percent_000\": \"100;100;100;100;100;100;100;100;100;100;100;100;100;100;100;100;100;100;100;100;100;100;100;100;100;100;100;100;100;100;100;100;100;100;100;100;100;100;100;100;100;100;100;100;100;100;100;100\", \"iteration_000\": \"0;4;1;5;8;6;2;9;7;3;10;16;11;17;18;19;20;22;21;25;26;24;12;23;13;14;15;28;29;27;30;32;31;33;34;35;37;36;38;39;40;41;42;45;43;44;46;47\", \"run_preprocessor_000\": \"MaxAbsScaler;MaxAbsScaler;MaxAbsScaler;MaxAbsScaler;StandardScalerWrapper;StandardScalerWrapper;MaxAbsScaler;StandardScalerWrapper;MaxAbsScaler;SparseNormalizer;SparseNormalizer;StandardScalerWrapper;StandardScalerWrapper;StandardScalerWrapper;StandardScalerWrapper;TruncatedSVDWrapper;TruncatedSVDWrapper;SparseNormalizer;StandardScalerWrapper;StandardScalerWrapper;MaxAbsScaler;StandardScalerWrapper;MaxAbsScaler;TruncatedSVDWrapper;MaxAbsScaler;StandardScalerWrapper;SparseNormalizer;StandardScalerWrapper;StandardScalerWrapper;MaxAbsScaler;StandardScalerWrapper;MaxAbsScaler;MaxAbsScaler;SparseNormalizer;SparseNormalizer;MaxAbsScaler;MaxAbsScaler;MaxAbsScaler;SparseNormalizer;SparseNormalizer;SparseNormalizer;MaxAbsScaler;StandardScalerWrapper;;SparseNormalizer;;;\", \"run_algorithm_000\": \"LightGBM;LightGBM;XGBoostClassifier;LightGBM;ExtremeRandomTrees;XGBoostClassifier;ExtremeRandomTrees;XGBoostClassifier;LogisticRegression;XGBoostClassifier;LightGBM;LogisticRegression;XGBoostClassifier;RandomForest;XGBoostClassifier;RandomForest;RandomForest;XGBoostClassifier;XGBoostClassifier;RandomForest;RandomForest;LogisticRegression;LogisticRegression;XGBoostClassifier;SGD;XGBoostClassifier;RandomForest;LightGBM;XGBoostClassifier;LightGBM;XGBoostClassifier;LightGBM;LightGBM;XGBoostClassifier;ExtremeRandomTrees;LightGBM;LogisticRegression;ExtremeRandomTrees;RandomForest;RandomForest;LightGBM;RandomForest;RandomForest;;LightGBM;;VotingEnsemble;StackEnsemble\", \"dynamic_allowlisting_iterations\": \"<23>;<30>;<35>;<40>;<45>;\", \"_aml_system_azureml.automl_early_exit_message\": \"No scores improved over last 10 iterations, so experiment stopped early. This early stopping behavior can be disabled by setting enable_early_stopping = False in AutoMLConfig for notebook/python SDK runs.\", \"automl_best_child_run_id\": \"AutoML_0962bc2d-562e-4cb9-8001-1f1ef1747521_46\", \"model_explain_best_run_child_id\": \"AutoML_0962bc2d-562e-4cb9-8001-1f1ef1747521_46\"}, \"end_time_utc\": \"2024-10-19T10:37:18.9365Z\", \"status\": \"Completed\", \"log_files\": {}, \"log_groups\": [], \"run_duration\": \"0:17:11\", \"run_number\": \"1729333207\", \"run_queued_details\": {\"status\": \"Completed\", \"details\": null}}, \"child_runs\": [{\"run_id\": \"AutoML_0962bc2d-562e-4cb9-8001-1f1ef1747521_setup\", \"run_number\": 1729333219, \"metric\": null, \"status\": \"Completed\", \"run_type\": \"azureml.scriptrun\", \"training_percent\": null, \"start_time\": \"2024-10-19T10:20:52.99132Z\", \"end_time\": \"2024-10-19T10:21:33.025027Z\", \"created_time\": \"2024-10-19T10:20:19.454123Z\", \"created_time_dt\": \"2024-10-19T10:20:19.454123Z\", \"duration\": \"0:01:13\", \"iteration\": null, \"goal\": null, \"run_name\": \"Completed\", \"run_properties\": null}, {\"run_id\": \"AutoML_0962bc2d-562e-4cb9-8001-1f1ef1747521_featurize\", \"run_number\": 1729333293, \"metric\": null, \"status\": \"Completed\", \"run_type\": \"automl.featurization\", \"training_percent\": null, \"start_time\": \"2024-10-19T10:21:33.632382Z\", \"end_time\": \"2024-10-19T10:25:08.923285Z\", \"created_time\": \"2024-10-19T10:21:33.404628Z\", \"created_time_dt\": \"2024-10-19T10:21:33.404628Z\", \"duration\": \"0:03:35\", \"iteration\": null, \"goal\": null, \"run_name\": \"Completed\", \"run_properties\": null}, {\"run_id\": \"AutoML_0962bc2d-562e-4cb9-8001-1f1ef1747521_0\", \"run_number\": 1729333510, \"metric\": null, \"status\": \"Completed\", \"run_type\": null, \"training_percent\": \"100\", \"start_time\": \"2024-10-19T10:26:07.218289Z\", \"end_time\": \"2024-10-19T10:26:15.490634Z\", \"created_time\": \"2024-10-19T10:25:10.41342Z\", \"created_time_dt\": \"2024-10-19T10:25:10.41342Z\", \"duration\": \"0:01:05\", \"iteration\": \"0\", \"goal\": \"accuracy_max\", \"run_name\": \"MaxAbsScaler, LightGBM\", \"run_properties\": null, \"primary_metric\": 0.85024065, \"best_metric\": 0.85024065}, {\"run_id\": \"AutoML_0962bc2d-562e-4cb9-8001-1f1ef1747521_worker_0\", \"run_number\": 1729333511, \"metric\": null, \"status\": \"Completed\", \"run_type\": \"azureml.scriptrun\", \"training_percent\": null, \"start_time\": \"2024-10-19T10:25:55.26801Z\", \"end_time\": \"2024-10-19T10:27:11.242755Z\", \"created_time\": \"2024-10-19T10:25:11.892793Z\", \"created_time_dt\": \"2024-10-19T10:25:11.892793Z\", \"duration\": \"0:01:59\", \"iteration\": null, \"goal\": null, \"run_name\": \"Completed\", \"run_properties\": null}, {\"run_id\": \"AutoML_0962bc2d-562e-4cb9-8001-1f1ef1747521_4\", \"run_number\": 1729333512, \"metric\": null, \"status\": \"Completed\", \"run_type\": null, \"training_percent\": \"100\", \"start_time\": \"2024-10-19T10:26:10.181409Z\", \"end_time\": \"2024-10-19T10:26:22.757848Z\", \"created_time\": \"2024-10-19T10:25:12.07652Z\", \"created_time_dt\": \"2024-10-19T10:25:12.07652Z\", \"duration\": \"0:01:10\", \"iteration\": \"4\", \"goal\": \"accuracy_max\", \"run_name\": \"MaxAbsScaler, LightGBM\", \"run_properties\": null, \"primary_metric\": 0.85560903, \"best_metric\": 0.85560903}, {\"run_id\": \"AutoML_0962bc2d-562e-4cb9-8001-1f1ef1747521_worker_1\", \"run_number\": 1729333513, \"metric\": null, \"status\": \"Completed\", \"run_type\": \"azureml.scriptrun\", \"training_percent\": null, \"start_time\": \"2024-10-19T10:25:58.269639Z\", \"end_time\": \"2024-10-19T10:27:04.376647Z\", \"created_time\": \"2024-10-19T10:25:13.586193Z\", \"created_time_dt\": \"2024-10-19T10:25:13.586193Z\", \"duration\": \"0:01:50\", \"iteration\": null, \"goal\": null, \"run_name\": \"Completed\", \"run_properties\": null}, {\"run_id\": \"AutoML_0962bc2d-562e-4cb9-8001-1f1ef1747521_9\", \"run_number\": 1729333514, \"metric\": null, \"status\": \"Completed\", \"run_type\": null, \"training_percent\": \"100\", \"start_time\": \"2024-10-19T10:26:40.771946Z\", \"end_time\": \"2024-10-19T10:26:50.815612Z\", \"created_time\": \"2024-10-19T10:25:14.162774Z\", \"created_time_dt\": \"2024-10-19T10:25:14.162774Z\", \"duration\": \"0:01:36\", \"iteration\": \"9\", \"goal\": \"accuracy_max\", \"run_name\": \"StandardScalerWrapper, XGBoostClassifier\", \"run_properties\": \"copy=True, with_mean=False, with_std=False\", \"primary_metric\": 0.86653091, \"best_metric\": 0.86653091}, {\"run_id\": \"AutoML_0962bc2d-562e-4cb9-8001-1f1ef1747521_worker_2\", \"run_number\": 1729333515, \"metric\": null, \"status\": \"Completed\", \"run_type\": \"azureml.scriptrun\", \"training_percent\": null, \"start_time\": \"2024-10-19T10:26:15.102488Z\", \"end_time\": \"2024-10-19T10:27:21.179144Z\", \"created_time\": \"2024-10-19T10:25:15.313479Z\", \"created_time_dt\": \"2024-10-19T10:25:15.313479Z\", \"duration\": \"0:02:05\", \"iteration\": null, \"goal\": null, \"run_name\": \"Completed\", \"run_properties\": null}, {\"run_id\": \"AutoML_0962bc2d-562e-4cb9-8001-1f1ef1747521_worker_3\", \"run_number\": 1729333516, \"metric\": null, \"status\": \"Completed\", \"run_type\": \"azureml.scriptrun\", \"training_percent\": null, \"start_time\": \"2024-10-19T10:26:19.269867Z\", \"end_time\": \"2024-10-19T10:31:53.250797Z\", \"created_time\": \"2024-10-19T10:25:16.931764Z\", \"created_time_dt\": \"2024-10-19T10:25:16.931764Z\", \"duration\": \"0:06:36\", \"iteration\": null, \"goal\": null, \"run_name\": \"Completed\", \"run_properties\": null}, {\"run_id\": \"AutoML_0962bc2d-562e-4cb9-8001-1f1ef1747521_16\", \"run_number\": 1729333517, \"metric\": null, \"status\": \"Completed\", \"run_type\": null, \"training_percent\": \"100\", \"start_time\": \"2024-10-19T10:26:54.977065Z\", \"end_time\": \"2024-10-19T10:27:04.437646Z\", \"created_time\": \"2024-10-19T10:25:17.203549Z\", \"created_time_dt\": \"2024-10-19T10:25:17.203549Z\", \"duration\": \"0:01:47\", \"iteration\": \"16\", \"goal\": \"accuracy_max\", \"run_name\": \"StandardScalerWrapper, LogisticRegression\", \"run_properties\": \"copy=True, with_mean=False, with_std=False\", \"primary_metric\": 0.84742688, \"best_metric\": 0.86653091}, {\"run_id\": \"AutoML_0962bc2d-562e-4cb9-8001-1f1ef1747521_worker_4\", \"run_number\": 1729333518, \"metric\": null, \"status\": \"Completed\", \"run_type\": \"azureml.scriptrun\", \"training_percent\": null, \"start_time\": \"2024-10-19T10:26:41.153547Z\", \"end_time\": \"2024-10-19T10:27:49.333984Z\", \"created_time\": \"2024-10-19T10:25:18.854046Z\", \"created_time_dt\": \"2024-10-19T10:25:18.854046Z\", \"duration\": \"0:02:30\", \"iteration\": null, \"goal\": null, \"run_name\": \"Completed\", \"run_properties\": null}, {\"run_id\": \"AutoML_0962bc2d-562e-4cb9-8001-1f1ef1747521_20\", \"run_number\": 1729333663, \"metric\": null, \"status\": \"Completed\", \"run_type\": \"azureml.scriptrun\", \"training_percent\": \"100\", \"start_time\": \"2024-10-19T10:28:28.361591Z\", \"end_time\": \"2024-10-19T10:29:03.313131Z\", \"created_time\": \"2024-10-19T10:27:43.457758Z\", \"created_time_dt\": \"2024-10-19T10:27:43.457758Z\", \"duration\": \"0:01:19\", \"iteration\": \"20\", \"goal\": \"accuracy_max\", \"run_name\": \"TruncatedSVDWrapper, RandomForest\", \"run_properties\": \"n_components=0.7026315789473684\", \"primary_metric\": 0.85151796, \"best_metric\": 0.86653091}, {\"run_id\": \"AutoML_0962bc2d-562e-4cb9-8001-1f1ef1747521_25\", \"run_number\": 1729333771, \"metric\": null, \"status\": \"Completed\", \"run_type\": \"azureml.scriptrun\", \"training_percent\": \"100\", \"start_time\": \"2024-10-19T10:29:52.7301Z\", \"end_time\": \"2024-10-19T10:30:28.194099Z\", \"created_time\": \"2024-10-19T10:29:31.168601Z\", \"created_time_dt\": \"2024-10-19T10:29:31.168601Z\", \"duration\": \"0:00:57\", \"iteration\": \"25\", \"goal\": \"accuracy_max\", \"run_name\": \"StandardScalerWrapper, RandomForest\", \"run_properties\": \"copy=True, with_mean=False, with_std=False\", \"primary_metric\": 0.85014809, \"best_metric\": 0.86653091}, {\"run_id\": \"AutoML_0962bc2d-562e-4cb9-8001-1f1ef1747521_29\", \"run_number\": 1729333872, \"metric\": null, \"status\": \"Completed\", \"run_type\": \"azureml.scriptrun\", \"training_percent\": \"100\", \"start_time\": \"2024-10-19T10:31:32.368309Z\", \"end_time\": \"2024-10-19T10:32:06.200361Z\", \"created_time\": \"2024-10-19T10:31:12.420087Z\", \"created_time_dt\": \"2024-10-19T10:31:12.420087Z\", \"duration\": \"0:00:53\", \"iteration\": \"29\", \"goal\": \"accuracy_max\", \"run_name\": \"StandardScalerWrapper, XGBoostClassifier\", \"run_properties\": \"copy=True, with_mean=False, with_std=False\", \"primary_metric\": 0.84881525, \"best_metric\": 0.86653091}, {\"run_id\": \"AutoML_0962bc2d-562e-4cb9-8001-1f1ef1747521_30\", \"run_number\": 1729333892, \"metric\": null, \"status\": \"Completed\", \"run_type\": \"azureml.scriptrun\", \"training_percent\": \"100\", \"start_time\": \"2024-10-19T10:32:10.749002Z\", \"end_time\": \"2024-10-19T10:32:46.253106Z\", \"created_time\": \"2024-10-19T10:31:32.558912Z\", \"created_time_dt\": \"2024-10-19T10:31:32.558912Z\", \"duration\": \"0:01:13\", \"iteration\": \"30\", \"goal\": \"accuracy_max\", \"run_name\": \"StandardScalerWrapper, XGBoostClassifier\", \"run_properties\": \"copy=True, with_mean=False, with_std=False\", \"primary_metric\": 0.84605702, \"best_metric\": 0.86653091}, {\"run_id\": \"AutoML_0962bc2d-562e-4cb9-8001-1f1ef1747521_32\", \"run_number\": 1729333926, \"metric\": null, \"status\": \"Completed\", \"run_type\": \"azureml.scriptrun\", \"training_percent\": \"100\", \"start_time\": \"2024-10-19T10:32:29.51783Z\", \"end_time\": \"2024-10-19T10:32:55.990131Z\", \"created_time\": \"2024-10-19T10:32:06.380711Z\", \"created_time_dt\": \"2024-10-19T10:32:06.380711Z\", \"duration\": \"0:00:49\", \"iteration\": \"32\", \"goal\": \"accuracy_max\", \"run_name\": \"MaxAbsScaler, LightGBM\", \"run_properties\": null, \"primary_metric\": 0.87193632, \"best_metric\": 0.87193632}, {\"run_id\": \"AutoML_0962bc2d-562e-4cb9-8001-1f1ef1747521_33\", \"run_number\": 1729333928, \"metric\": null, \"status\": \"Completed\", \"run_type\": \"azureml.scriptrun\", \"training_percent\": \"100\", \"start_time\": \"2024-10-19T10:32:39.335135Z\", \"end_time\": \"2024-10-19T10:33:13.742303Z\", \"created_time\": \"2024-10-19T10:32:08.508256Z\", \"created_time_dt\": \"2024-10-19T10:32:08.508256Z\", \"duration\": \"0:01:05\", \"iteration\": \"33\", \"goal\": \"accuracy_max\", \"run_name\": \"SparseNormalizer, XGBoostClassifier\", \"run_properties\": \"norm='max'\", \"primary_metric\": 0.86784524, \"best_metric\": 0.87193632}, {\"run_id\": \"AutoML_0962bc2d-562e-4cb9-8001-1f1ef1747521_34\", \"run_number\": 1729333944, \"metric\": null, \"status\": \"Completed\", \"run_type\": \"azureml.scriptrun\", \"training_percent\": \"100\", \"start_time\": \"2024-10-19T10:32:56.771079Z\", \"end_time\": \"2024-10-19T10:33:34.68909Z\", \"created_time\": \"2024-10-19T10:32:24.758102Z\", \"created_time_dt\": \"2024-10-19T10:32:24.758102Z\", \"duration\": \"0:01:09\", \"iteration\": \"34\", \"goal\": \"accuracy_max\", \"run_name\": \"SparseNormalizer, ExtremeRandomTrees\", \"run_properties\": \"norm='l1'\", \"primary_metric\": 0.86242133, \"best_metric\": 0.87193632}, {\"run_id\": \"AutoML_0962bc2d-562e-4cb9-8001-1f1ef1747521_35\", \"run_number\": 1729333968, \"metric\": null, \"status\": \"Completed\", \"run_type\": \"azureml.scriptrun\", \"training_percent\": \"100\", \"start_time\": \"2024-10-19T10:33:15.45859Z\", \"end_time\": \"2024-10-19T10:33:46.359872Z\", \"created_time\": \"2024-10-19T10:32:48.711083Z\", \"created_time_dt\": \"2024-10-19T10:32:48.711083Z\", \"duration\": \"0:00:57\", \"iteration\": \"35\", \"goal\": \"accuracy_max\", \"run_name\": \"MaxAbsScaler, LightGBM\", \"run_properties\": null, \"primary_metric\": 0.81606812, \"best_metric\": 0.87193632}, {\"run_id\": \"AutoML_0962bc2d-562e-4cb9-8001-1f1ef1747521_36\", \"run_number\": 1729333977, \"metric\": null, \"status\": \"Completed\", \"run_type\": \"azureml.scriptrun\", \"training_percent\": \"100\", \"start_time\": \"2024-10-19T10:33:20.433795Z\", \"end_time\": \"2024-10-19T10:33:58.54747Z\", \"created_time\": \"2024-10-19T10:32:57.465635Z\", \"created_time_dt\": \"2024-10-19T10:32:57.465635Z\", \"duration\": \"0:01:01\", \"iteration\": \"36\", \"goal\": \"accuracy_max\", \"run_name\": \"MaxAbsScaler, ExtremeRandomTrees\", \"run_properties\": null, \"primary_metric\": 0.84196594, \"best_metric\": 0.87193632}, {\"run_id\": \"AutoML_0962bc2d-562e-4cb9-8001-1f1ef1747521_37\", \"run_number\": 1729333981, \"metric\": null, \"status\": \"Completed\", \"run_type\": \"azureml.scriptrun\", \"training_percent\": \"100\", \"start_time\": \"2024-10-19T10:33:25.981366Z\", \"end_time\": \"2024-10-19T10:33:56.870938Z\", \"created_time\": \"2024-10-19T10:33:01.712036Z\", \"created_time_dt\": \"2024-10-19T10:33:01.712036Z\", \"duration\": \"0:00:55\", \"iteration\": \"37\", \"goal\": \"accuracy_max\", \"run_name\": \"MaxAbsScaler, LogisticRegression\", \"run_properties\": null, \"primary_metric\": 0.85014809, \"best_metric\": 0.87193632}, {\"run_id\": \"AutoML_0962bc2d-562e-4cb9-8001-1f1ef1747521_38\", \"run_number\": 1729333995, \"metric\": null, \"status\": \"Completed\", \"run_type\": \"azureml.scriptrun\", \"training_percent\": \"100\", \"start_time\": \"2024-10-19T10:33:36.582229Z\", \"end_time\": \"2024-10-19T10:34:15.749517Z\", \"created_time\": \"2024-10-19T10:33:15.187388Z\", \"created_time_dt\": \"2024-10-19T10:33:15.187388Z\", \"duration\": \"0:01:00\", \"iteration\": \"38\", \"goal\": \"accuracy_max\", \"run_name\": \"SparseNormalizer, RandomForest\", \"run_properties\": null, \"primary_metric\": 0.86790078, \"best_metric\": 0.87193632}, {\"run_id\": \"AutoML_0962bc2d-562e-4cb9-8001-1f1ef1747521_39\", \"run_number\": 1729334016, \"metric\": null, \"status\": \"Completed\", \"run_type\": \"azureml.scriptrun\", \"training_percent\": \"100\", \"start_time\": \"2024-10-19T10:33:56.101224Z\", \"end_time\": \"2024-10-19T10:34:29.03787Z\", \"created_time\": \"2024-10-19T10:33:36.183159Z\", \"created_time_dt\": \"2024-10-19T10:33:36.183159Z\", \"duration\": \"0:00:52\", \"iteration\": \"39\", \"goal\": \"accuracy_max\", \"run_name\": \"SparseNormalizer, RandomForest\", \"run_properties\": \"norm='max'\", \"primary_metric\": 0.85014809, \"best_metric\": 0.87193632}, {\"run_id\": \"AutoML_0962bc2d-562e-4cb9-8001-1f1ef1747521_40\", \"run_number\": 1729334028, \"metric\": null, \"status\": \"Completed\", \"run_type\": \"azureml.scriptrun\", \"training_percent\": \"100\", \"start_time\": \"2024-10-19T10:34:11.985982Z\", \"end_time\": \"2024-10-19T10:34:52.484213Z\", \"created_time\": \"2024-10-19T10:33:48.429158Z\", \"created_time_dt\": \"2024-10-19T10:33:48.429158Z\", \"duration\": \"0:01:04\", \"iteration\": \"40\", \"goal\": \"accuracy_max\", \"run_name\": \"SparseNormalizer, LightGBM\", \"run_properties\": \"norm='max'\", \"primary_metric\": 0.86514254, \"best_metric\": 0.87193632}, {\"run_id\": \"AutoML_0962bc2d-562e-4cb9-8001-1f1ef1747521_41\", \"run_number\": 1729334038, \"metric\": null, \"status\": \"Completed\", \"run_type\": \"azureml.scriptrun\", \"training_percent\": \"100\", \"start_time\": \"2024-10-19T10:34:25.458404Z\", \"end_time\": \"2024-10-19T10:34:57.329994Z\", \"created_time\": \"2024-10-19T10:33:58.38212Z\", \"created_time_dt\": \"2024-10-19T10:33:58.38212Z\", \"duration\": \"0:00:58\", \"iteration\": \"41\", \"goal\": \"accuracy_max\", \"run_name\": \"MaxAbsScaler, RandomForest\", \"run_properties\": null, \"primary_metric\": 0.86106997, \"best_metric\": 0.87193632}, {\"run_id\": \"AutoML_0962bc2d-562e-4cb9-8001-1f1ef1747521_42\", \"run_number\": 1729334040, \"metric\": null, \"status\": \"Completed\", \"run_type\": \"azureml.scriptrun\", \"training_percent\": \"100\", \"start_time\": \"2024-10-19T10:34:30.281974Z\", \"end_time\": \"2024-10-19T10:35:03.090051Z\", \"created_time\": \"2024-10-19T10:34:00.379014Z\", \"created_time_dt\": \"2024-10-19T10:34:00.379014Z\", \"duration\": \"0:01:02\", \"iteration\": \"42\", \"goal\": \"accuracy_max\", \"run_name\": \"StandardScalerWrapper, RandomForest\", \"run_properties\": \"copy=True, with_mean=False, with_std=False\", \"primary_metric\": 0.84065161, \"best_metric\": 0.87193632}, {\"run_id\": \"AutoML_0962bc2d-562e-4cb9-8001-1f1ef1747521_43\", \"run_number\": 1729334057, \"metric\": null, \"status\": \"Canceled\", \"run_type\": \"azureml.scriptrun\", \"training_percent\": \"100\", \"start_time\": \"2024-10-19T10:34:39.152188Z\", \"end_time\": \"2024-10-19T10:35:05.198288Z\", \"created_time\": \"2024-10-19T10:34:17.170568Z\", \"created_time_dt\": \"2024-10-19T10:34:17.170568Z\", \"duration\": \"0:00:48\", \"iteration\": \"43\", \"goal\": \"accuracy_max\", \"run_name\": \"SparseNormalizer, LightGBM\", \"run_properties\": \"norm='l1'\", \"primary_metric\": 0.85020363, \"best_metric\": 0.87193632}, {\"run_id\": \"AutoML_0962bc2d-562e-4cb9-8001-1f1ef1747521_44\", \"run_number\": 1729334070, \"metric\": null, \"status\": \"Canceled\", \"run_type\": \"azureml.scriptrun\", \"training_percent\": \"100\", \"start_time\": \"2024-10-19T10:34:50.259429Z\", \"end_time\": \"2024-10-19T10:35:06.311714Z\", \"created_time\": \"2024-10-19T10:34:30.388254Z\", \"created_time_dt\": \"2024-10-19T10:34:30.388254Z\", \"duration\": \"0:00:35\", \"iteration\": \"44\", \"goal\": null, \"run_name\": \"Canceled\", \"run_properties\": null}, {\"run_id\": \"AutoML_0962bc2d-562e-4cb9-8001-1f1ef1747521_45\", \"run_number\": 1729334094, \"metric\": null, \"status\": \"Canceled\", \"run_type\": \"azureml.scriptrun\", \"training_percent\": \"100\", \"start_time\": \"2024-10-19T10:34:57.968465Z\", \"end_time\": \"2024-10-19T10:35:04.001555Z\", \"created_time\": \"2024-10-19T10:34:54.686355Z\", \"created_time_dt\": \"2024-10-19T10:34:54.686355Z\", \"duration\": \"0:00:09\", \"iteration\": \"45\", \"goal\": null, \"run_name\": \"Canceled\", \"run_properties\": null}, {\"run_id\": \"AutoML_0962bc2d-562e-4cb9-8001-1f1ef1747521_46\", \"run_number\": 1729334106, \"metric\": null, \"status\": \"Completed\", \"run_type\": \"azureml.scriptrun\", \"training_percent\": \"100\", \"start_time\": \"2024-10-19T10:35:31.611103Z\", \"end_time\": \"2024-10-19T10:37:09.750114Z\", \"created_time\": \"2024-10-19T10:35:06.980791Z\", \"created_time_dt\": \"2024-10-19T10:35:06.980791Z\", \"duration\": \"0:02:02\", \"iteration\": \"46\", \"goal\": \"accuracy_max\", \"run_name\": \"VotingEnsemble\", \"run_properties\": \"classification_labels=numpy.array([0, 1]\", \"primary_metric\": 0.88287671, \"best_metric\": 0.88287671}], \"children_metrics\": {\"categories\": [0], \"series\": {\"average_precision_score_micro\": [{\"categories\": [\"0\", \"4\", \"9\", \"16\", \"20\", \"25\", \"29\", \"30\", \"32\", \"33\", \"34\", \"35\", \"36\", \"37\", \"38\", \"39\", \"40\", \"41\", \"42\", \"43\", \"46\"], \"mode\": \"markers\", \"name\": \"average_precision_score_micro\", \"stepped\": false, \"type\": \"scatter\", \"data\": [0.9265474973339352, 0.9362441109512905, 0.9235420327051029, 0.9241881357969863, 0.9258524295769817, 0.9283087563365198, 0.9143930462442859, 0.9290729668101525, 0.9364064398950471, 0.9266111749065123, 0.9261529874266436, 0.8919683963312819, 0.9176646478239288, 0.924152265101523, 0.9243528937072988, 0.9200201525927548, 0.9309029375993901, 0.9345203113143328, 0.915566369809888, 0.9238257399790243, 0.9369677544423404]}, {\"categories\": [\"0\", \"4\", \"9\", \"16\", \"20\", \"25\", \"29\", \"30\", \"32\", \"33\", \"34\", \"35\", \"36\", \"37\", \"38\", \"39\", \"40\", \"41\", \"42\", \"43\", \"46\"], \"mode\": \"lines\", \"name\": \"average_precision_score_micro_max\", \"stepped\": true, \"type\": \"scatter\", \"data\": [0.9265474973339352, 0.9362441109512905, 0.9362441109512905, 0.9362441109512905, 0.9362441109512905, 0.9362441109512905, 0.9362441109512905, 0.9362441109512905, 0.9364064398950471, 0.9364064398950471, 0.9364064398950471, 0.9364064398950471, 0.9364064398950471, 0.9364064398950471, 0.9364064398950471, 0.9364064398950471, 0.9364064398950471, 0.9364064398950471, 0.9364064398950471, 0.9364064398950471, 0.9369677544423404]}], \"weighted_accuracy\": [{\"categories\": [\"0\", \"4\", \"9\", \"16\", \"20\", \"25\", \"29\", \"30\", \"32\", \"33\", \"34\", \"35\", \"36\", \"37\", \"38\", \"39\", \"40\", \"41\", \"42\", \"43\", \"46\"], \"mode\": \"markers\", \"name\": \"weighted_accuracy\", \"stepped\": false, \"type\": \"scatter\", \"data\": [0.8535802547788102, 0.859904315464615, 0.8711058345365081, 0.849928478246893, 0.8557698075905019, 0.8575084513779412, 0.8556112683116479, 0.850306814683497, 0.8766253677333242, 0.872156298912803, 0.8688891466321229, 0.8251399391236452, 0.8493767889044639, 0.852589916765296, 0.8746507891385678, 0.857569697949461, 0.8687477105927938, 0.8680318886580085, 0.8480361927256646, 0.8554360053227757, 0.887113388521524]}, {\"categories\": [\"0\", \"4\", \"9\", \"16\", \"20\", \"25\", \"29\", \"30\", \"32\", \"33\", \"34\", \"35\", \"36\", \"37\", \"38\", \"39\", \"40\", \"41\", \"42\", \"43\", \"46\"], \"mode\": \"lines\", \"name\": \"weighted_accuracy_max\", \"stepped\": true, \"type\": \"scatter\", \"data\": [0.8535802547788102, 0.859904315464615, 0.8711058345365081, 0.8711058345365081, 0.8711058345365081, 0.8711058345365081, 0.8711058345365081, 0.8711058345365081, 0.8766253677333242, 0.8766253677333242, 0.8766253677333242, 0.8766253677333242, 0.8766253677333242, 0.8766253677333242, 0.8766253677333242, 0.8766253677333242, 0.8766253677333242, 0.8766253677333242, 0.8766253677333242, 0.8766253677333242, 0.887113388521524]}], \"f1_score_weighted\": [{\"categories\": [\"0\", \"4\", \"9\", \"16\", \"20\", \"25\", \"29\", \"30\", \"32\", \"33\", \"34\", \"35\", \"36\", \"37\", \"38\", \"39\", \"40\", \"41\", \"42\", \"43\", \"46\"], \"mode\": \"markers\", \"name\": \"f1_score_weighted\", \"stepped\": false, \"type\": \"scatter\", \"data\": [0.8503899510386684, 0.8552432672252663, 0.8661058670377821, 0.8474641456382113, 0.8514226099709863, 0.8492083823933865, 0.8476276405930232, 0.8456767084682222, 0.8713979689241025, 0.8676674000845891, 0.8611562826401226, 0.8127361176150366, 0.8405952149126387, 0.8502052077580793, 0.8667817384951697, 0.848943751027209, 0.8650317905564521, 0.8600235883589477, 0.8396175392143782, 0.849523770484585, 0.8825043542611134]}, {\"categories\": [\"0\", \"4\", \"9\", \"16\", \"20\", \"25\", \"29\", \"30\", \"32\", \"33\", \"34\", \"35\", \"36\", \"37\", \"38\", \"39\", \"40\", \"41\", \"42\", \"43\", \"46\"], \"mode\": \"lines\", \"name\": \"f1_score_weighted_max\", \"stepped\": true, \"type\": \"scatter\", \"data\": [0.8503899510386684, 0.8552432672252663, 0.8661058670377821, 0.8661058670377821, 0.8661058670377821, 0.8661058670377821, 0.8661058670377821, 0.8661058670377821, 0.8713979689241025, 0.8713979689241025, 0.8713979689241025, 0.8713979689241025, 0.8713979689241025, 0.8713979689241025, 0.8713979689241025, 0.8713979689241025, 0.8713979689241025, 0.8713979689241025, 0.8713979689241025, 0.8713979689241025, 0.8825043542611134]}], \"accuracy\": [{\"categories\": [\"0\", \"4\", \"9\", \"16\", \"20\", \"25\", \"29\", \"30\", \"32\", \"33\", \"34\", \"35\", \"36\", \"37\", \"38\", \"39\", \"40\", \"41\", \"42\", \"43\", \"46\"], \"mode\": \"markers\", \"name\": \"accuracy\", \"stepped\": false, \"type\": \"scatter\", \"data\": [0.8502406516105147, 0.8556090336912255, 0.86653091447612, 0.8474268789337283, 0.8515179563124768, 0.8501480932987784, 0.8488152536097742, 0.8460570159200296, 0.8719363198815253, 0.8678452425027767, 0.8624213254350239, 0.8160681229174379, 0.841965938541281, 0.8501480932987782, 0.8679007774898185, 0.8501480932987782, 0.8651425398000739, 0.8610699740836727, 0.8406516105146242, 0.8502036282858201, 0.8828767123287671]}, {\"categories\": [\"0\", \"4\", \"9\", \"16\", \"20\", \"25\", \"29\", \"30\", \"32\", \"33\", \"34\", \"35\", \"36\", \"37\", \"38\", \"39\", \"40\", \"41\", \"42\", \"43\", \"46\"], \"mode\": \"lines\", \"name\": \"accuracy_max\", \"stepped\": true, \"type\": \"scatter\", \"data\": [0.8502406516105147, 0.8556090336912255, 0.86653091447612, 0.86653091447612, 0.86653091447612, 0.86653091447612, 0.86653091447612, 0.86653091447612, 0.8719363198815253, 0.8719363198815253, 0.8719363198815253, 0.8719363198815253, 0.8719363198815253, 0.8719363198815253, 0.8719363198815253, 0.8719363198815253, 0.8719363198815253, 0.8719363198815253, 0.8719363198815253, 0.8719363198815253, 0.8828767123287671]}], \"f1_score_macro\": [{\"categories\": [\"0\", \"4\", \"9\", \"16\", \"20\", \"25\", \"29\", \"30\", \"32\", \"33\", \"34\", \"35\", \"36\", \"37\", \"38\", \"39\", \"40\", \"41\", \"42\", \"43\", \"46\"], \"mode\": \"markers\", \"name\": \"f1_score_macro\", \"stepped\": false, \"type\": \"scatter\", \"data\": [0.8444263522378364, 0.8494946301578634, 0.8610412217117697, 0.8416420334112151, 0.8450760019798379, 0.842760069651445, 0.8412123560109525, 0.8394347323566945, 0.8662516379275184, 0.8620208647928675, 0.8553131284669373, 0.8041137372773999, 0.8336610457482514, 0.8444782973413154, 0.8615493683168765, 0.8425151497539062, 0.8594968729340696, 0.8542722689227776, 0.832613007712266, 0.8434035402202384, 0.8779237393916282]}, {\"categories\": [\"0\", \"4\", \"9\", \"16\", \"20\", \"25\", \"29\", \"30\", \"32\", \"33\", \"34\", \"35\", \"36\", \"37\", \"38\", \"39\", \"40\", \"41\", \"42\", \"43\", \"46\"], \"mode\": \"lines\", \"name\": \"f1_score_macro_max\", \"stepped\": true, \"type\": \"scatter\", \"data\": [0.8444263522378364, 0.8494946301578634, 0.8610412217117697, 0.8610412217117697, 0.8610412217117697, 0.8610412217117697, 0.8610412217117697, 0.8610412217117697, 0.8662516379275184, 0.8662516379275184, 0.8662516379275184, 0.8662516379275184, 0.8662516379275184, 0.8662516379275184, 0.8662516379275184, 0.8662516379275184, 0.8662516379275184, 0.8662516379275184, 0.8662516379275184, 0.8662516379275184, 0.8779237393916282]}], \"AUC_weighted\": [{\"categories\": [\"0\", \"4\", \"9\", \"16\", \"20\", \"25\", \"29\", \"30\", \"32\", \"33\", \"34\", \"35\", \"36\", \"37\", \"38\", \"39\", \"40\", \"41\", \"42\", \"43\", \"46\"], \"mode\": \"markers\", \"name\": \"AUC_weighted\", \"stepped\": false, \"type\": \"scatter\", \"data\": [0.923799123649079, 0.934456147015181, 0.9209896768319581, 0.9229930476925222, 0.9233183680864447, 0.9302367820113207, 0.9207475412706889, 0.9271249377181963, 0.9339211947492629, 0.9266036025889566, 0.9278795262985986, 0.9053116086657704, 0.9206628777110055, 0.9228817186737539, 0.9226919687741983, 0.9203567112943756, 0.9271868854848329, 0.9328265720129071, 0.9129967447320275, 0.9219863006689979, 0.9353332031941157]}, {\"categories\": [\"0\", \"4\", \"9\", \"16\", \"20\", \"25\", \"29\", \"30\", \"32\", \"33\", \"34\", \"35\", \"36\", \"37\", \"38\", \"39\", \"40\", \"41\", \"42\", \"43\", \"46\"], \"mode\": \"lines\", \"name\": \"AUC_weighted_max\", \"stepped\": true, \"type\": \"scatter\", \"data\": [0.923799123649079, 0.934456147015181, 0.934456147015181, 0.934456147015181, 0.934456147015181, 0.934456147015181, 0.934456147015181, 0.934456147015181, 0.934456147015181, 0.934456147015181, 0.934456147015181, 0.934456147015181, 0.934456147015181, 0.934456147015181, 0.934456147015181, 0.934456147015181, 0.934456147015181, 0.934456147015181, 0.934456147015181, 0.934456147015181, 0.9353332031941157]}], \"log_loss\": [{\"categories\": [\"0\", \"4\", \"9\", \"16\", \"20\", \"25\", \"29\", \"30\", \"32\", \"33\", \"34\", \"35\", \"36\", \"37\", \"38\", \"39\", \"40\", \"41\", \"42\", \"43\", \"46\"], \"mode\": \"markers\", \"name\": \"log_loss\", \"stepped\": false, \"type\": \"scatter\", \"data\": [0.40200389976029005, 0.34726950025791137, 0.34411948754510197, 0.35009837710166386, 0.3538441294358395, 0.3498269041932513, 0.38695648315007236, 0.5049068098814866, 0.330575259029921, 0.33619641253703064, 0.4130465525066553, 0.5406132731305506, 0.38321863995388183, 0.3512637820689812, 0.3726434056914049, 0.36551894074475266, 0.33529280576833564, 0.33977271390894886, 0.3892317227011274, 0.3922930560417369, 0.3632039746956787]}, {\"categories\": [\"0\", \"4\", \"9\", \"16\", \"20\", \"25\", \"29\", \"30\", \"32\", \"33\", \"34\", \"35\", \"36\", \"37\", \"38\", \"39\", \"40\", \"41\", \"42\", \"43\", \"46\"], \"mode\": \"lines\", \"name\": \"log_loss_min\", \"stepped\": true, \"type\": \"scatter\", \"data\": [0.40200389976029005, 0.34726950025791137, 0.34411948754510197, 0.34411948754510197, 0.34411948754510197, 0.34411948754510197, 0.34411948754510197, 0.34411948754510197, 0.330575259029921, 0.330575259029921, 0.330575259029921, 0.330575259029921, 0.330575259029921, 0.330575259029921, 0.330575259029921, 0.330575259029921, 0.330575259029921, 0.330575259029921, 0.330575259029921, 0.330575259029921, 0.330575259029921]}], \"balanced_accuracy\": [{\"categories\": [\"0\", \"4\", \"9\", \"16\", \"20\", \"25\", \"29\", \"30\", \"32\", \"33\", \"34\", \"35\", \"36\", \"37\", \"38\", \"39\", \"40\", \"41\", \"42\", \"43\", \"46\"], \"mode\": \"markers\", \"name\": \"balanced_accuracy\", \"stepped\": false, \"type\": \"scatter\", \"data\": [0.8463861208412136, 0.8505581252864364, 0.8611541025962282, 0.8443215059625058, 0.846366748170596, 0.8417653038439074, 0.8408255684936256, 0.8410684286941859, 0.8662386084955038, 0.8627734246260947, 0.8550213518106707, 0.8051688252236959, 0.8332038639914743, 0.8470992837402835, 0.8600578095334184, 0.8413100114969161, 0.8607144037284143, 0.8530286190191276, 0.8319495322184419, 0.8441531741657966, 0.8778328166602754]}, {\"categories\": [\"0\", \"4\", \"9\", \"16\", \"20\", \"25\", \"29\", \"30\", \"32\", \"33\", \"34\", \"35\", \"36\", \"37\", \"38\", \"39\", \"40\", \"41\", \"42\", \"43\", \"46\"], \"mode\": \"lines\", \"name\": \"balanced_accuracy_max\", \"stepped\": true, \"type\": \"scatter\", \"data\": [0.8463861208412136, 0.8505581252864364, 0.8611541025962282, 0.8611541025962282, 0.8611541025962282, 0.8611541025962282, 0.8611541025962282, 0.8611541025962282, 0.8662386084955038, 0.8662386084955038, 0.8662386084955038, 0.8662386084955038, 0.8662386084955038, 0.8662386084955038, 0.8662386084955038, 0.8662386084955038, 0.8662386084955038, 0.8662386084955038, 0.8662386084955038, 0.8662386084955038, 0.8778328166602754]}], \"precision_score_micro\": [{\"categories\": [\"0\", \"4\", \"9\", \"16\", \"20\", \"25\", \"29\", \"30\", \"32\", \"33\", \"34\", \"35\", \"36\", \"37\", \"38\", \"39\", \"40\", \"41\", \"42\", \"43\", \"46\"], \"mode\": \"markers\", \"name\": \"precision_score_micro\", \"stepped\": false, \"type\": \"scatter\", \"data\": [0.8502406516105147, 0.8556090336912255, 0.86653091447612, 0.8474268789337283, 0.8515179563124768, 0.8501480932987784, 0.8488152536097742, 0.8460570159200296, 0.8719363198815253, 0.8678452425027767, 0.8624213254350239, 0.8160681229174379, 0.841965938541281, 0.8501480932987782, 0.8679007774898185, 0.8501480932987782, 0.8651425398000739, 0.8610699740836727, 0.8406516105146242, 0.8502036282858201, 0.8828767123287671]}, {\"categories\": [\"0\", \"4\", \"9\", \"16\", \"20\", \"25\", \"29\", \"30\", \"32\", \"33\", \"34\", \"35\", \"36\", \"37\", \"38\", \"39\", \"40\", \"41\", \"42\", \"43\", \"46\"], \"mode\": \"lines\", \"name\": \"precision_score_micro_max\", \"stepped\": true, \"type\": \"scatter\", \"data\": [0.8502406516105147, 0.8556090336912255, 0.86653091447612, 0.86653091447612, 0.86653091447612, 0.86653091447612, 0.86653091447612, 0.86653091447612, 0.8719363198815253, 0.8719363198815253, 0.8719363198815253, 0.8719363198815253, 0.8719363198815253, 0.8719363198815253, 0.8719363198815253, 0.8719363198815253, 0.8719363198815253, 0.8719363198815253, 0.8719363198815253, 0.8719363198815253, 0.8828767123287671]}], \"precision_score_weighted\": [{\"categories\": [\"0\", \"4\", \"9\", \"16\", \"20\", \"25\", \"29\", \"30\", \"32\", \"33\", \"34\", \"35\", \"36\", \"37\", \"38\", \"39\", \"40\", \"41\", \"42\", \"43\", \"46\"], \"mode\": \"markers\", \"name\": \"precision_score_weighted\", \"stepped\": false, \"type\": \"scatter\", \"data\": [0.8540124703872166, 0.8609335985853633, 0.8720252109889539, 0.8520873026311024, 0.854685960487139, 0.8557664678300565, 0.8558386471720116, 0.8501752789682273, 0.8767609890612663, 0.8723352172576047, 0.8702909232519899, 0.8315662905284988, 0.8472023238313449, 0.8544826986415182, 0.8761720569624172, 0.8558508470158245, 0.8680213485787739, 0.866854651338792, 0.8457151351488406, 0.8565991601809244, 0.8877698088880146]}, {\"categories\": [\"0\", \"4\", \"9\", \"16\", \"20\", \"25\", \"29\", \"30\", \"32\", \"33\", \"34\", \"35\", \"36\", \"37\", \"38\", \"39\", \"40\", \"41\", \"42\", \"43\", \"46\"], \"mode\": \"lines\", \"name\": \"precision_score_weighted_max\", \"stepped\": true, \"type\": \"scatter\", \"data\": [0.8540124703872166, 0.8609335985853633, 0.8720252109889539, 0.8720252109889539, 0.8720252109889539, 0.8720252109889539, 0.8720252109889539, 0.8720252109889539, 0.8767609890612663, 0.8767609890612663, 0.8767609890612663, 0.8767609890612663, 0.8767609890612663, 0.8767609890612663, 0.8767609890612663, 0.8767609890612663, 0.8767609890612663, 0.8767609890612663, 0.8767609890612663, 0.8767609890612663, 0.8877698088880146]}], \"average_precision_score_weighted\": [{\"categories\": [\"0\", \"4\", \"9\", \"16\", \"20\", \"25\", \"29\", \"30\", \"32\", \"33\", \"34\", \"35\", \"36\", \"37\", \"38\", \"39\", \"40\", \"41\", \"42\", \"43\", \"46\"], \"mode\": \"markers\", \"name\": \"average_precision_score_weighted\", \"stepped\": false, \"type\": \"scatter\", \"data\": [0.9288464484410259, 0.937946813568205, 0.9251965964583564, 0.9268955104849737, 0.9275980408007433, 0.9318688602368652, 0.9135078634316963, 0.9304603434666602, 0.9384297181457096, 0.9293707620788453, 0.9308659180633082, 0.9112789662519148, 0.923409789121093, 0.9268664403493745, 0.9269833276066505, 0.9222341101701621, 0.9320845638051167, 0.9375575301479555, 0.918305948625532, 0.9275091187038843, 0.9395579598337944]}, {\"categories\": [\"0\", \"4\", \"9\", \"16\", \"20\", \"25\", \"29\", \"30\", \"32\", \"33\", \"34\", \"35\", \"36\", \"37\", \"38\", \"39\", \"40\", \"41\", \"42\", \"43\", \"46\"], \"mode\": \"lines\", \"name\": \"average_precision_score_weighted_max\", \"stepped\": true, \"type\": \"scatter\", \"data\": [0.9288464484410259, 0.937946813568205, 0.937946813568205, 0.937946813568205, 0.937946813568205, 0.937946813568205, 0.937946813568205, 0.937946813568205, 0.9384297181457096, 0.9384297181457096, 0.9384297181457096, 0.9384297181457096, 0.9384297181457096, 0.9384297181457096, 0.9384297181457096, 0.9384297181457096, 0.9384297181457096, 0.9384297181457096, 0.9384297181457096, 0.9384297181457096, 0.9395579598337944]}], \"precision_score_macro\": [{\"categories\": [\"0\", \"4\", \"9\", \"16\", \"20\", \"25\", \"29\", \"30\", \"32\", \"33\", \"34\", \"35\", \"36\", \"37\", \"38\", \"39\", \"40\", \"41\", \"42\", \"43\", \"46\"], \"mode\": \"markers\", \"name\": \"precision_score_macro\", \"stepped\": false, \"type\": \"scatter\", \"data\": [0.8460669375644088, 0.8547289810852717, 0.867526545275177, 0.8437321818152015, 0.8472599179349656, 0.8516436151587443, 0.8514145814194126, 0.8428849429461364, 0.8725140594243845, 0.866282888587244, 0.8664772399571161, 0.8260100640380162, 0.8424922933648261, 0.8462500529448308, 0.8739975756968397, 0.8522913770785563, 0.8615138426951056, 0.8637636206723588, 0.8408003244692541, 0.8507473341062225, 0.8839000734544171]}, {\"categories\": [\"0\", \"4\", \"9\", \"16\", \"20\", \"25\", \"29\", \"30\", \"32\", \"33\", \"34\", \"35\", \"36\", \"37\", \"38\", \"39\", \"40\", \"41\", \"42\", \"43\", \"46\"], \"mode\": \"lines\", \"name\": \"precision_score_macro_max\", \"stepped\": true, \"type\": \"scatter\", \"data\": [0.8460669375644088, 0.8547289810852717, 0.867526545275177, 0.867526545275177, 0.867526545275177, 0.867526545275177, 0.867526545275177, 0.867526545275177, 0.8725140594243845, 0.8725140594243845, 0.8725140594243845, 0.8725140594243845, 0.8725140594243845, 0.8725140594243845, 0.8739975756968397, 0.8739975756968397, 0.8739975756968397, 0.8739975756968397, 0.8739975756968397, 0.8739975756968397, 0.8839000734544171]}], \"AUC_macro\": [{\"categories\": [\"0\", \"4\", \"9\", \"16\", \"20\", \"25\", \"29\", \"30\", \"32\", \"33\", \"34\", \"35\", \"36\", \"37\", \"38\", \"39\", \"40\", \"41\", \"42\", \"43\", \"46\"], \"mode\": \"markers\", \"name\": \"AUC_macro\", \"stepped\": false, \"type\": \"scatter\", \"data\": [0.923799123649079, 0.9344561470151808, 0.9209896768319579, 0.9229930476925222, 0.9233183680864447, 0.9302367820113207, 0.9207475412706889, 0.9271249377181963, 0.9339211947492629, 0.9266036025889564, 0.9278795262985984, 0.9053116086657704, 0.9206628777110055, 0.9228817186737539, 0.9226919687741983, 0.9203567112943756, 0.9271868854848329, 0.9328265720129071, 0.9129967447320275, 0.9219863006689979, 0.9353332031941155]}, {\"categories\": [\"0\", \"4\", \"9\", \"16\", \"20\", \"25\", \"29\", \"30\", \"32\", \"33\", \"34\", \"35\", \"36\", \"37\", \"38\", \"39\", \"40\", \"41\", \"42\", \"43\", \"46\"], \"mode\": \"lines\", \"name\": \"AUC_macro_max\", \"stepped\": true, \"type\": \"scatter\", \"data\": [0.923799123649079, 0.9344561470151808, 0.9344561470151808, 0.9344561470151808, 0.9344561470151808, 0.9344561470151808, 0.9344561470151808, 0.9344561470151808, 0.9344561470151808, 0.9344561470151808, 0.9344561470151808, 0.9344561470151808, 0.9344561470151808, 0.9344561470151808, 0.9344561470151808, 0.9344561470151808, 0.9344561470151808, 0.9344561470151808, 0.9344561470151808, 0.9344561470151808, 0.9353332031941155]}], \"AUC_micro\": [{\"categories\": [\"0\", \"4\", \"9\", \"16\", \"20\", \"25\", \"29\", \"30\", \"32\", \"33\", \"34\", \"35\", \"36\", \"37\", \"38\", \"39\", \"40\", \"41\", \"42\", \"43\", \"46\"], \"mode\": \"markers\", \"name\": \"AUC_micro\", \"stepped\": false, \"type\": \"scatter\", \"data\": [0.9265661270710137, 0.9349943752235141, 0.9253174225789647, 0.9245132858358298, 0.9263050550614009, 0.9294611427116892, 0.9233563891827193, 0.9282456817658138, 0.9356481364081288, 0.9291238720119704, 0.9272271942282542, 0.8923315078910672, 0.9197766339369144, 0.9244722291481988, 0.9250180593225789, 0.9223748016044627, 0.9307147646853133, 0.932517612808398, 0.9150257504693711, 0.9221321144649895, 0.9367263190878747]}, {\"categories\": [\"0\", \"4\", \"9\", \"16\", \"20\", \"25\", \"29\", \"30\", \"32\", \"33\", \"34\", \"35\", \"36\", \"37\", \"38\", \"39\", \"40\", \"41\", \"42\", \"43\", \"46\"], \"mode\": \"lines\", \"name\": \"AUC_micro_max\", \"stepped\": true, \"type\": \"scatter\", \"data\": [0.9265661270710137, 0.9349943752235141, 0.9349943752235141, 0.9349943752235141, 0.9349943752235141, 0.9349943752235141, 0.9349943752235141, 0.9349943752235141, 0.9356481364081288, 0.9356481364081288, 0.9356481364081288, 0.9356481364081288, 0.9356481364081288, 0.9356481364081288, 0.9356481364081288, 0.9356481364081288, 0.9356481364081288, 0.9356481364081288, 0.9356481364081288, 0.9356481364081288, 0.9367263190878747]}], \"recall_score_micro\": [{\"categories\": [\"0\", \"4\", \"9\", \"16\", \"20\", \"25\", \"29\", \"30\", \"32\", \"33\", \"34\", \"35\", \"36\", \"37\", \"38\", \"39\", \"40\", \"41\", \"42\", \"43\", \"46\"], \"mode\": \"markers\", \"name\": \"recall_score_micro\", \"stepped\": false, \"type\": \"scatter\", \"data\": [0.8502406516105147, 0.8556090336912255, 0.86653091447612, 0.8474268789337283, 0.8515179563124768, 0.8501480932987784, 0.8488152536097742, 0.8460570159200296, 0.8719363198815253, 0.8678452425027767, 0.8624213254350239, 0.8160681229174379, 0.841965938541281, 0.8501480932987782, 0.8679007774898185, 0.8501480932987782, 0.8651425398000739, 0.8610699740836727, 0.8406516105146242, 0.8502036282858201, 0.8828767123287671]}, {\"categories\": [\"0\", \"4\", \"9\", \"16\", \"20\", \"25\", \"29\", \"30\", \"32\", \"33\", \"34\", \"35\", \"36\", \"37\", \"38\", \"39\", \"40\", \"41\", \"42\", \"43\", \"46\"], \"mode\": \"lines\", \"name\": \"recall_score_micro_max\", \"stepped\": true, \"type\": \"scatter\", \"data\": [0.8502406516105147, 0.8556090336912255, 0.86653091447612, 0.86653091447612, 0.86653091447612, 0.86653091447612, 0.86653091447612, 0.86653091447612, 0.8719363198815253, 0.8719363198815253, 0.8719363198815253, 0.8719363198815253, 0.8719363198815253, 0.8719363198815253, 0.8719363198815253, 0.8719363198815253, 0.8719363198815253, 0.8719363198815253, 0.8719363198815253, 0.8719363198815253, 0.8828767123287671]}], \"recall_score_weighted\": [{\"categories\": [\"0\", \"4\", \"9\", \"16\", \"20\", \"25\", \"29\", \"30\", \"32\", \"33\", \"34\", \"35\", \"36\", \"37\", \"38\", \"39\", \"40\", \"41\", \"42\", \"43\", \"46\"], \"mode\": \"markers\", \"name\": \"recall_score_weighted\", \"stepped\": false, \"type\": \"scatter\", \"data\": [0.8502406516105147, 0.8556090336912255, 0.86653091447612, 0.8474268789337283, 0.8515179563124768, 0.8501480932987784, 0.8488152536097742, 0.8460570159200296, 0.8719363198815253, 0.8678452425027767, 0.8624213254350239, 0.8160681229174379, 0.841965938541281, 0.8501480932987782, 0.8679007774898185, 0.8501480932987782, 0.8651425398000739, 0.8610699740836727, 0.8406516105146242, 0.8502036282858201, 0.8828767123287671]}, {\"categories\": [\"0\", \"4\", \"9\", \"16\", \"20\", \"25\", \"29\", \"30\", \"32\", \"33\", \"34\", \"35\", \"36\", \"37\", \"38\", \"39\", \"40\", \"41\", \"42\", \"43\", \"46\"], \"mode\": \"lines\", \"name\": \"recall_score_weighted_max\", \"stepped\": true, \"type\": \"scatter\", \"data\": [0.8502406516105147, 0.8556090336912255, 0.86653091447612, 0.86653091447612, 0.86653091447612, 0.86653091447612, 0.86653091447612, 0.86653091447612, 0.8719363198815253, 0.8719363198815253, 0.8719363198815253, 0.8719363198815253, 0.8719363198815253, 0.8719363198815253, 0.8719363198815253, 0.8719363198815253, 0.8719363198815253, 0.8719363198815253, 0.8719363198815253, 0.8719363198815253, 0.8828767123287671]}], \"average_precision_score_macro\": [{\"categories\": [\"0\", \"4\", \"9\", \"16\", \"20\", \"25\", \"29\", \"30\", \"32\", \"33\", \"34\", \"35\", \"36\", \"37\", \"38\", \"39\", \"40\", \"41\", \"42\", \"43\", \"46\"], \"mode\": \"markers\", \"name\": \"average_precision_score_macro\", \"stepped\": false, \"type\": \"scatter\", \"data\": [0.9238369398669122, 0.9341863369224361, 0.9210184000647816, 0.9225624142733638, 0.9220623644654935, 0.9282631765736704, 0.907871988090221, 0.9255399517798789, 0.9345744239218814, 0.9249034056864591, 0.926320726475803, 0.9049918844620974, 0.9186935234002951, 0.9227682883198766, 0.9225153650950434, 0.9170331863767718, 0.9285664150785923, 0.9337056228316613, 0.9136180143574759, 0.9228596535871303, 0.9354582269746249]}, {\"categories\": [\"0\", \"4\", \"9\", \"16\", \"20\", \"25\", \"29\", \"30\", \"32\", \"33\", \"34\", \"35\", \"36\", \"37\", \"38\", \"39\", \"40\", \"41\", \"42\", \"43\", \"46\"], \"mode\": \"lines\", \"name\": \"average_precision_score_macro_max\", \"stepped\": true, \"type\": \"scatter\", \"data\": [0.9238369398669122, 0.9341863369224361, 0.9341863369224361, 0.9341863369224361, 0.9341863369224361, 0.9341863369224361, 0.9341863369224361, 0.9341863369224361, 0.9345744239218814, 0.9345744239218814, 0.9345744239218814, 0.9345744239218814, 0.9345744239218814, 0.9345744239218814, 0.9345744239218814, 0.9345744239218814, 0.9345744239218814, 0.9345744239218814, 0.9345744239218814, 0.9345744239218814, 0.9354582269746249]}], \"f1_score_micro\": [{\"categories\": [\"0\", \"4\", \"9\", \"16\", \"20\", \"25\", \"29\", \"30\", \"32\", \"33\", \"34\", \"35\", \"36\", \"37\", \"38\", \"39\", \"40\", \"41\", \"42\", \"43\", \"46\"], \"mode\": \"markers\", \"name\": \"f1_score_micro\", \"stepped\": false, \"type\": \"scatter\", \"data\": [0.8502406516105147, 0.8556090336912255, 0.86653091447612, 0.8474268789337283, 0.8515179563124768, 0.8501480932987784, 0.8488152536097742, 0.8460570159200296, 0.8719363198815253, 0.8678452425027767, 0.8624213254350239, 0.8160681229174379, 0.841965938541281, 0.8501480932987782, 0.8679007774898185, 0.8501480932987782, 0.8651425398000739, 0.8610699740836727, 0.8406516105146242, 0.8502036282858201, 0.8828767123287671]}, {\"categories\": [\"0\", \"4\", \"9\", \"16\", \"20\", \"25\", \"29\", \"30\", \"32\", \"33\", \"34\", \"35\", \"36\", \"37\", \"38\", \"39\", \"40\", \"41\", \"42\", \"43\", \"46\"], \"mode\": \"lines\", \"name\": \"f1_score_micro_max\", \"stepped\": true, \"type\": \"scatter\", \"data\": [0.8502406516105147, 0.8556090336912255, 0.86653091447612, 0.86653091447612, 0.86653091447612, 0.86653091447612, 0.86653091447612, 0.86653091447612, 0.8719363198815253, 0.8719363198815253, 0.8719363198815253, 0.8719363198815253, 0.8719363198815253, 0.8719363198815253, 0.8719363198815253, 0.8719363198815253, 0.8719363198815253, 0.8719363198815253, 0.8719363198815253, 0.8719363198815253, 0.8828767123287671]}], \"recall_score_macro\": [{\"categories\": [\"0\", \"4\", \"9\", \"16\", \"20\", \"25\", \"29\", \"30\", \"32\", \"33\", \"34\", \"35\", \"36\", \"37\", \"38\", \"39\", \"40\", \"41\", \"42\", \"43\", \"46\"], \"mode\": \"markers\", \"name\": \"recall_score_macro\", \"stepped\": false, \"type\": \"scatter\", \"data\": [0.8463861208412136, 0.8505581252864364, 0.8611541025962282, 0.8443215059625058, 0.846366748170596, 0.8417653038439074, 0.8408255684936256, 0.8410684286941859, 0.8662386084955038, 0.8627734246260947, 0.8550213518106707, 0.8051688252236959, 0.8332038639914743, 0.8470992837402835, 0.8600578095334184, 0.8413100114969161, 0.8607144037284143, 0.8530286190191276, 0.8319495322184419, 0.8441531741657966, 0.8778328166602754]}, {\"categories\": [\"0\", \"4\", \"9\", \"16\", \"20\", \"25\", \"29\", \"30\", \"32\", \"33\", \"34\", \"35\", \"36\", \"37\", \"38\", \"39\", \"40\", \"41\", \"42\", \"43\", \"46\"], \"mode\": \"lines\", \"name\": \"recall_score_macro_max\", \"stepped\": true, \"type\": \"scatter\", \"data\": [0.8463861208412136, 0.8505581252864364, 0.8611541025962282, 0.8611541025962282, 0.8611541025962282, 0.8611541025962282, 0.8611541025962282, 0.8611541025962282, 0.8662386084955038, 0.8662386084955038, 0.8662386084955038, 0.8662386084955038, 0.8662386084955038, 0.8662386084955038, 0.8662386084955038, 0.8662386084955038, 0.8662386084955038, 0.8662386084955038, 0.8662386084955038, 0.8662386084955038, 0.8778328166602754]}], \"norm_macro_recall\": [{\"categories\": [\"0\", \"4\", \"9\", \"16\", \"20\", \"25\", \"29\", \"30\", \"32\", \"33\", \"34\", \"35\", \"36\", \"37\", \"38\", \"39\", \"40\", \"41\", \"42\", \"43\", \"46\"], \"mode\": \"markers\", \"name\": \"norm_macro_recall\", \"stepped\": false, \"type\": \"scatter\", \"data\": [0.6927722416824272, 0.7011162505728724, 0.7223082051924565, 0.6886430119250114, 0.692733496341192, 0.6835306076878148, 0.6816511369872512, 0.6821368573883719, 0.7324772169910075, 0.7255468492521897, 0.7100427036213414, 0.6103376504473916, 0.6664077279829483, 0.6941985674805672, 0.720115619066837, 0.6826200229938324, 0.7214288074568291, 0.7060572380382552, 0.6638990644368838, 0.6883063483315934, 0.7556656333205508]}, {\"categories\": [\"0\", \"4\", \"9\", \"16\", \"20\", \"25\", \"29\", \"30\", \"32\", \"33\", \"34\", \"35\", \"36\", \"37\", \"38\", \"39\", \"40\", \"41\", \"42\", \"43\", \"46\"], \"mode\": \"lines\", \"name\": \"norm_macro_recall_max\", \"stepped\": true, \"type\": \"scatter\", \"data\": [0.6927722416824272, 0.7011162505728724, 0.7223082051924565, 0.7223082051924565, 0.7223082051924565, 0.7223082051924565, 0.7223082051924565, 0.7223082051924565, 0.7324772169910075, 0.7324772169910075, 0.7324772169910075, 0.7324772169910075, 0.7324772169910075, 0.7324772169910075, 0.7324772169910075, 0.7324772169910075, 0.7324772169910075, 0.7324772169910075, 0.7324772169910075, 0.7324772169910075, 0.7556656333205508]}], \"matthews_correlation\": [{\"categories\": [\"0\", \"4\", \"9\", \"16\", \"20\", \"25\", \"29\", \"30\", \"32\", \"33\", \"34\", \"35\", \"36\", \"37\", \"38\", \"39\", \"40\", \"41\", \"42\", \"43\", \"46\"], \"mode\": \"markers\", \"name\": \"matthews_correlation\", \"stepped\": false, \"type\": \"scatter\", \"data\": [0.692393963756, 0.7051155067192926, 0.7284976019681377, 0.6879650115806263, 0.6935714168661018, 0.6930609424301444, 0.6918959531675527, 0.6838063171089948, 0.7385662922582329, 0.7289519157034448, 0.7210589196365229, 0.6305663753756903, 0.6754463850945017, 0.6932613552880225, 0.7337123806548639, 0.6932802395849651, 0.722142997219534, 0.7164543394122769, 0.6725081936645922, 0.6946647971462108, 0.761576390049642]}, {\"categories\": [\"0\", \"4\", \"9\", \"16\", \"20\", \"25\", \"29\", \"30\", \"32\", \"33\", \"34\", \"35\", \"36\", \"37\", \"38\", \"39\", \"40\", \"41\", \"42\", \"43\", \"46\"], \"mode\": \"lines\", \"name\": \"matthews_correlation_max\", \"stepped\": true, \"type\": \"scatter\", \"data\": [0.692393963756, 0.7051155067192926, 0.7284976019681377, 0.7284976019681377, 0.7284976019681377, 0.7284976019681377, 0.7284976019681377, 0.7284976019681377, 0.7385662922582329, 0.7385662922582329, 0.7385662922582329, 0.7385662922582329, 0.7385662922582329, 0.7385662922582329, 0.7385662922582329, 0.7385662922582329, 0.7385662922582329, 0.7385662922582329, 0.7385662922582329, 0.7385662922582329, 0.761576390049642]}]}, \"metricName\": null, \"primaryMetricName\": \"accuracy\", \"showLegend\": false}, \"run_metrics\": [{\"name\": \"experiment_status\", \"run_id\": \"AutoML_0962bc2d-562e-4cb9-8001-1f1ef1747521\", \"categories\": [0, 1, 2, 3, 4, 5, 6, 7, 8, 9, 10, 11, 12, 13], \"series\": [{\"data\": [\"DatasetEvaluation\", \"FeaturesGeneration\", \"DatasetFeaturization\", \"DatasetFeaturizationCompleted\", \"DatasetCrossValidationSplit\", \"ModelSelection\", \"BestRunExplainModel\", \"ModelExplanationDataSetSetup\", \"PickSurrogateModel\", \"EngineeredFeatureExplanations\", \"EngineeredFeatureExplanations\", \"RawFeaturesExplanations\", \"RawFeaturesExplanations\", \"BestRunExplainModel\"]}]}, {\"name\": \"experiment_status_description\", \"run_id\": \"AutoML_0962bc2d-562e-4cb9-8001-1f1ef1747521\", \"categories\": [0, 1, 2, 3, 4, 5, 6, 7, 8, 9, 10, 11, 12, 13], \"series\": [{\"data\": [\"Gathering dataset statistics.\", \"Generating features for the dataset.\", \"Beginning to fit featurizers and featurize the dataset.\", \"Completed fit featurizers and featurizing the dataset.\", \"Generating individually featurized CV splits.\", \"Beginning model selection.\", \"Best run model explanations started\", \"Model explanations data setup completed\", \"Choosing LightGBM as the surrogate model for explanations\", \"Computation of engineered features started\", \"Computation of engineered features completed\", \"Computation of raw features started\", \"Computation of raw features completed\", \"Best run model explanations completed\"]}]}, {\"name\": \"norm_macro_recall\", \"run_id\": \"AutoML_0962bc2d-562e-4cb9-8001-1f1ef1747521\", \"categories\": [0], \"series\": [{\"data\": [0.7556656333205508]}]}, {\"name\": \"average_precision_score_macro\", \"run_id\": \"AutoML_0962bc2d-562e-4cb9-8001-1f1ef1747521\", \"categories\": [0], \"series\": [{\"data\": [0.9354582269746249]}]}, {\"name\": \"precision_score_weighted\", \"run_id\": \"AutoML_0962bc2d-562e-4cb9-8001-1f1ef1747521\", \"categories\": [0], \"series\": [{\"data\": [0.8877698088880146]}]}, {\"name\": \"average_precision_score_micro\", \"run_id\": \"AutoML_0962bc2d-562e-4cb9-8001-1f1ef1747521\", \"categories\": [0], \"series\": [{\"data\": [0.9369677544423404]}]}, {\"name\": \"recall_score_macro\", \"run_id\": \"AutoML_0962bc2d-562e-4cb9-8001-1f1ef1747521\", \"categories\": [0], \"series\": [{\"data\": [0.8778328166602754]}]}, {\"name\": \"precision_score_macro\", \"run_id\": \"AutoML_0962bc2d-562e-4cb9-8001-1f1ef1747521\", \"categories\": [0], \"series\": [{\"data\": [0.8839000734544171]}]}, {\"name\": \"precision_score_micro\", \"run_id\": \"AutoML_0962bc2d-562e-4cb9-8001-1f1ef1747521\", \"categories\": [0], \"series\": [{\"data\": [0.8828767123287671]}]}, {\"name\": \"weighted_accuracy\", \"run_id\": \"AutoML_0962bc2d-562e-4cb9-8001-1f1ef1747521\", \"categories\": [0], \"series\": [{\"data\": [0.887113388521524]}]}, {\"name\": \"f1_score_macro\", \"run_id\": \"AutoML_0962bc2d-562e-4cb9-8001-1f1ef1747521\", \"categories\": [0], \"series\": [{\"data\": [0.8779237393916282]}]}, {\"name\": \"recall_score_weighted\", \"run_id\": \"AutoML_0962bc2d-562e-4cb9-8001-1f1ef1747521\", \"categories\": [0], \"series\": [{\"data\": [0.8828767123287671]}]}, {\"name\": \"average_precision_score_weighted\", \"run_id\": \"AutoML_0962bc2d-562e-4cb9-8001-1f1ef1747521\", \"categories\": [0], \"series\": [{\"data\": [0.9395579598337944]}]}, {\"name\": \"matthews_correlation\", \"run_id\": \"AutoML_0962bc2d-562e-4cb9-8001-1f1ef1747521\", \"categories\": [0], \"series\": [{\"data\": [0.761576390049642]}]}, {\"name\": \"AUC_weighted\", \"run_id\": \"AutoML_0962bc2d-562e-4cb9-8001-1f1ef1747521\", \"categories\": [0], \"series\": [{\"data\": [0.9353332031941157]}]}, {\"name\": \"AUC_macro\", \"run_id\": \"AutoML_0962bc2d-562e-4cb9-8001-1f1ef1747521\", \"categories\": [0], \"series\": [{\"data\": [0.9353332031941155]}]}, {\"name\": \"recall_score_micro\", \"run_id\": \"AutoML_0962bc2d-562e-4cb9-8001-1f1ef1747521\", \"categories\": [0], \"series\": [{\"data\": [0.8828767123287671]}]}, {\"name\": \"f1_score_weighted\", \"run_id\": \"AutoML_0962bc2d-562e-4cb9-8001-1f1ef1747521\", \"categories\": [0], \"series\": [{\"data\": [0.8825043542611134]}]}, {\"name\": \"f1_score_micro\", \"run_id\": \"AutoML_0962bc2d-562e-4cb9-8001-1f1ef1747521\", \"categories\": [0], \"series\": [{\"data\": [0.8828767123287671]}]}, {\"name\": \"AUC_micro\", \"run_id\": \"AutoML_0962bc2d-562e-4cb9-8001-1f1ef1747521\", \"categories\": [0], \"series\": [{\"data\": [0.9367263190878747]}]}, {\"name\": \"accuracy\", \"run_id\": \"AutoML_0962bc2d-562e-4cb9-8001-1f1ef1747521\", \"categories\": [0], \"series\": [{\"data\": [0.8828767123287671]}]}, {\"name\": \"balanced_accuracy\", \"run_id\": \"AutoML_0962bc2d-562e-4cb9-8001-1f1ef1747521\", \"categories\": [0], \"series\": [{\"data\": [0.8778328166602754]}]}, {\"name\": \"log_loss\", \"run_id\": \"AutoML_0962bc2d-562e-4cb9-8001-1f1ef1747521\", \"categories\": [0], \"series\": [{\"data\": [0.3632039746956787]}]}], \"run_logs\": \"\\nRun is completed.\", \"graph\": {}, \"widget_settings\": {\"childWidgetDisplay\": \"popup\", \"send_telemetry\": false, \"log_level\": \"INFO\", \"sdk_version\": \"1.57.0\"}, \"loading\": false}"
          },
          "metadata": {}
        },
        {
          "output_type": "display_data",
          "data": {
            "text/html": "<table style=\"width:100%\"><tr><th>Experiment</th><th>Id</th><th>Type</th><th>Status</th><th>Details Page</th><th>Docs Page</th></tr><tr><td>automl-exp</td><td>AutoML_0962bc2d-562e-4cb9-8001-1f1ef1747521</td><td>automl</td><td>NotStarted</td><td><a href=\"https://ml.azure.com/runs/AutoML_0962bc2d-562e-4cb9-8001-1f1ef1747521?wsid=/subscriptions/d7f39349-a66b-446e-aba6-0053c2cf1c11/resourcegroups/aml-quickstarts-268861/workspaces/quick-starts-ws-268861&amp;tid=660b3398-b80e-49d2-bc5b-ac1dc93b5254\" target=\"_blank\" rel=\"noopener\">Link to Azure Machine Learning studio</a></td><td><a href=\"https://docs.microsoft.com/en-us/python/api/overview/azure/ml/intro?view=azure-ml-py\" target=\"_blank\" rel=\"noopener\">Link to Documentation</a></td></tr></table>"
          },
          "metadata": {}
        },
        {
          "output_type": "stream",
          "name": "stdout",
          "text": "\nCurrent status: FeaturesGeneration. Generating features for the dataset.\nCurrent status: DatasetFeaturization. Beginning to fit featurizers and featurize the dataset.\nCurrent status: DatasetCrossValidationSplit. Generating individually featurized CV splits.\nCurrent status: ModelSelection. Beginning model selection.\n\n********************************************************************************************\nDATA GUARDRAILS: \n\nTYPE:         Cross validation\nSTATUS:       DONE\nDESCRIPTION:  In order to accurately evaluate the model(s) trained by AutoML, we leverage a dataset that the model is not trained on. Hence, if the user doesn't provide an explicit validation dataset, a part of the training dataset is used to achieve this. For smaller datasets (fewer than 20,000 samples), cross-validation is leveraged, else a single hold-out set is split from the training data to serve as the validation dataset. Hence, for your input data we leverage cross-validation with 10 folds, if the number of training samples are fewer than 1000, and 3 folds in all other cases.\n              Learn more about cross validation: https://aka.ms/AutomatedMLCrossValidation\nDETAILS:      \n+------------------------------+\n|Number of folds               |\n+==============================+\n|10                            |\n+------------------------------+\n\n********************************************************************************************\n\nTYPE:         Class balancing detection\nSTATUS:       PASSED\nDESCRIPTION:  Your inputs were analyzed, and all classes are balanced in your training data.\n              Learn more about imbalanced data: https://aka.ms/AutomatedMLImbalancedData\n\n********************************************************************************************\n\nTYPE:         Missing feature values imputation\nSTATUS:       PASSED\nDESCRIPTION:  No feature missing values were detected in the training data.\n              Learn more about missing value imputation: https://aka.ms/AutomatedMLFeaturization\n\n********************************************************************************************\n\nTYPE:         High cardinality feature detection\nSTATUS:       PASSED\nDESCRIPTION:  Your inputs were analyzed, and no high cardinality features were detected.\n              Learn more about high cardinality feature handling: https://aka.ms/AutomatedMLFeaturization\n\n********************************************************************************************\n\n********************************************************************************************\nITER: The iteration being evaluated.\nPIPELINE: A summary description of the pipeline being evaluated.\nDURATION: Time taken for the current iteration.\nMETRIC: The result of computing score on the fitted pipeline.\nBEST: The best observed score thus far.\n********************************************************************************************\n\n ITER   PIPELINE                                       DURATION            METRIC      BEST\n    0   MaxAbsScaler LightGBM                          0:00:08             0.8502    0.8502\n    1   MaxAbsScaler XGBoostClassifier                 0:00:16             0.8638    0.8638\n    4   MaxAbsScaler LightGBM                          0:00:13             0.8556    0.8638\n    5   MaxAbsScaler LightGBM                          0:00:12             0.8556    0.8638\n    2   MaxAbsScaler ExtremeRandomTrees                0:00:14             0.8393    0.8638\n    6   StandardScalerWrapper XGBoostClassifier        0:00:10             0.8393    0.8638\n    8   StandardScalerWrapper ExtremeRandomTrees       0:00:10             0.8515    0.8638\n   10   SparseNormalizer LightGBM                      0:00:09             0.8556    0.8638\n    3   SparseNormalizer XGBoostClassifier             0:00:13             0.8543    0.8638\n    7   MaxAbsScaler LogisticRegression                0:00:07             0.8433    0.8638\n    9   StandardScalerWrapper XGBoostClassifier        0:00:10             0.8665    0.8665\n   11   StandardScalerWrapper XGBoostClassifier        0:00:10             0.8680    0.8680\n   16   StandardScalerWrapper LogisticRegression       0:00:09             0.8474    0.8680\n   17   StandardScalerWrapper RandomForest             0:00:10             0.8638    0.8680\n   18   StandardScalerWrapper XGBoostClassifier        0:00:10             0.8569    0.8680\n   19   TruncatedSVDWrapper RandomForest               0:00:13             0.8406    0.8680\n   20   TruncatedSVDWrapper RandomForest               0:00:35             0.8515    0.8680\n   21   StandardScalerWrapper XGBoostClassifier        0:00:32             0.8502    0.8680\n   22   SparseNormalizer XGBoostClassifier             0:00:34             0.8556    0.8680\n   12   MaxAbsScaler LogisticRegression                0:00:09             0.8501    0.8680\n   23   TruncatedSVDWrapper XGBoostClassifier          0:00:33             0.6214    0.8680\n   13   MaxAbsScaler SGD                               0:00:09             0.8461    0.8680\n   14   StandardScalerWrapper XGBoostClassifier        0:00:09             0.8623    0.8680\n   24   StandardScalerWrapper LogisticRegression       0:00:29             0.8501    0.8680\n   25   StandardScalerWrapper RandomForest             0:00:35             0.8501    0.8680\n   15   SparseNormalizer RandomForest                  0:00:13             0.8665    0.8680\n   26   MaxAbsScaler RandomForest                      0:00:36             0.8502    0.8680\n   28   StandardScalerWrapper LightGBM                 0:00:32             0.8720    0.8720\n   29   StandardScalerWrapper XGBoostClassifier        0:00:34             0.8488    0.8720\n   27   MaxAbsScaler LightGBM                          0:00:32             0.8583    0.8720\n   30   StandardScalerWrapper XGBoostClassifier        0:00:36             0.8461    0.8720\n   31   MaxAbsScaler LightGBM                          0:00:31             0.8352    0.8720\n   32   MaxAbsScaler LightGBM                          0:00:26             0.8719    0.8720\n   33   SparseNormalizer XGBoostClassifier             0:00:34             0.8678    0.8720\n   34   SparseNormalizer ExtremeRandomTrees            0:00:38             0.8624    0.8720\n   35   MaxAbsScaler LightGBM                          0:00:31             0.8161    0.8720\n   36   MaxAbsScaler ExtremeRandomTrees                0:00:38             0.8420    0.8720\n   37   MaxAbsScaler LogisticRegression                0:00:31             0.8501    0.8720\n   38   SparseNormalizer RandomForest                  0:00:39             0.8679    0.8720\n   39   SparseNormalizer RandomForest                  0:00:33             0.8501    0.8720\n   40   SparseNormalizer LightGBM                      0:00:40             0.8651    0.8720\n   41   MaxAbsScaler RandomForest                      0:00:32             0.8611    0.8720\n   42   StandardScalerWrapper RandomForest             0:00:33             0.8407    0.8720\n   43   SparseNormalizer LightGBM                      0:00:26             0.8502    0.8720\n   44                                                  0:00:16                nan    0.8720\n   45                                                  0:00:06                nan    0.8720\n   46    VotingEnsemble                                0:01:38             0.8829    0.8829\n   47    StackEnsemble                                 0:01:22             0.8733    0.8829\n"
        },
        {
          "output_type": "execute_result",
          "execution_count": 24,
          "data": {
            "text/plain": "{'runId': 'AutoML_0962bc2d-562e-4cb9-8001-1f1ef1747521',\n 'target': 'compute-cluster-1',\n 'status': 'Completed',\n 'startTimeUtc': '2024-10-19T10:20:20.877523Z',\n 'endTimeUtc': '2024-10-19T10:37:18.9365Z',\n 'services': {},\n 'warnings': [{'source': 'JasmineService',\n   'message': 'No scores improved over last 10 iterations, so experiment stopped early. This early stopping behavior can be disabled by setting enable_early_stopping = False in AutoMLConfig for notebook/python SDK runs.'}],\n 'properties': {'num_iterations': '1000',\n  'training_type': 'TrainFull',\n  'acquisition_function': 'EI',\n  'primary_metric': 'accuracy',\n  'train_split': '0',\n  'acquisition_parameter': '0',\n  'num_cross_validation': None,\n  'target': 'compute-cluster-1',\n  'AMLSettingsJsonString': '{\"path\":null,\"name\":\"automl-exp\",\"subscription_id\":\"d7f39349-a66b-446e-aba6-0053c2cf1c11\",\"resource_group\":\"aml-quickstarts-268861\",\"workspace_name\":\"quick-starts-ws-268861\",\"region\":\"westus2\",\"compute_target\":\"compute-cluster-1\",\"spark_service\":null,\"azure_service\":\"remote\",\"many_models\":false,\"pipeline_fetch_max_batch_size\":1,\"enable_batch_run\":true,\"enable_parallel_run\":false,\"num_procs\":null,\"enable_run_restructure\":false,\"start_auxiliary_runs_before_parent_complete\":true,\"enable_code_generation\":true,\"force_curated_environment\":false,\"iterations\":1000,\"primary_metric\":\"accuracy\",\"task_type\":\"classification\",\"positive_label\":null,\"data_script\":null,\"test_size\":0.2,\"test_include_predictions_only\":false,\"validation_size\":0.0,\"n_cross_validations\":null,\"y_min\":null,\"y_max\":null,\"num_classes\":null,\"featurization\":\"auto\",\"_ignore_package_version_incompatibilities\":false,\"is_timeseries\":false,\"max_cores_per_iteration\":1,\"max_concurrent_iterations\":5,\"iteration_timeout_minutes\":null,\"mem_in_mb\":null,\"enforce_time_on_windows\":false,\"experiment_timeout_minutes\":30,\"experiment_exit_score\":null,\"partition_column_names\":null,\"whitelist_models\":null,\"blacklist_algos\":[\"TensorFlowLinearClassifier\",\"TensorFlowDNN\"],\"supported_models\":[\"GradientBoosting\",\"LogisticRegression\",\"XGBoostClassifier\",\"LightGBM\",\"KNN\",\"TensorFlowLinearClassifier\",\"RandomForest\",\"AveragedPerceptronClassifier\",\"SVM\",\"TensorFlowDNN\",\"MultinomialNaiveBayes\",\"DecisionTree\",\"LinearSVM\",\"BernoulliNaiveBayes\",\"TabnetClassifier\",\"SGD\",\"ExtremeRandomTrees\"],\"private_models\":[],\"auto_blacklist\":true,\"blacklist_samples_reached\":false,\"exclude_nan_labels\":true,\"verbosity\":20,\"_debug_log\":\"azureml_automl.log\",\"show_warnings\":false,\"model_explainability\":true,\"service_url\":null,\"sdk_url\":null,\"sdk_packages\":null,\"enable_onnx_compatible_models\":false,\"enable_split_onnx_featurizer_estimator_models\":false,\"vm_type\":\"STANDARD_D3_v2\",\"telemetry_verbosity\":20,\"send_telemetry\":true,\"enable_dnn\":false,\"scenario\":\"AutoML\",\"environment_label\":null,\"save_mlflow\":false,\"enable_categorical_indicators\":false,\"force_text_dnn\":false,\"enable_feature_sweeping\":true,\"enable_early_stopping\":true,\"early_stopping_n_iters\":10,\"arguments\":null,\"dataset_id\":\"97f881ff-9258-42d9-8670-ecfc0056ef88\",\"hyperdrive_config\":null,\"validation_dataset_id\":null,\"run_source\":null,\"metrics\":null,\"enable_metric_confidence\":false,\"enable_ensembling\":true,\"enable_stack_ensembling\":true,\"ensemble_iterations\":15,\"enable_tf\":false,\"enable_subsampling\":null,\"subsample_seed\":null,\"enable_nimbusml\":false,\"enable_streaming\":false,\"force_streaming\":false,\"track_child_runs\":true,\"n_best_runs\":1,\"allowed_private_models\":[],\"label_column_name\":\"HeartDisease\",\"weight_column_name\":null,\"cv_split_column_names\":null,\"enable_local_managed\":false,\"_local_managed_run_id\":null,\"cost_mode\":1,\"lag_length\":0,\"metric_operation\":\"maximize\",\"preprocess\":true}',\n  'DataPrepJsonString': '{\\\\\"training_data\\\\\": {\\\\\"datasetId\\\\\": \\\\\"97f881ff-9258-42d9-8670-ecfc0056ef88\\\\\"}, \\\\\"datasets\\\\\": 0}',\n  'EnableSubsampling': None,\n  'runTemplate': 'AutoML',\n  'azureml.runsource': 'automl',\n  'display_task_type': 'classification',\n  'dependencies_versions': '{\"azureml-automl-runtime\": \"1.58.0\", \"azureml-inference-server-http\": \"1.2.2\", \"azureml-contrib-server\": \"1.57.0\", \"azureml-sdk\": \"1.58.0\", \"azureml-train-automl-runtime\": \"1.58.0\", \"azureml-train-automl-client\": \"1.58.0\", \"azureml-training-tabular\": \"1.58.0\", \"azureml-opendatasets\": \"1.57.0\", \"azureml-cli-common\": \"1.57.0\", \"azureml-automl-dnn-nlp\": \"1.57.0\", \"azureml-automl-core\": \"1.58.0\", \"azureml-dataprep-native\": \"41.0.0\", \"azureml-contrib-automl-pipeline-steps\": \"1.57.0\", \"azureml-widgets\": \"1.58.0\", \"azureml-dataprep-rslex\": \"2.22.2\", \"azureml-core\": \"1.58.0\", \"azureml-pipeline\": \"1.58.0\", \"azureml-train\": \"1.57.0\", \"azureml-train-restclients-hyperdrive\": \"1.58.0\", \"azureml-datadrift\": \"1.57.0\", \"azureml-mlflow\": \"1.58.0\", \"azureml-tensorboard\": \"1.57.0\", \"azureml-contrib-reinforcementlearning\": \"1.57.0\", \"azureml-contrib-pipeline-steps\": \"1.57.0\", \"azureml-responsibleai\": \"1.58.0\", \"azureml-pipeline-steps\": \"1.58.0\", \"azureml-contrib-dataset\": \"1.57.0\", \"azureml-dataprep\": \"5.1.6\", \"azureml-interpret\": \"1.58.0\", \"azureml-dataset-runtime\": \"1.58.0\", \"azureml-contrib-notebook\": \"1.58.0\", \"azureml-fsspec\": \"1.3.1\", \"azureml-contrib-services\": \"1.57.0\", \"azureml-train-core\": \"1.58.0\", \"azureml-accel-models\": \"1.57.0\", \"azureml-telemetry\": \"1.58.0\", \"azureml-train-automl\": \"1.58.0\", \"azureml-defaults\": \"1.57.0\", \"azureml-contrib-fairness\": \"1.57.0\", \"azureml-pipeline-core\": \"1.58.0\"}',\n  '_aml_system_scenario_identification': 'Remote.Parent',\n  'ClientType': 'SDK',\n  'PlatformVersion': 'DPV1',\n  'environment_cpu_name': 'AzureML-ai-ml-automl',\n  'environment_cpu_label': '5',\n  'environment_gpu_name': 'AzureML-ai-ml-automl-gpu',\n  'environment_gpu_label': '5',\n  'root_attribution': 'automl',\n  'attribution': 'AutoML',\n  'Orchestrator': 'AutoML',\n  'CancelUri': 'https://westus2.api.azureml.ms/jasmine/v1.0/subscriptions/d7f39349-a66b-446e-aba6-0053c2cf1c11/resourceGroups/aml-quickstarts-268861/providers/Microsoft.MachineLearningServices/workspaces/quick-starts-ws-268861/experimentids/c53474ba-efee-4c6e-befe-b3cedcc3791b/cancel/AutoML_0962bc2d-562e-4cb9-8001-1f1ef1747521',\n  'ClientSdkVersion': None,\n  'snapshotId': '00000000-0000-0000-0000-000000000000',\n  'SetupRunId': 'AutoML_0962bc2d-562e-4cb9-8001-1f1ef1747521_setup',\n  'SetupRunContainerId': 'dcid.AutoML_0962bc2d-562e-4cb9-8001-1f1ef1747521_setup',\n  'FeaturizationRunJsonPath': 'featurizer_container.json',\n  'FeaturizationRunId': 'AutoML_0962bc2d-562e-4cb9-8001-1f1ef1747521_featurize',\n  'ProblemInfoJsonString': '{\"dataset_num_categorical\": 0, \"is_sparse\": true, \"subsampling\": false, \"has_extra_col\": true, \"dataset_classes\": 2, \"dataset_features\": 18, \"dataset_samples\": 734, \"single_frequency_class_detected\": false}',\n  'ModelExplainRunId': 'AutoML_0962bc2d-562e-4cb9-8001-1f1ef1747521_ModelExplain'},\n 'inputDatasets': [{'dataset': {'id': '97f881ff-9258-42d9-8670-ecfc0056ef88'}, 'consumptionDetails': {'type': 'RunInput', 'inputName': 'training_data', 'mechanism': 'Direct'}}],\n 'outputDatasets': [],\n 'logFiles': {},\n 'submittedBy': 'ODL_User 268861'}"
          },
          "metadata": {}
        }
      ],
      "execution_count": 24,
      "metadata": {
        "gather": {
          "logged": 1729334260396
        },
        "jupyter": {
          "outputs_hidden": false,
          "source_hidden": false
        },
        "nteract": {
          "transient": {
            "deleting": false
          }
        }
      }
    },
    {
      "cell_type": "markdown",
      "source": [
        "## Best Model\n",
        "\n",
        "TODO: In the cell below, get the best model from the automl experiments and display all the properties of the model.\n",
        "\n"
      ],
      "metadata": {}
    },
    {
      "cell_type": "code",
      "source": [
        "best_run, fitted_model = automl_run.get_output()\n",
        "print(best_run)"
      ],
      "outputs": [
        {
          "output_type": "stream",
          "name": "stdout",
          "text": "Run(Experiment: automl-exp,\nId: AutoML_0962bc2d-562e-4cb9-8001-1f1ef1747521_46,\nType: azureml.scriptrun,\nStatus: Completed)\n"
        }
      ],
      "execution_count": 25,
      "metadata": {
        "gather": {
          "logged": 1729349389318
        },
        "jupyter": {
          "outputs_hidden": false,
          "source_hidden": false
        },
        "nteract": {
          "transient": {
            "deleting": false
          }
        }
      }
    },
    {
      "cell_type": "code",
      "source": [
        "print(fitted_model)"
      ],
      "outputs": [
        {
          "output_type": "stream",
          "name": "stdout",
          "text": "Pipeline(steps=[('datatransformer',\n                 DataTransformer(enable_dnn=False, enable_feature_sweeping=True, is_cross_validation=True, working_dir='/mnt/batch/tasks/shared/LS_root/mounts/clusters/notebook268861/code/Users/odl_user_268861')),\n                ('prefittedsoftvotingclassifier',\n                 PreFittedSoftVotingClassifier(classification_labels=array([0, 1]), estimators=[('28', Pipeli...roblem_info=ProblemInfo(gpu_training_param_dict={'processing_unit_type': 'cpu'}), reg_alpha=0, reg_lambda=1.7708333333333335, subsample=0.9, tree_method='auto'))]))], flatten_transform=False, weights=[0.2222222222222222, 0.1111111111111111, 0.1111111111111111, 0.1111111111111111, 0.1111111111111111, 0.1111111111111111, 0.1111111111111111, 0.1111111111111111]))])\nY_transformer(['LabelEncoder', LabelEncoder()])\n"
        }
      ],
      "execution_count": 26,
      "metadata": {
        "jupyter": {
          "source_hidden": false,
          "outputs_hidden": false
        },
        "nteract": {
          "transient": {
            "deleting": false
          }
        },
        "gather": {
          "logged": 1729349395766
        }
      }
    },
    {
      "cell_type": "code",
      "source": [
        "best_run.get_metrics()"
      ],
      "outputs": [
        {
          "output_type": "execute_result",
          "execution_count": 29,
          "data": {
            "text/plain": "{'f1_score_micro': 0.8828767123287671,\n 'recall_score_weighted': 0.8828767123287671,\n 'f1_score_macro': 0.8779237393916282,\n 'weighted_accuracy': 0.887113388521524,\n 'recall_score_micro': 0.8828767123287671,\n 'log_loss': 0.3632039746956787,\n 'accuracy': 0.8828767123287671,\n 'precision_score_micro': 0.8828767123287671,\n 'precision_score_macro': 0.8839000734544171,\n 'recall_score_macro': 0.8778328166602754,\n 'AUC_macro': 0.9353332031941155,\n 'norm_macro_recall': 0.7556656333205508,\n 'average_precision_score_micro': 0.9369677544423404,\n 'average_precision_score_macro': 0.9354582269746249,\n 'f1_score_weighted': 0.8825043542611134,\n 'AUC_weighted': 0.9353332031941157,\n 'AUC_micro': 0.9367263190878747,\n 'matthews_correlation': 0.761576390049642,\n 'precision_score_weighted': 0.8877698088880146,\n 'balanced_accuracy': 0.8778328166602754,\n 'average_precision_score_weighted': 0.9395579598337944,\n 'confusion_matrix': 'aml://artifactId/ExperimentRun/dcid.AutoML_0962bc2d-562e-4cb9-8001-1f1ef1747521_46/confusion_matrix',\n 'accuracy_table': 'aml://artifactId/ExperimentRun/dcid.AutoML_0962bc2d-562e-4cb9-8001-1f1ef1747521_46/accuracy_table'}"
          },
          "metadata": {}
        }
      ],
      "execution_count": 29,
      "metadata": {
        "jupyter": {
          "source_hidden": false,
          "outputs_hidden": false
        },
        "nteract": {
          "transient": {
            "deleting": false
          }
        },
        "gather": {
          "logged": 1729349727514
        }
      }
    },
    {
      "cell_type": "code",
      "source": [
        "#TODO: Save the best model\n",
        "best_run.register_model(model_path=\"./outputs/\", model_name='best_model.pkl', properties={'accuracy':best_run.get_metrics()[\"accuracy\"]})"
      ],
      "outputs": [
        {
          "output_type": "execute_result",
          "execution_count": 28,
          "data": {
            "text/plain": "Model(workspace=Workspace.create(name='quick-starts-ws-268861', subscription_id='d7f39349-a66b-446e-aba6-0053c2cf1c11', resource_group='aml-quickstarts-268861'), name=best_model.pkl, id=best_model.pkl:5, version=5, tags={}, properties={'accuracy': '0.8828767123287671'})"
          },
          "metadata": {}
        }
      ],
      "execution_count": 28,
      "metadata": {
        "gather": {
          "logged": 1729349646589
        },
        "jupyter": {
          "outputs_hidden": false,
          "source_hidden": false
        },
        "nteract": {
          "transient": {
            "deleting": false
          }
        }
      }
    },
    {
      "cell_type": "markdown",
      "source": [
        "## Model Deployment\n",
        "\n",
        "Remember you have to deploy only one of the two models you trained but you still need to register both the models. Perform the steps in the rest of this notebook only if you wish to deploy this model.\n",
        "\n",
        "TODO: In the cell below, register the model, create an inference config and deploy the model as a web service."
      ],
      "metadata": {}
    },
    {
      "cell_type": "code",
      "source": [
        "best_run.download_file('./outputs/scoring_file_v_1_0_0.py', 'scoring.py')\n",
        "best_run.download_file('./outputs/conda_env_v_1_0_0.yml', 'envFile.yml')"
      ],
      "outputs": [],
      "execution_count": null,
      "metadata": {
        "gather": {
          "logged": 1729242220925
        },
        "jupyter": {
          "outputs_hidden": false,
          "source_hidden": false
        },
        "nteract": {
          "transient": {
            "deleting": false
          }
        }
      }
    },
    {
      "cell_type": "markdown",
      "source": [
        "TODO: In the cell below, send a request to the web service you deployed to test it."
      ],
      "metadata": {
        "collapsed": true,
        "gather": {
          "logged": 1598431657736
        },
        "jupyter": {
          "outputs_hidden": false,
          "source_hidden": false
        },
        "nteract": {
          "transient": {
            "deleting": false
          }
        }
      }
    },
    {
      "cell_type": "code",
      "source": [],
      "outputs": [],
      "execution_count": null,
      "metadata": {
        "gather": {
          "logged": 1598432707604
        },
        "jupyter": {
          "outputs_hidden": false,
          "source_hidden": false
        },
        "nteract": {
          "transient": {
            "deleting": false
          }
        }
      }
    },
    {
      "cell_type": "markdown",
      "source": [
        "TODO: In the cell below, print the logs of the web service and delete the service"
      ],
      "metadata": {
        "collapsed": true,
        "gather": {
          "logged": 1598432765711
        },
        "jupyter": {
          "outputs_hidden": false,
          "source_hidden": false
        },
        "nteract": {
          "transient": {
            "deleting": false
          }
        }
      }
    },
    {
      "cell_type": "code",
      "source": [
        "service.delete()"
      ],
      "outputs": [],
      "execution_count": null,
      "metadata": {
        "jupyter": {
          "outputs_hidden": false,
          "source_hidden": false
        },
        "nteract": {
          "transient": {
            "deleting": false
          }
        }
      }
    },
    {
      "cell_type": "markdown",
      "source": [
        "**Submission Checklist**\n",
        "- I have registered the model.\n",
        "- I have deployed the model with the best accuracy as a webservice.\n",
        "- I have tested the webservice by sending a request to the model endpoint.\n",
        "- I have deleted the webservice and shutdown all the computes that I have used.\n",
        "- I have taken a screenshot showing the model endpoint as active.\n",
        "- The project includes a file containing the environment details.\n"
      ],
      "metadata": {}
    },
    {
      "cell_type": "markdown",
      "source": [],
      "metadata": {}
    }
  ],
  "metadata": {
    "kernel_info": {
      "name": "python38-azureml"
    },
    "kernelspec": {
      "name": "python38-azureml",
      "language": "python",
      "display_name": "Python 3.8 - AzureML"
    },
    "language_info": {
      "name": "python",
      "version": "3.10.11",
      "mimetype": "text/x-python",
      "codemirror_mode": {
        "name": "ipython",
        "version": 3
      },
      "pygments_lexer": "ipython3",
      "nbconvert_exporter": "python",
      "file_extension": ".py"
    },
    "nteract": {
      "version": "nteract-front-end@1.0.0"
    },
    "microsoft": {
      "ms_spell_check": {
        "ms_spell_check_language": "en"
      },
      "host": {
        "AzureML": {
          "notebookHasBeenCompleted": true
        }
      }
    }
  },
  "nbformat": 4,
  "nbformat_minor": 2
}