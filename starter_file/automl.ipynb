{
  "cells": [
    {
      "cell_type": "markdown",
      "source": [
        "# Automated ML\n",
        "\n",
        "TODO: Import Dependencies. In the cell below, import all the dependencies that you will need to complete the project."
      ],
      "metadata": {}
    },
    {
      "cell_type": "code",
      "source": [
        "%pip install azureml-train-automl-runtime==1.57.0 -q\n",
        "%pip install --upgrade azureml-sdk[notebooks,automl] -q\n",
        "%pip install azureml-widgets -q"
      ],
      "outputs": [
        {
          "output_type": "display_data",
          "data": {
            "application/vnd.livy.statement-meta+json": {
              "spark_pool": "8d137bca-db0d-4176-840a-7e7df7eff5a6",
              "statement_id": 12,
              "statement_ids": [
                6,
                7,
                8,
                9,
                10,
                11,
                12
              ],
              "state": "finished",
              "livy_statement_state": "available",
              "spark_jobs": {
                "numbers": {
                  "FAILED": 0,
                  "SUCCEEDED": 0,
                  "UNKNOWN": 0,
                  "RUNNING": 0
                },
                "jobs": [],
                "limit": 20,
                "rule": "ALL_DESC"
              },
              "session_id": "1",
              "normalized_state": "finished",
              "queued_time": "2024-10-18T07:34:06.365961Z",
              "session_start_time": "2024-10-18T07:34:06.3892592Z",
              "execution_start_time": "2024-10-18T07:35:26.5964416Z",
              "execution_finish_time": "2024-10-18T07:37:20.1196286Z",
              "parent_msg_id": "dbf48d83-a565-4057-8e56-88584e9ed9d8"
            },
            "text/plain": "StatementMeta(8d137bca-db0d-4176-840a-7e7df7eff5a6, 1, 12, Finished, Available, Finished)"
          },
          "metadata": {}
        },
        {
          "output_type": "execute_result",
          "execution_count": 1,
          "data": {},
          "metadata": {}
        },
        {
          "output_type": "stream",
          "name": "stdout",
          "text": "\u001b[31mERROR: pip's dependency resolver does not currently take into account all the packages that are installed. This behaviour is the source of the following dependency conflicts.\ntensorflow 2.10.0 requires protobuf<3.20,>=3.9.2, but you have protobuf 3.20.3 which is incompatible.\njupyter-client 7.4.4 requires tornado>=6.2, but you have tornado 6.1 which is incompatible.\nazureml-opendatasets 1.47.0 requires azureml-core~=1.47.0, but you have azureml-core 1.57.0.post3 which is incompatible.\nazureml-opendatasets 1.47.0 requires azureml-dataset-runtime[fuse,pandas]~=1.47.0, but you have azureml-dataset-runtime 1.57.0 which is incompatible.\nazureml-opendatasets 1.47.0 requires azureml-telemetry~=1.47.0, but you have azureml-telemetry 1.57.0 which is incompatible.\u001b[0m\u001b[31m\n\u001b[0m\u001b[33mWARNING: You are using pip version 22.0.4; however, version 24.2 is available.\nYou should consider upgrading via the '/nfs4/pyenv-7cda8f43-09e4-4353-94c3-b37a3b0bd095/bin/python -m pip install --upgrade pip' command.\u001b[0m\u001b[33m\n\u001b[0mNote: you may need to restart the kernel to use updated packages.\n\u001b[31mERROR: pip's dependency resolver does not currently take into account all the packages that are installed. This behaviour is the source of the following dependency conflicts.\nazureml-opendatasets 1.47.0 requires azureml-core~=1.47.0, but you have azureml-core 1.58.0 which is incompatible.\nazureml-opendatasets 1.47.0 requires azureml-dataset-runtime[fuse,pandas]~=1.47.0, but you have azureml-dataset-runtime 1.58.0 which is incompatible.\nazureml-opendatasets 1.47.0 requires azureml-telemetry~=1.47.0, but you have azureml-telemetry 1.58.0 which is incompatible.\u001b[0m\u001b[31m\n\u001b[0m\u001b[33mWARNING: You are using pip version 22.0.4; however, version 24.2 is available.\nYou should consider upgrading via the '/nfs4/pyenv-7cda8f43-09e4-4353-94c3-b37a3b0bd095/bin/python -m pip install --upgrade pip' command.\u001b[0m\u001b[33m\n\u001b[0mNote: you may need to restart the kernel to use updated packages.\n\u001b[33mWARNING: You are using pip version 22.0.4; however, version 24.2 is available.\nYou should consider upgrading via the '/nfs4/pyenv-7cda8f43-09e4-4353-94c3-b37a3b0bd095/bin/python -m pip install --upgrade pip' command.\u001b[0m\u001b[33m\n\u001b[0mNote: you may need to restart the kernel to use updated packages.\n"
        },
        {
          "output_type": "execute_result",
          "execution_count": 1,
          "data": {},
          "metadata": {}
        },
        {
          "output_type": "stream",
          "name": "stdout",
          "text": "Warning: PySpark kernel has been restarted to use updated packages.\n\n"
        }
      ],
      "execution_count": 1,
      "metadata": {}
    },
    {
      "cell_type": "code",
      "source": [
        "\n",
        "\n",
        "import logging\n",
        "import os\n",
        "import csv\n",
        "\n",
        "from matplotlib import pyplot as plt\n",
        "import numpy as np\n",
        "import pandas as pd\n",
        "from sklearn import datasets\n",
        "import pkg_resources\n",
        "\n",
        "import azureml.core\n",
        "from azureml.core.experiment import Experiment\n",
        "from azureml.core.workspace import Workspace\n",
        "from azureml.train.automl import AutoMLConfig\n",
        "from azureml.core.dataset import Dataset\n",
        "\n",
        "# Check core SDK version number\n",
        "print(\"SDK version:\", azureml.core.VERSION)"
      ],
      "outputs": [
        {
          "output_type": "display_data",
          "data": {
            "application/vnd.livy.statement-meta+json": {
              "spark_pool": "8d137bca-db0d-4176-840a-7e7df7eff5a6",
              "statement_id": 18,
              "statement_ids": [
                18
              ],
              "state": "finished",
              "livy_statement_state": "available",
              "spark_jobs": {
                "numbers": {
                  "FAILED": 0,
                  "SUCCEEDED": 0,
                  "UNKNOWN": 0,
                  "RUNNING": 0
                },
                "jobs": [],
                "limit": 20,
                "rule": "ALL_DESC"
              },
              "session_id": "1",
              "normalized_state": "finished",
              "queued_time": "2024-10-18T07:34:06.2370544Z",
              "session_start_time": null,
              "execution_start_time": "2024-10-18T07:37:30.2934616Z",
              "execution_finish_time": "2024-10-18T07:37:44.6720994Z",
              "parent_msg_id": "5cbe4a2b-fc7a-40a9-90b0-c5a632e0d23d"
            },
            "text/plain": "StatementMeta(8d137bca-db0d-4176-840a-7e7df7eff5a6, 1, 18, Finished, Available, Finished)"
          },
          "metadata": {}
        },
        {
          "output_type": "stream",
          "name": "stdout",
          "text": "SDK version: 1.58.0\n"
        }
      ],
      "execution_count": 2,
      "metadata": {
        "gather": {
          "logged": 1729237064931
        },
        "jupyter": {
          "outputs_hidden": false,
          "source_hidden": false
        },
        "nteract": {
          "transient": {
            "deleting": false
          }
        }
      }
    },
    {
      "cell_type": "markdown",
      "source": [
        "## Dataset\n",
        "\n",
        "### Overview\n",
        "TODO: In this markdown cell, give an overview of the dataset you are using. Also mention the task you will be performing.\n",
        "\n",
        "\n",
        "TODO: Get data. In the cell below, write code to access the data you will be using in this project. Remember that the dataset needs to be external."
      ],
      "metadata": {}
    },
    {
      "cell_type": "code",
      "source": [
        "session_id = \"268818\"\n",
        "subscription_id= \"d7f39349-a66b-446e-aba6-0053c2cf1c11\"\n",
        "resource_group= f\"aml-quickstarts-{session_id}\"\n",
        "workspace_name= f\"quick-starts-ws-{session_id}\"\n",
        "\n",
        "ws = Workspace.get(name=workspace_name, subscription_id=subscription_id, resource_group=resource_group)\n",
        "print(ws.name, ws.resource_group, ws.location, ws.subscription_id, sep = '\\n')\n",
        "\n",
        "# choose a name for experiment\n",
        "experiment_name = 'automl-exp'\n",
        "project_folder = './capstone'\n",
        "experiment=Experiment(ws, experiment_name)\n",
        "experiment"
      ],
      "outputs": [
        {
          "output_type": "display_data",
          "data": {
            "application/vnd.livy.statement-meta+json": {
              "spark_pool": "8d137bca-db0d-4176-840a-7e7df7eff5a6",
              "statement_id": 19,
              "statement_ids": [
                19
              ],
              "state": "finished",
              "livy_statement_state": "available",
              "spark_jobs": {
                "numbers": {
                  "FAILED": 0,
                  "SUCCEEDED": 0,
                  "UNKNOWN": 0,
                  "RUNNING": 0
                },
                "jobs": [],
                "limit": 20,
                "rule": "ALL_DESC"
              },
              "session_id": "1",
              "normalized_state": "finished",
              "queued_time": "2024-10-18T07:36:48.455824Z",
              "session_start_time": null,
              "execution_start_time": "2024-10-18T07:37:44.8041143Z",
              "execution_finish_time": "2024-10-18T07:42:07.7276145Z",
              "parent_msg_id": "b3f2ec2a-dd9f-442a-9581-28f2e18eed21"
            },
            "text/plain": "StatementMeta(8d137bca-db0d-4176-840a-7e7df7eff5a6, 1, 19, Finished, Available, Finished)"
          },
          "metadata": {}
        },
        {
          "output_type": "stream",
          "name": "stdout",
          "text": "Performing interactive authentication. Please follow the instructions on the terminal.\nTo sign in, use a web browser to open the page https://microsoft.com/devicelogin and enter the code GCKW9E6T8 to authenticate.\nInteractive authentication successfully completed.\nquick-starts-ws-268818\naml-quickstarts-268818\nwesteurope\nd7f39349-a66b-446e-aba6-0053c2cf1c11\n"
        },
        {
          "output_type": "execute_result",
          "execution_count": 13,
          "data": {
            "text/plain": "Experiment(Name: automl-exp,\nWorkspace: quick-starts-ws-268818)",
            "text/html": "<table style=\"width:100%\"><tr><th>Name</th><th>Workspace</th><th>Report Page</th><th>Docs Page</th></tr><tr><td>automl-exp</td><td>quick-starts-ws-268818</td><td><a href=\"https://ml.azure.com/experiments/id/7e8ada07-bb43-4759-9b68-e84b8664a54a?wsid=/subscriptions/d7f39349-a66b-446e-aba6-0053c2cf1c11/resourcegroups/aml-quickstarts-268818/workspaces/quick-starts-ws-268818&amp;tid=660b3398-b80e-49d2-bc5b-ac1dc93b5254\" target=\"_blank\" rel=\"noopener\">Link to Azure Machine Learning studio</a></td><td><a href=\"https://docs.microsoft.com/en-us/python/api/azureml-core/azureml.core.experiment.Experiment?view=azure-ml-py\" target=\"_blank\" rel=\"noopener\">Link to Documentation</a></td></tr></table>"
          },
          "metadata": {}
        }
      ],
      "execution_count": 3,
      "metadata": {
        "gather": {
          "logged": 1729237328142
        },
        "jupyter": {
          "outputs_hidden": false,
          "source_hidden": false
        },
        "nteract": {
          "transient": {
            "deleting": false
          }
        }
      }
    },
    {
      "cell_type": "code",
      "source": [
        "\n",
        "\n",
        "# Try to load the dataset from the Workspace. Otherwise, create it from the file\n",
        "# NOTE: update the key to match the dataset name\n",
        "found = False\n",
        "key = \"heart-failure\"\n",
        "description_text = \"Heart Failure Prediction Dataset\"\n",
        "\n",
        "if key in ws.datasets.keys(): \n",
        "        found = True\n",
        "        dataset = ws.datasets[key] \n",
        "\n",
        "if not found:\n",
        "        # Create AML Dataset and register it into Workspace\n",
        "        example_data = 'https://raw.githubusercontent.com/hknguyen20/nd00333-capstone/refs/heads/master/heart.csv'\n",
        "        dataset = Dataset.Tabular.from_delimited_files(example_data)        \n",
        "        #Register Dataset in Workspace\n",
        "        dataset = dataset.register(workspace=ws,\n",
        "                                   name=key,\n",
        "                                   description=description_text)\n",
        "df = dataset.to_pandas_dataframe()\n",
        "df.head()\n"
      ],
      "outputs": [
        {
          "output_type": "display_data",
          "data": {
            "application/vnd.livy.statement-meta+json": {
              "spark_pool": "8d137bca-db0d-4176-840a-7e7df7eff5a6",
              "statement_id": 22,
              "statement_ids": [
                22
              ],
              "state": "finished",
              "livy_statement_state": "available",
              "spark_jobs": {
                "numbers": {
                  "FAILED": 0,
                  "SUCCEEDED": 0,
                  "UNKNOWN": 0,
                  "RUNNING": 0
                },
                "jobs": [],
                "limit": 20,
                "rule": "ALL_DESC"
              },
              "session_id": "1",
              "normalized_state": "finished",
              "queued_time": "2024-10-18T07:52:38.7458705Z",
              "session_start_time": null,
              "execution_start_time": "2024-10-18T07:52:38.9962722Z",
              "execution_finish_time": "2024-10-18T07:52:45.4813758Z",
              "parent_msg_id": "ccf8d1c9-b64c-45b4-aa28-c3b31d1d71bf"
            },
            "text/plain": "StatementMeta(8d137bca-db0d-4176-840a-7e7df7eff5a6, 1, 22, Finished, Available, Finished)"
          },
          "metadata": {}
        },
        {
          "output_type": "stream",
          "name": "stdout",
          "text": "{'infer_column_types': 'False', 'activity': 'to_pandas_dataframe'}\n{'infer_column_types': 'False', 'activity': 'to_pandas_dataframe', 'activityApp': 'TabularDataset'}\n{'infer_column_types': 'False', 'activity': 'to_pandas_dataframe', 'activityApp': 'TabularDataset', 'runId': 'ba91beef-4278-4a82-a99e-a8f22a4c5ee8'}\n{'infer_column_types': 'False', 'activity': 'to_pandas_dataframe', 'activityApp': 'TabularDataset', 'runId': 'ba91beef-4278-4a82-a99e-a8f22a4c5ee8', 'run_id': 'ba91beef-4278-4a82-a99e-a8f22a4c5ee8'}\n"
        },
        {
          "output_type": "execute_result",
          "execution_count": 19,
          "data": {
            "text/plain": "   Age Sex ChestPainType  RestingBP  Cholesterol  FastingBS RestingECG  MaxHR  \\\n0   40   M           ATA        140          289      False     Normal    172   \n1   49   F           NAP        160          180      False     Normal    156   \n2   37   M           ATA        130          283      False         ST     98   \n3   48   F           ASY        138          214      False     Normal    108   \n4   54   M           NAP        150          195      False     Normal    122   \n\n   ExerciseAngina  Oldpeak ST_Slope  HeartDisease  \n0           False      0.0       Up         False  \n1           False      1.0     Flat          True  \n2           False      0.0       Up         False  \n3            True      1.5     Flat          True  \n4           False      0.0       Up         False  ",
            "text/html": "<div>\n<style scoped>\n    .dataframe tbody tr th:only-of-type {\n        vertical-align: middle;\n    }\n\n    .dataframe tbody tr th {\n        vertical-align: top;\n    }\n\n    .dataframe thead th {\n        text-align: right;\n    }\n</style>\n<table border=\"1\" class=\"dataframe\">\n  <thead>\n    <tr style=\"text-align: right;\">\n      <th></th>\n      <th>Age</th>\n      <th>Sex</th>\n      <th>ChestPainType</th>\n      <th>RestingBP</th>\n      <th>Cholesterol</th>\n      <th>FastingBS</th>\n      <th>RestingECG</th>\n      <th>MaxHR</th>\n      <th>ExerciseAngina</th>\n      <th>Oldpeak</th>\n      <th>ST_Slope</th>\n      <th>HeartDisease</th>\n    </tr>\n  </thead>\n  <tbody>\n    <tr>\n      <th>0</th>\n      <td>40</td>\n      <td>M</td>\n      <td>ATA</td>\n      <td>140</td>\n      <td>289</td>\n      <td>False</td>\n      <td>Normal</td>\n      <td>172</td>\n      <td>False</td>\n      <td>0.0</td>\n      <td>Up</td>\n      <td>False</td>\n    </tr>\n    <tr>\n      <th>1</th>\n      <td>49</td>\n      <td>F</td>\n      <td>NAP</td>\n      <td>160</td>\n      <td>180</td>\n      <td>False</td>\n      <td>Normal</td>\n      <td>156</td>\n      <td>False</td>\n      <td>1.0</td>\n      <td>Flat</td>\n      <td>True</td>\n    </tr>\n    <tr>\n      <th>2</th>\n      <td>37</td>\n      <td>M</td>\n      <td>ATA</td>\n      <td>130</td>\n      <td>283</td>\n      <td>False</td>\n      <td>ST</td>\n      <td>98</td>\n      <td>False</td>\n      <td>0.0</td>\n      <td>Up</td>\n      <td>False</td>\n    </tr>\n    <tr>\n      <th>3</th>\n      <td>48</td>\n      <td>F</td>\n      <td>ASY</td>\n      <td>138</td>\n      <td>214</td>\n      <td>False</td>\n      <td>Normal</td>\n      <td>108</td>\n      <td>True</td>\n      <td>1.5</td>\n      <td>Flat</td>\n      <td>True</td>\n    </tr>\n    <tr>\n      <th>4</th>\n      <td>54</td>\n      <td>M</td>\n      <td>NAP</td>\n      <td>150</td>\n      <td>195</td>\n      <td>False</td>\n      <td>Normal</td>\n      <td>122</td>\n      <td>False</td>\n      <td>0.0</td>\n      <td>Up</td>\n      <td>False</td>\n    </tr>\n  </tbody>\n</table>\n</div>"
          },
          "metadata": {}
        }
      ],
      "execution_count": 6,
      "metadata": {
        "gather": {
          "logged": 1729237965726
        }
      }
    },
    {
      "cell_type": "markdown",
      "source": [
        "## AutoML Configuration\n",
        "\n",
        "TODO: Explain why you chose the automl settings and cofiguration you used below."
      ],
      "metadata": {}
    },
    {
      "cell_type": "code",
      "source": [
        "from azureml.core.compute import AmlCompute\n",
        "from azureml.core.compute import ComputeTarget\n",
        "from azureml.core.compute_target import ComputeTargetException\n",
        "\n",
        "# NOTE: update the cluster name to match the existing cluster\n",
        "# Choose a name for your CPU cluster\n",
        "amlcompute_cluster_name = \"compute-cluster-1\"\n",
        "\n",
        "# Verify that cluster does not exist already\n",
        "try:\n",
        "    compute_target = ComputeTarget(workspace=ws, name=amlcompute_cluster_name)\n",
        "    print('Found existing cluster, use it.')\n",
        "except ComputeTargetException:\n",
        "    compute_config = AmlCompute.provisioning_configuration(vm_size='STANDARD_D3_v2',# for GPU, use \"STANDARD_NC6\"\n",
        "                                                           vm_priority = 'lowpriority', # optional\n",
        "                                                           min_nodes=1,\n",
        "                                                           max_nodes=5)\n",
        "    compute_target = ComputeTarget.create(ws, amlcompute_cluster_name, compute_config)\n",
        "\n",
        "compute_target.wait_for_completion(show_output=True, min_node_count = 1, timeout_in_minutes = 10)"
      ],
      "outputs": [
        {
          "output_type": "display_data",
          "data": {
            "application/vnd.livy.statement-meta+json": {
              "spark_pool": "8d137bca-db0d-4176-840a-7e7df7eff5a6",
              "statement_id": 23,
              "statement_ids": [
                23
              ],
              "state": "submitted",
              "livy_statement_state": "running",
              "spark_jobs": {
                "numbers": {
                  "FAILED": 0,
                  "SUCCEEDED": 0,
                  "UNKNOWN": 0,
                  "RUNNING": 0
                },
                "jobs": [],
                "limit": 20,
                "rule": "ALL_DESC"
              },
              "session_id": "1",
              "normalized_state": "running",
              "queued_time": "2024-10-18T07:53:14.3869669Z",
              "session_start_time": null,
              "execution_start_time": "2024-10-18T07:53:14.517752Z",
              "execution_finish_time": null,
              "parent_msg_id": "dfbc60b0-34c7-4e57-8c3a-cb7625df5de5"
            },
            "text/plain": "StatementMeta(8d137bca-db0d-4176-840a-7e7df7eff5a6, 1, 23, Submitted, Running, Running)"
          },
          "metadata": {}
        },
        {
          "output_type": "stream",
          "name": "stdout",
          "text": "InProgress..\nSucceededProvisioning operation finished, operation \"Succeeded\"\nSucceeded."
        }
      ],
      "execution_count": 7,
      "metadata": {}
    },
    {
      "cell_type": "code",
      "source": [
        "# TODO: Put your automl settings here\n",
        "automl_settings = {\n",
        "    \"experiment_timeout_minutes\": 40,\n",
        "    \"max_concurrent_iterations\": 5,\n",
        "    \"primary_metric\" : 'AUC_weighted',\n",
        "    \"enable_early_stopping\": True,\n",
        "}\n",
        "\n",
        "# TODO: Put your automl config here\n",
        "automl_config = AutoMLConfig(compute_target=compute_target,\n",
        "                             task = \"classification\",\n",
        "                             training_data=dataset,\n",
        "                             label_column_name=\"HeartDisease\",   \n",
        "                             path = project_folder,\n",
        "                             featurization= 'auto',\n",
        "                             debug_log = \"automl_errors.log\",\n",
        "                             **automl_settings\n",
        "                            )"
      ],
      "outputs": [
        {
          "output_type": "display_data",
          "data": {
            "application/vnd.livy.statement-meta+json": {
              "spark_pool": "8d137bca-db0d-4176-840a-7e7df7eff5a6",
              "statement_id": 26,
              "statement_ids": [
                26
              ],
              "state": "finished",
              "livy_statement_state": "available",
              "spark_jobs": {
                "numbers": {
                  "FAILED": 0,
                  "SUCCEEDED": 0,
                  "UNKNOWN": 0,
                  "RUNNING": 0
                },
                "jobs": [],
                "limit": 20,
                "rule": "ALL_DESC"
              },
              "session_id": "1",
              "normalized_state": "finished",
              "queued_time": "2024-10-18T07:57:10.8127177Z",
              "session_start_time": null,
              "execution_start_time": "2024-10-18T07:57:10.9448057Z",
              "execution_finish_time": "2024-10-18T07:57:11.2675625Z",
              "parent_msg_id": "ebe68639-90ce-4d06-bed0-063cd13048f6"
            },
            "text/plain": "StatementMeta(8d137bca-db0d-4176-840a-7e7df7eff5a6, 1, 26, Finished, Available, Finished)"
          },
          "metadata": {}
        }
      ],
      "execution_count": 10,
      "metadata": {
        "gather": {
          "logged": 1729238231535
        },
        "jupyter": {
          "outputs_hidden": false,
          "source_hidden": false
        },
        "nteract": {
          "transient": {
            "deleting": false
          }
        }
      }
    },
    {
      "cell_type": "code",
      "source": [
        "# TODO: Submit your experiment\n",
        "automl_run = experiment.submit(automl_config)"
      ],
      "outputs": [
        {
          "output_type": "display_data",
          "data": {
            "application/vnd.livy.statement-meta+json": {
              "spark_pool": "8d137bca-db0d-4176-840a-7e7df7eff5a6",
              "statement_id": 27,
              "statement_ids": [
                27
              ],
              "state": "finished",
              "livy_statement_state": "available",
              "spark_jobs": {
                "numbers": {
                  "FAILED": 0,
                  "SUCCEEDED": 0,
                  "UNKNOWN": 0,
                  "RUNNING": 0
                },
                "jobs": [],
                "limit": 20,
                "rule": "ALL_DESC"
              },
              "session_id": "1",
              "normalized_state": "finished",
              "queued_time": "2024-10-18T07:57:14.2316914Z",
              "session_start_time": null,
              "execution_start_time": "2024-10-18T07:57:14.3504346Z",
              "execution_finish_time": "2024-10-18T07:57:39.8067159Z",
              "parent_msg_id": "fe3e6522-06e9-4cfa-966a-b267b21ae55e"
            },
            "text/plain": "StatementMeta(8d137bca-db0d-4176-840a-7e7df7eff5a6, 1, 27, Finished, Available, Finished)"
          },
          "metadata": {}
        },
        {
          "output_type": "stream",
          "name": "stdout",
          "text": "Submitting remote run.\n"
        },
        {
          "output_type": "display_data",
          "data": {
            "text/html": "<table style=\"width:100%\"><tr><th>Experiment</th><th>Id</th><th>Type</th><th>Status</th><th>Details Page</th><th>Docs Page</th></tr><tr><td>automl-exp</td><td>AutoML_0b035984-dce8-4b10-8a54-88f04cf31c41</td><td>automl</td><td>NotStarted</td><td><a href=\"https://ml.azure.com/runs/AutoML_0b035984-dce8-4b10-8a54-88f04cf31c41?wsid=/subscriptions/d7f39349-a66b-446e-aba6-0053c2cf1c11/resourcegroups/aml-quickstarts-268818/workspaces/quick-starts-ws-268818&amp;tid=660b3398-b80e-49d2-bc5b-ac1dc93b5254\" target=\"_blank\" rel=\"noopener\">Link to Azure Machine Learning studio</a></td><td><a href=\"https://docs.microsoft.com/en-us/python/api/overview/azure/ml/intro?view=azure-ml-py\" target=\"_blank\" rel=\"noopener\">Link to Documentation</a></td></tr></table>"
          },
          "metadata": {}
        }
      ],
      "execution_count": 11,
      "metadata": {
        "gather": {
          "logged": 1729238259997
        },
        "jupyter": {
          "outputs_hidden": false,
          "source_hidden": false
        },
        "nteract": {
          "transient": {
            "deleting": false
          }
        }
      }
    },
    {
      "cell_type": "markdown",
      "source": [
        "## Run Details\n",
        "\n",
        "OPTIONAL: Write about the different models trained and their performance. Why do you think some models did better than others?\n",
        "\n",
        "TODO: In the cell below, use the `RunDetails` widget to show the different experiments."
      ],
      "metadata": {}
    },
    {
      "cell_type": "code",
      "source": [
        "from azureml.widgets import RunDetails\n",
        "RunDetails(automl_run).show()\n",
        "automl_run.wait_for_completion()"
      ],
      "outputs": [
        {
          "output_type": "display_data",
          "data": {
            "application/vnd.livy.statement-meta+json": {
              "spark_pool": "8d137bca-db0d-4176-840a-7e7df7eff5a6",
              "statement_id": 28,
              "statement_ids": [
                28
              ],
              "state": "submitted",
              "livy_statement_state": "running",
              "spark_jobs": {
                "numbers": {
                  "FAILED": 0,
                  "SUCCEEDED": 0,
                  "UNKNOWN": 0,
                  "RUNNING": 0
                },
                "jobs": [],
                "limit": 20,
                "rule": "ALL_DESC"
              },
              "session_id": "1",
              "normalized_state": "running",
              "queued_time": "2024-10-18T07:57:30.2478712Z",
              "session_start_time": null,
              "execution_start_time": "2024-10-18T07:57:39.9490596Z",
              "execution_finish_time": null,
              "parent_msg_id": "5d6f0c08-9b78-46e9-aaec-79b3e8d68503"
            },
            "text/plain": "StatementMeta(8d137bca-db0d-4176-840a-7e7df7eff5a6, 1, 28, Submitted, Running, Running)"
          },
          "metadata": {}
        },
        {
          "output_type": "stream",
          "name": "stdout",
          "text": "Initializing logging file for interpret-community\n"
        },
        {
          "output_type": "display_data",
          "data": {
            "text/plain": "_AutoMLWidget(widget_settings={'childWidgetDisplay': 'popup', 'send_telemetry': False, 'log_level': 'INFO', 's…",
            "application/vnd.jupyter.widget-view+json": {
              "version_major": 2,
              "version_minor": 0,
              "model_id": "4338f060a775427284e99929e7675212"
            }
          },
          "metadata": {}
        },
        {
          "output_type": "display_data",
          "data": {
            "application/aml.mini.widget.v1": "{\"status\": \"Running\", \"workbench_run_details_uri\": \"https://ml.azure.com/runs/AutoML_0b035984-dce8-4b10-8a54-88f04cf31c41?wsid=/subscriptions/d7f39349-a66b-446e-aba6-0053c2cf1c11/resourcegroups/aml-quickstarts-268818/workspaces/quick-starts-ws-268818&tid=660b3398-b80e-49d2-bc5b-ac1dc93b5254\", \"run_id\": \"AutoML_0b035984-dce8-4b10-8a54-88f04cf31c41\", \"run_properties\": {\"run_id\": \"AutoML_0b035984-dce8-4b10-8a54-88f04cf31c41\", \"created_utc\": \"2024-10-18T07:57:20.629996Z\", \"properties\": {\"num_iterations\": \"1000\", \"training_type\": \"TrainFull\", \"acquisition_function\": \"EI\", \"primary_metric\": \"AUC_weighted\", \"train_split\": \"0\", \"acquisition_parameter\": \"0\", \"num_cross_validation\": null, \"target\": \"compute-cluster-1\", \"AMLSettingsJsonString\": \"{\\\"path\\\":null,\\\"name\\\":\\\"automl-exp\\\",\\\"subscription_id\\\":\\\"d7f39349-a66b-446e-aba6-0053c2cf1c11\\\",\\\"resource_group\\\":\\\"aml-quickstarts-268818\\\",\\\"workspace_name\\\":\\\"quick-starts-ws-268818\\\",\\\"region\\\":\\\"westeurope\\\",\\\"compute_target\\\":\\\"compute-cluster-1\\\",\\\"spark_service\\\":null,\\\"azure_service\\\":\\\"remote\\\",\\\"many_models\\\":false,\\\"pipeline_fetch_max_batch_size\\\":1,\\\"enable_batch_run\\\":true,\\\"enable_parallel_run\\\":false,\\\"num_procs\\\":null,\\\"enable_run_restructure\\\":false,\\\"start_auxiliary_runs_before_parent_complete\\\":false,\\\"enable_code_generation\\\":true,\\\"force_curated_environment\\\":false,\\\"iterations\\\":1000,\\\"primary_metric\\\":\\\"AUC_weighted\\\",\\\"task_type\\\":\\\"classification\\\",\\\"positive_label\\\":null,\\\"data_script\\\":null,\\\"test_size\\\":0.0,\\\"test_include_predictions_only\\\":false,\\\"validation_size\\\":0.0,\\\"n_cross_validations\\\":null,\\\"y_min\\\":null,\\\"y_max\\\":null,\\\"num_classes\\\":null,\\\"featurization\\\":\\\"auto\\\",\\\"_ignore_package_version_incompatibilities\\\":false,\\\"is_timeseries\\\":false,\\\"max_cores_per_iteration\\\":1,\\\"max_concurrent_iterations\\\":5,\\\"iteration_timeout_minutes\\\":null,\\\"mem_in_mb\\\":null,\\\"enforce_time_on_windows\\\":false,\\\"experiment_timeout_minutes\\\":40,\\\"experiment_exit_score\\\":null,\\\"partition_column_names\\\":null,\\\"whitelist_models\\\":null,\\\"blacklist_algos\\\":[\\\"TensorFlowLinearClassifier\\\",\\\"TensorFlowDNN\\\"],\\\"supported_models\\\":[\\\"SVM\\\",\\\"TensorFlowDNN\\\",\\\"SGD\\\",\\\"RandomForest\\\",\\\"XGBoostClassifier\\\",\\\"TabnetClassifier\\\",\\\"BernoulliNaiveBayes\\\",\\\"KNN\\\",\\\"LogisticRegression\\\",\\\"GradientBoosting\\\",\\\"TensorFlowLinearClassifier\\\",\\\"MultinomialNaiveBayes\\\",\\\"LinearSVM\\\",\\\"AveragedPerceptronClassifier\\\",\\\"DecisionTree\\\",\\\"ExtremeRandomTrees\\\",\\\"LightGBM\\\"],\\\"private_models\\\":[],\\\"auto_blacklist\\\":true,\\\"blacklist_samples_reached\\\":false,\\\"exclude_nan_labels\\\":true,\\\"verbosity\\\":20,\\\"_debug_log\\\":\\\"azureml_automl.log\\\",\\\"show_warnings\\\":false,\\\"model_explainability\\\":true,\\\"service_url\\\":null,\\\"sdk_url\\\":null,\\\"sdk_packages\\\":null,\\\"enable_onnx_compatible_models\\\":false,\\\"enable_split_onnx_featurizer_estimator_models\\\":false,\\\"vm_type\\\":\\\"STANDARD_D3_v2\\\",\\\"telemetry_verbosity\\\":20,\\\"send_telemetry\\\":true,\\\"enable_dnn\\\":false,\\\"scenario\\\":\\\"AutoML\\\",\\\"environment_label\\\":null,\\\"save_mlflow\\\":false,\\\"enable_categorical_indicators\\\":false,\\\"force_text_dnn\\\":false,\\\"enable_feature_sweeping\\\":true,\\\"enable_early_stopping\\\":true,\\\"early_stopping_n_iters\\\":10,\\\"arguments\\\":null,\\\"dataset_id\\\":\\\"8e07984d-b577-4a94-9f89-bc75c5722b48\\\",\\\"hyperdrive_config\\\":null,\\\"validation_dataset_id\\\":null,\\\"run_source\\\":null,\\\"metrics\\\":null,\\\"enable_metric_confidence\\\":false,\\\"enable_ensembling\\\":true,\\\"enable_stack_ensembling\\\":true,\\\"ensemble_iterations\\\":15,\\\"enable_tf\\\":false,\\\"enable_subsampling\\\":null,\\\"subsample_seed\\\":null,\\\"enable_nimbusml\\\":false,\\\"enable_streaming\\\":false,\\\"force_streaming\\\":false,\\\"track_child_runs\\\":true,\\\"n_best_runs\\\":1,\\\"allowed_private_models\\\":[],\\\"label_column_name\\\":\\\"HeartDisease\\\",\\\"weight_column_name\\\":null,\\\"cv_split_column_names\\\":null,\\\"enable_local_managed\\\":false,\\\"_local_managed_run_id\\\":null,\\\"cost_mode\\\":1,\\\"lag_length\\\":0,\\\"metric_operation\\\":\\\"maximize\\\",\\\"preprocess\\\":true}\", \"DataPrepJsonString\": \"{\\\\\\\"training_data\\\\\\\": {\\\\\\\"datasetId\\\\\\\": \\\\\\\"8e07984d-b577-4a94-9f89-bc75c5722b48\\\\\\\"}, \\\\\\\"datasets\\\\\\\": 0}\", \"EnableSubsampling\": null, \"runTemplate\": \"AutoML\", \"azureml.runsource\": \"automl\", \"display_task_type\": \"classification\", \"dependencies_versions\": \"{\\\"azureml-dataprep-native\\\": \\\"38.0.0\\\", \\\"azureml-interpret\\\": \\\"1.58.0\\\", \\\"azureml-mlflow\\\": \\\"1.47.0\\\", \\\"azureml-train-restclients-hyperdrive\\\": \\\"1.58.0\\\", \\\"azureml-responsibleai\\\": \\\"1.58.0\\\", \\\"azureml-dataset-runtime\\\": \\\"1.47.0\\\", \\\"azureml-widgets\\\": \\\"1.58.0\\\", \\\"azureml-dataprep-rslex\\\": \\\"2.11.4\\\", \\\"azureml-train-automl-client\\\": \\\"1.58.0\\\", \\\"azureml-dataprep\\\": \\\"4.5.7\\\", \\\"azureml-contrib-notebook\\\": \\\"1.58.0\\\", \\\"azureml-pipeline-core\\\": \\\"1.58.0\\\", \\\"azureml-telemetry\\\": \\\"1.47.0\\\", \\\"azureml-training-tabular\\\": \\\"1.58.0\\\", \\\"azureml-core\\\": \\\"1.47.0\\\", \\\"azureml-train-automl-runtime\\\": \\\"1.58.0\\\", \\\"azureml-train-core\\\": \\\"1.58.0\\\", \\\"azureml-sdk\\\": \\\"1.58.0\\\", \\\"azureml-automl-runtime\\\": \\\"1.58.0\\\", \\\"azureml-pipeline\\\": \\\"1.58.0\\\", \\\"azureml-train-automl\\\": \\\"1.58.0\\\", \\\"azureml-pipeline-steps\\\": \\\"1.58.0\\\", \\\"azureml-automl-core\\\": \\\"1.58.0\\\", \\\"azureml-opendatasets\\\": \\\"1.47.0\\\", \\\"azureml-synapse\\\": \\\"0.0.1\\\"}\", \"_aml_system_scenario_identification\": \"Remote.Parent\", \"ClientType\": \"SDK\", \"PlatformVersion\": \"DPV1\", \"environment_cpu_name\": \"AzureML-ai-ml-automl\", \"environment_cpu_label\": \"5\", \"environment_gpu_name\": \"AzureML-ai-ml-automl-gpu\", \"environment_gpu_label\": \"5\", \"root_attribution\": \"automl\", \"attribution\": \"AutoML\", \"Orchestrator\": \"AutoML\", \"CancelUri\": \"https://westeurope.api.azureml.ms/jasmine/v1.0/subscriptions/d7f39349-a66b-446e-aba6-0053c2cf1c11/resourceGroups/aml-quickstarts-268818/providers/Microsoft.MachineLearningServices/workspaces/quick-starts-ws-268818/experimentids/7e8ada07-bb43-4759-9b68-e84b8664a54a/cancel/AutoML_0b035984-dce8-4b10-8a54-88f04cf31c41\", \"ClientSdkVersion\": null, \"snapshotId\": \"00000000-0000-0000-0000-000000000000\", \"SetupRunId\": \"AutoML_0b035984-dce8-4b10-8a54-88f04cf31c41_setup\", \"SetupRunContainerId\": \"dcid.AutoML_0b035984-dce8-4b10-8a54-88f04cf31c41_setup\", \"FeaturizationRunJsonPath\": \"featurizer_container.json\", \"FeaturizationRunId\": \"AutoML_0b035984-dce8-4b10-8a54-88f04cf31c41_featurize\", \"ProblemInfoJsonString\": \"{\\\"dataset_num_categorical\\\": 0, \\\"is_sparse\\\": true, \\\"subsampling\\\": false, \\\"has_extra_col\\\": true, \\\"dataset_classes\\\": 2, \\\"dataset_features\\\": 18, \\\"dataset_samples\\\": 918, \\\"single_frequency_class_detected\\\": false}\"}, \"tags\": {\"model_explain_run\": \"best_run\", \"_aml_system_automl_run_workspace_id\": \"964224b3-8d50-4012-a07d-589ef64d6be1\", \"_aml_system_azureml.automlComponent\": \"AutoML\", \"pipeline_id_000\": \"5dfac790c5c209f98a1da2dc1c7fb76f0397324f;c7af0367625be6ac5c2fecbfc72ed444cb7a2111;51ae05309834b29f71340af1008fc94fbd8213f4;ce2643edf3d450b10c86c7d034a9bc952dc282d3;681a59302459aec2cc115ddbc14e1d28f4b3b8df;5bcf69d12307c5f0246b0d33ab19666443595ac9;6f4a466f84f725a47910c1dff062a1bb46df2a21;dea7fdbaedc77258dbfe31dbfed41e768ca38939;039a99c3d5147edeb525249e2660628be3e8b83f;a3dadd95854bf6116ab454844302b51d417d78b7;1dfdf370ba770047b14bfa59c40920815defcdab;294650ec23bc3d067a4972de7ceb12f6e97260fa;1e38ae92baee19b18f211a8b14c16015d5ee3dc3;a7434e890cabef86b0ce4ae71fb633e1e92b854d;dd46719e1e1ca3df6e6826afb96bf9be8390e6e2;c74787cd2f0507b852a1ac70d504d83ac9bdec83;79ebb3b8c385e3190e3dd4c1fa28b74730528045;208056285bd1883d5bd7d4e4e996a1c71c4b0033;a72eb56f3d4aadb7b7f0149ba6e5f05657a95ca1;9610149fbcf43017aa810a290e9c04cbe6fa8684;ee365d2bc711bc6838929328cc4ff4b890fbc6c3;f9c4839cd35f7fe03bcc11d87a99d82f63f333dc;95e8251864490ddcb69789033f3b4117ca8f1110;dfc631bbb8f3be228d228210719dafe9e4a19b00;2a17077ea0d81fee59d89e3edbfb492ee784dfab;8dcea3685f89c20386531209c468e1069a05e194;36305c649d777baa20ddd07bafaa5d23625a1f29;aeb5234030c898137ae5e78c1e5ead8dd1668894;2ff082ddd91187c6c5921b8eb7752deb6d360c2a;16b345486af5b797980f301918bf2d15bdd21402;f4bd617a8fb10babd96b051c16e4548568a8cad2;3fe9ace0255a98a01a321c2b4c6ab86f6c1db8e5;394b308312ea189bad82b44f618be02d28759f75;97c1e46772634cca34132c1350e2851d81720fd7;927fbe69f48689cd086753fc017e3c727ff92f46;aef5e98d358c537bfc9ce60a74fe75794ebc65d7;ee7d1e53079aef6bc7287e6a9e61d6ad4ffad5c0;5dcd9bc8a74634130a855a68c1bf956ce7160f98;__AutoML_Stack_Ensemble__\", \"score_000\": \"0.9271278077850527;0.9273276534833685;0.9193612852136951;0.9246896726186286;0.9322047966871023;0.9164573186953637;0.9269354599904318;0.9296359999226727;0.9309253988719155;0.9234337562791086;0.9332631972480362;0.9227004667831901;0.9264822381187792;0.9267009770743625;0.9266470916563799;0.930729446957689;0.9261534665073707;0.9290143991518868;0.9296587852946043;0.9342230900876902;0.9226493425925731;0.9192254385877175;0.9300813017372953;0.9340609956323588;0.9273327287160447;0.9296040962971105;0.9239403482492838;0.9332962618329926;0.6754499413145478;0.9285793947288827;0.9270731535811991;0.929039110295385;0.927704121441022;0.9066358937610068;NaN;0.9277017153412572;NaN;NaN;0.9402653414279432\", \"predicted_cost_000\": \"0;0;0.5;0.5;0.5;0.5;0.5;0.5;0.5;0.5;0.5;0.5;0.5;0.5;0.5;0.5;0.5;0.5;0.5;0.5;0.15594612408090774;0.0504994178426197;0.07241928076659017;0.0627019162080681;0.2069736255752648;0.5859133184975535;0.011559520503680927;0.15628555394890273;0.8433170055207913;0.21377381628026518;0.7935306326647295;0.41419310489577327;0.13318432742196076;0.11418967785554153;0.07813692177106683;0.059481919951924526;0.14836330175102927;0.27806448822522756;0\", \"fit_time_000\": \"0.07441229999999999;0.5083165000000001;0.024330300000000003;0.0301082;0.09462869999999998;0.08170419999999999;0.015922399999999996;0.8326321999999999;0.015338200000000001;0.08628830000000001;0.3775466;0.07431390000000002;0.024693899999999998;0.5566377;0.08546650000000001;0.1356507;0.0394092;0.1575236;0.31125569999999997;0.0275683;0.0814737;0.029261499999999996;0.05549079999999999;0.0777043;0.0353644;0.8853297000000001;0.005217;0.4748857999999999;0.0401449;0.4016619;1.0830202;0.2906492;0.0143484;0.0983865;NaN;0.0149844;NaN;NaN;29\", \"training_percent_000\": \"100;100;100;100;100;100;100;100;100;100;100;100;100;100;100;100;100;100;100;100;100;100;100;100;100;100;100;100;100;100;100;100;100;100;100;100;100;100;100\", \"iteration_000\": \"0;1;2;3;8;9;10;11;4;5;6;7;16;17;18;12;13;19;14;15;21;23;24;25;26;27;28;29;30;32;31;22;33;35;37;34;36;20;39\", \"run_preprocessor_000\": \"MaxAbsScaler;MaxAbsScaler;MaxAbsScaler;MaxAbsScaler;SparseNormalizer;MaxAbsScaler;SparseNormalizer;MaxAbsScaler;StandardScalerWrapper;SparseNormalizer;SparseNormalizer;StandardScalerWrapper;MaxAbsScaler;StandardScalerWrapper;StandardScalerWrapper;StandardScalerWrapper;StandardScalerWrapper;MaxAbsScaler;StandardScalerWrapper;MaxAbsScaler;StandardScalerWrapper;MaxAbsScaler;StandardScalerWrapper;SparseNormalizer;MaxAbsScaler;SparseNormalizer;MaxAbsScaler;StandardScalerWrapper;TruncatedSVDWrapper;SparseNormalizer;SparseNormalizer;StandardScalerWrapper;StandardScalerWrapper;MaxAbsScaler;;SparseNormalizer;StandardScalerWrapper;;\", \"run_algorithm_000\": \"LightGBM;XGBoostClassifier;ExtremeRandomTrees;RandomForest;XGBoostClassifier;RandomForest;LightGBM;ExtremeRandomTrees;LightGBM;XGBoostClassifier;RandomForest;XGBoostClassifier;LogisticRegression;ExtremeRandomTrees;XGBoostClassifier;XGBoostClassifier;ExtremeRandomTrees;ExtremeRandomTrees;RandomForest;LightGBM;XGBoostClassifier;RandomForest;LightGBM;XGBoostClassifier;LightGBM;XGBoostClassifier;SGD;XGBoostClassifier;LightGBM;XGBoostClassifier;XGBoostClassifier;XGBoostClassifier;LightGBM;ExtremeRandomTrees;;LightGBM;LightGBM;;StackEnsemble\", \"dynamic_allowlisting_iterations\": \"<24>;<30>;<34>;\", \"_aml_system_azureml.automl_early_exit_message\": \"No scores improved over last 10 iterations, so experiment stopped early. This early stopping behavior can be disabled by setting enable_early_stopping = False in AutoMLConfig for notebook/python SDK runs.\"}, \"end_time_utc\": null, \"status\": \"Running\", \"log_files\": {}, \"log_groups\": [], \"run_duration\": \"0:56:09\", \"run_number\": \"1729238240\", \"run_queued_details\": {\"status\": \"Running\", \"details\": null}}, \"child_runs\": [{\"run_id\": \"AutoML_0b035984-dce8-4b10-8a54-88f04cf31c41_setup\", \"run_number\": 1729238269, \"metric\": null, \"status\": \"Completed\", \"run_type\": \"azureml.scriptrun\", \"training_percent\": null, \"start_time\": \"2024-10-18T07:58:20.92318Z\", \"end_time\": \"2024-10-18T08:10:46.247479Z\", \"created_time\": \"2024-10-18T07:57:49.954756Z\", \"created_time_dt\": \"2024-10-18T07:57:49.954756Z\", \"duration\": \"0:12:56\", \"iteration\": null, \"goal\": null, \"run_name\": \"Completed\", \"run_properties\": null}, {\"run_id\": \"AutoML_0b035984-dce8-4b10-8a54-88f04cf31c41_featurize\", \"run_number\": 1729239046, \"metric\": null, \"status\": \"Completed\", \"run_type\": \"automl.featurization\", \"training_percent\": null, \"start_time\": \"2024-10-18T08:10:47.140247Z\", \"end_time\": \"2024-10-18T08:14:07.172059Z\", \"created_time\": \"2024-10-18T08:10:46.675898Z\", \"created_time_dt\": \"2024-10-18T08:10:46.675898Z\", \"duration\": \"0:03:20\", \"iteration\": null, \"goal\": null, \"run_name\": \"Completed\", \"run_properties\": null}, {\"run_id\": \"AutoML_0b035984-dce8-4b10-8a54-88f04cf31c41_0\", \"run_number\": 1729239249, \"metric\": null, \"status\": \"Completed\", \"run_type\": null, \"training_percent\": \"100\", \"start_time\": \"2024-10-18T08:14:56.229983Z\", \"end_time\": \"2024-10-18T08:15:07.904222Z\", \"created_time\": \"2024-10-18T08:14:09.105766Z\", \"created_time_dt\": \"2024-10-18T08:14:09.105766Z\", \"duration\": \"0:00:58\", \"iteration\": \"0\", \"goal\": \"AUC_weighted_max\", \"run_name\": \"MaxAbsScaler, LightGBM\", \"run_properties\": null, \"primary_metric\": 0.92712781, \"best_metric\": 0.92712781}, {\"run_id\": \"AutoML_0b035984-dce8-4b10-8a54-88f04cf31c41_worker_0\", \"run_number\": 1729239250, \"metric\": null, \"status\": \"Completed\", \"run_type\": \"azureml.scriptrun\", \"training_percent\": null, \"start_time\": \"2024-10-18T08:14:38.219516Z\", \"end_time\": \"2024-10-18T08:15:58.090148Z\", \"created_time\": \"2024-10-18T08:14:10.8168Z\", \"created_time_dt\": \"2024-10-18T08:14:10.8168Z\", \"duration\": \"0:01:47\", \"iteration\": null, \"goal\": null, \"run_name\": \"Completed\", \"run_properties\": null}, {\"run_id\": \"AutoML_0b035984-dce8-4b10-8a54-88f04cf31c41_5\", \"run_number\": 1729239251, \"metric\": null, \"status\": \"Completed\", \"run_type\": null, \"training_percent\": \"100\", \"start_time\": \"2024-10-18T08:18:47.476656Z\", \"end_time\": \"2024-10-18T08:18:57.130468Z\", \"created_time\": \"2024-10-18T08:14:11.48373Z\", \"created_time_dt\": \"2024-10-18T08:14:11.48373Z\", \"duration\": \"0:04:45\", \"iteration\": \"5\", \"goal\": \"AUC_weighted_max\", \"run_name\": \"SparseNormalizer, XGBoostClassifier\", \"run_properties\": \"norm='max'\", \"primary_metric\": 0.92343376, \"best_metric\": 0.92712781}, {\"run_id\": \"AutoML_0b035984-dce8-4b10-8a54-88f04cf31c41_worker_1\", \"run_number\": 1729239252, \"metric\": null, \"status\": \"Completed\", \"run_type\": \"azureml.scriptrun\", \"training_percent\": null, \"start_time\": \"2024-10-18T08:18:16.152699Z\", \"end_time\": \"2024-10-18T08:19:31.561703Z\", \"created_time\": \"2024-10-18T08:14:12.848844Z\", \"created_time_dt\": \"2024-10-18T08:14:12.848844Z\", \"duration\": \"0:05:18\", \"iteration\": null, \"goal\": null, \"run_name\": \"Completed\", \"run_properties\": null}, {\"run_id\": \"AutoML_0b035984-dce8-4b10-8a54-88f04cf31c41_8\", \"run_number\": 1729239253, \"metric\": null, \"status\": \"Completed\", \"run_type\": null, \"training_percent\": \"100\", \"start_time\": \"2024-10-18T08:16:42.557964Z\", \"end_time\": \"2024-10-18T08:16:53.159908Z\", \"created_time\": \"2024-10-18T08:14:13.048309Z\", \"created_time_dt\": \"2024-10-18T08:14:13.048309Z\", \"duration\": \"0:02:40\", \"iteration\": \"8\", \"goal\": \"AUC_weighted_max\", \"run_name\": \"SparseNormalizer, XGBoostClassifier\", \"run_properties\": \"norm='max'\", \"primary_metric\": 0.9322048, \"best_metric\": 0.9322048}, {\"run_id\": \"AutoML_0b035984-dce8-4b10-8a54-88f04cf31c41_worker_2\", \"run_number\": 1729239254, \"metric\": null, \"status\": \"Completed\", \"run_type\": \"azureml.scriptrun\", \"training_percent\": null, \"start_time\": \"2024-10-18T08:16:22.191167Z\", \"end_time\": \"2024-10-18T08:17:48.851703Z\", \"created_time\": \"2024-10-18T08:14:14.551218Z\", \"created_time_dt\": \"2024-10-18T08:14:14.551218Z\", \"duration\": \"0:03:34\", \"iteration\": null, \"goal\": null, \"run_name\": \"Completed\", \"run_properties\": null}, {\"run_id\": \"AutoML_0b035984-dce8-4b10-8a54-88f04cf31c41_13\", \"run_number\": 1729239255, \"metric\": null, \"status\": \"Completed\", \"run_type\": null, \"training_percent\": \"100\", \"start_time\": \"2024-10-18T08:32:06.040608Z\", \"end_time\": \"2024-10-18T08:32:14.173037Z\", \"created_time\": \"2024-10-18T08:14:15.225657Z\", \"created_time_dt\": \"2024-10-18T08:14:15.225657Z\", \"duration\": \"0:17:58\", \"iteration\": \"13\", \"goal\": \"AUC_weighted_max\", \"run_name\": \"StandardScalerWrapper, ExtremeRandomTrees\", \"run_properties\": \"copy=True, with_mean=False, with_std=False\", \"primary_metric\": 0.92615347, \"best_metric\": 0.9322048}, {\"run_id\": \"AutoML_0b035984-dce8-4b10-8a54-88f04cf31c41_worker_3\", \"run_number\": 1729239256, \"metric\": null, \"status\": \"Completed\", \"run_type\": \"azureml.scriptrun\", \"training_percent\": null, \"start_time\": \"2024-10-18T08:19:38.736842Z\", \"end_time\": \"2024-10-18T08:32:48.058584Z\", \"created_time\": \"2024-10-18T08:14:16.318658Z\", \"created_time_dt\": \"2024-10-18T08:14:16.318658Z\", \"duration\": \"0:18:31\", \"iteration\": null, \"goal\": null, \"run_name\": \"Completed\", \"run_properties\": null}, {\"run_id\": \"AutoML_0b035984-dce8-4b10-8a54-88f04cf31c41_17\", \"run_number\": 1729239257, \"metric\": null, \"status\": \"Completed\", \"run_type\": null, \"training_percent\": \"100\", \"start_time\": \"2024-10-18T08:31:37.206775Z\", \"end_time\": \"2024-10-18T08:31:52.252507Z\", \"created_time\": \"2024-10-18T08:14:17.087462Z\", \"created_time_dt\": \"2024-10-18T08:14:17.087462Z\", \"duration\": \"0:17:35\", \"iteration\": \"17\", \"goal\": \"AUC_weighted_max\", \"run_name\": \"StandardScalerWrapper, ExtremeRandomTrees\", \"run_properties\": \"copy=True, with_mean=False, with_std=True\", \"primary_metric\": 0.92670098, \"best_metric\": 0.9322048}, {\"run_id\": \"AutoML_0b035984-dce8-4b10-8a54-88f04cf31c41_worker_4\", \"run_number\": 1729239258, \"metric\": null, \"status\": \"Completed\", \"run_type\": \"azureml.scriptrun\", \"training_percent\": null, \"start_time\": \"2024-10-18T08:19:39.363256Z\", \"end_time\": \"2024-10-18T08:32:27.071845Z\", \"created_time\": \"2024-10-18T08:14:18.234814Z\", \"created_time_dt\": \"2024-10-18T08:14:18.234814Z\", \"duration\": \"0:18:08\", \"iteration\": null, \"goal\": null, \"run_name\": \"Completed\", \"run_properties\": null}, {\"run_id\": \"AutoML_0b035984-dce8-4b10-8a54-88f04cf31c41_22\", \"run_number\": 1729240329, \"metric\": null, \"status\": \"Completed\", \"run_type\": \"azureml.scriptrun\", \"training_percent\": \"100\", \"start_time\": \"2024-10-18T08:32:46.289439Z\", \"end_time\": \"2024-10-18T08:38:41.829359Z\", \"created_time\": \"2024-10-18T08:32:09.185696Z\", \"created_time_dt\": \"2024-10-18T08:32:09.185696Z\", \"duration\": \"0:06:32\", \"iteration\": \"22\", \"goal\": \"AUC_weighted_max\", \"run_name\": \"StandardScalerWrapper, XGBoostClassifier\", \"run_properties\": \"copy=True, with_mean=False, with_std=False\", \"primary_metric\": 0.92903911, \"best_metric\": 0.9322048}, {\"run_id\": \"AutoML_0b035984-dce8-4b10-8a54-88f04cf31c41_23\", \"run_number\": 1729240350, \"metric\": null, \"status\": \"Completed\", \"run_type\": \"azureml.scriptrun\", \"training_percent\": \"100\", \"start_time\": \"2024-10-18T08:33:04.942019Z\", \"end_time\": \"2024-10-18T08:34:27.953573Z\", \"created_time\": \"2024-10-18T08:32:30.003457Z\", \"created_time_dt\": \"2024-10-18T08:32:30.003457Z\", \"duration\": \"0:01:57\", \"iteration\": \"23\", \"goal\": \"AUC_weighted_max\", \"run_name\": \"MaxAbsScaler, RandomForest\", \"run_properties\": null, \"primary_metric\": 0.91922544, \"best_metric\": 0.9322048}, {\"run_id\": \"AutoML_0b035984-dce8-4b10-8a54-88f04cf31c41_24\", \"run_number\": 1729240437, \"metric\": null, \"status\": \"Completed\", \"run_type\": \"azureml.scriptrun\", \"training_percent\": \"100\", \"start_time\": \"2024-10-18T08:34:38.070801Z\", \"end_time\": \"2024-10-18T08:35:28.332Z\", \"created_time\": \"2024-10-18T08:33:57.748668Z\", \"created_time_dt\": \"2024-10-18T08:33:57.748668Z\", \"duration\": \"0:01:30\", \"iteration\": \"24\", \"goal\": \"AUC_weighted_max\", \"run_name\": \"StandardScalerWrapper, LightGBM\", \"run_properties\": \"copy=True, with_mean=False, with_std=False\", \"primary_metric\": 0.9300813, \"best_metric\": 0.9322048}, {\"run_id\": \"AutoML_0b035984-dce8-4b10-8a54-88f04cf31c41_26\", \"run_number\": 1729240469, \"metric\": null, \"status\": \"Completed\", \"run_type\": \"azureml.scriptrun\", \"training_percent\": \"100\", \"start_time\": \"2024-10-18T08:35:02.492811Z\", \"end_time\": \"2024-10-18T08:35:49.417652Z\", \"created_time\": \"2024-10-18T08:34:29.746796Z\", \"created_time_dt\": \"2024-10-18T08:34:29.746796Z\", \"duration\": \"0:01:19\", \"iteration\": \"26\", \"goal\": \"AUC_weighted_max\", \"run_name\": \"MaxAbsScaler, LightGBM\", \"run_properties\": null, \"primary_metric\": 0.92733273, \"best_metric\": 0.9322048}, {\"run_id\": \"AutoML_0b035984-dce8-4b10-8a54-88f04cf31c41_27\", \"run_number\": 1729240530, \"metric\": null, \"status\": \"Completed\", \"run_type\": \"azureml.scriptrun\", \"training_percent\": \"100\", \"start_time\": \"2024-10-18T08:36:03.720417Z\", \"end_time\": \"2024-10-18T08:37:08.556188Z\", \"created_time\": \"2024-10-18T08:35:30.11496Z\", \"created_time_dt\": \"2024-10-18T08:35:30.11496Z\", \"duration\": \"0:01:38\", \"iteration\": \"27\", \"goal\": \"AUC_weighted_max\", \"run_name\": \"SparseNormalizer, XGBoostClassifier\", \"run_properties\": \"norm='l1'\", \"primary_metric\": 0.9296041, \"best_metric\": 0.9322048}, {\"run_id\": \"AutoML_0b035984-dce8-4b10-8a54-88f04cf31c41_28\", \"run_number\": 1729240538, \"metric\": null, \"status\": \"Completed\", \"run_type\": \"azureml.scriptrun\", \"training_percent\": \"100\", \"start_time\": \"2024-10-18T08:36:10.345819Z\", \"end_time\": \"2024-10-18T08:37:08.715393Z\", \"created_time\": \"2024-10-18T08:35:38.132496Z\", \"created_time_dt\": \"2024-10-18T08:35:38.132496Z\", \"duration\": \"0:01:30\", \"iteration\": \"28\", \"goal\": \"AUC_weighted_max\", \"run_name\": \"MaxAbsScaler, SGD\", \"run_properties\": null, \"primary_metric\": 0.92394035, \"best_metric\": 0.9322048}, {\"run_id\": \"AutoML_0b035984-dce8-4b10-8a54-88f04cf31c41_29\", \"run_number\": 1729240551, \"metric\": null, \"status\": \"Completed\", \"run_type\": \"azureml.scriptrun\", \"training_percent\": \"100\", \"start_time\": \"2024-10-18T08:36:21.609317Z\", \"end_time\": \"2024-10-18T08:37:22.501088Z\", \"created_time\": \"2024-10-18T08:35:51.076724Z\", \"created_time_dt\": \"2024-10-18T08:35:51.076724Z\", \"duration\": \"0:01:31\", \"iteration\": \"29\", \"goal\": \"AUC_weighted_max\", \"run_name\": \"StandardScalerWrapper, XGBoostClassifier\", \"run_properties\": \"copy=True, with_mean=False, with_std=False\", \"primary_metric\": 0.93329626, \"best_metric\": 0.93329626}, {\"run_id\": \"AutoML_0b035984-dce8-4b10-8a54-88f04cf31c41_30\", \"run_number\": 1729240632, \"metric\": null, \"status\": \"Completed\", \"run_type\": \"azureml.scriptrun\", \"training_percent\": \"100\", \"start_time\": \"2024-10-18T08:37:43.636626Z\", \"end_time\": \"2024-10-18T08:38:29.917491Z\", \"created_time\": \"2024-10-18T08:37:12.076605Z\", \"created_time_dt\": \"2024-10-18T08:37:12.076605Z\", \"duration\": \"0:01:17\", \"iteration\": \"30\", \"goal\": \"AUC_weighted_max\", \"run_name\": \"TruncatedSVDWrapper, LightGBM\", \"run_properties\": \"n_components=0.20789473684210527\", \"primary_metric\": 0.67544994, \"best_metric\": 0.93329626}, {\"run_id\": \"AutoML_0b035984-dce8-4b10-8a54-88f04cf31c41_32\", \"run_number\": 1729240644, \"metric\": null, \"status\": \"Completed\", \"run_type\": \"azureml.scriptrun\", \"training_percent\": \"100\", \"start_time\": \"2024-10-18T08:37:50.398436Z\", \"end_time\": \"2024-10-18T08:38:41.884639Z\", \"created_time\": \"2024-10-18T08:37:24.151257Z\", \"created_time_dt\": \"2024-10-18T08:37:24.151257Z\", \"duration\": \"0:01:17\", \"iteration\": \"32\", \"goal\": \"AUC_weighted_max\", \"run_name\": \"SparseNormalizer, XGBoostClassifier\", \"run_properties\": null, \"primary_metric\": 0.92857939, \"best_metric\": 0.93329626}, {\"run_id\": \"AutoML_0b035984-dce8-4b10-8a54-88f04cf31c41_33\", \"run_number\": 1729240711, \"metric\": null, \"status\": \"Completed\", \"run_type\": \"azureml.scriptrun\", \"training_percent\": \"100\", \"start_time\": \"2024-10-18T08:38:59.802913Z\", \"end_time\": \"2024-10-18T08:39:39.555589Z\", \"created_time\": \"2024-10-18T08:38:31.591472Z\", \"created_time_dt\": \"2024-10-18T08:38:31.591472Z\", \"duration\": \"0:01:07\", \"iteration\": \"33\", \"goal\": \"AUC_weighted_max\", \"run_name\": \"StandardScalerWrapper, LightGBM\", \"run_properties\": \"copy=True, with_mean=False, with_std=False\", \"primary_metric\": 0.92770412, \"best_metric\": 0.93329626}, {\"run_id\": \"AutoML_0b035984-dce8-4b10-8a54-88f04cf31c41_35\", \"run_number\": 1729240724, \"metric\": null, \"status\": \"Completed\", \"run_type\": \"azureml.scriptrun\", \"training_percent\": \"100\", \"start_time\": \"2024-10-18T08:39:12.723164Z\", \"end_time\": \"2024-10-18T08:39:48.608074Z\", \"created_time\": \"2024-10-18T08:38:44.529736Z\", \"created_time_dt\": \"2024-10-18T08:38:44.529736Z\", \"duration\": \"0:01:04\", \"iteration\": \"35\", \"goal\": \"AUC_weighted_max\", \"run_name\": \"MaxAbsScaler, ExtremeRandomTrees\", \"run_properties\": null, \"primary_metric\": 0.90663589, \"best_metric\": 0.93329626}, {\"run_id\": \"AutoML_0b035984-dce8-4b10-8a54-88f04cf31c41_37\", \"run_number\": 1729240781, \"metric\": null, \"status\": \"Canceled\", \"run_type\": \"azureml.scriptrun\", \"training_percent\": \"100\", \"start_time\": \"2024-10-18T08:39:49.486824Z\", \"end_time\": \"2024-10-18T08:39:53.832537Z\", \"created_time\": \"2024-10-18T08:39:41.185121Z\", \"created_time_dt\": \"2024-10-18T08:39:41.185121Z\", \"duration\": \"0:00:12\", \"iteration\": \"37\", \"goal\": null, \"run_name\": \"Canceled\", \"run_properties\": null}, {\"run_id\": \"AutoML_0b035984-dce8-4b10-8a54-88f04cf31c41_39\", \"run_number\": 1729240796, \"metric\": null, \"status\": \"Completed\", \"run_type\": \"azureml.scriptrun\", \"training_percent\": \"100\", \"start_time\": \"2024-10-18T08:40:24.333663Z\", \"end_time\": \"2024-10-18T08:41:30.923271Z\", \"created_time\": \"2024-10-18T08:39:56.492201Z\", \"created_time_dt\": \"2024-10-18T08:39:56.492201Z\", \"duration\": \"0:01:34\", \"iteration\": \"39\", \"goal\": \"AUC_weighted_max\", \"run_name\": \"StackEnsemble\", \"run_properties\": \"base_learners=[('15', Pipeline(memory=None, steps=[('maxabsscaler', MaxAbsScaler(copy=True\", \"primary_metric\": 0.94026534, \"best_metric\": 0.94026534}], \"children_metrics\": {\"categories\": [0], \"series\": {\"log_loss\": [{\"categories\": [\"0\", \"5\", \"8\", \"13\", \"17\", \"22\", \"23\", \"24\", \"26\", \"27\", \"28\", \"29\", \"30\", \"32\", \"33\", \"35\", \"39\"], \"mode\": \"markers\", \"name\": \"log_loss\", \"stepped\": false, \"type\": \"scatter\", \"data\": [0.3944226690258212, 0.34478394440809695, 0.3294369464198169, 0.44619302815801704, 0.3494489398506226, 0.35345472900896946, 0.38758723280553264, 0.35397403807285754, 0.3558063377526956, 0.3970743484090397, 0.3494268418170886, 0.33293866921018045, 0.6310175139632107, 0.3464172260233402, 0.4352879652895713, 0.4074780770487892, 0.3313959560117924]}, {\"categories\": [\"0\", \"5\", \"8\", \"13\", \"17\", \"22\", \"23\", \"24\", \"26\", \"27\", \"28\", \"29\", \"30\", \"32\", \"33\", \"35\", \"39\"], \"mode\": \"lines\", \"name\": \"log_loss_min\", \"stepped\": true, \"type\": \"scatter\", \"data\": [0.3944226690258212, 0.34478394440809695, 0.3294369464198169, 0.3294369464198169, 0.3294369464198169, 0.3294369464198169, 0.3294369464198169, 0.3294369464198169, 0.3294369464198169, 0.3294369464198169, 0.3294369464198169, 0.3294369464198169, 0.3294369464198169, 0.3294369464198169, 0.3294369464198169, 0.3294369464198169, 0.3294369464198169]}], \"weighted_accuracy\": [{\"categories\": [\"0\", \"5\", \"8\", \"13\", \"17\", \"22\", \"23\", \"24\", \"26\", \"27\", \"28\", \"29\", \"30\", \"32\", \"33\", \"35\", \"39\"], \"mode\": \"markers\", \"name\": \"weighted_accuracy\", \"stepped\": false, \"type\": \"scatter\", \"data\": [0.8664800928636428, 0.8628642535659437, 0.8777098282337945, 0.8554083065590058, 0.8630744082557877, 0.8719283488981752, 0.8417240579304881, 0.8732149148342747, 0.8759601449142987, 0.8737569575624408, 0.8586887495026547, 0.8724623203313182, 0.6159832436498622, 0.8654629400041143, 0.856812219681349, 0.8221355632694148, 0.8824551619577727]}, {\"categories\": [\"0\", \"5\", \"8\", \"13\", \"17\", \"22\", \"23\", \"24\", \"26\", \"27\", \"28\", \"29\", \"30\", \"32\", \"33\", \"35\", \"39\"], \"mode\": \"lines\", \"name\": \"weighted_accuracy_max\", \"stepped\": true, \"type\": \"scatter\", \"data\": [0.8664800928636428, 0.8664800928636428, 0.8777098282337945, 0.8777098282337945, 0.8777098282337945, 0.8777098282337945, 0.8777098282337945, 0.8777098282337945, 0.8777098282337945, 0.8777098282337945, 0.8777098282337945, 0.8777098282337945, 0.8777098282337945, 0.8777098282337945, 0.8777098282337945, 0.8777098282337945, 0.8824551619577727]}], \"recall_score_weighted\": [{\"categories\": [\"0\", \"5\", \"8\", \"13\", \"17\", \"22\", \"23\", \"24\", \"26\", \"27\", \"28\", \"29\", \"30\", \"32\", \"33\", \"35\", \"39\"], \"mode\": \"markers\", \"name\": \"recall_score_weighted\", \"stepped\": false, \"type\": \"scatter\", \"data\": [0.8617176301958912, 0.8584925943621597, 0.8736741519350215, 0.8486622073578596, 0.8595556617295749, 0.8693502150023888, 0.8366579073100813, 0.869338270425227, 0.8715121834687052, 0.8704371715241281, 0.8573100812231248, 0.8682513139034878, 0.6133182035355949, 0.8617056856187292, 0.8497611084567607, 0.8192307692307692, 0.878069756330626]}, {\"categories\": [\"0\", \"5\", \"8\", \"13\", \"17\", \"22\", \"23\", \"24\", \"26\", \"27\", \"28\", \"29\", \"30\", \"32\", \"33\", \"35\", \"39\"], \"mode\": \"lines\", \"name\": \"recall_score_weighted_max\", \"stepped\": true, \"type\": \"scatter\", \"data\": [0.8617176301958912, 0.8617176301958912, 0.8736741519350215, 0.8736741519350215, 0.8736741519350215, 0.8736741519350215, 0.8736741519350215, 0.8736741519350215, 0.8736741519350215, 0.8736741519350215, 0.8736741519350215, 0.8736741519350215, 0.8736741519350215, 0.8736741519350215, 0.8736741519350215, 0.8736741519350215, 0.878069756330626]}], \"precision_score_weighted\": [{\"categories\": [\"0\", \"5\", \"8\", \"13\", \"17\", \"22\", \"23\", \"24\", \"26\", \"27\", \"28\", \"29\", \"30\", \"32\", \"33\", \"35\", \"39\"], \"mode\": \"markers\", \"name\": \"precision_score_weighted\", \"stepped\": false, \"type\": \"scatter\", \"data\": [0.862038261107819, 0.8606132954650636, 0.8743188305909702, 0.8524791486279604, 0.860701809492887, 0.8706720447275323, 0.8371818399709428, 0.8714291047217391, 0.8733230401221574, 0.8716993745259204, 0.8592226155117995, 0.869772856684747, 0.6195114663747312, 0.8626106267653484, 0.8527191858533838, 0.820037651776655, 0.8797323379333826]}, {\"categories\": [\"0\", \"5\", \"8\", \"13\", \"17\", \"22\", \"23\", \"24\", \"26\", \"27\", \"28\", \"29\", \"30\", \"32\", \"33\", \"35\", \"39\"], \"mode\": \"lines\", \"name\": \"precision_score_weighted_max\", \"stepped\": true, \"type\": \"scatter\", \"data\": [0.862038261107819, 0.862038261107819, 0.8743188305909702, 0.8743188305909702, 0.8743188305909702, 0.8743188305909702, 0.8743188305909702, 0.8743188305909702, 0.8743188305909702, 0.8743188305909702, 0.8743188305909702, 0.8743188305909702, 0.8743188305909702, 0.8743188305909702, 0.8743188305909702, 0.8743188305909702, 0.8797323379333826]}], \"accuracy\": [{\"categories\": [\"0\", \"5\", \"8\", \"13\", \"17\", \"22\", \"23\", \"24\", \"26\", \"27\", \"28\", \"29\", \"30\", \"32\", \"33\", \"35\", \"39\"], \"mode\": \"markers\", \"name\": \"accuracy\", \"stepped\": false, \"type\": \"scatter\", \"data\": [0.8617176301958912, 0.8584925943621597, 0.8736741519350215, 0.8486622073578596, 0.8595556617295749, 0.8693502150023888, 0.8366579073100813, 0.869338270425227, 0.8715121834687052, 0.8704371715241281, 0.8573100812231248, 0.8682513139034878, 0.6133182035355949, 0.8617056856187292, 0.8497611084567607, 0.8192307692307692, 0.878069756330626]}, {\"categories\": [\"0\", \"5\", \"8\", \"13\", \"17\", \"22\", \"23\", \"24\", \"26\", \"27\", \"28\", \"29\", \"30\", \"32\", \"33\", \"35\", \"39\"], \"mode\": \"lines\", \"name\": \"accuracy_max\", \"stepped\": true, \"type\": \"scatter\", \"data\": [0.8617176301958912, 0.8617176301958912, 0.8736741519350215, 0.8736741519350215, 0.8736741519350215, 0.8736741519350215, 0.8736741519350215, 0.8736741519350215, 0.8736741519350215, 0.8736741519350215, 0.8736741519350215, 0.8736741519350215, 0.8736741519350215, 0.8736741519350215, 0.8736741519350215, 0.8736741519350215, 0.878069756330626]}], \"average_precision_score_micro\": [{\"categories\": [\"0\", \"5\", \"8\", \"13\", \"17\", \"22\", \"23\", \"24\", \"26\", \"27\", \"28\", \"29\", \"30\", \"32\", \"33\", \"35\", \"39\"], \"mode\": \"markers\", \"name\": \"average_precision_score_micro\", \"stepped\": false, \"type\": \"scatter\", \"data\": [0.9271698576086372, 0.9144581787584048, 0.9282725452693696, 0.9230395845577501, 0.9269392579812266, 0.9246549135524704, 0.9192727056956624, 0.9299127654529602, 0.9279104251532925, 0.9297623700678944, 0.9244490116833652, 0.9305949468982915, 0.6857612798088988, 0.9297645692723593, 0.9208846084755941, 0.904717825244229, 0.9377856692587956]}, {\"categories\": [\"0\", \"5\", \"8\", \"13\", \"17\", \"22\", \"23\", \"24\", \"26\", \"27\", \"28\", \"29\", \"30\", \"32\", \"33\", \"35\", \"39\"], \"mode\": \"lines\", \"name\": \"average_precision_score_micro_max\", \"stepped\": true, \"type\": \"scatter\", \"data\": [0.9271698576086372, 0.9271698576086372, 0.9282725452693696, 0.9282725452693696, 0.9282725452693696, 0.9282725452693696, 0.9282725452693696, 0.9299127654529602, 0.9299127654529602, 0.9299127654529602, 0.9299127654529602, 0.9305949468982915, 0.9305949468982915, 0.9305949468982915, 0.9305949468982915, 0.9305949468982915, 0.9377856692587956]}], \"matthews_correlation\": [{\"categories\": [\"0\", \"5\", \"8\", \"13\", \"17\", \"22\", \"23\", \"24\", \"26\", \"27\", \"28\", \"29\", \"30\", \"32\", \"33\", \"35\", \"39\"], \"mode\": \"markers\", \"name\": \"matthews_correlation\", \"stepped\": false, \"type\": \"scatter\", \"data\": [0.7181098967057135, 0.7137710297919708, 0.743448518493566, 0.6942456088053974, 0.7145644578575036, 0.7355383316447321, 0.666865354618598, 0.735893813300034, 0.7398121026250839, 0.7373304340262854, 0.7112397441402682, 0.732510839675608, 0.22146294253429835, 0.7190885456366851, 0.6956918632060157, 0.632837957855691, 0.7531358345405043]}, {\"categories\": [\"0\", \"5\", \"8\", \"13\", \"17\", \"22\", \"23\", \"24\", \"26\", \"27\", \"28\", \"29\", \"30\", \"32\", \"33\", \"35\", \"39\"], \"mode\": \"lines\", \"name\": \"matthews_correlation_max\", \"stepped\": true, \"type\": \"scatter\", \"data\": [0.7181098967057135, 0.7181098967057135, 0.743448518493566, 0.743448518493566, 0.743448518493566, 0.743448518493566, 0.743448518493566, 0.743448518493566, 0.743448518493566, 0.743448518493566, 0.743448518493566, 0.743448518493566, 0.743448518493566, 0.743448518493566, 0.743448518493566, 0.743448518493566, 0.7531358345405043]}], \"precision_score_micro\": [{\"categories\": [\"0\", \"5\", \"8\", \"13\", \"17\", \"22\", \"23\", \"24\", \"26\", \"27\", \"28\", \"29\", \"30\", \"32\", \"33\", \"35\", \"39\"], \"mode\": \"markers\", \"name\": \"precision_score_micro\", \"stepped\": false, \"type\": \"scatter\", \"data\": [0.8617176301958912, 0.8584925943621597, 0.8736741519350215, 0.8486622073578596, 0.8595556617295749, 0.8693502150023888, 0.8366579073100813, 0.869338270425227, 0.8715121834687052, 0.8704371715241281, 0.8573100812231248, 0.8682513139034878, 0.6133182035355949, 0.8617056856187292, 0.8497611084567607, 0.8192307692307692, 0.878069756330626]}, {\"categories\": [\"0\", \"5\", \"8\", \"13\", \"17\", \"22\", \"23\", \"24\", \"26\", \"27\", \"28\", \"29\", \"30\", \"32\", \"33\", \"35\", \"39\"], \"mode\": \"lines\", \"name\": \"precision_score_micro_max\", \"stepped\": true, \"type\": \"scatter\", \"data\": [0.8617176301958912, 0.8617176301958912, 0.8736741519350215, 0.8736741519350215, 0.8736741519350215, 0.8736741519350215, 0.8736741519350215, 0.8736741519350215, 0.8736741519350215, 0.8736741519350215, 0.8736741519350215, 0.8736741519350215, 0.8736741519350215, 0.8736741519350215, 0.8736741519350215, 0.8736741519350215, 0.878069756330626]}], \"AUC_macro\": [{\"categories\": [\"0\", \"5\", \"8\", \"13\", \"17\", \"22\", \"23\", \"24\", \"26\", \"27\", \"28\", \"29\", \"30\", \"32\", \"33\", \"35\", \"39\"], \"mode\": \"markers\", \"name\": \"AUC_macro\", \"stepped\": false, \"type\": \"scatter\", \"data\": [0.9271278077850527, 0.9234337562791086, 0.9322047966871023, 0.9261534665073707, 0.9267009770743625, 0.929039110295385, 0.9192254385877175, 0.9300813017372953, 0.9273327287160447, 0.9296040962971105, 0.9239403482492838, 0.9332962618329926, 0.6754499413145478, 0.9285793947288827, 0.927704121441022, 0.9066358937610071, 0.9402653414279432]}, {\"categories\": [\"0\", \"5\", \"8\", \"13\", \"17\", \"22\", \"23\", \"24\", \"26\", \"27\", \"28\", \"29\", \"30\", \"32\", \"33\", \"35\", \"39\"], \"mode\": \"lines\", \"name\": \"AUC_macro_max\", \"stepped\": true, \"type\": \"scatter\", \"data\": [0.9271278077850527, 0.9271278077850527, 0.9322047966871023, 0.9322047966871023, 0.9322047966871023, 0.9322047966871023, 0.9322047966871023, 0.9322047966871023, 0.9322047966871023, 0.9322047966871023, 0.9322047966871023, 0.9332962618329926, 0.9332962618329926, 0.9332962618329926, 0.9332962618329926, 0.9332962618329926, 0.9402653414279432]}], \"AUC_weighted\": [{\"categories\": [\"0\", \"5\", \"8\", \"13\", \"17\", \"22\", \"23\", \"24\", \"26\", \"27\", \"28\", \"29\", \"30\", \"32\", \"33\", \"35\", \"39\"], \"mode\": \"markers\", \"name\": \"AUC_weighted\", \"stepped\": false, \"type\": \"scatter\", \"data\": [0.9271278077850527, 0.9234337562791086, 0.9322047966871023, 0.9261534665073707, 0.9267009770743625, 0.929039110295385, 0.9192254385877175, 0.9300813017372953, 0.9273327287160447, 0.9296040962971105, 0.9239403482492838, 0.9332962618329926, 0.6754499413145478, 0.9285793947288827, 0.927704121441022, 0.9066358937610068, 0.9402653414279432]}, {\"categories\": [\"0\", \"5\", \"8\", \"13\", \"17\", \"22\", \"23\", \"24\", \"26\", \"27\", \"28\", \"29\", \"30\", \"32\", \"33\", \"35\", \"39\"], \"mode\": \"lines\", \"name\": \"AUC_weighted_max\", \"stepped\": true, \"type\": \"scatter\", \"data\": [0.9271278077850527, 0.9271278077850527, 0.9322047966871023, 0.9322047966871023, 0.9322047966871023, 0.9322047966871023, 0.9322047966871023, 0.9322047966871023, 0.9322047966871023, 0.9322047966871023, 0.9322047966871023, 0.9332962618329926, 0.9332962618329926, 0.9332962618329926, 0.9332962618329926, 0.9332962618329926, 0.9402653414279432]}], \"recall_score_macro\": [{\"categories\": [\"0\", \"5\", \"8\", \"13\", \"17\", \"22\", \"23\", \"24\", \"26\", \"27\", \"28\", \"29\", \"30\", \"32\", \"33\", \"35\", \"39\"], \"mode\": \"markers\", \"name\": \"recall_score_macro\", \"stepped\": false, \"type\": \"scatter\", \"data\": [0.8565522854353436, 0.85377281188429, 0.8692795563557933, 0.8414443875129882, 0.8557491117027638, 0.8665392833702533, 0.831205740074265, 0.8651806604262754, 0.8667113197475519, 0.8669074182528247, 0.8558413351057039, 0.8637189156893299, 0.6103756977997643, 0.8577049336086443, 0.8421809668177547, 0.8161155022119561, 0.8734146682230859]}, {\"categories\": [\"0\", \"5\", \"8\", \"13\", \"17\", \"22\", \"23\", \"24\", \"26\", \"27\", \"28\", \"29\", \"30\", \"32\", \"33\", \"35\", \"39\"], \"mode\": \"lines\", \"name\": \"recall_score_macro_max\", \"stepped\": true, \"type\": \"scatter\", \"data\": [0.8565522854353436, 0.8565522854353436, 0.8692795563557933, 0.8692795563557933, 0.8692795563557933, 0.8692795563557933, 0.8692795563557933, 0.8692795563557933, 0.8692795563557933, 0.8692795563557933, 0.8692795563557933, 0.8692795563557933, 0.8692795563557933, 0.8692795563557933, 0.8692795563557933, 0.8692795563557933, 0.8734146682230859]}], \"f1_score_weighted\": [{\"categories\": [\"0\", \"5\", \"8\", \"13\", \"17\", \"22\", \"23\", \"24\", \"26\", \"27\", \"28\", \"29\", \"30\", \"32\", \"33\", \"35\", \"39\"], \"mode\": \"markers\", \"name\": \"f1_score_weighted\", \"stepped\": false, \"type\": \"scatter\", \"data\": [0.8612695523743635, 0.8578681565396911, 0.8733445005556157, 0.8474920196616909, 0.8592929018892722, 0.8691344450244269, 0.8361989257062359, 0.8689928922410706, 0.8711032240233507, 0.870166558670553, 0.8574169624688087, 0.8678387259498225, 0.6128929291181295, 0.8613729020427531, 0.8485467241921085, 0.8192137325835646, 0.8775840649625225]}, {\"categories\": [\"0\", \"5\", \"8\", \"13\", \"17\", \"22\", \"23\", \"24\", \"26\", \"27\", \"28\", \"29\", \"30\", \"32\", \"33\", \"35\", \"39\"], \"mode\": \"lines\", \"name\": \"f1_score_weighted_max\", \"stepped\": true, \"type\": \"scatter\", \"data\": [0.8612695523743635, 0.8612695523743635, 0.8733445005556157, 0.8733445005556157, 0.8733445005556157, 0.8733445005556157, 0.8733445005556157, 0.8733445005556157, 0.8733445005556157, 0.8733445005556157, 0.8733445005556157, 0.8733445005556157, 0.8733445005556157, 0.8733445005556157, 0.8733445005556157, 0.8733445005556157, 0.8775840649625225]}], \"balanced_accuracy\": [{\"categories\": [\"0\", \"5\", \"8\", \"13\", \"17\", \"22\", \"23\", \"24\", \"26\", \"27\", \"28\", \"29\", \"30\", \"32\", \"33\", \"35\", \"39\"], \"mode\": \"markers\", \"name\": \"balanced_accuracy\", \"stepped\": false, \"type\": \"scatter\", \"data\": [0.8565522854353436, 0.85377281188429, 0.8692795563557933, 0.8414443875129882, 0.8557491117027638, 0.8665392833702533, 0.831205740074265, 0.8651806604262754, 0.8667113197475519, 0.8669074182528247, 0.8558413351057039, 0.8637189156893299, 0.6103756977997643, 0.8577049336086443, 0.8421809668177547, 0.8161155022119561, 0.8734146682230859]}, {\"categories\": [\"0\", \"5\", \"8\", \"13\", \"17\", \"22\", \"23\", \"24\", \"26\", \"27\", \"28\", \"29\", \"30\", \"32\", \"33\", \"35\", \"39\"], \"mode\": \"lines\", \"name\": \"balanced_accuracy_max\", \"stepped\": true, \"type\": \"scatter\", \"data\": [0.8565522854353436, 0.8565522854353436, 0.8692795563557933, 0.8692795563557933, 0.8692795563557933, 0.8692795563557933, 0.8692795563557933, 0.8692795563557933, 0.8692795563557933, 0.8692795563557933, 0.8692795563557933, 0.8692795563557933, 0.8692795563557933, 0.8692795563557933, 0.8692795563557933, 0.8692795563557933, 0.8734146682230859]}], \"precision_score_macro\": [{\"categories\": [\"0\", \"5\", \"8\", \"13\", \"17\", \"22\", \"23\", \"24\", \"26\", \"27\", \"28\", \"29\", \"30\", \"32\", \"33\", \"35\", \"39\"], \"mode\": \"markers\", \"name\": \"precision_score_macro\", \"stepped\": false, \"type\": \"scatter\", \"data\": [0.8615995052741626, 0.8600749940923003, 0.8742158853994463, 0.8529910034129042, 0.8588613019801894, 0.869011520454718, 0.8356978064098548, 0.8707715311942543, 0.8731945024864565, 0.8704580569925303, 0.8554163401121399, 0.8688242097822162, 0.6111148675510252, 0.8614108360694616, 0.8536629114112582, 0.816734906995612, 0.8797776408525824]}, {\"categories\": [\"0\", \"5\", \"8\", \"13\", \"17\", \"22\", \"23\", \"24\", \"26\", \"27\", \"28\", \"29\", \"30\", \"32\", \"33\", \"35\", \"39\"], \"mode\": \"lines\", \"name\": \"precision_score_macro_max\", \"stepped\": true, \"type\": \"scatter\", \"data\": [0.8615995052741626, 0.8615995052741626, 0.8742158853994463, 0.8742158853994463, 0.8742158853994463, 0.8742158853994463, 0.8742158853994463, 0.8742158853994463, 0.8742158853994463, 0.8742158853994463, 0.8742158853994463, 0.8742158853994463, 0.8742158853994463, 0.8742158853994463, 0.8742158853994463, 0.8742158853994463, 0.8797776408525824]}], \"AUC_micro\": [{\"categories\": [\"0\", \"5\", \"8\", \"13\", \"17\", \"22\", \"23\", \"24\", \"26\", \"27\", \"28\", \"29\", \"30\", \"32\", \"33\", \"35\", \"39\"], \"mode\": \"markers\", \"name\": \"AUC_micro\", \"stepped\": false, \"type\": \"scatter\", \"data\": [0.9297018190112926, 0.9240626602930296, 0.9330092284841813, 0.9232473116426357, 0.9278472293717209, 0.9295649371816825, 0.9205747652916267, 0.9313051630591722, 0.9290221109360737, 0.9310633210398732, 0.9254229224939043, 0.9342892029240415, 0.6780585550793958, 0.9306869455872864, 0.9241629208366156, 0.9073835720460599, 0.9399059049241334]}, {\"categories\": [\"0\", \"5\", \"8\", \"13\", \"17\", \"22\", \"23\", \"24\", \"26\", \"27\", \"28\", \"29\", \"30\", \"32\", \"33\", \"35\", \"39\"], \"mode\": \"lines\", \"name\": \"AUC_micro_max\", \"stepped\": true, \"type\": \"scatter\", \"data\": [0.9297018190112926, 0.9297018190112926, 0.9330092284841813, 0.9330092284841813, 0.9330092284841813, 0.9330092284841813, 0.9330092284841813, 0.9330092284841813, 0.9330092284841813, 0.9330092284841813, 0.9330092284841813, 0.9342892029240415, 0.9342892029240415, 0.9342892029240415, 0.9342892029240415, 0.9342892029240415, 0.9399059049241334]}], \"f1_score_micro\": [{\"categories\": [\"0\", \"5\", \"8\", \"13\", \"17\", \"22\", \"23\", \"24\", \"26\", \"27\", \"28\", \"29\", \"30\", \"32\", \"33\", \"35\", \"39\"], \"mode\": \"markers\", \"name\": \"f1_score_micro\", \"stepped\": false, \"type\": \"scatter\", \"data\": [0.8617176301958912, 0.8584925943621597, 0.8736741519350215, 0.8486622073578596, 0.8595556617295749, 0.8693502150023888, 0.8366579073100813, 0.869338270425227, 0.8715121834687052, 0.8704371715241281, 0.8573100812231248, 0.8682513139034878, 0.6133182035355949, 0.8617056856187292, 0.8497611084567607, 0.8192307692307692, 0.878069756330626]}, {\"categories\": [\"0\", \"5\", \"8\", \"13\", \"17\", \"22\", \"23\", \"24\", \"26\", \"27\", \"28\", \"29\", \"30\", \"32\", \"33\", \"35\", \"39\"], \"mode\": \"lines\", \"name\": \"f1_score_micro_max\", \"stepped\": true, \"type\": \"scatter\", \"data\": [0.8617176301958912, 0.8617176301958912, 0.8736741519350215, 0.8736741519350215, 0.8736741519350215, 0.8736741519350215, 0.8736741519350215, 0.8736741519350215, 0.8736741519350215, 0.8736741519350215, 0.8736741519350215, 0.8736741519350215, 0.8736741519350215, 0.8736741519350215, 0.8736741519350215, 0.8736741519350215, 0.878069756330626]}], \"norm_macro_recall\": [{\"categories\": [\"0\", \"5\", \"8\", \"13\", \"17\", \"22\", \"23\", \"24\", \"26\", \"27\", \"28\", \"29\", \"30\", \"32\", \"33\", \"35\", \"39\"], \"mode\": \"markers\", \"name\": \"norm_macro_recall\", \"stepped\": false, \"type\": \"scatter\", \"data\": [0.7131045708706872, 0.7075456237685798, 0.7385591127115868, 0.6828887750259764, 0.7114982234055278, 0.7330785667405068, 0.6624114801485298, 0.7303613208525509, 0.7334226394951039, 0.7338148365056492, 0.7116826702114076, 0.72743783137866, 0.22075139559952855, 0.7154098672172885, 0.6843619336355095, 0.632231004423912, 0.7468293364461719]}, {\"categories\": [\"0\", \"5\", \"8\", \"13\", \"17\", \"22\", \"23\", \"24\", \"26\", \"27\", \"28\", \"29\", \"30\", \"32\", \"33\", \"35\", \"39\"], \"mode\": \"lines\", \"name\": \"norm_macro_recall_max\", \"stepped\": true, \"type\": \"scatter\", \"data\": [0.7131045708706872, 0.7131045708706872, 0.7385591127115868, 0.7385591127115868, 0.7385591127115868, 0.7385591127115868, 0.7385591127115868, 0.7385591127115868, 0.7385591127115868, 0.7385591127115868, 0.7385591127115868, 0.7385591127115868, 0.7385591127115868, 0.7385591127115868, 0.7385591127115868, 0.7385591127115868, 0.7468293364461719]}], \"average_precision_score_weighted\": [{\"categories\": [\"0\", \"5\", \"8\", \"13\", \"17\", \"22\", \"23\", \"24\", \"26\", \"27\", \"28\", \"29\", \"30\", \"32\", \"33\", \"35\", \"39\"], \"mode\": \"markers\", \"name\": \"average_precision_score_weighted\", \"stepped\": false, \"type\": \"scatter\", \"data\": [0.9266561121622987, 0.9170372663796608, 0.9288654175368556, 0.9295965603681816, 0.9276114136567264, 0.9267461376937618, 0.9214844805247845, 0.9313055415994869, 0.9290329436375689, 0.9305949776492983, 0.9248283149009591, 0.9320308030427314, 0.6780820845975879, 0.9303444388170323, 0.9271674648859151, 0.9064366692612895, 0.9406635629761155]}, {\"categories\": [\"0\", \"5\", \"8\", \"13\", \"17\", \"22\", \"23\", \"24\", \"26\", \"27\", \"28\", \"29\", \"30\", \"32\", \"33\", \"35\", \"39\"], \"mode\": \"lines\", \"name\": \"average_precision_score_weighted_max\", \"stepped\": true, \"type\": \"scatter\", \"data\": [0.9266561121622987, 0.9266561121622987, 0.9288654175368556, 0.9295965603681816, 0.9295965603681816, 0.9295965603681816, 0.9295965603681816, 0.9313055415994869, 0.9313055415994869, 0.9313055415994869, 0.9313055415994869, 0.9320308030427314, 0.9320308030427314, 0.9320308030427314, 0.9320308030427314, 0.9320308030427314, 0.9406635629761155]}], \"recall_score_micro\": [{\"categories\": [\"0\", \"5\", \"8\", \"13\", \"17\", \"22\", \"23\", \"24\", \"26\", \"27\", \"28\", \"29\", \"30\", \"32\", \"33\", \"35\", \"39\"], \"mode\": \"markers\", \"name\": \"recall_score_micro\", \"stepped\": false, \"type\": \"scatter\", \"data\": [0.8617176301958912, 0.8584925943621597, 0.8736741519350215, 0.8486622073578596, 0.8595556617295749, 0.8693502150023888, 0.8366579073100813, 0.869338270425227, 0.8715121834687052, 0.8704371715241281, 0.8573100812231248, 0.8682513139034878, 0.6133182035355949, 0.8617056856187292, 0.8497611084567607, 0.8192307692307692, 0.878069756330626]}, {\"categories\": [\"0\", \"5\", \"8\", \"13\", \"17\", \"22\", \"23\", \"24\", \"26\", \"27\", \"28\", \"29\", \"30\", \"32\", \"33\", \"35\", \"39\"], \"mode\": \"lines\", \"name\": \"recall_score_micro_max\", \"stepped\": true, \"type\": \"scatter\", \"data\": [0.8617176301958912, 0.8617176301958912, 0.8736741519350215, 0.8736741519350215, 0.8736741519350215, 0.8736741519350215, 0.8736741519350215, 0.8736741519350215, 0.8736741519350215, 0.8736741519350215, 0.8736741519350215, 0.8736741519350215, 0.8736741519350215, 0.8736741519350215, 0.8736741519350215, 0.8736741519350215, 0.878069756330626]}], \"average_precision_score_macro\": [{\"categories\": [\"0\", \"5\", \"8\", \"13\", \"17\", \"22\", \"23\", \"24\", \"26\", \"27\", \"28\", \"29\", \"30\", \"32\", \"33\", \"35\", \"39\"], \"mode\": \"markers\", \"name\": \"average_precision_score_macro\", \"stepped\": false, \"type\": \"scatter\", \"data\": [0.9256741585229387, 0.9155266681436661, 0.9278803087062331, 0.9277906154092556, 0.9257142501085385, 0.9255375717527485, 0.9195173020183633, 0.9299107562408493, 0.9277284869511375, 0.9293099060753651, 0.9228843773929869, 0.9308528178803395, 0.6680063997397909, 0.929237001796667, 0.9254057304453921, 0.9042369948538663, 0.9395087232983634]}, {\"categories\": [\"0\", \"5\", \"8\", \"13\", \"17\", \"22\", \"23\", \"24\", \"26\", \"27\", \"28\", \"29\", \"30\", \"32\", \"33\", \"35\", \"39\"], \"mode\": \"lines\", \"name\": \"average_precision_score_macro_max\", \"stepped\": true, \"type\": \"scatter\", \"data\": [0.9256741585229387, 0.9256741585229387, 0.9278803087062331, 0.9278803087062331, 0.9278803087062331, 0.9278803087062331, 0.9278803087062331, 0.9299107562408493, 0.9299107562408493, 0.9299107562408493, 0.9299107562408493, 0.9308528178803395, 0.9308528178803395, 0.9308528178803395, 0.9308528178803395, 0.9308528178803395, 0.9395087232983634]}], \"f1_score_macro\": [{\"categories\": [\"0\", \"5\", \"8\", \"13\", \"17\", \"22\", \"23\", \"24\", \"26\", \"27\", \"28\", \"29\", \"30\", \"32\", \"33\", \"35\", \"39\"], \"mode\": \"markers\", \"name\": \"f1_score_macro\", \"stepped\": false, \"type\": \"scatter\", \"data\": [0.8584289060611601, 0.8551837724979885, 0.8710536295136466, 0.8440131433550822, 0.856430243498685, 0.8668891061872751, 0.8326991045245636, 0.8665368015682589, 0.8685595368226536, 0.8677521225929274, 0.8547611887821815, 0.8650716425134034, 0.6072184938516367, 0.8587500025646925, 0.8451151147367615, 0.8159925252520093, 0.8752349365977391]}, {\"categories\": [\"0\", \"5\", \"8\", \"13\", \"17\", \"22\", \"23\", \"24\", \"26\", \"27\", \"28\", \"29\", \"30\", \"32\", \"33\", \"35\", \"39\"], \"mode\": \"lines\", \"name\": \"f1_score_macro_max\", \"stepped\": true, \"type\": \"scatter\", \"data\": [0.8584289060611601, 0.8584289060611601, 0.8710536295136466, 0.8710536295136466, 0.8710536295136466, 0.8710536295136466, 0.8710536295136466, 0.8710536295136466, 0.8710536295136466, 0.8710536295136466, 0.8710536295136466, 0.8710536295136466, 0.8710536295136466, 0.8710536295136466, 0.8710536295136466, 0.8710536295136466, 0.8752349365977391]}]}, \"metricName\": null, \"primaryMetricName\": \"AUC_weighted\", \"showLegend\": false}, \"run_metrics\": [{\"name\": \"experiment_status\", \"run_id\": \"AutoML_0b035984-dce8-4b10-8a54-88f04cf31c41\", \"categories\": [0, 1, 2, 3, 4, 5], \"series\": [{\"data\": [\"DatasetEvaluation\", \"FeaturesGeneration\", \"DatasetFeaturization\", \"DatasetFeaturizationCompleted\", \"DatasetCrossValidationSplit\", \"ModelSelection\"]}]}, {\"name\": \"experiment_status_description\", \"run_id\": \"AutoML_0b035984-dce8-4b10-8a54-88f04cf31c41\", \"categories\": [0, 1, 2, 3, 4, 5], \"series\": [{\"data\": [\"Gathering dataset statistics.\", \"Generating features for the dataset.\", \"Beginning to fit featurizers and featurize the dataset.\", \"Completed fit featurizers and featurizing the dataset.\", \"Generating individually featurized CV splits.\", \"Beginning model selection.\"]}]}], \"run_logs\": \"Your job is submitted in Azure cloud and we are monitoring to get logs...\", \"graph\": {}, \"widget_settings\": {\"childWidgetDisplay\": \"popup\", \"send_telemetry\": false, \"log_level\": \"INFO\", \"sdk_version\": \"1.58.0\"}, \"loading\": false}"
          },
          "metadata": {}
        },
        {
          "output_type": "execute_result",
          "execution_count": 31,
          "data": {
            "text/plain": "{'runId': 'AutoML_0b035984-dce8-4b10-8a54-88f04cf31c41',\n 'target': 'compute-cluster-1',\n 'status': 'Completed',\n 'startTimeUtc': '2024-10-18T07:57:51.37449Z',\n 'endTimeUtc': '2024-10-18T08:54:22.438331Z',\n 'services': {},\n 'warnings': [{'source': 'JasmineService',\n   'message': 'No scores improved over last 10 iterations, so experiment stopped early. This early stopping behavior can be disabled by setting enable_early_stopping = False in AutoMLConfig for notebook/python SDK runs.'}],\n 'properties': {'num_iterations': '1000',\n  'training_type': 'TrainFull',\n  'acquisition_function': 'EI',\n  'primary_metric': 'AUC_weighted',\n  'train_split': '0',\n  'acquisition_parameter': '0',\n  'num_cross_validation': None,\n  'target': 'compute-cluster-1',\n  'AMLSettingsJsonString': '{\"path\":null,\"name\":\"automl-exp\",\"subscription_id\":\"d7f39349-a66b-446e-aba6-0053c2cf1c11\",\"resource_group\":\"aml-quickstarts-268818\",\"workspace_name\":\"quick-starts-ws-268818\",\"region\":\"westeurope\",\"compute_target\":\"compute-cluster-1\",\"spark_service\":null,\"azure_service\":\"remote\",\"many_models\":false,\"pipeline_fetch_max_batch_size\":1,\"enable_batch_run\":true,\"enable_parallel_run\":false,\"num_procs\":null,\"enable_run_restructure\":false,\"start_auxiliary_runs_before_parent_complete\":false,\"enable_code_generation\":true,\"force_curated_environment\":false,\"iterations\":1000,\"primary_metric\":\"AUC_weighted\",\"task_type\":\"classification\",\"positive_label\":null,\"data_script\":null,\"test_size\":0.0,\"test_include_predictions_only\":false,\"validation_size\":0.0,\"n_cross_validations\":null,\"y_min\":null,\"y_max\":null,\"num_classes\":null,\"featurization\":\"auto\",\"_ignore_package_version_incompatibilities\":false,\"is_timeseries\":false,\"max_cores_per_iteration\":1,\"max_concurrent_iterations\":5,\"iteration_timeout_minutes\":null,\"mem_in_mb\":null,\"enforce_time_on_windows\":false,\"experiment_timeout_minutes\":40,\"experiment_exit_score\":null,\"partition_column_names\":null,\"whitelist_models\":null,\"blacklist_algos\":[\"TensorFlowLinearClassifier\",\"TensorFlowDNN\"],\"supported_models\":[\"SVM\",\"TensorFlowDNN\",\"SGD\",\"RandomForest\",\"XGBoostClassifier\",\"TabnetClassifier\",\"BernoulliNaiveBayes\",\"KNN\",\"LogisticRegression\",\"GradientBoosting\",\"TensorFlowLinearClassifier\",\"MultinomialNaiveBayes\",\"LinearSVM\",\"AveragedPerceptronClassifier\",\"DecisionTree\",\"ExtremeRandomTrees\",\"LightGBM\"],\"private_models\":[],\"auto_blacklist\":true,\"blacklist_samples_reached\":false,\"exclude_nan_labels\":true,\"verbosity\":20,\"_debug_log\":\"azureml_automl.log\",\"show_warnings\":false,\"model_explainability\":true,\"service_url\":null,\"sdk_url\":null,\"sdk_packages\":null,\"enable_onnx_compatible_models\":false,\"enable_split_onnx_featurizer_estimator_models\":false,\"vm_type\":\"STANDARD_D3_v2\",\"telemetry_verbosity\":20,\"send_telemetry\":true,\"enable_dnn\":false,\"scenario\":\"AutoML\",\"environment_label\":null,\"save_mlflow\":false,\"enable_categorical_indicators\":false,\"force_text_dnn\":false,\"enable_feature_sweeping\":true,\"enable_early_stopping\":true,\"early_stopping_n_iters\":10,\"arguments\":null,\"dataset_id\":\"8e07984d-b577-4a94-9f89-bc75c5722b48\",\"hyperdrive_config\":null,\"validation_dataset_id\":null,\"run_source\":null,\"metrics\":null,\"enable_metric_confidence\":false,\"enable_ensembling\":true,\"enable_stack_ensembling\":true,\"ensemble_iterations\":15,\"enable_tf\":false,\"enable_subsampling\":null,\"subsample_seed\":null,\"enable_nimbusml\":false,\"enable_streaming\":false,\"force_streaming\":false,\"track_child_runs\":true,\"n_best_runs\":1,\"allowed_private_models\":[],\"label_column_name\":\"HeartDisease\",\"weight_column_name\":null,\"cv_split_column_names\":null,\"enable_local_managed\":false,\"_local_managed_run_id\":null,\"cost_mode\":1,\"lag_length\":0,\"metric_operation\":\"maximize\",\"preprocess\":true}',\n  'DataPrepJsonString': '{\\\\\"training_data\\\\\": {\\\\\"datasetId\\\\\": \\\\\"8e07984d-b577-4a94-9f89-bc75c5722b48\\\\\"}, \\\\\"datasets\\\\\": 0}',\n  'EnableSubsampling': None,\n  'runTemplate': 'AutoML',\n  'azureml.runsource': 'automl',\n  'display_task_type': 'classification',\n  'dependencies_versions': '{\"azureml-dataprep-native\": \"38.0.0\", \"azureml-interpret\": \"1.58.0\", \"azureml-mlflow\": \"1.47.0\", \"azureml-train-restclients-hyperdrive\": \"1.58.0\", \"azureml-responsibleai\": \"1.58.0\", \"azureml-dataset-runtime\": \"1.47.0\", \"azureml-widgets\": \"1.58.0\", \"azureml-dataprep-rslex\": \"2.11.4\", \"azureml-train-automl-client\": \"1.58.0\", \"azureml-dataprep\": \"4.5.7\", \"azureml-contrib-notebook\": \"1.58.0\", \"azureml-pipeline-core\": \"1.58.0\", \"azureml-telemetry\": \"1.47.0\", \"azureml-training-tabular\": \"1.58.0\", \"azureml-core\": \"1.47.0\", \"azureml-train-automl-runtime\": \"1.58.0\", \"azureml-train-core\": \"1.58.0\", \"azureml-sdk\": \"1.58.0\", \"azureml-automl-runtime\": \"1.58.0\", \"azureml-pipeline\": \"1.58.0\", \"azureml-train-automl\": \"1.58.0\", \"azureml-pipeline-steps\": \"1.58.0\", \"azureml-automl-core\": \"1.58.0\", \"azureml-opendatasets\": \"1.47.0\", \"azureml-synapse\": \"0.0.1\"}',\n  '_aml_system_scenario_identification': 'Remote.Parent',\n  'ClientType': 'SDK',\n  'PlatformVersion': 'DPV1',\n  'environment_cpu_name': 'AzureML-ai-ml-automl',\n  'environment_cpu_label': '5',\n  'environment_gpu_name': 'AzureML-ai-ml-automl-gpu',\n  'environment_gpu_label': '5',\n  'root_attribution': 'automl',\n  'attribution': 'AutoML',\n  'Orchestrator': 'AutoML',\n  'CancelUri': 'https://westeurope.api.azureml.ms/jasmine/v1.0/subscriptions/d7f39349-a66b-446e-aba6-0053c2cf1c11/resourceGroups/aml-quickstarts-268818/providers/Microsoft.MachineLearningServices/workspaces/quick-starts-ws-268818/experimentids/7e8ada07-bb43-4759-9b68-e84b8664a54a/cancel/AutoML_0b035984-dce8-4b10-8a54-88f04cf31c41',\n  'ClientSdkVersion': None,\n  'snapshotId': '00000000-0000-0000-0000-000000000000',\n  'SetupRunId': 'AutoML_0b035984-dce8-4b10-8a54-88f04cf31c41_setup',\n  'SetupRunContainerId': 'dcid.AutoML_0b035984-dce8-4b10-8a54-88f04cf31c41_setup',\n  'FeaturizationRunJsonPath': 'featurizer_container.json',\n  'FeaturizationRunId': 'AutoML_0b035984-dce8-4b10-8a54-88f04cf31c41_featurize',\n  'ProblemInfoJsonString': '{\"dataset_num_categorical\": 0, \"is_sparse\": true, \"subsampling\": false, \"has_extra_col\": true, \"dataset_classes\": 2, \"dataset_features\": 18, \"dataset_samples\": 918, \"single_frequency_class_detected\": false}',\n  'ModelExplainRunId': 'AutoML_0b035984-dce8-4b10-8a54-88f04cf31c41_ModelExplain'},\n 'inputDatasets': [{'dataset': {'id': '8e07984d-b577-4a94-9f89-bc75c5722b48'}, 'consumptionDetails': {'type': 'RunInput', 'inputName': 'training_data', 'mechanism': 'Direct'}}],\n 'outputDatasets': [],\n 'logFiles': {},\n 'submittedBy': 'ODL_User 268818'}"
          },
          "metadata": {}
        }
      ],
      "execution_count": 12,
      "metadata": {
        "gather": {
          "logged": 1729241672242
        },
        "jupyter": {
          "outputs_hidden": false,
          "source_hidden": false
        },
        "nteract": {
          "transient": {
            "deleting": false
          }
        }
      }
    },
    {
      "cell_type": "markdown",
      "source": [
        "## Best Model\n",
        "\n",
        "TODO: In the cell below, get the best model from the automl experiments and display all the properties of the model.\n",
        "\n"
      ],
      "metadata": {}
    },
    {
      "cell_type": "code",
      "source": [
        "best_run, fitted_model = automl_run.get_output()\n",
        "print(best_run)"
      ],
      "outputs": [
        {
          "output_type": "display_data",
          "data": {
            "application/vnd.livy.statement-meta+json": {
              "spark_pool": "8d137bca-db0d-4176-840a-7e7df7eff5a6",
              "statement_id": 29,
              "statement_ids": [
                29
              ],
              "state": "finished",
              "livy_statement_state": "available",
              "spark_jobs": {
                "numbers": {
                  "FAILED": 0,
                  "SUCCEEDED": 0,
                  "UNKNOWN": 0,
                  "RUNNING": 0
                },
                "jobs": [],
                "limit": 20,
                "rule": "ALL_DESC"
              },
              "session_id": "1",
              "normalized_state": "finished",
              "queued_time": "2024-10-18T08:02:06.5660337Z",
              "session_start_time": null,
              "execution_start_time": "2024-10-18T08:54:31.5024793Z",
              "execution_finish_time": "2024-10-18T08:54:39.6996176Z",
              "parent_msg_id": "3d2f9a86-e472-40e1-bdbb-3dca9c8e46b8"
            },
            "text/plain": "StatementMeta(8d137bca-db0d-4176-840a-7e7df7eff5a6, 1, 29, Finished, Available, Finished)"
          },
          "metadata": {}
        },
        {
          "output_type": "stream",
          "name": "stdout",
          "text": "[08:54:38] WARNING: /home/conda/feedstock_root/build_artifacts/xgboost-split_1667849527992/work/src/learner.cc:1203: \n  If you are loading a serialized model (like pickle in Python, RDS in R) generated by\n  older XGBoost, please export the model by calling `Booster.save_model` from that version\n  first, then load it back in current version. See:\n\n    https://xgboost.readthedocs.io/en/latest/tutorials/saving_model.html\n\n  for more details about differences between saving model and serializing.\n\n[08:54:38] WARNING: /home/conda/feedstock_root/build_artifacts/xgboost-split_1667849527992/work/src/learner.cc:888: Found JSON model saved before XGBoost 1.6, please save the model using current version again. The support for old JSON model will be discontinued in XGBoost 2.3.\n[08:54:38] WARNING: /home/conda/feedstock_root/build_artifacts/xgboost-split_1667849527992/work/src/learner.cc:553: \n  If you are loading a serialized model (like pickle in Python, RDS in R) generated by\n  older XGBoost, please export the model by calling `Booster.save_model` from that version\n  first, then load it back in current version. See:\n\n    https://xgboost.readthedocs.io/en/latest/tutorials/saving_model.html\n\n  for more details about differences between saving model and serializing.\n\n[08:54:38] WARNING: /home/conda/feedstock_root/build_artifacts/xgboost-split_1667849527992/work/src/learner.cc:1203: \n  If you are loading a serialized model (like pickle in Python, RDS in R) generated by\n  older XGBoost, please export the model by calling `Booster.save_model` from that version\n  first, then load it back in current version. See:\n\n    https://xgboost.readthedocs.io/en/latest/tutorials/saving_model.html\n\n  for more details about differences between saving model and serializing.\n\n[08:54:38] WARNING: /home/conda/feedstock_root/build_artifacts/xgboost-split_1667849527992/work/src/learner.cc:888: Found JSON model saved before XGBoost 1.6, please save the model using current version again. The support for old JSON model will be discontinued in XGBoost 2.3.\n[08:54:38] WARNING: /home/conda/feedstock_root/build_artifacts/xgboost-split_1667849527992/work/src/learner.cc:553: \n  If you are loading a serialized model (like pickle in Python, RDS in R) generated by\n  older XGBoost, please export the model by calling `Booster.save_model` from that version\n  first, then load it back in current version. See:\n\n    https://xgboost.readthedocs.io/en/latest/tutorials/saving_model.html\n\n  for more details about differences between saving model and serializing.\n\n[08:54:38] WARNING: /home/conda/feedstock_root/build_artifacts/xgboost-split_1667849527992/work/src/learner.cc:1203: \n  If you are loading a serialized model (like pickle in Python, RDS in R) generated by\n  older XGBoost, please export the model by calling `Booster.save_model` from that version\n  first, then load it back in current version. See:\n\n    https://xgboost.readthedocs.io/en/latest/tutorials/saving_model.html\n\n  for more details about differences between saving model and serializing.\n\n[08:54:38] WARNING: /home/conda/feedstock_root/build_artifacts/xgboost-split_1667849527992/work/src/learner.cc:888: Found JSON model saved before XGBoost 1.6, please save the model using current version again. The support for old JSON model will be discontinued in XGBoost 2.3.\n[08:54:38] WARNING: /home/conda/feedstock_root/build_artifacts/xgboost-split_1667849527992/work/src/learner.cc:553: \n  If you are loading a serialized model (like pickle in Python, RDS in R) generated by\n  older XGBoost, please export the model by calling `Booster.save_model` from that version\n  first, then load it back in current version. See:\n\n    https://xgboost.readthedocs.io/en/latest/tutorials/saving_model.html\n\n  for more details about differences between saving model and serializing.\n\n[08:54:38] WARNING: /home/conda/feedstock_root/build_artifacts/xgboost-split_1667849527992/work/src/learner.cc:1203: \n  If you are loading a serialized model (like pickle in Python, RDS in R) generated by\n  older XGBoost, please export the model by calling `Booster.save_model` from that version\n  first, then load it back in current version. See:\n\n    https://xgboost.readthedocs.io/en/latest/tutorials/saving_model.html\n\n  for more details about differences between saving model and serializing.\n\n[08:54:38] WARNING: /home/conda/feedstock_root/build_artifacts/xgboost-split_1667849527992/work/src/learner.cc:888: Found JSON model saved before XGBoost 1.6, please save the model using current version again. The support for old JSON model will be discontinued in XGBoost 2.3.\n[08:54:38] WARNING: /home/conda/feedstock_root/build_artifacts/xgboost-split_1667849527992/work/src/learner.cc:553: \n  If you are loading a serialized model (like pickle in Python, RDS in R) generated by\n  older XGBoost, please export the model by calling `Booster.save_model` from that version\n  first, then load it back in current version. See:\n\n    https://xgboost.readthedocs.io/en/latest/tutorials/saving_model.html\n\n  for more details about differences between saving model and serializing.\n\n[08:54:38] WARNING: /home/conda/feedstock_root/build_artifacts/xgboost-split_1667849527992/work/src/learner.cc:1203: \n  If you are loading a serialized model (like pickle in Python, RDS in R) generated by\n  older XGBoost, please export the model by calling `Booster.save_model` from that version\n  first, then load it back in current version. See:\n\n    https://xgboost.readthedocs.io/en/latest/tutorials/saving_model.html\n\n  for more details about differences between saving model and serializing.\n\n[08:54:38] WARNING: /home/conda/feedstock_root/build_artifacts/xgboost-split_1667849527992/work/src/learner.cc:888: Found JSON model saved before XGBoost 1.6, please save the model using current version again. The support for old JSON model will be discontinued in XGBoost 2.3.\n[08:54:38] WARNING: /home/conda/feedstock_root/build_artifacts/xgboost-split_1667849527992/work/src/learner.cc:553: \n  If you are loading a serialized model (like pickle in Python, RDS in R) generated by\n  older XGBoost, please export the model by calling `Booster.save_model` from that version\n  first, then load it back in current version. See:\n\n    https://xgboost.readthedocs.io/en/latest/tutorials/saving_model.html\n\n  for more details about differences between saving model and serializing.\n\nRun(Experiment: automl-exp,\nId: AutoML_0b035984-dce8-4b10-8a54-88f04cf31c41_38,\nType: azureml.scriptrun,\nStatus: Completed)\n"
        }
      ],
      "execution_count": 13,
      "metadata": {
        "gather": {
          "logged": 1729241679945
        },
        "jupyter": {
          "outputs_hidden": false,
          "source_hidden": false
        },
        "nteract": {
          "transient": {
            "deleting": false
          }
        }
      }
    },
    {
      "cell_type": "code",
      "source": [
        "#TODO: Save the best model\n",
        "best_run_metrics = best_run.get_metrics()\n",
        "best_model = best_run.register_model(model_path='./outputs/', model_name='best_model.pkl',\n",
        "                        properties=best_run_metrics)\n",
        "\n",
        "print(best_model)"
      ],
      "outputs": [
        {
          "output_type": "display_data",
          "data": {
            "application/vnd.livy.statement-meta+json": {
              "spark_pool": "8d137bca-db0d-4176-840a-7e7df7eff5a6",
              "statement_id": 30,
              "statement_ids": [
                30
              ],
              "state": "finished",
              "livy_statement_state": "available",
              "spark_jobs": {
                "numbers": {
                  "FAILED": 0,
                  "SUCCEEDED": 0,
                  "UNKNOWN": 0,
                  "RUNNING": 0
                },
                "jobs": [],
                "limit": 20,
                "rule": "ALL_DESC"
              },
              "session_id": "1",
              "normalized_state": "finished",
              "queued_time": "2024-10-18T08:31:56.8105973Z",
              "session_start_time": null,
              "execution_start_time": "2024-10-18T08:54:39.840584Z",
              "execution_finish_time": "2024-10-18T08:55:01.1044825Z",
              "parent_msg_id": "3a88261d-89a8-4a4c-9cfc-03a857ea94ee"
            },
            "text/plain": "StatementMeta(8d137bca-db0d-4176-840a-7e7df7eff5a6, 1, 30, Finished, Available, Finished)"
          },
          "metadata": {}
        },
        {
          "output_type": "stream",
          "name": "stdout",
          "text": "Model(workspace=Workspace.create(name='quick-starts-ws-268818', subscription_id='d7f39349-a66b-446e-aba6-0053c2cf1c11', resource_group='aml-quickstarts-268818'), name=best_model.pkl, id=best_model.pkl:1, version=1, tags={}, properties={'log_loss': '0.3444276906705273', 'average_precision_score_micro': '0.9399465971081306', 'AUC_macro': '0.9418521867445374', 'weighted_accuracy': '0.8827210476365683', 'AUC_weighted': '0.9418521867445373', 'recall_score_macro': '0.8730804436241554', 'recall_score_weighted': '0.878057811753464', 'norm_macro_recall': '0.746160887248311', 'precision_score_weighted': '0.8796926683877683', 'matthews_correlation': '0.7529010724512283', 'accuracy': '0.878057811753464', 'average_precision_score_macro': '0.9414033028433888', 'AUC_micro': '0.9412813760586618', 'precision_score_macro': '0.8798786736090314', 'average_precision_score_weighted': '0.9425767075521012', 'f1_score_micro': '0.878057811753464', 'recall_score_micro': '0.878057811753464', 'f1_score_weighted': '0.8775565320227365', 'balanced_accuracy': '0.8730804436241554', 'f1_score_macro': '0.8751150348705746', 'precision_score_micro': '0.878057811753464', 'confusion_matrix': 'aml://artifactId/ExperimentRun/dcid.AutoML_0b035984-dce8-4b10-8a54-88f04cf31c41_38/confusion_matrix', 'accuracy_table': 'aml://artifactId/ExperimentRun/dcid.AutoML_0b035984-dce8-4b10-8a54-88f04cf31c41_38/accuracy_table'})\n"
        }
      ],
      "execution_count": 14,
      "metadata": {
        "gather": {
          "logged": 1729241701355
        },
        "jupyter": {
          "outputs_hidden": false,
          "source_hidden": false
        },
        "nteract": {
          "transient": {
            "deleting": false
          }
        }
      }
    },
    {
      "cell_type": "markdown",
      "source": [
        "## Model Deployment\n",
        "\n",
        "Remember you have to deploy only one of the two models you trained but you still need to register both the models. Perform the steps in the rest of this notebook only if you wish to deploy this model.\n",
        "\n",
        "TODO: In the cell below, register the model, create an inference config and deploy the model as a web service."
      ],
      "metadata": {}
    },
    {
      "cell_type": "code",
      "source": [
        "best_run.download_file('./outputs/scoring_file_v_1_0_0.py', 'scoring.py')\n",
        "best_run.download_file('./outputs/conda_env_v_1_0_0.yml', 'envFile.yml')"
      ],
      "outputs": [],
      "execution_count": null,
      "metadata": {
        "gather": {
          "logged": 1729242220925
        },
        "jupyter": {
          "outputs_hidden": false,
          "source_hidden": false
        },
        "nteract": {
          "transient": {
            "deleting": false
          }
        }
      }
    },
    {
      "cell_type": "markdown",
      "source": [
        "TODO: In the cell below, send a request to the web service you deployed to test it."
      ],
      "metadata": {
        "collapsed": true,
        "gather": {
          "logged": 1598431657736
        },
        "jupyter": {
          "outputs_hidden": false,
          "source_hidden": false
        },
        "nteract": {
          "transient": {
            "deleting": false
          }
        }
      }
    },
    {
      "cell_type": "code",
      "source": [],
      "outputs": [],
      "execution_count": null,
      "metadata": {
        "gather": {
          "logged": 1598432707604
        },
        "jupyter": {
          "outputs_hidden": false,
          "source_hidden": false
        },
        "nteract": {
          "transient": {
            "deleting": false
          }
        }
      }
    },
    {
      "cell_type": "markdown",
      "source": [
        "TODO: In the cell below, print the logs of the web service and delete the service"
      ],
      "metadata": {
        "collapsed": true,
        "gather": {
          "logged": 1598432765711
        },
        "jupyter": {
          "outputs_hidden": false,
          "source_hidden": false
        },
        "nteract": {
          "transient": {
            "deleting": false
          }
        }
      }
    },
    {
      "cell_type": "code",
      "source": [
        "service.delete()"
      ],
      "outputs": [],
      "execution_count": null,
      "metadata": {
        "jupyter": {
          "outputs_hidden": false,
          "source_hidden": false
        },
        "nteract": {
          "transient": {
            "deleting": false
          }
        }
      }
    },
    {
      "cell_type": "markdown",
      "source": [
        "**Submission Checklist**\n",
        "- I have registered the model.\n",
        "- I have deployed the model with the best accuracy as a webservice.\n",
        "- I have tested the webservice by sending a request to the model endpoint.\n",
        "- I have deleted the webservice and shutdown all the computes that I have used.\n",
        "- I have taken a screenshot showing the model endpoint as active.\n",
        "- The project includes a file containing the environment details.\n"
      ],
      "metadata": {}
    },
    {
      "cell_type": "markdown",
      "source": [],
      "metadata": {}
    }
  ],
  "metadata": {
    "kernel_info": {
      "name": "synapse_pyspark"
    },
    "kernelspec": {
      "name": "synapse_pyspark",
      "language": "Python",
      "display_name": "Synapse PySpark"
    },
    "language_info": {
      "name": "python",
      "version": "3.8.0",
      "mimetype": "text/x-python",
      "file_extension": ".py",
      "pygments_lexer": "ipython",
      "codemirror_mode": "ipython",
      "nbconvert_exporter": "python"
    },
    "nteract": {
      "version": "nteract-front-end@1.0.0"
    },
    "microsoft": {
      "ms_spell_check": {
        "ms_spell_check_language": "en"
      },
      "host": {
        "AzureML": {
          "notebookHasBeenCompleted": true
        }
      }
    }
  },
  "nbformat": 4,
  "nbformat_minor": 2
}